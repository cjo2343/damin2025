{
 "cells": [
  {
   "cell_type": "markdown",
   "id": "a9c4edb3",
   "metadata": {},
   "source": [
    "# For Loops in Python\n",
    "\n",
    "This notebook demonstrates the use of `for` loops in Python. For loops are fundamental programming constructs that allow you to repeat code blocks and iterate over sequences like strings, lists, and ranges.\n",
    "\n",
    "## Learning Objectives\n",
    "- Understand the syntax and structure of `for` loops\n",
    "- Learn how to iterate over different data types (strings, lists, ranges)\n",
    "- Practice using the `range()` function for numerical iterations\n",
    "- Explore nested loops for more complex iterations\n",
    "- Apply for loops to solve practical problems\n",
    "\n",
    "## What are For Loops?\n",
    "\n",
    "For loops allow you to execute a block of code repeatedly for each item in a sequence (such as a string, list, or range). They are essential for automating repetitive tasks and processing collections of data.\n",
    "\n",
    "### Basic Syntax\n",
    "```python\n",
    "for variable in sequence:\n",
    "    # Code to execute for each item\n",
    "    print(variable)\n",
    "```"
   ]
  },
  {
   "cell_type": "markdown",
   "id": "2b51b0f5",
   "metadata": {},
   "source": [
    "## Example 1: Iterating Over a String\n",
    "\n",
    "Strings in Python are sequences of characters, so you can iterate over each character using a for loop."
   ]
  },
  {
   "cell_type": "code",
   "execution_count": 1,
   "id": "9e91caaa",
   "metadata": {},
   "outputs": [
    {
     "name": "stdout",
     "output_type": "stream",
     "text": [
      "Iterating over a string:\n",
      "P\n",
      "y\n",
      "t\n",
      "h\n",
      "o\n",
      "n\n",
      "\n",
      "Iterating over a longer string with numbering:\n",
      "1: P\n",
      "2: r\n",
      "3: o\n",
      "4: g\n",
      "5: r\n",
      "6: a\n",
      "7: m\n",
      "8: m\n",
      "9: i\n",
      "10: n\n",
      "11: g\n"
     ]
    }
   ],
   "source": [
    "# Example 1: Iterating over a string.\n",
    "print(\"Iterating over a string:\")\n",
    "for letter in \"Python\":\n",
    "    print(letter)\n",
    "\n",
    "# Let's try with a longer string and add some formatting\n",
    "print(\"\\nIterating over a longer string with numbering:\")\n",
    "word = \"Programming\"\n",
    "for index, letter in enumerate(word, 1):\n",
    "    print(f\"{index}: {letter}\")"
   ]
  },
  {
   "cell_type": "markdown",
   "id": "24fcdeda",
   "metadata": {},
   "source": [
    "## Example 2: Iterating Over a List\n",
    "\n",
    "Lists are one of the most common data structures to iterate over. You can process each element in the list one by one."
   ]
  },
  {
   "cell_type": "code",
   "execution_count": 2,
   "id": "4791f74f",
   "metadata": {},
   "outputs": [
    {
     "name": "stdout",
     "output_type": "stream",
     "text": [
      "Iterating over a list of fruits:\n",
      "apple\n",
      "banana\n",
      "cherry\n",
      "\n",
      "More detailed fruit information:\n",
      "Fruit 1: Apple (5 letters)\n",
      "Fruit 2: Banana (6 letters)\n",
      "Fruit 3: Cherry (6 letters)\n",
      "\n",
      "Processing a list of numbers:\n",
      "10 squared is 100\n",
      "25 squared is 625\n",
      "30 squared is 900\n",
      "45 squared is 2025\n",
      "50 squared is 2500\n"
     ]
    }
   ],
   "source": [
    "# Example 2: Iterating over a list.\n",
    "fruits = [\"apple\", \"banana\", \"cherry\"]\n",
    "print(\"Iterating over a list of fruits:\")\n",
    "for fruit in fruits:\n",
    "    print(fruit)\n",
    "\n",
    "# Let's expand this example with more functionality\n",
    "print(\"\\nMore detailed fruit information:\")\n",
    "for i, fruit in enumerate(fruits):\n",
    "    print(f\"Fruit {i + 1}: {fruit.title()} ({len(fruit)} letters)\")\n",
    "\n",
    "# Example with different types of data\n",
    "numbers = [10, 25, 30, 45, 50]\n",
    "print(\"\\nProcessing a list of numbers:\")\n",
    "for number in numbers:\n",
    "    print(f\"{number} squared is {number**2}\")"
   ]
  },
  {
   "cell_type": "markdown",
   "id": "2a6c1bf8",
   "metadata": {},
   "source": [
    "## Example 3: Using range() with For Loops\n",
    "\n",
    "The `range()` function generates a sequence of numbers, which is very useful for creating loops that run a specific number of times.\n",
    "\n",
    "### range() variations:\n",
    "- `range(n)` - numbers from 0 to n-1\n",
    "- `range(start, stop)` - numbers from start to stop-1\n",
    "- `range(start, stop, step)` - numbers from start to stop-1, incrementing by step"
   ]
  },
  {
   "cell_type": "code",
   "execution_count": 3,
   "id": "42c8e26b",
   "metadata": {},
   "outputs": [
    {
     "name": "stdout",
     "output_type": "stream",
     "text": [
      "Using range() to iterate through a sequence of numbers:\n",
      "0\n",
      "1\n",
      "2\n",
      "3\n",
      "4\n",
      "\n",
      "Range with start and stop:\n",
      "Number: 2\n",
      "Number: 3\n",
      "Number: 4\n",
      "Number: 5\n",
      "Number: 6\n",
      "Number: 7\n",
      "\n",
      "Range with start, stop, and step:\n",
      "Multiple of 3: 0\n",
      "Multiple of 3: 3\n",
      "Multiple of 3: 6\n",
      "Multiple of 3: 9\n",
      "Multiple of 3: 12\n",
      "Multiple of 3: 15\n",
      "Multiple of 3: 18\n",
      "\n",
      "Countdown using range with negative step:\n",
      "Countdown: 10\n",
      "Countdown: 9\n",
      "Countdown: 8\n",
      "Countdown: 7\n",
      "Countdown: 6\n",
      "Countdown: 5\n",
      "Countdown: 4\n",
      "Countdown: 3\n",
      "Countdown: 2\n",
      "Countdown: 1\n",
      "Blast off! 🚀\n"
     ]
    }
   ],
   "source": [
    "# Example 3: Using range() with a for loop.\n",
    "print(\"Using range() to iterate through a sequence of numbers:\")\n",
    "for i in range(5):\n",
    "    print(i)\n",
    "\n",
    "# Different range() variations\n",
    "print(\"\\nRange with start and stop:\")\n",
    "for i in range(2, 8):\n",
    "    print(f\"Number: {i}\")\n",
    "\n",
    "print(\"\\nRange with start, stop, and step:\")\n",
    "for i in range(0, 20, 3):\n",
    "    print(f\"Multiple of 3: {i}\")\n",
    "\n",
    "print(\"\\nCountdown using range with negative step:\")\n",
    "for i in range(10, 0, -1):\n",
    "    print(f\"Countdown: {i}\")\n",
    "print(\"Blast off! 🚀\")"
   ]
  },
  {
   "cell_type": "markdown",
   "id": "40eb782b",
   "metadata": {},
   "source": [
    "## Example 4: Nested For Loops\n",
    "\n",
    "You can place for loops inside other for loops to create nested iterations. This is useful for working with multi-dimensional data or creating patterns."
   ]
  },
  {
   "cell_type": "code",
   "execution_count": 4,
   "id": "882c1c11",
   "metadata": {},
   "outputs": [
    {
     "name": "stdout",
     "output_type": "stream",
     "text": [
      "Nested for loops example:\n",
      "i: 0, j: 0\n",
      "i: 0, j: 1\n",
      "i: 1, j: 0\n",
      "i: 1, j: 1\n",
      "i: 2, j: 0\n",
      "i: 2, j: 1\n",
      "\n",
      "Creating a multiplication table:\n",
      "1 × 1 = 1\n",
      "1 × 2 = 2\n",
      "1 × 3 = 3\n",
      "\n",
      "2 × 1 = 2\n",
      "2 × 2 = 4\n",
      "2 × 3 = 6\n",
      "\n",
      "3 × 1 = 3\n",
      "3 × 2 = 6\n",
      "3 × 3 = 9\n",
      "\n",
      "Creating a pattern with nested loops:\n",
      "* \n",
      "* * \n",
      "* * * \n",
      "* * * * \n"
     ]
    }
   ],
   "source": [
    "# Example 4: Nested for loops.\n",
    "print(\"Nested for loops example:\")\n",
    "for i in range(3):\n",
    "    for j in range(2):\n",
    "        print(f\"i: {i}, j: {j}\")\n",
    "\n",
    "print(\"\\nCreating a multiplication table:\")\n",
    "for i in range(1, 4):\n",
    "    for j in range(1, 4):\n",
    "        product = i * j\n",
    "        print(f\"{i} × {j} = {product}\")\n",
    "    print()  # Empty line for separation\n",
    "\n",
    "print(\"Creating a pattern with nested loops:\")\n",
    "for row in range(4):\n",
    "    for col in range(row + 1):\n",
    "        print(\"*\", end=\" \")\n",
    "    print()  # New line after each row"
   ]
  },
  {
   "cell_type": "markdown",
   "id": "f4cdc4ed",
   "metadata": {},
   "source": [
    "## Practical Examples\n",
    "\n",
    "Let's explore some practical applications of for loops in real-world scenarios."
   ]
  },
  {
   "cell_type": "code",
   "execution_count": 5,
   "id": "bab46c89",
   "metadata": {},
   "outputs": [
    {
     "name": "stdout",
     "output_type": "stream",
     "text": [
      "Sum of numbers [10, 25, 30, 45, 50]: 160\n",
      "Largest number: 50\n",
      "Number of apples: 3\n"
     ]
    }
   ],
   "source": [
    "# Practical example 1: Calculating the sum of numbers\n",
    "numbers = [10, 25, 30, 45, 50]\n",
    "total = 0\n",
    "for number in numbers:\n",
    "    total += number\n",
    "print(f\"Sum of numbers {numbers}: {total}\")\n",
    "\n",
    "# Practical example 2: Finding the largest number\n",
    "largest = numbers[0]\n",
    "for number in numbers:\n",
    "    if number > largest:\n",
    "        largest = number\n",
    "print(f\"Largest number: {largest}\")\n",
    "\n",
    "# Practical example 3: Counting specific items\n",
    "fruits = [\"apple\", \"banana\", \"apple\", \"cherry\", \"apple\", \"banana\"]\n",
    "apple_count = 0\n",
    "for fruit in fruits:\n",
    "    if fruit == \"apple\":\n",
    "        apple_count += 1\n",
    "print(f\"Number of apples: {apple_count}\")"
   ]
  },
  {
   "cell_type": "markdown",
   "id": "01699d67",
   "metadata": {},
   "source": [
    "## Loop Control Statements\n",
    "\n",
    "Python provides special statements to control loop execution:\n",
    "\n",
    "- `break` - Exit the loop completely\n",
    "- `continue` - Skip the rest of the current iteration and move to the next one"
   ]
  },
  {
   "cell_type": "code",
   "execution_count": 6,
   "id": "beb31b99",
   "metadata": {},
   "outputs": [
    {
     "name": "stdout",
     "output_type": "stream",
     "text": [
      "Using break to exit early:\n",
      "0\n",
      "1\n",
      "2\n",
      "3\n",
      "4\n",
      "Breaking at 5\n",
      "\n",
      "Using continue to skip even numbers:\n",
      "Odd number: 1\n",
      "Odd number: 3\n",
      "Odd number: 5\n",
      "Odd number: 7\n",
      "Odd number: 9\n",
      "\n",
      "Finding first number divisible by 7 in [3, 8, 14, 21, 35, 42, 49]:\n",
      "Found: 14\n"
     ]
    }
   ],
   "source": [
    "# Example with break statement\n",
    "print(\"Using break to exit early:\")\n",
    "for i in range(10):\n",
    "    if i == 5:\n",
    "        print(f\"Breaking at {i}\")\n",
    "        break\n",
    "    print(i)\n",
    "\n",
    "# Example with continue statement\n",
    "print(\"\\nUsing continue to skip even numbers:\")\n",
    "for i in range(10):\n",
    "    if i % 2 == 0:  # If even number\n",
    "        continue\n",
    "    print(f\"Odd number: {i}\")\n",
    "\n",
    "# Practical example: Finding the first number divisible by 7\n",
    "numbers = [3, 8, 14, 21, 35, 42, 49]\n",
    "print(f\"\\nFinding first number divisible by 7 in {numbers}:\")\n",
    "for number in numbers:\n",
    "    if number % 7 == 0:\n",
    "        print(f\"Found: {number}\")\n",
    "        break\n",
    "else:\n",
    "    print(\"No number divisible by 7 found\")"
   ]
  },
  {
   "cell_type": "markdown",
   "id": "c0662dd6",
   "metadata": {},
   "source": [
    "## Advanced For Loop Techniques\n",
    "\n",
    "Let's explore some advanced techniques that make for loops even more powerful."
   ]
  },
  {
   "cell_type": "code",
   "execution_count": 7,
   "id": "20ee7713",
   "metadata": {},
   "outputs": [
    {
     "name": "stdout",
     "output_type": "stream",
     "text": [
      "Using enumerate():\n",
      "Index 0: apple\n",
      "Index 1: banana\n",
      "Index 2: cherry\n",
      "\n",
      "Using zip() to combine lists:\n",
      "Alice is 25 years old and lives in New York\n",
      "Bob is 30 years old and lives in London\n",
      "Charlie is 35 years old and lives in Tokyo\n",
      "\n",
      "List comprehension examples:\n",
      "Squares: [0, 1, 4, 9, 16]\n",
      "Even numbers: [0, 2, 4, 6, 8, 10, 12, 14, 16, 18]\n"
     ]
    }
   ],
   "source": [
    "# Using enumerate() to get both index and value\n",
    "fruits = [\"apple\", \"banana\", \"cherry\"]\n",
    "print(\"Using enumerate():\")\n",
    "for index, fruit in enumerate(fruits):\n",
    "    print(f\"Index {index}: {fruit}\")\n",
    "\n",
    "# Using zip() to iterate over multiple lists simultaneously\n",
    "names = [\"Alice\", \"Bob\", \"Charlie\"]\n",
    "ages = [25, 30, 35]\n",
    "cities = [\"New York\", \"London\", \"Tokyo\"]\n",
    "\n",
    "print(\"\\nUsing zip() to combine lists:\")\n",
    "for name, age, city in zip(names, ages, cities):\n",
    "    print(f\"{name} is {age} years old and lives in {city}\")\n",
    "\n",
    "# List comprehension - a concise way to create lists using for loops\n",
    "print(\"\\nList comprehension examples:\")\n",
    "squares = [x**2 for x in range(5)]\n",
    "print(f\"Squares: {squares}\")\n",
    "\n",
    "even_numbers = [x for x in range(20) if x % 2 == 0]\n",
    "print(f\"Even numbers: {even_numbers}\")"
   ]
  },
  {
   "cell_type": "markdown",
   "id": "1b455cf5",
   "metadata": {},
   "source": [
    "## Complete Example: Grade Calculator\n",
    "\n",
    "Let's create a comprehensive example that uses multiple for loop concepts."
   ]
  },
  {
   "cell_type": "code",
   "execution_count": 8,
   "id": "4c37c9b7",
   "metadata": {},
   "outputs": [
    {
     "name": "stdout",
     "output_type": "stream",
     "text": [
      "=== Student Grade Report ===\n",
      "\n",
      "Alice's grades:\n",
      "  Test 1: 85\n",
      "  Test 2: 92\n",
      "  Test 3: 78\n",
      "  Test 4: 96\n",
      "  Average: 87.8\n",
      "  Letter Grade: B\n",
      "\n",
      "Bob's grades:\n",
      "  Test 1: 76\n",
      "  Test 2: 88\n",
      "  Test 3: 82\n",
      "  Test 4: 91\n",
      "  Average: 84.2\n",
      "  Letter Grade: B\n",
      "\n",
      "Charlie's grades:\n",
      "  Test 1: 92\n",
      "  Test 2: 89\n",
      "  Test 3: 94\n",
      "  Test 4: 87\n",
      "  Average: 90.5\n",
      "  Letter Grade: A\n",
      "\n",
      "Diana's grades:\n",
      "  Test 1: 88\n",
      "  Test 2: 85\n",
      "  Test 3: 90\n",
      "  Test 4: 93\n",
      "  Average: 89.0\n",
      "  Letter Grade: B\n",
      "\n",
      "=== Class Summary ===\n",
      "Class Average: 87.9\n"
     ]
    }
   ],
   "source": [
    "# Complete example: Grade calculator\n",
    "students = [\"Alice\", \"Bob\", \"Charlie\", \"Diana\"]\n",
    "grades = [\n",
    "    [85, 92, 78, 96],  # Alice's grades\n",
    "    [76, 88, 82, 91],  # Bob's grades\n",
    "    [92, 89, 94, 87],  # Charlie's grades\n",
    "    [88, 85, 90, 93]   # Diana's grades\n",
    "]\n",
    "\n",
    "print(\"=== Student Grade Report ===\")\n",
    "class_total = 0\n",
    "student_count = 0\n",
    "\n",
    "for i, student in enumerate(students):\n",
    "    student_grades = grades[i]\n",
    "    student_total = 0\n",
    "    \n",
    "    print(f\"\\n{student}'s grades:\")\n",
    "    for j, grade in enumerate(student_grades, 1):\n",
    "        print(f\"  Test {j}: {grade}\")\n",
    "        student_total += grade\n",
    "    \n",
    "    student_average = student_total / len(student_grades)\n",
    "    print(f\"  Average: {student_average:.1f}\")\n",
    "    \n",
    "    # Determine letter grade\n",
    "    if student_average >= 90:\n",
    "        letter_grade = \"A\"\n",
    "    elif student_average >= 80:\n",
    "        letter_grade = \"B\"\n",
    "    elif student_average >= 70:\n",
    "        letter_grade = \"C\"\n",
    "    elif student_average >= 60:\n",
    "        letter_grade = \"D\"\n",
    "    else:\n",
    "        letter_grade = \"F\"\n",
    "    \n",
    "    print(f\"  Letter Grade: {letter_grade}\")\n",
    "    \n",
    "    class_total += student_average\n",
    "    student_count += 1\n",
    "\n",
    "class_average = class_total / student_count\n",
    "print(f\"\\n=== Class Summary ===\")\n",
    "print(f\"Class Average: {class_average:.1f}\")"
   ]
  },
  {
   "cell_type": "markdown",
   "id": "2a44ce59",
   "metadata": {},
   "source": [
    "## Key Takeaways\n",
    "\n",
    "1. **Basic Syntax**: Use `for variable in sequence:` to iterate over sequences\n",
    "2. **String Iteration**: Iterate over each character in a string\n",
    "3. **List Iteration**: Process each element in a list\n",
    "4. **range() Function**: Generate number sequences for counting loops\n",
    "5. **Nested Loops**: Use loops inside loops for multi-dimensional processing\n",
    "6. **Loop Control**: Use `break` and `continue` to control loop execution\n",
    "7. **Advanced Techniques**: `enumerate()`, `zip()`, and list comprehensions\n",
    "\n",
    "## Practice Ideas\n",
    "\n",
    "Try creating programs that:\n",
    "- Calculate the factorial of a number using a for loop\n",
    "- Create a times table for any number\n",
    "- Find all prime numbers up to a given limit\n",
    "- Process a list of temperatures and convert them to different units\n",
    "- Create ASCII art patterns using nested loops\n",
    "- Build a simple text-based game with multiple rounds\n",
    "\n",
    "## Common Patterns\n",
    "\n",
    "- **Accumulation**: Building up a total (sum, product, concatenation)\n",
    "- **Filtering**: Processing only items that meet certain criteria\n",
    "- **Transformation**: Converting each item to a new value\n",
    "- **Searching**: Finding specific items in a collection\n",
    "\n",
    "Master these patterns, and you'll be able to solve a wide variety of programming problems using for loops!"
   ]
  }
 ],
 "metadata": {
  "kernelspec": {
   "display_name": "damin2025",
   "language": "python",
   "name": "python3"
  },
  "language_info": {
   "codemirror_mode": {
    "name": "ipython",
    "version": 3
   },
   "file_extension": ".py",
   "mimetype": "text/x-python",
   "name": "python",
   "nbconvert_exporter": "python",
   "pygments_lexer": "ipython3",
   "version": "3.12.11"
  }
 },
 "nbformat": 4,
 "nbformat_minor": 5
}
