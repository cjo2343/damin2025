{
 "cells": [
  {
   "cell_type": "markdown",
   "id": "aa250f2d",
   "metadata": {},
   "source": [
    "# While Loops in Python\n",
    "\n",
    "This notebook demonstrates the use of `while` loops in Python. While loops are essential programming constructs that repeatedly execute code blocks as long as a specified condition remains true.\n",
    "\n",
    "## Learning Objectives\n",
    "- Understand the syntax and structure of `while` loops\n",
    "- Learn the difference between `for` loops and `while` loops\n",
    "- Practice creating condition-controlled loops\n",
    "- Understand how to avoid infinite loops\n",
    "- Use `break` and `continue` statements effectively\n",
    "- Apply while loops to solve practical problems\n",
    "\n",
    "## What are While Loops?\n",
    "\n",
    "While loops continue to execute a block of code as long as a given condition is `True`. Unlike for loops that iterate over a sequence, while loops are condition-based and are particularly useful when you don't know in advance how many iterations you need.\n",
    "\n",
    "### Basic Syntax\n",
    "```python\n",
    "while condition:\n",
    "    # Code to execute while condition is True\n",
    "    # Don't forget to update the condition!\n",
    "```\n",
    "\n",
    "⚠️ **Important**: Always ensure the condition can eventually become `False`, or you'll create an infinite loop!"
   ]
  },
  {
   "cell_type": "markdown",
   "id": "152a7abf",
   "metadata": {},
   "source": [
    "## Example 1: Counting with a While Loop\n",
    "\n",
    "Let's start with a simple counting example that demonstrates the basic structure of a while loop."
   ]
  },
  {
   "cell_type": "code",
   "execution_count": 1,
   "id": "13e1e055",
   "metadata": {},
   "outputs": [
    {
     "name": "stdout",
     "output_type": "stream",
     "text": [
      "Counting with a while loop:\n",
      "0\n",
      "1\n",
      "2\n",
      "3\n",
      "4\n",
      "Final count value: 5\n",
      "\n",
      "Countdown example:\n",
      "T-minus 5\n",
      "T-minus 4\n",
      "T-minus 3\n",
      "T-minus 2\n",
      "T-minus 1\n",
      "Blast off! 🚀\n"
     ]
    }
   ],
   "source": [
    "# Example 1: Counting with a while loop.\n",
    "print(\"Counting with a while loop:\")\n",
    "count = 0\n",
    "while count < 5:\n",
    "    print(count)\n",
    "    count += 1  # Increment count - VERY IMPORTANT!\n",
    "\n",
    "print(f\"Final count value: {count}\")\n",
    "\n",
    "# Let's try another counting example\n",
    "print(\"\\nCountdown example:\")\n",
    "countdown = 5\n",
    "while countdown > 0:\n",
    "    print(f\"T-minus {countdown}\")\n",
    "    countdown -= 1\n",
    "print(\"Blast off! 🚀\")"
   ]
  },
  {
   "cell_type": "markdown",
   "id": "58586e8c",
   "metadata": {},
   "source": [
    "## Example 2: User Input with Break Statement\n",
    "\n",
    "While loops are excellent for user input scenarios where you want to keep asking for input until the user decides to stop."
   ]
  },
  {
   "cell_type": "code",
   "execution_count": 2,
   "id": "7ad7e77b",
   "metadata": {},
   "outputs": [
    {
     "name": "stdout",
     "output_type": "stream",
     "text": [
      "Using a while loop with a break statement:\n",
      "Simulated input: Alice\n",
      "Hello, Alice!\n",
      "Simulated input: Bob\n",
      "Hello, Bob!\n",
      "Simulated input: Charlie\n",
      "Hello, Charlie!\n",
      "Simulated input: exit\n",
      "Goodbye!\n",
      "Loop has ended.\n"
     ]
    }
   ],
   "source": [
    "# Example 2: Using a while loop with a break statement.\n",
    "print(\"Using a while loop with a break statement:\")\n",
    "\n",
    "# Simulate the input behavior for demonstration\n",
    "# In a real scenario, this would use actual input()\n",
    "names_to_process = [\"Alice\", \"Bob\", \"Charlie\", \"exit\"]\n",
    "name_index = 0\n",
    "\n",
    "while True:\n",
    "    # Simulate input (in real use, this would be: name = input(\"Enter your name...\"))\n",
    "    if name_index < len(names_to_process):\n",
    "        name = names_to_process[name_index]\n",
    "        print(f\"Simulated input: {name}\")\n",
    "        name_index += 1\n",
    "    else:\n",
    "        name = \"exit\"  # Force exit after processing all names\n",
    "    \n",
    "    if name.lower() == \"exit\":\n",
    "        print(\"Goodbye!\")\n",
    "        break  # Exit the loop\n",
    "    print(f\"Hello, {name}!\")\n",
    "\n",
    "print(\"Loop has ended.\")"
   ]
  },
  {
   "cell_type": "markdown",
   "id": "835448d4",
   "metadata": {},
   "source": [
    "## Interactive Input Example (for real use)\n",
    "\n",
    "Here's how you would actually implement the interactive input example. **Note**: This will work interactively when you run it."
   ]
  },
  {
   "cell_type": "code",
   "execution_count": 3,
   "id": "60930fa6",
   "metadata": {},
   "outputs": [
    {
     "name": "stdout",
     "output_type": "stream",
     "text": [
      "Interactive name collector (type 'exit' to stop):\n",
      "(Interactive example is commented out - uncomment to use)\n"
     ]
    }
   ],
   "source": [
    "# Interactive version (uncomment to use with real input)\n",
    "print(\"Interactive name collector (type 'exit' to stop):\")\n",
    "\n",
    "# Uncomment the following lines to make this truly interactive:\n",
    "# while True:\n",
    "#     name = input(\"Enter your name (type 'exit' to stop): \")\n",
    "#     if name.lower() == \"exit\":\n",
    "#         print(\"Goodbye!\")\n",
    "#         break\n",
    "#     print(f\"Hello, {name}!\")\n",
    "\n",
    "print(\"(Interactive example is commented out - uncomment to use)\")"
   ]
  },
  {
   "cell_type": "markdown",
   "id": "3703c211",
   "metadata": {},
   "source": [
    "## Understanding Infinite Loops\n",
    "\n",
    "An infinite loop occurs when the condition never becomes `False`. This is usually a programming error, but sometimes it's intentional (like in server programs).\n",
    "\n",
    "### Common Causes:\n",
    "- Forgetting to update the loop variable\n",
    "- Incorrect condition logic\n",
    "- Using `while True` without a proper `break` statement"
   ]
  },
  {
   "cell_type": "code",
   "execution_count": 4,
   "id": "5678c1cc",
   "metadata": {},
   "outputs": [
    {
     "name": "stdout",
     "output_type": "stream",
     "text": [
      "Example of infinite loop is commented out for safety.\n",
      "Always remember to update your loop variables!\n",
      "\n",
      "Corrected version:\n",
      "Safe counting: 0\n",
      "Safe counting: 1\n",
      "Safe counting: 2\n"
     ]
    }
   ],
   "source": [
    "# Example of what NOT to do (infinite loop)\n",
    "# DO NOT uncomment this - it would run forever!\n",
    "\n",
    "# count = 0\n",
    "# while count < 5:\n",
    "#     print(count)\n",
    "#     # Missing: count += 1  <- This would cause an infinite loop!\n",
    "\n",
    "print(\"Example of infinite loop is commented out for safety.\")\n",
    "print(\"Always remember to update your loop variables!\")\n",
    "\n",
    "# Safe example showing the corrected version\n",
    "print(\"\\nCorrected version:\")\n",
    "count = 0\n",
    "while count < 3:\n",
    "    print(f\"Safe counting: {count}\")\n",
    "    count += 1  # This line is crucial!"
   ]
  },
  {
   "cell_type": "markdown",
   "id": "8438f2d2",
   "metadata": {},
   "source": [
    "## Practical Examples\n",
    "\n",
    "Let's explore some practical applications of while loops."
   ]
  },
  {
   "cell_type": "code",
   "execution_count": 5,
   "id": "e800b836",
   "metadata": {},
   "outputs": [
    {
     "name": "stdout",
     "output_type": "stream",
     "text": [
      "Number guessing game simulation:\n",
      "I'm thinking of a number between 1 and 10...\n",
      "(Secret number is 5 for demonstration)\n",
      "Attempt 1: You guessed 3\n",
      "Too low!\n",
      "Attempt 2: You guessed 7\n",
      "Too high!\n",
      "Attempt 3: You guessed 5\n",
      "Congratulations! You got it in 3 attempts!\n"
     ]
    }
   ],
   "source": [
    "# Practical example 1: Number guessing game simulation\n",
    "import random\n",
    "\n",
    "print(\"Number guessing game simulation:\")\n",
    "target_number = random.randint(1, 10)\n",
    "guesses = [3, 7, 5, 6]  # Simulated guesses\n",
    "guess_index = 0\n",
    "attempts = 0\n",
    "\n",
    "print(f\"I'm thinking of a number between 1 and 10...\")\n",
    "print(f\"(Secret number is {target_number} for demonstration)\")\n",
    "\n",
    "while guess_index < len(guesses):\n",
    "    guess = guesses[guess_index]\n",
    "    attempts += 1\n",
    "    print(f\"Attempt {attempts}: You guessed {guess}\")\n",
    "    \n",
    "    if guess == target_number:\n",
    "        print(f\"Congratulations! You got it in {attempts} attempts!\")\n",
    "        break\n",
    "    elif guess < target_number:\n",
    "        print(\"Too low!\")\n",
    "    else:\n",
    "        print(\"Too high!\")\n",
    "    \n",
    "    guess_index += 1\n",
    "\n",
    "if guess_index >= len(guesses) and guesses[-1] != target_number:\n",
    "    print(f\"Game over! The number was {target_number}\")"
   ]
  },
  {
   "cell_type": "code",
   "execution_count": 6,
   "id": "eddf00eb",
   "metadata": {},
   "outputs": [
    {
     "name": "stdout",
     "output_type": "stream",
     "text": [
      "\n",
      "Input validation example:\n",
      "Simulated input: abc\n",
      "Please enter a valid number.\n",
      "Simulated input: -5\n",
      "Please enter an age between 0 and 120.\n",
      "Simulated input: 150\n",
      "Please enter an age between 0 and 120.\n",
      "Simulated input: 25\n",
      "Valid age entered: 25\n",
      "Input validation complete!\n"
     ]
    }
   ],
   "source": [
    "# Practical example 2: Input validation\n",
    "print(\"\\nInput validation example:\")\n",
    "\n",
    "# Simulate user inputs for demonstration\n",
    "test_inputs = [\"abc\", \"-5\", \"150\", \"25\"]\n",
    "input_index = 0\n",
    "\n",
    "while input_index < len(test_inputs):\n",
    "    # Simulate input\n",
    "    user_input = test_inputs[input_index]\n",
    "    print(f\"Simulated input: {user_input}\")\n",
    "    input_index += 1\n",
    "    \n",
    "    try:\n",
    "        age = int(user_input)\n",
    "        if 0 <= age <= 120:\n",
    "            print(f\"Valid age entered: {age}\")\n",
    "            break\n",
    "        else:\n",
    "            print(\"Please enter an age between 0 and 120.\")\n",
    "    except ValueError:\n",
    "        print(\"Please enter a valid number.\")\n",
    "\n",
    "print(\"Input validation complete!\")"
   ]
  },
  {
   "cell_type": "markdown",
   "id": "7b9fd7aa",
   "metadata": {},
   "source": [
    "## While vs For Loops\n",
    "\n",
    "Understanding when to use `while` loops versus `for` loops is important:\n",
    "\n",
    "### Use While Loops When:\n",
    "- You don't know how many iterations you need\n",
    "- The loop depends on a condition that may change unpredictably\n",
    "- You're waiting for user input or external events\n",
    "- You need to repeat until a specific condition is met\n",
    "\n",
    "### Use For Loops When:\n",
    "- You know the number of iterations in advance\n",
    "- You're iterating over a collection (list, string, etc.)\n",
    "- You're counting through a specific range"
   ]
  },
  {
   "cell_type": "code",
   "execution_count": 7,
   "id": "553cc16f",
   "metadata": {},
   "outputs": [
    {
     "name": "stdout",
     "output_type": "stream",
     "text": [
      "Task: Print numbers 0 to 4\n",
      "\n",
      "Using a for loop (more appropriate):\n",
      "For loop: 0\n",
      "For loop: 1\n",
      "For loop: 2\n",
      "For loop: 3\n",
      "For loop: 4\n",
      "\n",
      "Using a while loop (possible but less ideal):\n",
      "While loop: 0\n",
      "While loop: 1\n",
      "While loop: 2\n",
      "While loop: 3\n",
      "While loop: 4\n",
      "\n",
      "Task: Keep asking until valid input\n",
      "This is better suited for a while loop:\n",
      "Simulated response: maybe\n",
      "Please answer 'yes' or 'no'\n",
      "Simulated response: sure\n",
      "Please answer 'yes' or 'no'\n",
      "Simulated response: yes\n",
      "Valid response: yes\n"
     ]
    }
   ],
   "source": [
    "# Comparison: Same task with while loop vs for loop\n",
    "\n",
    "print(\"Task: Print numbers 0 to 4\")\n",
    "\n",
    "print(\"\\nUsing a for loop (more appropriate):\")\n",
    "for i in range(5):\n",
    "    print(f\"For loop: {i}\")\n",
    "\n",
    "print(\"\\nUsing a while loop (possible but less ideal):\")\n",
    "i = 0\n",
    "while i < 5:\n",
    "    print(f\"While loop: {i}\")\n",
    "    i += 1\n",
    "\n",
    "print(\"\\nTask: Keep asking until valid input\")\n",
    "print(\"This is better suited for a while loop:\")\n",
    "\n",
    "# Simulate validation scenario\n",
    "valid_responses = [\"yes\", \"no\"]\n",
    "test_responses = [\"maybe\", \"sure\", \"yes\"]\n",
    "response_index = 0\n",
    "\n",
    "while response_index < len(test_responses):\n",
    "    response = test_responses[response_index]\n",
    "    print(f\"Simulated response: {response}\")\n",
    "    response_index += 1\n",
    "    \n",
    "    if response.lower() in valid_responses:\n",
    "        print(f\"Valid response: {response}\")\n",
    "        break\n",
    "    else:\n",
    "        print(\"Please answer 'yes' or 'no'\")"
   ]
  },
  {
   "cell_type": "markdown",
   "id": "a125d7e7",
   "metadata": {},
   "source": [
    "## Loop Control with Continue\n",
    "\n",
    "The `continue` statement skips the rest of the current iteration and jumps to the next iteration."
   ]
  },
  {
   "cell_type": "code",
   "execution_count": 8,
   "id": "6c6dc53c",
   "metadata": {},
   "outputs": [
    {
     "name": "stdout",
     "output_type": "stream",
     "text": [
      "Using continue to skip even numbers:\n",
      "Odd number: 1\n",
      "Odd number: 3\n",
      "Odd number: 5\n",
      "Odd number: 7\n",
      "Odd number: 9\n",
      "\n",
      "Processing a list with continue:\n",
      "Processing: apple\n",
      "Processing: banana\n",
      "Processing: cherry\n"
     ]
    }
   ],
   "source": [
    "# Example with continue statement\n",
    "print(\"Using continue to skip even numbers:\")\n",
    "\n",
    "number = 0\n",
    "while number < 10:\n",
    "    number += 1  # Increment first to avoid infinite loop\n",
    "    \n",
    "    if number % 2 == 0:  # If even number\n",
    "        continue  # Skip the rest of this iteration\n",
    "    \n",
    "    print(f\"Odd number: {number}\")\n",
    "\n",
    "print(\"\\nProcessing a list with continue:\")\n",
    "items = [\"apple\", \"\", \"banana\", \"\", \"cherry\", \"\"]\n",
    "index = 0\n",
    "\n",
    "while index < len(items):\n",
    "    item = items[index]\n",
    "    index += 1\n",
    "    \n",
    "    if not item:  # Skip empty strings\n",
    "        continue\n",
    "    \n",
    "    print(f\"Processing: {item}\")"
   ]
  },
  {
   "cell_type": "markdown",
   "id": "daa65241",
   "metadata": {},
   "source": [
    "## Advanced While Loop Patterns\n",
    "\n",
    "Let's explore some advanced patterns and techniques with while loops."
   ]
  },
  {
   "cell_type": "code",
   "execution_count": 9,
   "id": "be7f19a6",
   "metadata": {},
   "outputs": [
    {
     "name": "stdout",
     "output_type": "stream",
     "text": [
      "Accumulator pattern - calculating factorial:\n",
      "Calculating 5! = 1 × 2 × 3 × 4 × 5 = 120\n",
      "\n",
      "Sentinel-controlled loop (processing until sentinel value):\n",
      "Added 10, running total: 10\n",
      "Added 20, running total: 30\n",
      "Added 30, running total: 60\n",
      "Final total: 60\n",
      "\n",
      "Multiple conditions example:\n",
      "Attempt 1: Trying password 'wrong1'\n",
      "Access denied!\n",
      "Attempt 2: Trying password 'wrong2'\n",
      "Access denied!\n",
      "Attempt 3: Trying password 'correct'\n",
      "Access granted!\n"
     ]
    }
   ],
   "source": [
    "# Pattern 1: Accumulator pattern\n",
    "print(\"Accumulator pattern - calculating factorial:\")\n",
    "n = 5\n",
    "factorial = 1\n",
    "current = 1\n",
    "\n",
    "print(f\"Calculating {n}! = \", end=\"\")\n",
    "while current <= n:\n",
    "    print(f\"{current}\", end=\"\")\n",
    "    factorial *= current\n",
    "    current += 1\n",
    "    if current <= n:\n",
    "        print(\" × \", end=\"\")\n",
    "\n",
    "print(f\" = {factorial}\")\n",
    "\n",
    "# Pattern 2: Sentinel-controlled loop\n",
    "print(\"\\nSentinel-controlled loop (processing until sentinel value):\")\n",
    "numbers = [10, 20, 30, -1, 40, 50]  # -1 is our sentinel\n",
    "index = 0\n",
    "total = 0\n",
    "\n",
    "while index < len(numbers) and numbers[index] != -1:\n",
    "    total += numbers[index]\n",
    "    print(f\"Added {numbers[index]}, running total: {total}\")\n",
    "    index += 1\n",
    "\n",
    "print(f\"Final total: {total}\")\n",
    "\n",
    "# Pattern 3: Multiple conditions\n",
    "print(\"\\nMultiple conditions example:\")\n",
    "attempts = 0\n",
    "max_attempts = 3\n",
    "success = False\n",
    "\n",
    "passwords = [\"wrong1\", \"wrong2\", \"correct\"]  # Simulated attempts\n",
    "\n",
    "while attempts < max_attempts and not success:\n",
    "    password = passwords[attempts] if attempts < len(passwords) else \"wrong\"\n",
    "    print(f\"Attempt {attempts + 1}: Trying password '{password}'\")\n",
    "    \n",
    "    if password == \"correct\":\n",
    "        success = True\n",
    "        print(\"Access granted!\")\n",
    "    else:\n",
    "        print(\"Access denied!\")\n",
    "    \n",
    "    attempts += 1\n",
    "\n",
    "if not success:\n",
    "    print(\"Account locked due to too many failed attempts.\")"
   ]
  },
  {
   "cell_type": "markdown",
   "id": "df2a8bba",
   "metadata": {},
   "source": [
    "## Complete Example: Simple Menu System\n",
    "\n",
    "Let's create a comprehensive example that demonstrates multiple while loop concepts."
   ]
  },
  {
   "cell_type": "code",
   "execution_count": 10,
   "id": "c0d12948",
   "metadata": {},
   "outputs": [
    {
     "name": "stdout",
     "output_type": "stream",
     "text": [
      "=== Simple Calculator ===\n",
      "\n",
      "Calculator Menu:\n",
      "1. Add two numbers\n",
      "2. Subtract two numbers\n",
      "3. Multiply two numbers\n",
      "4. Exit\n",
      "Simulated choice: 1\n",
      "Simulated inputs: 10, 5\n",
      "Result of addition: 15\n",
      "\n",
      "Calculator Menu:\n",
      "1. Add two numbers\n",
      "2. Subtract two numbers\n",
      "3. Multiply two numbers\n",
      "4. Exit\n",
      "Simulated choice: 2\n",
      "Simulated inputs: 10, 5\n",
      "Result of subtraction: 5\n",
      "\n",
      "Calculator Menu:\n",
      "1. Add two numbers\n",
      "2. Subtract two numbers\n",
      "3. Multiply two numbers\n",
      "4. Exit\n",
      "Simulated choice: 3\n",
      "Simulated inputs: 10, 5\n",
      "Result of multiplication: 50\n",
      "\n",
      "Calculator Menu:\n",
      "1. Add two numbers\n",
      "2. Subtract two numbers\n",
      "3. Multiply two numbers\n",
      "4. Exit\n",
      "Simulated choice: 1\n",
      "Simulated inputs: 10, 5\n",
      "Result of addition: 15\n",
      "\n",
      "Calculator Menu:\n",
      "1. Add two numbers\n",
      "2. Subtract two numbers\n",
      "3. Multiply two numbers\n",
      "4. Exit\n",
      "Simulated choice: 4\n",
      "Thank you for using the calculator!\n",
      "Calculator session ended.\n"
     ]
    }
   ],
   "source": [
    "# Complete example: Simple calculator menu system\n",
    "print(\"=== Simple Calculator ===\")\n",
    "\n",
    "# Simulate user menu choices\n",
    "menu_choices = [\"1\", \"2\", \"3\", \"1\", \"4\"]\n",
    "choice_index = 0\n",
    "\n",
    "while choice_index < len(menu_choices):\n",
    "    # Display menu\n",
    "    print(\"\\nCalculator Menu:\")\n",
    "    print(\"1. Add two numbers\")\n",
    "    print(\"2. Subtract two numbers\") \n",
    "    print(\"3. Multiply two numbers\")\n",
    "    print(\"4. Exit\")\n",
    "    \n",
    "    # Simulate user choice\n",
    "    choice = menu_choices[choice_index]\n",
    "    print(f\"Simulated choice: {choice}\")\n",
    "    choice_index += 1\n",
    "    \n",
    "    if choice == \"4\":\n",
    "        print(\"Thank you for using the calculator!\")\n",
    "        break\n",
    "    elif choice in [\"1\", \"2\", \"3\"]:\n",
    "        # Simulate number inputs\n",
    "        num1, num2 = 10, 5\n",
    "        print(f\"Simulated inputs: {num1}, {num2}\")\n",
    "        \n",
    "        if choice == \"1\":\n",
    "            result = num1 + num2\n",
    "            operation = \"addition\"\n",
    "        elif choice == \"2\":\n",
    "            result = num1 - num2\n",
    "            operation = \"subtraction\"\n",
    "        elif choice == \"3\":\n",
    "            result = num1 * num2\n",
    "            operation = \"multiplication\"\n",
    "        \n",
    "        print(f\"Result of {operation}: {result}\")\n",
    "    else:\n",
    "        print(\"Invalid choice. Please try again.\")\n",
    "\n",
    "print(\"Calculator session ended.\")"
   ]
  },
  {
   "cell_type": "markdown",
   "id": "7cf423cd",
   "metadata": {},
   "source": [
    "## Key Takeaways\n",
    "\n",
    "1. **Basic Structure**: `while condition:` repeats as long as condition is True\n",
    "2. **Avoid Infinite Loops**: Always ensure the condition can become False\n",
    "3. **Update Variables**: Remember to modify variables that affect the condition\n",
    "4. **Break Statement**: Use `break` to exit loops early\n",
    "5. **Continue Statement**: Use `continue` to skip to the next iteration\n",
    "6. **Input Validation**: While loops are perfect for validating user input\n",
    "7. **Unknown Iterations**: Use while loops when you don't know how many iterations you need\n",
    "\n",
    "## Best Practices\n",
    "\n",
    "1. **Always update loop variables** that affect the condition\n",
    "2. **Use meaningful variable names** for conditions\n",
    "3. **Consider using `for` loops** if you know the iteration count\n",
    "4. **Add safety counters** to prevent accidental infinite loops in complex scenarios\n",
    "5. **Use `break` and `continue`** to make your logic clearer\n",
    "\n",
    "## Practice Ideas\n",
    "\n",
    "Try creating programs that:\n",
    "- Implement a guessing game with attempts limit\n",
    "- Validate user input until correct format is entered\n",
    "- Process data until a specific condition is met\n",
    "- Create a simple text-based adventure game\n",
    "- Build a basic ATM simulation with menu options\n",
    "- Implement a password strength checker that keeps asking until requirements are met\n",
    "\n",
    "## Common Pitfalls to Avoid\n",
    "\n",
    "1. **Forgetting to update the loop variable** → infinite loop\n",
    "2. **Incorrect condition logic** → loop never executes or never stops\n",
    "3. **Using while loop when for loop is more appropriate** → unnecessary complexity\n",
    "4. **Not handling edge cases** in the condition → unexpected behavior\n",
    "\n",
    "Master these concepts, and you'll be able to create robust, condition-controlled programs!"
   ]
  }
 ],
 "metadata": {
  "kernelspec": {
   "display_name": "damin2025",
   "language": "python",
   "name": "python3"
  },
  "language_info": {
   "codemirror_mode": {
    "name": "ipython",
    "version": 3
   },
   "file_extension": ".py",
   "mimetype": "text/x-python",
   "name": "python",
   "nbconvert_exporter": "python",
   "pygments_lexer": "ipython3",
   "version": "3.12.11"
  }
 },
 "nbformat": 4,
 "nbformat_minor": 5
}
