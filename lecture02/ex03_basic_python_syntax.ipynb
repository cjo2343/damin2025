{
 "cells": [
  {
   "cell_type": "markdown",
   "id": "eae97a00",
   "metadata": {},
   "source": [
    "# Basic Python Syntax: Indentation and Comments\n",
    "\n",
    "This notebook demonstrates fundamental Python syntax concepts, focusing on proper indentation and the use of comments. These are essential building blocks for writing clean, readable Python code.\n",
    "\n",
    "## Learning Objectives\n",
    "- Understand the importance of indentation in Python\n",
    "- Learn how to write single-line and multi-line comments\n",
    "- See examples of correct and incorrect syntax\n",
    "- Practice with basic control structures and loops"
   ]
  },
  {
   "cell_type": "markdown",
   "id": "2e9d2ce3",
   "metadata": {},
   "source": [
    "## Python Indentation\n",
    "\n",
    "Python uses indentation to define code blocks, unlike many other programming languages that use braces `{}`. Proper indentation is crucial for your code to run correctly."
   ]
  },
  {
   "cell_type": "code",
   "execution_count": 1,
   "id": "20c9f3d9",
   "metadata": {},
   "outputs": [
    {
     "name": "stdout",
     "output_type": "stream",
     "text": [
      "This is indented correctly.\n"
     ]
    }
   ],
   "source": [
    "# Example of correct indentation.\n",
    "if True:\n",
    "    print(\"This is indented correctly.\")\n",
    "    # Indentation is crucial in Python. The code inside this block only runs if\n",
    "    # the condition is True.\n",
    "else:\n",
    "    print(\"This won't be printed because the condition is True.\")"
   ]
  },
  {
   "cell_type": "markdown",
   "id": "6da2a1d3",
   "metadata": {},
   "source": [
    "## Incorrect Indentation Example\n",
    "\n",
    "The following code block shows what **NOT** to do. Incorrect indentation will cause an `IndentationError`:\n",
    "\n",
    "```python\n",
    "# Example of incorrect indentation (this will cause an error):\n",
    "if True:\n",
    "print(\"This is incorrectly indented.\")  # Missing indentation!\n",
    "```\n",
    "\n",
    "Always ensure that code blocks are properly indented (typically 4 spaces or 1 tab)."
   ]
  },
  {
   "cell_type": "markdown",
   "id": "9e69d612",
   "metadata": {},
   "source": [
    "## Python Comments\n",
    "\n",
    "Comments are essential for documenting your code and making it readable. Python supports both single-line and multi-line comments."
   ]
  },
  {
   "cell_type": "code",
   "execution_count": 2,
   "id": "64ddb260",
   "metadata": {},
   "outputs": [
    {
     "name": "stdout",
     "output_type": "stream",
     "text": [
      "Hello, Universe!\n"
     ]
    }
   ],
   "source": [
    "# Example of using comments.\n",
    "# Single-line comment:\n",
    "# The line below will print a greeting message.\n",
    "print(\"Hello, Universe!\")  # This is an inline comment."
   ]
  },
  {
   "cell_type": "code",
   "execution_count": 3,
   "id": "d2d8116f",
   "metadata": {},
   "outputs": [
    {
     "name": "stdout",
     "output_type": "stream",
     "text": [
      "Loop iteration 1\n",
      "Loop iteration 2\n",
      "Loop iteration 3\n"
     ]
    }
   ],
   "source": [
    "\"\"\"\n",
    "Multi-line comment:\n",
    "The following block of code is for demonstration purposes.\n",
    "Multi-line comments can be used to explain more complex logic or provide\n",
    "detailed documentation.\n",
    "\"\"\"\n",
    "\n",
    "# Another example of correct indentation using a loop.\n",
    "for i in range(3):\n",
    "    print(f\"Loop iteration {i + 1}\")"
   ]
  },
  {
   "cell_type": "markdown",
   "id": "c86297d1",
   "metadata": {},
   "source": [
    "## Summary\n",
    "\n",
    "This script has covered:\n",
    "\n",
    "1. **Indentation in Python**: Used to define code blocks and is mandatory for proper syntax\n",
    "2. **Single-line comments**: Use `#` to add explanatory text on a single line\n",
    "3. **Multi-line comments**: Use triple quotes `\"\"\"` to create documentation blocks\n",
    "4. **Inline comments**: Add comments at the end of a line of code for quick explanations\n",
    "\n",
    "Remember: Proper indentation and clear comments make your code more readable and maintainable!"
   ]
  }
 ],
 "metadata": {
  "kernelspec": {
   "display_name": "damin2025",
   "language": "python",
   "name": "python3"
  },
  "language_info": {
   "codemirror_mode": {
    "name": "ipython",
    "version": 3
   },
   "file_extension": ".py",
   "mimetype": "text/x-python",
   "name": "python",
   "nbconvert_exporter": "python",
   "pygments_lexer": "ipython3",
   "version": "3.12.11"
  }
 },
 "nbformat": 4,
 "nbformat_minor": 5
}
