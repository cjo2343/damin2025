{
 "cells": [
  {
   "cell_type": "markdown",
   "id": "7adee405",
   "metadata": {},
   "source": [
    "# Calculating the Eigenvectors of a Matrix\n",
    "\n",
    "This notebook demonstrates how to calculate the eigenvectors (and eigenvalues) of a matrix using NumPy.\n",
    "\n",
    "**Learning Objectives:**\n",
    "- Understand the concept of eigenvectors and eigenvalues\n",
    "- Use NumPy to compute eigenvectors and eigenvalues in Python\n",
    "- Interpret the result in the context of linear algebra\n",
    "\n",
    "**Prerequisites:**\n",
    "- Basic Python\n",
    "- Familiarity with matrices and linear algebra"
   ]
  },
  {
   "cell_type": "code",
   "execution_count": 1,
   "id": "3bb3aaa5",
   "metadata": {},
   "outputs": [],
   "source": [
    "# Import the required libraries\n",
    "import numpy as np"
   ]
  },
  {
   "cell_type": "markdown",
   "id": "56e59775",
   "metadata": {},
   "source": [
    "## Step 1: Define the Matrix\n",
    "We define the square matrix A."
   ]
  },
  {
   "cell_type": "code",
   "execution_count": 2,
   "id": "ca2c91cc",
   "metadata": {},
   "outputs": [
    {
     "data": {
      "text/plain": [
       "array([[4, 2],\n",
       "       [1, 3]])"
      ]
     },
     "execution_count": 2,
     "metadata": {},
     "output_type": "execute_result"
    }
   ],
   "source": [
    "# Define a square matrix A\n",
    "A = np.array([\n",
    "    [4, 2],\n",
    "    [1, 3]\n",
    "])\n",
    "A"
   ]
  },
  {
   "cell_type": "markdown",
   "id": "16517ca8",
   "metadata": {},
   "source": [
    "## Step 2: Calculate the Eigenvalues and Eigenvectors\n",
    "We use NumPy to calculate the eigenvalues and eigenvectors of matrix A."
   ]
  },
  {
   "cell_type": "code",
   "execution_count": 3,
   "id": "7aafdd64",
   "metadata": {},
   "outputs": [
    {
     "data": {
      "text/plain": [
       "(array([5., 2.]),\n",
       " array([[ 0.89442719, -0.70710678],\n",
       "        [ 0.4472136 ,  0.70710678]]))"
      ]
     },
     "execution_count": 3,
     "metadata": {},
     "output_type": "execute_result"
    }
   ],
   "source": [
    "# Calculate the eigenvalues and eigenvectors of matrix A\n",
    "eigenvalues, eigenvectors = np.linalg.eig(A)\n",
    "eigenvalues, eigenvectors"
   ]
  },
  {
   "cell_type": "markdown",
   "id": "5fc52a9c",
   "metadata": {},
   "source": [
    "## Step 3: Display the Matrix, Its Eigenvalues, and Eigenvectors\n",
    "We display the matrix, its eigenvalues, and eigenvectors."
   ]
  },
  {
   "cell_type": "code",
   "execution_count": 4,
   "id": "2e319735",
   "metadata": {},
   "outputs": [
    {
     "name": "stdout",
     "output_type": "stream",
     "text": [
      "Matrix A:\n",
      "[[4 2]\n",
      " [1 3]]\n",
      "\n",
      "Eigenvalues of Matrix A:\n",
      "[5. 2.]\n",
      "\n",
      "Eigenvectors of Matrix A:\n",
      "[[ 0.89442719 -0.70710678]\n",
      " [ 0.4472136   0.70710678]]\n"
     ]
    }
   ],
   "source": [
    "# Display the matrix, its eigenvalues, and eigenvectors\n",
    "print(\"Matrix A:\")\n",
    "print(A)\n",
    "print(\"\\nEigenvalues of Matrix A:\")\n",
    "print(eigenvalues)\n",
    "print(\"\\nEigenvectors of Matrix A:\")\n",
    "print(eigenvectors)"
   ]
  },
  {
   "cell_type": "markdown",
   "id": "64fa94e5",
   "metadata": {},
   "source": [
    "## Summary\n",
    "- We calculated the eigenvalues and eigenvectors of a matrix using NumPy.\n",
    "- Eigenvectors and eigenvalues are important in linear algebra for understanding matrix properties and transformations.\n",
    "- This concept is fundamental in many applications, including systems of equations, principal component analysis, and more."
   ]
  }
 ],
 "metadata": {
  "kernelspec": {
   "display_name": "damin2025",
   "language": "python",
   "name": "python3"
  },
  "language_info": {
   "codemirror_mode": {
    "name": "ipython",
    "version": 3
   },
   "file_extension": ".py",
   "mimetype": "text/x-python",
   "name": "python",
   "nbconvert_exporter": "python",
   "pygments_lexer": "ipython3",
   "version": "3.12.11"
  }
 },
 "nbformat": 4,
 "nbformat_minor": 5
}
