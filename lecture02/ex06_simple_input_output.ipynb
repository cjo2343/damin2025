{
 "cells": [
  {
   "cell_type": "markdown",
   "id": "3634f1a2",
   "metadata": {},
   "source": [
    "# Simple Input and Output in Python\n",
    "\n",
    "This notebook demonstrates how to use `input()` and `print()` functions for basic input and output operations in Python. These are essential functions for creating interactive programs that can communicate with users.\n",
    "\n",
    "## Learning Objectives\n",
    "- Learn how to get user input using the `input()` function\n",
    "- Understand how to display output using the `print()` function\n",
    "- Practice converting string input to different data types\n",
    "- Explore string formatting with f-strings\n",
    "- Create interactive programs that respond to user input"
   ]
  },
  {
   "cell_type": "markdown",
   "id": "4d51d9b6",
   "metadata": {},
   "source": [
    "## Basic Input and Output\n",
    "\n",
    "The `input()` function allows you to get text input from the user, while `print()` displays output to the screen.\n",
    "\n",
    "**Note**: In Jupyter notebooks, `input()` will create an interactive input field where you can type your response."
   ]
  },
  {
   "cell_type": "code",
   "execution_count": 1,
   "id": "5e8e646d",
   "metadata": {},
   "outputs": [
    {
     "name": "stdout",
     "output_type": "stream",
     "text": [
      "Hello, Chuck Norris\n",
      "You are 85 years old.\n"
     ]
    }
   ],
   "source": [
    "# Getting user input using input().\n",
    "name = input(\"Enter your name: \")\n",
    "age = input(\"Enter your age: \")\n",
    "\n",
    "# Displaying output using print().\n",
    "print(\"Hello,\", name)\n",
    "print(\"You are\", age, \"years old.\")"
   ]
  },
  {
   "cell_type": "markdown",
   "id": "0687fcf3",
   "metadata": {},
   "source": [
    "## Data Type Conversion\n",
    "\n",
    "The `input()` function always returns a string. To work with numbers, you need to convert the input to the appropriate data type using functions like `int()` and `float()`."
   ]
  },
  {
   "cell_type": "code",
   "execution_count": 2,
   "id": "c25b3785",
   "metadata": {},
   "outputs": [
    {
     "name": "stdout",
     "output_type": "stream",
     "text": [
      "Data types: age is <class 'int'>, height is <class 'float'>\n",
      "Age: 85, Height: 1.78\n"
     ]
    }
   ],
   "source": [
    "# Converting input to integer and float.\n",
    "age = int(input(\"Enter your age again (as an integer): \"))\n",
    "height = float(input(\"Enter your height in meters: \"))\n",
    "\n",
    "print(f\"Data types: age is {type(age)}, height is {type(height)}\")\n",
    "print(f\"Age: {age}, Height: {height}\")"
   ]
  },
  {
   "cell_type": "markdown",
   "id": "b1fa364d",
   "metadata": {},
   "source": [
    "## String Formatting with F-strings\n",
    "\n",
    "F-strings (formatted string literals) provide a clean and readable way to include variables in your output strings. They're prefixed with `f` and use curly braces `{}` to include variables."
   ]
  },
  {
   "cell_type": "code",
   "execution_count": 3,
   "id": "828873c3",
   "metadata": {},
   "outputs": [
    {
     "name": "stdout",
     "output_type": "stream",
     "text": [
      "Hello, Chuck Norris! You are 85 years old and 1.78 meters tall.\n",
      "In 10 years, you will be 95 years old.\n",
      "Your height in centimeters is 178.0 cm.\n"
     ]
    }
   ],
   "source": [
    "# Displaying output using formatted string literals (f-strings).\n",
    "print(f\"Hello, {name}! You are {age} years old and {height} meters tall.\")\n",
    "\n",
    "# You can also perform calculations inside f-strings\n",
    "print(f\"In 10 years, you will be {age + 10} years old.\")\n",
    "print(f\"Your height in centimeters is {height * 100:.1f} cm.\")"
   ]
  },
  {
   "cell_type": "markdown",
   "id": "9f38cb33",
   "metadata": {},
   "source": [
    "## Interactive Example\n",
    "\n",
    "Let's create a more interactive example that combines input and output operations."
   ]
  },
  {
   "cell_type": "code",
   "execution_count": 4,
   "id": "466b4e9a",
   "metadata": {},
   "outputs": [
    {
     "name": "stdout",
     "output_type": "stream",
     "text": [
      "Nice to know that your favorite color is Red, Chuck Norris!\n",
      "That's awesome! Fight sounds like a great hobby.\n"
     ]
    }
   ],
   "source": [
    "# Combining input and output in a simple example.\n",
    "favorite_color = input(\"What is your favorite color? \")\n",
    "print(f\"Nice to know that your favorite color is {favorite_color}, {name}!\")\n",
    "\n",
    "# Let's add more interactivity\n",
    "hobby = input(\"What's your favorite hobby? \")\n",
    "print(f\"That's awesome! {hobby} sounds like a great hobby.\")"
   ]
  },
  {
   "cell_type": "markdown",
   "id": "fc18237c",
   "metadata": {},
   "source": [
    "## Error Handling Example\n",
    "\n",
    "When converting user input to numbers, it's important to handle potential errors. Here's a simple example of what could go wrong and how to handle it safely."
   ]
  },
  {
   "cell_type": "code",
   "execution_count": 5,
   "id": "0586cec1",
   "metadata": {},
   "outputs": [
    {
     "name": "stdout",
     "output_type": "stream",
     "text": [
      "You entered the number: 42.0\n",
      "Double that number is: 84.0\n"
     ]
    }
   ],
   "source": [
    "# Example of safe input conversion\n",
    "try:\n",
    "    user_number = input(\"Enter a number: \")\n",
    "    number = float(user_number)\n",
    "    print(f\"You entered the number: {number}\")\n",
    "    print(f\"Double that number is: {number * 2}\")\n",
    "except ValueError:\n",
    "    print(f\"'{user_number}' is not a valid number. Please enter a numeric value.\")"
   ]
  },
  {
   "cell_type": "markdown",
   "id": "ef3a0b3b",
   "metadata": {},
   "source": [
    "## Complete Interactive Program\n",
    "\n",
    "Let's create a small program that demonstrates all the concepts we've learned."
   ]
  },
  {
   "cell_type": "code",
   "execution_count": 6,
   "id": "bf0cd704",
   "metadata": {},
   "outputs": [
    {
     "name": "stdout",
     "output_type": "stream",
     "text": [
      "=== Personal Information Collector ===\n",
      "\n",
      "=== Summary for Bruce Lee ===\n",
      "Name: Bruce Lee\n",
      "Age: 32 years old\n",
      "City: San Francisco\n",
      "Birth Year: 1993\n",
      "Next birthday age: 33\n",
      "\n",
      "Nice to meet you, Bruce Lee from San Francisco!\n"
     ]
    }
   ],
   "source": [
    "# A complete interactive program\n",
    "print(\"=== Personal Information Collector ===\")\n",
    "\n",
    "# Get basic information\n",
    "user_name = input(\"What's your name? \")\n",
    "user_age = int(input(\"How old are you? \"))\n",
    "user_city = input(\"Which city do you live in? \")\n",
    "\n",
    "# Calculate some information\n",
    "birth_year = 2025 - user_age\n",
    "next_birthday_age = user_age + 1\n",
    "\n",
    "# Display a summary\n",
    "print(f\"\\n=== Summary for {user_name} ===\")\n",
    "print(f\"Name: {user_name}\")\n",
    "print(f\"Age: {user_age} years old\")\n",
    "print(f\"City: {user_city}\")\n",
    "print(f\"Birth Year: {birth_year}\")\n",
    "print(f\"Next birthday age: {next_birthday_age}\")\n",
    "print(f\"\\nNice to meet you, {user_name} from {user_city}!\")"
   ]
  },
  {
   "cell_type": "markdown",
   "id": "d061fdcf",
   "metadata": {},
   "source": [
    "## Key Takeaways\n",
    "\n",
    "1. **Input Function**: `input()` gets text from the user and always returns a string\n",
    "2. **Print Function**: `print()` displays output to the screen\n",
    "3. **Data Conversion**: Use `int()`, `float()`, etc., to convert string input to other types\n",
    "4. **F-strings**: Use `f\"text {variable}\"` for clean, readable string formatting\n",
    "5. **Interactive Programs**: Combine input and output to create engaging user experiences\n",
    "6. **Error Handling**: Always consider what happens if the user enters unexpected input\n",
    "\n",
    "## Practice Ideas\n",
    "\n",
    "Try modifying the code above to:\n",
    "- Ask for more personal information\n",
    "- Perform calculations with the input\n",
    "- Create a simple calculator\n",
    "- Build a quiz or guessing game\n",
    "\n",
    "Remember: In Jupyter notebooks, you can run each cell independently, making it easy to test and experiment with different input/output scenarios!"
   ]
  }
 ],
 "metadata": {
  "kernelspec": {
   "display_name": "damin2025",
   "language": "python",
   "name": "python3"
  },
  "language_info": {
   "codemirror_mode": {
    "name": "ipython",
    "version": 3
   },
   "file_extension": ".py",
   "mimetype": "text/x-python",
   "name": "python",
   "nbconvert_exporter": "python",
   "pygments_lexer": "ipython3",
   "version": "3.12.11"
  }
 },
 "nbformat": 4,
 "nbformat_minor": 5
}
