{
 "cells": [
  {
   "cell_type": "markdown",
   "id": "4d9278c8",
   "metadata": {},
   "source": [
    "# Basic List Operations in Python\n",
    "\n",
    "This notebook demonstrates various list operations in Python, including adding, removing, and modifying elements. Lists are one of the most fundamental and versatile data structures in Python, allowing you to store collections of items that can be changed after creation.\n",
    "\n",
    "## Learning Objectives\n",
    "- Understand what lists are and how to create them\n",
    "- Learn how to add elements to lists using different methods\n",
    "- Practice removing elements from lists in various ways\n",
    "- Explore how to modify existing list elements\n",
    "- Apply list operations to solve practical problems\n",
    "- Understand list indexing and its importance\n",
    "\n",
    "## What are Lists?\n",
    "\n",
    "Lists in Python are:\n",
    "- **Ordered collections** of items\n",
    "- **Mutable** (can be changed after creation)\n",
    "- **Allow duplicates** (same value can appear multiple times)\n",
    "- **Can contain different data types** (mixed types allowed)\n",
    "- **Zero-indexed** (first element is at index 0)\n",
    "\n",
    "### Basic List Syntax\n",
    "```python\n",
    "my_list = [item1, item2, item3]\n",
    "my_list = []  # Empty list\n",
    "my_list = list()  # Alternative way to create empty list\n",
    "```"
   ]
  },
  {
   "cell_type": "markdown",
   "id": "0e2d990e",
   "metadata": {},
   "source": [
    "## Creating and Displaying Lists\n",
    "\n",
    "Let's start by creating a simple list and exploring its basic properties."
   ]
  },
  {
   "cell_type": "code",
   "execution_count": 1,
   "id": "20825331",
   "metadata": {},
   "outputs": [
    {
     "name": "stdout",
     "output_type": "stream",
     "text": [
      "Original list: ['apple', 'banana', 'cherry']\n",
      "List length: 3\n",
      "List type: <class 'list'>\n",
      "\n",
      "Accessing elements by index:\n",
      "First fruit (index 0): apple\n",
      "Second fruit (index 1): banana\n",
      "Last fruit (index -1): cherry\n",
      "\n",
      "Is 'apple' in the list? True\n",
      "Is 'orange' in the list? False\n"
     ]
    }
   ],
   "source": [
    "# Initial list.\n",
    "fruits = [\"apple\", \"banana\", \"cherry\"]\n",
    "print(\"Original list:\", fruits)\n",
    "print(\"List length:\", len(fruits))\n",
    "print(\"List type:\", type(fruits))\n",
    "\n",
    "# Accessing individual elements\n",
    "print(\"\\nAccessing elements by index:\")\n",
    "print(\"First fruit (index 0):\", fruits[0])\n",
    "print(\"Second fruit (index 1):\", fruits[1])\n",
    "print(\"Last fruit (index -1):\", fruits[-1])\n",
    "\n",
    "# Checking if an item exists in the list\n",
    "print(f\"\\nIs 'apple' in the list? {'apple' in fruits}\")\n",
    "print(f\"Is 'orange' in the list? {'orange' in fruits}\")"
   ]
  },
  {
   "cell_type": "markdown",
   "id": "83baf888",
   "metadata": {},
   "source": [
    "## Adding Elements to Lists\n",
    "\n",
    "Python provides several methods to add elements to lists. Let's explore each one:\n",
    "\n",
    "### 1. `append()` - Add a single element to the end\n",
    "### 2. `extend()` - Add multiple elements to the end  \n",
    "### 3. `insert()` - Add an element at a specific position"
   ]
  },
  {
   "cell_type": "code",
   "execution_count": 2,
   "id": "e0791f65",
   "metadata": {},
   "outputs": [
    {
     "name": "stdout",
     "output_type": "stream",
     "text": [
      "Starting list: ['apple', 'banana', 'cherry']\n",
      "\n",
      "After append('orange'): ['apple', 'banana', 'cherry', 'orange']\n",
      "After append('mango'): ['apple', 'banana', 'cherry', 'orange', 'mango']\n",
      "After append(['pear', 'peach']): ['apple', 'banana', 'cherry', 'orange', 'mango', ['pear', 'peach']]\n",
      "Notice: The list was added as a single element!\n"
     ]
    }
   ],
   "source": [
    "# Reset our list for demonstration\n",
    "fruits = [\"apple\", \"banana\", \"cherry\"]\n",
    "print(\"Starting list:\", fruits)\n",
    "\n",
    "# Adding elements using append()\n",
    "fruits.append(\"orange\")  # Adding \"orange\" to the end of the list.\n",
    "print(\"\\nAfter append('orange'):\", fruits)\n",
    "\n",
    "# append() only adds one item at a time\n",
    "fruits.append(\"mango\")\n",
    "print(\"After append('mango'):\", fruits)\n",
    "\n",
    "# What happens if you try to append a list?\n",
    "fruits.append([\"pear\", \"peach\"])  # This adds the entire list as a single element!\n",
    "print(\"After append(['pear', 'peach']):\", fruits)\n",
    "print(\"Notice: The list was added as a single element!\")"
   ]
  },
  {
   "cell_type": "code",
   "execution_count": 3,
   "id": "d6bf0771",
   "metadata": {},
   "outputs": [
    {
     "name": "stdout",
     "output_type": "stream",
     "text": [
      "Reset list: ['apple', 'banana', 'cherry', 'orange', 'mango']\n",
      "\n",
      "After extend(['kiwi', 'grape']): ['apple', 'banana', 'cherry', 'orange', 'mango', 'kiwi', 'grape']\n",
      "After extend('xy'): ['apple', 'banana', 'cherry', 'orange', 'mango', 'kiwi', 'grape', 'x', 'y']\n",
      "Cleaned list: ['apple', 'banana', 'cherry', 'orange', 'mango', 'kiwi', 'grape']\n"
     ]
    }
   ],
   "source": [
    "# Reset list to remove the nested list from previous example\n",
    "fruits = [\"apple\", \"banana\", \"cherry\", \"orange\", \"mango\"]\n",
    "print(\"Reset list:\", fruits)\n",
    "\n",
    "# Adding multiple elements using extend()\n",
    "fruits.extend([\"kiwi\", \"grape\"])  # Adding multiple elements to the end.\n",
    "print(\"\\nAfter extend(['kiwi', 'grape']):\", fruits)\n",
    "\n",
    "# extend() can also take other iterables\n",
    "fruits.extend(\"xy\")  # Each character becomes a separate element\n",
    "print(\"After extend('xy'):\", fruits)\n",
    "\n",
    "# Let's clean up and keep only fruits\n",
    "fruits = [item for item in fruits if len(item) > 1]  # Remove single characters\n",
    "print(\"Cleaned list:\", fruits)"
   ]
  },
  {
   "cell_type": "code",
   "execution_count": 4,
   "id": "bb1ebc02",
   "metadata": {},
   "outputs": [
    {
     "name": "stdout",
     "output_type": "stream",
     "text": [
      "Starting list: ['apple', 'banana', 'cherry']\n",
      "\n",
      "After insert(1, 'blueberry'): ['apple', 'blueberry', 'banana', 'cherry']\n",
      "After insert(0, 'avocado'): ['avocado', 'apple', 'blueberry', 'banana', 'cherry']\n",
      "After insert at end: ['avocado', 'apple', 'blueberry', 'banana', 'cherry', 'watermelon']\n",
      "After insert(100, 'strawberry'): ['avocado', 'apple', 'blueberry', 'banana', 'cherry', 'watermelon', 'strawberry']\n"
     ]
    }
   ],
   "source": [
    "# Demonstrating insert() method\n",
    "fruits = [\"apple\", \"banana\", \"cherry\"]\n",
    "print(\"Starting list:\", fruits)\n",
    "\n",
    "# Inserting at a specific position\n",
    "fruits.insert(1, \"blueberry\")  # Inserting \"blueberry\" at index 1.\n",
    "print(\"\\nAfter insert(1, 'blueberry'):\", fruits)\n",
    "\n",
    "# Insert at the beginning\n",
    "fruits.insert(0, \"avocado\")\n",
    "print(\"After insert(0, 'avocado'):\", fruits)\n",
    "\n",
    "# Insert at the end (similar to append)\n",
    "fruits.insert(len(fruits), \"watermelon\")\n",
    "print(\"After insert at end:\", fruits)\n",
    "\n",
    "# Insert beyond the list length (adds to the end)\n",
    "fruits.insert(100, \"strawberry\")\n",
    "print(\"After insert(100, 'strawberry'):\", fruits)"
   ]
  },
  {
   "cell_type": "markdown",
   "id": "88d329bd",
   "metadata": {},
   "source": [
    "## Removing Elements from Lists\n",
    "\n",
    "Python provides several methods to remove elements from lists:\n",
    "\n",
    "### 1. `remove()` - Remove the first occurrence of a specific value\n",
    "### 2. `pop()` - Remove and return an element at a specific index\n",
    "### 3. `clear()` - Remove all elements from the list\n",
    "### 4. `del` statement - Delete elements by index or slice"
   ]
  },
  {
   "cell_type": "code",
   "execution_count": 5,
   "id": "59881aa6",
   "metadata": {},
   "outputs": [
    {
     "name": "stdout",
     "output_type": "stream",
     "text": [
      "Starting list: ['apple', 'banana', 'cherry', 'banana', 'orange']\n",
      "\n",
      "After remove('banana'): ['apple', 'cherry', 'banana', 'orange']\n",
      "Notice: Only the first 'banana' was removed\n",
      "Error when trying to remove 'pineapple': list.remove(x): x not in list\n",
      "After safely removing 'orange': ['apple', 'cherry', 'banana']\n"
     ]
    }
   ],
   "source": [
    "# Reset list for removal demonstrations\n",
    "fruits = [\"apple\", \"banana\", \"cherry\", \"banana\", \"orange\"]\n",
    "print(\"Starting list:\", fruits)\n",
    "\n",
    "# Removing elements using remove()\n",
    "fruits.remove(\"banana\")  # Removing the first occurrence of \"banana\".\n",
    "print(\"\\nAfter remove('banana'):\", fruits)\n",
    "print(\"Notice: Only the first 'banana' was removed\")\n",
    "\n",
    "# What happens if the item doesn't exist?\n",
    "try:\n",
    "    fruits.remove(\"pineapple\")\n",
    "except ValueError as e:\n",
    "    print(f\"Error when trying to remove 'pineapple': {e}\")\n",
    "\n",
    "# Safe removal with checking\n",
    "if \"orange\" in fruits:\n",
    "    fruits.remove(\"orange\")\n",
    "    print(\"After safely removing 'orange':\", fruits)"
   ]
  },
  {
   "cell_type": "code",
   "execution_count": 6,
   "id": "607523bf",
   "metadata": {},
   "outputs": [
    {
     "name": "stdout",
     "output_type": "stream",
     "text": [
      "Starting list: ['apple', 'banana', 'cherry', 'orange', 'kiwi']\n",
      "\n",
      "After pop(2): ['apple', 'banana', 'orange', 'kiwi']\n",
      "Popped fruit: cherry\n",
      "After pop() from end: ['apple', 'banana', 'orange']\n",
      "Last fruit: kiwi\n",
      "After pop(0): ['banana', 'orange']\n",
      "First fruit: apple\n",
      "Error popping from empty list: pop from empty list\n"
     ]
    }
   ],
   "source": [
    "# Demonstrating pop() method\n",
    "fruits = [\"apple\", \"banana\", \"cherry\", \"orange\", \"kiwi\"]\n",
    "print(\"Starting list:\", fruits)\n",
    "\n",
    "# Pop from a specific index\n",
    "popped_fruit = fruits.pop(2)  # Removing and returning the element at index 2.\n",
    "print(f\"\\nAfter pop(2): {fruits}\")\n",
    "print(f\"Popped fruit: {popped_fruit}\")\n",
    "\n",
    "# Pop from the end (default behavior)\n",
    "last_fruit = fruits.pop()\n",
    "print(f\"After pop() from end: {fruits}\")\n",
    "print(f\"Last fruit: {last_fruit}\")\n",
    "\n",
    "# Pop from the beginning\n",
    "first_fruit = fruits.pop(0)\n",
    "print(f\"After pop(0): {fruits}\")\n",
    "print(f\"First fruit: {first_fruit}\")\n",
    "\n",
    "# What happens with empty list?\n",
    "empty_list = []\n",
    "try:\n",
    "    empty_list.pop()\n",
    "except IndexError as e:\n",
    "    print(f\"Error popping from empty list: {e}\")"
   ]
  },
  {
   "cell_type": "code",
   "execution_count": 7,
   "id": "7a472431",
   "metadata": {},
   "outputs": [
    {
     "name": "stdout",
     "output_type": "stream",
     "text": [
      "Before clear(): ['apple', 'banana', 'cherry']\n",
      "After clear(): []\n",
      "List length after clear: 0\n",
      "\n",
      "Original list: ['apple', 'banana', 'cherry']\n",
      "After fruits[:] = []: []\n",
      "After del fruits[:]: []\n"
     ]
    }
   ],
   "source": [
    "# Demonstrating clear() method\n",
    "fruits = [\"apple\", \"banana\", \"cherry\"]\n",
    "print(\"Before clear():\", fruits)\n",
    "\n",
    "fruits.clear()  # Removing all elements from the list.\n",
    "print(\"After clear():\", fruits)\n",
    "print(\"List length after clear:\", len(fruits))\n",
    "\n",
    "# Alternative ways to empty a list\n",
    "fruits = [\"apple\", \"banana\", \"cherry\"]\n",
    "print(\"\\nOriginal list:\", fruits)\n",
    "\n",
    "# Method 1: Slice assignment\n",
    "fruits[:] = []\n",
    "print(\"After fruits[:] = []:\", fruits)\n",
    "\n",
    "# Method 2: del statement (we'll reset first)\n",
    "fruits = [\"apple\", \"banana\", \"cherry\"]\n",
    "del fruits[:]\n",
    "print(\"After del fruits[:]:\", fruits)"
   ]
  },
  {
   "cell_type": "markdown",
   "id": "dec8c73d",
   "metadata": {},
   "source": [
    "## Modifying List Elements\n",
    "\n",
    "You can change existing elements in a list by accessing them through their index."
   ]
  },
  {
   "cell_type": "code",
   "execution_count": 8,
   "id": "4327f9a3",
   "metadata": {},
   "outputs": [
    {
     "name": "stdout",
     "output_type": "stream",
     "text": [
      "Reset list: ['apple', 'banana', 'cherry']\n",
      "After modifying index 1: ['apple', 'blueberry', 'cherry']\n",
      "After modifying slice [0:2]: ['avocado', 'apricot', 'cherry']\n",
      "After replacing 2 elements with 3: ['avocado', 'banana', 'blackberry', 'boysenberry']\n",
      "After modifying last element: ['avocado', 'banana', 'blackberry', 'cranberry']\n"
     ]
    }
   ],
   "source": [
    "# Modifying elements.\n",
    "fruits = [\"apple\", \"banana\", \"cherry\"]  # Resetting the list.\n",
    "print(\"Reset list:\", fruits)\n",
    "\n",
    "# Modifying a single element\n",
    "fruits[1] = \"blueberry\"  # Modifying the element at index 1.\n",
    "print(\"After modifying index 1:\", fruits)\n",
    "\n",
    "# Modifying multiple elements using slicing\n",
    "fruits[0:2] = [\"avocado\", \"apricot\"]\n",
    "print(\"After modifying slice [0:2]:\", fruits)\n",
    "\n",
    "# Replacing with different number of elements\n",
    "fruits[1:3] = [\"banana\", \"blackberry\", \"boysenberry\"]\n",
    "print(\"After replacing 2 elements with 3:\", fruits)\n",
    "\n",
    "# Modifying with negative indexing\n",
    "fruits[-1] = \"cranberry\"\n",
    "print(\"After modifying last element:\", fruits)"
   ]
  },
  {
   "cell_type": "markdown",
   "id": "154b09d5",
   "metadata": {},
   "source": [
    "## Combining Multiple List Operations\n",
    "\n",
    "Let's see how different list operations work together in practical scenarios."
   ]
  },
  {
   "cell_type": "code",
   "execution_count": 9,
   "id": "3a64ca05",
   "metadata": {},
   "outputs": [
    {
     "name": "stdout",
     "output_type": "stream",
     "text": [
      "Starting list: ['apple', 'banana', 'cherry']\n",
      "After append('orange'): ['apple', 'banana', 'cherry', 'orange']\n",
      "After modifying index 1 to 'blueberry': ['apple', 'blueberry', 'cherry', 'orange']\n",
      "After remove('cherry'): ['apple', 'blueberry', 'orange']\n",
      "\n",
      "After combined operations (append, modify, remove): ['apple', 'blueberry', 'orange']\n",
      "\n",
      "==================================================\n",
      "Complex example: Managing a shopping list\n",
      "Added basic items: ['milk', 'bread', 'eggs']\n",
      "After more additions: ['bananas', 'milk', 'bread', 'eggs', 'cheese']\n",
      "Changed bread to whole wheat bread: ['bananas', 'milk', 'whole wheat bread', 'eggs', 'cheese']\n",
      "Removed eggs: ['bananas', 'milk', 'whole wheat bread', 'cheese']\n",
      "Final shopping list: ['bananas', 'milk', 'whole wheat bread', 'cheese']\n",
      "Number of items: 4\n"
     ]
    }
   ],
   "source": [
    "# Combining list operations.\n",
    "fruits = [\"apple\", \"banana\", \"cherry\"]  # Starting fresh\n",
    "print(\"Starting list:\", fruits)\n",
    "\n",
    "# Performing multiple operations\n",
    "fruits.append(\"orange\")\n",
    "print(\"After append('orange'):\", fruits)\n",
    "\n",
    "fruits[1] = \"blueberry\"  # Modify existing element\n",
    "print(\"After modifying index 1 to 'blueberry':\", fruits)\n",
    "\n",
    "fruits.remove(\"cherry\")\n",
    "print(\"After remove('cherry'):\", fruits)\n",
    "\n",
    "print(\"\\nAfter combined operations (append, modify, remove):\", fruits)\n",
    "\n",
    "# Let's create a more complex example\n",
    "print(\"\\n\" + \"=\"*50)\n",
    "print(\"Complex example: Managing a shopping list\")\n",
    "shopping_list = []\n",
    "\n",
    "# Add items\n",
    "shopping_list.extend([\"milk\", \"bread\", \"eggs\"])\n",
    "print(\"Added basic items:\", shopping_list)\n",
    "\n",
    "# Add more items one by one\n",
    "shopping_list.append(\"cheese\")\n",
    "shopping_list.insert(0, \"bananas\")  # Add to beginning\n",
    "print(\"After more additions:\", shopping_list)\n",
    "\n",
    "# Change mind about an item\n",
    "shopping_list[shopping_list.index(\"bread\")] = \"whole wheat bread\"\n",
    "print(\"Changed bread to whole wheat bread:\", shopping_list)\n",
    "\n",
    "# Remove an item\n",
    "shopping_list.remove(\"eggs\")\n",
    "print(\"Removed eggs:\", shopping_list)\n",
    "\n",
    "# Check final list\n",
    "print(\"Final shopping list:\", shopping_list)\n",
    "print(\"Number of items:\", len(shopping_list))"
   ]
  },
  {
   "cell_type": "markdown",
   "id": "d17a8c5b",
   "metadata": {},
   "source": [
    "## Advanced List Operations and Methods\n",
    "\n",
    "Let's explore some additional useful list methods and operations."
   ]
  },
  {
   "cell_type": "code",
   "execution_count": 10,
   "id": "fb88b50a",
   "metadata": {},
   "outputs": [
    {
     "name": "stdout",
     "output_type": "stream",
     "text": [
      "Original numbers: [3, 1, 4, 1, 5, 9, 2, 6]\n",
      "Sorted (ascending): [1, 1, 2, 3, 4, 5, 6, 9]\n",
      "Sorted (descending): [9, 6, 5, 4, 3, 2, 1, 1]\n",
      "\n",
      "Number of times 1 appears: 2\n",
      "Number of times 7 appears: 0\n",
      "Index of first occurrence of 4: 2\n",
      "After reverse(): [6, 2, 9, 5, 1, 4, 1, 3]\n",
      "\n",
      "Combining [1, 2, 3] + [4, 5, 6] = [1, 2, 3, 4, 5, 6]\n",
      "List repetition [0] * 5: [0, 0, 0, 0, 0]\n",
      "Squares using list comprehension: [0, 1, 4, 9, 16]\n"
     ]
    }
   ],
   "source": [
    "# Additional list methods demonstration\n",
    "numbers = [3, 1, 4, 1, 5, 9, 2, 6]\n",
    "print(\"Original numbers:\", numbers)\n",
    "\n",
    "# Sorting\n",
    "numbers_copy = numbers.copy()  # Create a copy to preserve original\n",
    "numbers_copy.sort()\n",
    "print(\"Sorted (ascending):\", numbers_copy)\n",
    "\n",
    "numbers_copy.sort(reverse=True)\n",
    "print(\"Sorted (descending):\", numbers_copy)\n",
    "\n",
    "# Counting occurrences\n",
    "print(f\"\\nNumber of times 1 appears: {numbers.count(1)}\")\n",
    "print(f\"Number of times 7 appears: {numbers.count(7)}\")\n",
    "\n",
    "# Finding index of an element\n",
    "print(f\"Index of first occurrence of 4: {numbers.index(4)}\")\n",
    "\n",
    "# Reversing a list\n",
    "numbers.reverse()\n",
    "print(\"After reverse():\", numbers)\n",
    "\n",
    "# List concatenation\n",
    "list1 = [1, 2, 3]\n",
    "list2 = [4, 5, 6]\n",
    "combined = list1 + list2\n",
    "print(f\"\\nCombining {list1} + {list2} = {combined}\")\n",
    "\n",
    "# List repetition\n",
    "repeated = [0] * 5\n",
    "print(\"List repetition [0] * 5:\", repeated)\n",
    "\n",
    "# List comprehension (preview of advanced topic)\n",
    "squares = [x**2 for x in range(5)]\n",
    "print(\"Squares using list comprehension:\", squares)"
   ]
  },
  {
   "cell_type": "markdown",
   "id": "762c6e01",
   "metadata": {},
   "source": [
    "## Practical Example: Student Grade Management\n",
    "\n",
    "Let's create a practical example that uses various list operations to manage student grades."
   ]
  },
  {
   "cell_type": "code",
   "execution_count": 11,
   "id": "4ee09ddc",
   "metadata": {},
   "outputs": [
    {
     "name": "stdout",
     "output_type": "stream",
     "text": [
      "=== Student Grade Management System ===\n",
      "Starting with empty grade list: []\n",
      "Added initial grades: [85, 92, 78, 88, 95]\n",
      "Added new test grade: [85, 92, 78, 88, 95, 87]\n",
      "Original grade at index 2: 78\n",
      "Corrected grade at index 2: [85, 92, 82, 88, 95, 87]\n",
      "Removed lowest grade (82): [85, 92, 88, 95, 87]\n",
      "\n",
      "=== Grade Statistics ===\n",
      "Grades: [85, 92, 88, 95, 87]\n",
      "Number of grades: 5\n",
      "Average: 89.40\n",
      "Highest: 95\n",
      "Lowest: 85\n",
      "\n",
      "Excellent grades (≥90): [92, 95]\n",
      "Good grades (80-89): [85, 88, 87]\n",
      "Needs improvement (<80): []\n"
     ]
    }
   ],
   "source": [
    "# Practical example: Student grade management system\n",
    "print(\"=== Student Grade Management System ===\")\n",
    "\n",
    "# Initialize empty grade list\n",
    "grades = []\n",
    "print(\"Starting with empty grade list:\", grades)\n",
    "\n",
    "# Add some initial grades\n",
    "grades.extend([85, 92, 78, 88, 95])\n",
    "print(\"Added initial grades:\", grades)\n",
    "\n",
    "# Student took another test\n",
    "grades.append(87)\n",
    "print(\"Added new test grade:\", grades)\n",
    "\n",
    "# Teacher found an error in grading - need to update a grade\n",
    "print(f\"Original grade at index 2: {grades[2]}\")\n",
    "grades[2] = 82  # Corrected grade\n",
    "print(\"Corrected grade at index 2:\", grades)\n",
    "\n",
    "# Remove the lowest grade (drop policy)\n",
    "lowest_grade = min(grades)\n",
    "grades.remove(lowest_grade)\n",
    "print(f\"Removed lowest grade ({lowest_grade}):\", grades)\n",
    "\n",
    "# Calculate statistics\n",
    "average = sum(grades) / len(grades)\n",
    "highest = max(grades)\n",
    "lowest = min(grades)\n",
    "\n",
    "print(f\"\\n=== Grade Statistics ===\")\n",
    "print(f\"Grades: {grades}\")\n",
    "print(f\"Number of grades: {len(grades)}\")\n",
    "print(f\"Average: {average:.2f}\")\n",
    "print(f\"Highest: {highest}\")\n",
    "print(f\"Lowest: {lowest}\")\n",
    "\n",
    "# Categorize grades\n",
    "excellent = [grade for grade in grades if grade >= 90]\n",
    "good = [grade for grade in grades if 80 <= grade < 90]\n",
    "needs_improvement = [grade for grade in grades if grade < 80]\n",
    "\n",
    "print(f\"\\nExcellent grades (≥90): {excellent}\")\n",
    "print(f\"Good grades (80-89): {good}\")\n",
    "print(f\"Needs improvement (<80): {needs_improvement}\")"
   ]
  },
  {
   "cell_type": "markdown",
   "id": "c795aa61",
   "metadata": {},
   "source": [
    "## Common List Patterns and Idioms\n",
    "\n",
    "Here are some common patterns you'll use frequently when working with lists."
   ]
  },
  {
   "cell_type": "code",
   "execution_count": 12,
   "id": "d56ebbbd",
   "metadata": {},
   "outputs": [
    {
     "name": "stdout",
     "output_type": "stream",
     "text": [
      "List is empty\n",
      "List is empty (alternative check)\n",
      "Removed banana: ['apple', 'cherry']\n",
      "apple already in list\n",
      "Unique items: ['apple', 'banana']\n",
      "Original numbers: [1, 2, 3, 4, 5]\n",
      "Squared numbers: [1, 4, 9, 16, 25]\n",
      "All numbers: [1, -2, 3, -4, 5, -6, 7]\n",
      "Positive numbers only: [1, 3, 5, 7]\n",
      "Students: ['Alice', 'Bob', 'Charlotte', 'Dan']\n",
      "Longest name: Charlotte\n",
      "Shortest name: Bob\n"
     ]
    }
   ],
   "source": [
    "# Common list patterns\n",
    "\n",
    "# 1. Checking if list is empty\n",
    "my_list = []\n",
    "if not my_list:  # Pythonic way\n",
    "    print(\"List is empty\")\n",
    "\n",
    "if len(my_list) == 0:  # Alternative way\n",
    "    print(\"List is empty (alternative check)\")\n",
    "\n",
    "# 2. Safe item removal\n",
    "items = [\"apple\", \"banana\", \"cherry\"]\n",
    "item_to_remove = \"banana\"\n",
    "\n",
    "if item_to_remove in items:\n",
    "    items.remove(item_to_remove)\n",
    "    print(f\"Removed {item_to_remove}: {items}\")\n",
    "\n",
    "# 3. Adding unique items only\n",
    "unique_items = [\"apple\", \"banana\"]\n",
    "new_item = \"apple\"\n",
    "\n",
    "if new_item not in unique_items:\n",
    "    unique_items.append(new_item)\n",
    "else:\n",
    "    print(f\"{new_item} already in list\")\n",
    "\n",
    "print(\"Unique items:\", unique_items)\n",
    "\n",
    "# 4. Processing all items\n",
    "numbers = [1, 2, 3, 4, 5]\n",
    "squared_numbers = []\n",
    "\n",
    "for num in numbers:\n",
    "    squared_numbers.append(num ** 2)\n",
    "\n",
    "print(\"Original numbers:\", numbers)\n",
    "print(\"Squared numbers:\", squared_numbers)\n",
    "\n",
    "# 5. Filtering items\n",
    "all_numbers = [1, -2, 3, -4, 5, -6, 7]\n",
    "positive_numbers = []\n",
    "\n",
    "for num in all_numbers:\n",
    "    if num > 0:\n",
    "        positive_numbers.append(num)\n",
    "\n",
    "print(\"All numbers:\", all_numbers)\n",
    "print(\"Positive numbers only:\", positive_numbers)\n",
    "\n",
    "# 6. Finding maximum/minimum with custom criteria\n",
    "students = [\"Alice\", \"Bob\", \"Charlotte\", \"Dan\"]\n",
    "longest_name = max(students, key=len)\n",
    "shortest_name = min(students, key=len)\n",
    "\n",
    "print(f\"Students: {students}\")\n",
    "print(f\"Longest name: {longest_name}\")\n",
    "print(f\"Shortest name: {shortest_name}\")"
   ]
  },
  {
   "cell_type": "markdown",
   "id": "8f6fbc10",
   "metadata": {},
   "source": [
    "## Key Takeaways\n",
    "\n",
    "### List Creation and Access\n",
    "- Create lists with `[item1, item2, ...]` or `list()`\n",
    "- Access elements with index: `my_list[0]`, `my_list[-1]`\n",
    "- Check membership with `in`: `item in my_list`\n",
    "\n",
    "### Adding Elements\n",
    "- `append(item)` - Add single item to end\n",
    "- `extend(iterable)` - Add multiple items to end\n",
    "- `insert(index, item)` - Add item at specific position\n",
    "\n",
    "### Removing Elements\n",
    "- `remove(item)` - Remove first occurrence of item\n",
    "- `pop(index)` - Remove and return item at index\n",
    "- `clear()` - Remove all elements\n",
    "- `del list[index]` - Delete item at index\n",
    "\n",
    "### Modifying Elements\n",
    "- Direct assignment: `my_list[index] = new_value`\n",
    "- Slice assignment: `my_list[start:end] = new_items`\n",
    "\n",
    "### Best Practices\n",
    "1. **Check before removing** to avoid errors\n",
    "2. **Use meaningful variable names** for lists\n",
    "3. **Consider list comprehensions** for simple transformations\n",
    "4. **Be careful with nested lists** when using append vs extend\n",
    "5. **Remember lists are mutable** - changes affect the original list\n",
    "\n",
    "## Practice Ideas\n",
    "\n",
    "Try creating programs that:\n",
    "- Manage a to-do list with add/remove/complete functionality\n",
    "- Track inventory items with quantities\n",
    "- Process a list of temperatures and find averages\n",
    "- Create a simple contact management system\n",
    "- Implement a basic queue or stack using list operations\n",
    "- Build a word frequency counter\n",
    "- Create a simple game where players can be added/removed\n",
    "\n",
    "Lists are fundamental to Python programming. Master these operations, and you'll be able to handle most data manipulation tasks effectively!"
   ]
  }
 ],
 "metadata": {
  "kernelspec": {
   "display_name": "damin2025",
   "language": "python",
   "name": "python3"
  },
  "language_info": {
   "codemirror_mode": {
    "name": "ipython",
    "version": 3
   },
   "file_extension": ".py",
   "mimetype": "text/x-python",
   "name": "python",
   "nbconvert_exporter": "python",
   "pygments_lexer": "ipython3",
   "version": "3.12.11"
  }
 },
 "nbformat": 4,
 "nbformat_minor": 5
}
