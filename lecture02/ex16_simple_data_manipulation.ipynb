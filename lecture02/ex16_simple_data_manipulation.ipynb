{
 "cells": [
  {
   "cell_type": "markdown",
   "id": "7ec49d7c",
   "metadata": {},
   "source": [
    "# Simple Data Manipulation with Pandas\n",
    "\n",
    "This notebook demonstrates fundamental data manipulation techniques using Pandas. We'll explore how to select specific columns, filter rows based on conditions, and perform basic data operations.\n",
    "\n",
    "## Learning Objectives\n",
    "- Select single and multiple columns from a DataFrame\n",
    "- Filter rows using boolean conditions\n",
    "- Apply multiple filtering conditions\n",
    "- Use the `isin()` method for filtering\n",
    "- Understand boolean indexing in Pandas\n",
    "\n",
    "## Prerequisites\n",
    "- Basic understanding of Python and Pandas\n",
    "- Familiarity with DataFrames\n",
    "- Pandas library installed"
   ]
  },
  {
   "cell_type": "markdown",
   "id": "6272fe8e",
   "metadata": {},
   "source": [
    "## Step 1: Import Required Libraries\n",
    "\n",
    "First, let's import the Pandas library for data manipulation."
   ]
  },
  {
   "cell_type": "code",
   "execution_count": 1,
   "id": "cb7dd3b5",
   "metadata": {},
   "outputs": [
    {
     "name": "stdout",
     "output_type": "stream",
     "text": [
      "Pandas library imported successfully!\n",
      "Pandas version: 2.3.1\n"
     ]
    }
   ],
   "source": [
    "# Import the Python libraries\n",
    "import pandas as pd\n",
    "\n",
    "print(\"Pandas library imported successfully!\")\n",
    "print(f\"Pandas version: {pd.__version__}\")"
   ]
  },
  {
   "cell_type": "markdown",
   "id": "9aca1a41",
   "metadata": {},
   "source": [
    "## Step 2: Load the Dataset\n",
    "\n",
    "We'll load our CSV file into a DataFrame. If the file doesn't exist, we'll create sample data for demonstration purposes."
   ]
  },
  {
   "cell_type": "code",
   "execution_count": 2,
   "id": "98393405",
   "metadata": {},
   "outputs": [
    {
     "name": "stdout",
     "output_type": "stream",
     "text": [
      "CSV file loaded successfully!\n",
      "Dataset shape: (1000, 4)\n",
      "\n",
      "First 5 rows of the dataset:\n",
      "    Name   Age       City Grade\n",
      "0   Sara  50.0  San Diego     F\n",
      "1   Emma  57.0  San Diego     C\n",
      "2  David  29.0   New York     D\n",
      "3  Chris  53.0   San Jose     D\n",
      "4   Sara  21.0    Phoenix     A\n"
     ]
    }
   ],
   "source": [
    "# Load the CSV file into a DataFrame\n",
    "try:\n",
    "    df = pd.read_csv(\"./data/data.csv\")\n",
    "    print(\"CSV file loaded successfully!\")\n",
    "    print(f\"Dataset shape: {df.shape}\")\n",
    "except FileNotFoundError:\n",
    "    print(\"CSV file not found. Creating sample data for demonstration.\")\n",
    "    # Create sample data\n",
    "    df = pd.DataFrame({\n",
    "        'Name': ['Alice Johnson', 'Bob Smith', 'Charlie Brown', 'Diana Davis', \n",
    "                 'Eve Wilson', 'Frank Miller', 'Grace Lee', 'Henry Taylor'],\n",
    "        'Age': [25, 32, 28, 35, 22, 45, 29, 31],\n",
    "        'City': ['New York', 'Dallas', 'Chicago', 'Dallas', 'New York', \n",
    "                 'Houston', 'Dallas', 'Chicago'],\n",
    "        'Grade': ['F', 'D', 'C', 'B', 'A', 'F', 'D', 'C'],\n",
    "    })\n",
    "    print(\"Sample data created successfully!\")\n",
    "\n",
    "# Display the first few rows to understand our data\n",
    "print(\"\\nFirst 5 rows of the dataset:\")\n",
    "print(df.head())"
   ]
  },
  {
   "cell_type": "markdown",
   "id": "63facbe2",
   "metadata": {},
   "source": [
    "## Step 3: Column Selection\n",
    "\n",
    "Column selection is a fundamental operation in data analysis. We can select single columns or multiple columns based on our analysis needs.\n",
    "\n",
    "### Single Column Selection\n",
    "When we select a single column, we get a Pandas Series object."
   ]
  },
  {
   "cell_type": "code",
   "execution_count": 3,
   "id": "90efe445",
   "metadata": {},
   "outputs": [
    {
     "name": "stdout",
     "output_type": "stream",
     "text": [
      "Selected \"Age\" column:\n",
      "Type: <class 'pandas.core.series.Series'>\n",
      "First 5 values:\n",
      "0    50.0\n",
      "1    57.0\n",
      "2    29.0\n",
      "3    53.0\n",
      "4    21.0\n",
      "Name: Age, dtype: float64\n"
     ]
    }
   ],
   "source": [
    "# Single column selection\n",
    "ages = df[\"Age\"]\n",
    "print('Selected \"Age\" column:')\n",
    "print(f\"Type: {type(ages)}\")\n",
    "print(\"First 5 values:\")\n",
    "print(ages.head())\n",
    "\n",
    "# Alternative syntax for single column selection\n",
    "# ages = df.Age  # This also works but is less recommended"
   ]
  },
  {
   "cell_type": "markdown",
   "id": "db164a5f",
   "metadata": {},
   "source": [
    "### Multiple Column Selection\n",
    "When we select multiple columns, we get a DataFrame with only the specified columns."
   ]
  },
  {
   "cell_type": "code",
   "execution_count": 4,
   "id": "e45c1bd6",
   "metadata": {},
   "outputs": [
    {
     "name": "stdout",
     "output_type": "stream",
     "text": [
      "Selected \"Name\" and \"City\" columns:\n",
      "Type: <class 'pandas.core.frame.DataFrame'>\n",
      "Shape: (1000, 2)\n",
      "First 5 rows:\n",
      "    Name       City\n",
      "0   Sara  San Diego\n",
      "1   Emma  San Diego\n",
      "2  David   New York\n",
      "3  Chris   San Jose\n",
      "4   Sara    Phoenix\n"
     ]
    }
   ],
   "source": [
    "# Multiple columns selection\n",
    "selected_columns = df[[\"Name\", \"City\"]]\n",
    "print('Selected \"Name\" and \"City\" columns:')\n",
    "print(f\"Type: {type(selected_columns)}\")\n",
    "print(f\"Shape: {selected_columns.shape}\")\n",
    "print(\"First 5 rows:\")\n",
    "print(selected_columns.head())"
   ]
  },
  {
   "cell_type": "markdown",
   "id": "5070b77d",
   "metadata": {},
   "source": [
    "## Step 4: Row Filtering\n",
    "\n",
    "Row filtering allows us to extract specific rows based on conditions. This is essential for data analysis and exploration.\n",
    "\n",
    "### Basic Filtering\n",
    "We can filter rows using boolean conditions. This creates a boolean mask that selects only rows where the condition is True."
   ]
  },
  {
   "cell_type": "code",
   "execution_count": 5,
   "id": "ec701afe",
   "metadata": {},
   "outputs": [
    {
     "name": "stdout",
     "output_type": "stream",
     "text": [
      "Filtered rows where \"Age\" < 30:\n",
      "Original dataset size: 1000 rows\n",
      "Filtered dataset size: 281 rows\n",
      "Filtered data:\n",
      "      Name   Age         City Grade\n",
      "2    David  29.0     New York     D\n",
      "4     Sara  21.0      Phoenix     A\n",
      "5    James  22.0      Houston     A\n",
      "7     Sara  25.0    San Diego     B\n",
      "11   David  26.0     San Jose     F\n",
      "..     ...   ...          ...   ...\n",
      "985   Emma  24.0     San Jose     B\n",
      "986  James  18.0      Phoenix     C\n",
      "993  David  26.0  Los Angeles   NaN\n",
      "995  James  26.0  Los Angeles     F\n",
      "997  David  27.0     New York   NaN\n",
      "\n",
      "[281 rows x 4 columns]\n"
     ]
    }
   ],
   "source": [
    "# Basic filtering: Filtering rows where \"Age\" is less than 30\n",
    "young_people = df[df[\"Age\"] < 30]\n",
    "print('Filtered rows where \"Age\" < 30:')\n",
    "print(f\"Original dataset size: {len(df)} rows\")\n",
    "print(f\"Filtered dataset size: {len(young_people)} rows\")\n",
    "print(\"Filtered data:\")\n",
    "print(young_people)"
   ]
  },
  {
   "cell_type": "markdown",
   "id": "616a8501",
   "metadata": {},
   "source": [
    "### Multiple Conditions\n",
    "We can combine multiple conditions using logical operators:\n",
    "- `&` for AND operations\n",
    "- `|` for OR operations\n",
    "- `~` for NOT operations\n",
    "\n",
    "**Important**: When combining conditions, each condition must be wrapped in parentheses."
   ]
  },
  {
   "cell_type": "code",
   "execution_count": 6,
   "id": "9d70feea",
   "metadata": {},
   "outputs": [
    {
     "name": "stdout",
     "output_type": "stream",
     "text": [
      "Filtered rows where \"Age\" < 30 and \"City\" is \"Dallas\":\n",
      "Filtered dataset size: 23 rows\n",
      "Filtered data:\n",
      "      Name   Age    City Grade\n",
      "65   James  24.0  Dallas     C\n",
      "114   John  25.0  Dallas     F\n",
      "193   John  29.0  Dallas     D\n",
      "206   Emma  27.0  Dallas     D\n",
      "342   Emma  27.0  Dallas     B\n",
      "350   Sara  20.0  Dallas     A\n",
      "369   Sara  28.0  Dallas     B\n",
      "373    Bob  24.0  Dallas     D\n",
      "417  James  26.0  Dallas     D\n",
      "522   Emma  29.0  Dallas     B\n",
      "525  Laura  29.0  Dallas     A\n",
      "566  James  22.0  Dallas     F\n",
      "587  Chris  24.0  Dallas     A\n",
      "676   Emma  28.0  Dallas     C\n",
      "709   Emma  27.0  Dallas     F\n",
      "754  Chris  19.0  Dallas     D\n",
      "781  David  20.0  Dallas     D\n",
      "860  Alice  18.0  Dallas     C\n",
      "901   John  18.0  Dallas     B\n",
      "924  James  25.0  Dallas     D\n",
      "931    Bob  29.0  Dallas     C\n",
      "966   Mike  19.0  Dallas     A\n",
      "973   Mike  24.0  Dallas     A\n",
      "\n",
      "Filtered rows where \"Age\" < 30 OR \"Age\" > 40:\n",
      "Filtered dataset size: 742 rows\n",
      "First 5 rows:\n",
      "    Name   Age       City Grade\n",
      "0   Sara  50.0  San Diego     F\n",
      "1   Emma  57.0  San Diego     C\n",
      "2  David  29.0   New York     D\n",
      "3  Chris  53.0   San Jose     D\n",
      "4   Sara  21.0    Phoenix     A\n"
     ]
    }
   ],
   "source": [
    "# Filtering with multiple conditions: \"Age\" < 30 and \"City\" is \"Dallas\"\n",
    "specific_group = df[(df[\"Age\"] < 30) & (df[\"City\"] == \"Dallas\")]\n",
    "print('Filtered rows where \"Age\" < 30 and \"City\" is \"Dallas\":')\n",
    "print(f\"Filtered dataset size: {len(specific_group)} rows\")\n",
    "print(\"Filtered data:\")\n",
    "print(specific_group)\n",
    "\n",
    "# Let's also try an OR condition\n",
    "young_or_senior = df[(df[\"Age\"] < 30) | (df[\"Age\"] > 40)]\n",
    "print('\\nFiltered rows where \"Age\" < 30 OR \"Age\" > 40:')\n",
    "print(f\"Filtered dataset size: {len(young_or_senior)} rows\")\n",
    "print(\"First 5 rows:\")\n",
    "print(young_or_senior.head())"
   ]
  },
  {
   "cell_type": "markdown",
   "id": "bb9531ad",
   "metadata": {},
   "source": [
    "### Using the isin() Method\n",
    "The `isin()` method is useful when you want to filter based on multiple values in a single column. It's equivalent to multiple OR conditions but more readable."
   ]
  },
  {
   "cell_type": "code",
   "execution_count": 7,
   "id": "0b2569e9",
   "metadata": {},
   "outputs": [
    {
     "name": "stdout",
     "output_type": "stream",
     "text": [
      "Filtered rows where \"City\" is \"New York\" or \"Dallas\":\n",
      "Filtered dataset size: 195 rows\n",
      "Filtered data:\n",
      "      Name   Age      City Grade\n",
      "2    David  29.0  New York     D\n",
      "12   David  46.0    Dallas     A\n",
      "17   David  28.0  New York     F\n",
      "21    John  38.0  New York     A\n",
      "24   Laura  40.0  New York     C\n",
      "..     ...   ...       ...   ...\n",
      "973   Mike  24.0    Dallas     A\n",
      "976   Emma  56.0  New York     C\n",
      "982    Bob  53.0  New York     B\n",
      "991   Mike  39.0  New York     F\n",
      "997  David  27.0  New York   NaN\n",
      "\n",
      "[195 rows x 4 columns]\n"
     ]
    }
   ],
   "source": [
    "# Filtering using isin(): Filtering rows where \"City\" is either \"New York\" or \"Dallas\"\n",
    "cities = df[df[\"City\"].isin([\"New York\", \"Dallas\"])]\n",
    "print('Filtered rows where \"City\" is \"New York\" or \"Dallas\":')\n",
    "print(f\"Filtered dataset size: {len(cities)} rows\")\n",
    "print(\"Filtered data:\")\n",
    "print(cities)\n",
    "\n",
    "# This is equivalent to:\n",
    "# cities_alternative = df[(df[\"City\"] == \"New York\") | (df[\"City\"] == \"Dallas\")]"
   ]
  },
  {
   "cell_type": "markdown",
   "id": "2fbe1604",
   "metadata": {},
   "source": [
    "## Step 5: Advanced Filtering Examples\n",
    "\n",
    "Let's explore some more advanced filtering techniques that are commonly used in data analysis."
   ]
  },
  {
   "cell_type": "code",
   "execution_count": 8,
   "id": "ee6aaf70",
   "metadata": {},
   "outputs": [
    {
     "name": "stdout",
     "output_type": "stream",
     "text": [
      "People whose names start with 'A' or 'B':\n",
      "      Name   Age         City\n",
      "6      Bob  54.0  Los Angeles\n",
      "13     Bob  31.0  Los Angeles\n",
      "16   Alice  39.0     San Jose\n",
      "19   Alice  18.0  Los Angeles\n",
      "27     Bob  32.0     New York\n",
      "..     ...   ...          ...\n",
      "967  Alice  30.0     New York\n",
      "981  Alice  59.0      Phoenix\n",
      "982    Bob  53.0     New York\n",
      "983    Bob  37.0     San Jose\n",
      "998  Alice  41.0      Houston\n",
      "\n",
      "[193 rows x 3 columns]\n",
      "\n",
      "People aged between 30 and 40 (inclusive): 254 people\n",
      "      Name   Age         City\n",
      "13     Bob  31.0  Los Angeles\n",
      "16   Alice  39.0     San Jose\n",
      "18    Mike  40.0  San Antonio\n",
      "21    John  38.0     New York\n",
      "24   Laura  40.0     New York\n",
      "..     ...   ...          ...\n",
      "983    Bob  37.0     San Jose\n",
      "988   Emma  30.0          NaN\n",
      "989  James  39.0  San Antonio\n",
      "990  David  38.0  San Antonio\n",
      "991   Mike  39.0     New York\n",
      "\n",
      "[254 rows x 3 columns]\n",
      "\n",
      "Checking for missing values:\n",
      "Name     0\n",
      "Age      4\n",
      "City     6\n",
      "Grade    8\n",
      "dtype: int64\n"
     ]
    }
   ],
   "source": [
    "# String filtering: Find people whose names start with specific letters\n",
    "names_starting_with_a_or_b = df[df[\"Name\"].str.startswith(('A', 'B'))]\n",
    "print(\"People whose names start with 'A' or 'B':\")\n",
    "print(names_starting_with_a_or_b[[\"Name\", \"Age\", \"City\"]])\n",
    "\n",
    "# Numerical range filtering\n",
    "middle_aged = df[(df[\"Age\"] >= 30) & (df[\"Age\"] <= 40)]\n",
    "print(f\"\\nPeople aged between 30 and 40 (inclusive): {len(middle_aged)} people\")\n",
    "print(middle_aged[[\"Name\", \"Age\", \"City\"]])\n",
    "\n",
    "# Filtering with missing values (if any)\n",
    "print(f\"\\nChecking for missing values:\")\n",
    "print(df.isnull().sum())"
   ]
  },
  {
   "cell_type": "markdown",
   "id": "14e89136",
   "metadata": {},
   "source": [
    "## Step 6: Combining Selection and Filtering\n",
    "\n",
    "We can combine column selection with row filtering for more targeted data analysis."
   ]
  },
  {
   "cell_type": "code",
   "execution_count": 9,
   "id": "5d5c1db4",
   "metadata": {},
   "outputs": [
    {
     "name": "stdout",
     "output_type": "stream",
     "text": [
      "Names and ages of people under 30:\n",
      "      Name   Age\n",
      "2    David  29.0\n",
      "4     Sara  21.0\n",
      "5    James  22.0\n",
      "7     Sara  25.0\n",
      "11   David  26.0\n",
      "..     ...   ...\n",
      "985   Emma  24.0\n",
      "986  James  18.0\n",
      "993  David  26.0\n",
      "995  James  26.0\n",
      "997  David  27.0\n",
      "\n",
      "[281 rows x 2 columns]\n",
      "\n",
      "Using query method - People under 30 in Dallas:\n",
      "      Name   Age\n",
      "65   James  24.0\n",
      "114   John  25.0\n",
      "193   John  29.0\n",
      "206   Emma  27.0\n",
      "342   Emma  27.0\n",
      "350   Sara  20.0\n",
      "369   Sara  28.0\n",
      "373    Bob  24.0\n",
      "417  James  26.0\n",
      "522   Emma  29.0\n",
      "525  Laura  29.0\n",
      "566  James  22.0\n",
      "587  Chris  24.0\n",
      "676   Emma  28.0\n",
      "709   Emma  27.0\n",
      "754  Chris  19.0\n",
      "781  David  20.0\n",
      "860  Alice  18.0\n",
      "901   John  18.0\n",
      "924  James  25.0\n",
      "931    Bob  29.0\n",
      "966   Mike  19.0\n",
      "973   Mike  24.0\n"
     ]
    }
   ],
   "source": [
    "# Combine filtering and column selection\n",
    "young_people_info = df[df[\"Age\"] < 30][[\"Name\", \"Age\"]]\n",
    "print(\"Names and ages of people under 30:\")\n",
    "print(young_people_info)\n",
    "\n",
    "# Alternative approach using query method (more readable for complex conditions)\n",
    "query_result = df.query(\"Age < 30 and City == 'Dallas'\")[[\"Name\", \"Age\"]]\n",
    "print(\"\\nUsing query method - People under 30 in Dallas:\")\n",
    "print(query_result)"
   ]
  },
  {
   "cell_type": "markdown",
   "id": "0cb566ab",
   "metadata": {},
   "source": [
    "## Step 7: Data Manipulation Summary\n",
    "\n",
    "Let's create a summary of our data manipulation operations to understand what we've learned."
   ]
  },
  {
   "cell_type": "code",
   "execution_count": 10,
   "id": "33922a66",
   "metadata": {},
   "outputs": [
    {
     "name": "stdout",
     "output_type": "stream",
     "text": [
      "=== DATA MANIPULATION SUMMARY ===\n",
      "Original dataset: 1000 rows, 4 columns\n",
      "Columns: ['Name', 'Age', 'City', 'Grade']\n",
      "\n",
      "=== FILTERING RESULTS ===\n",
      "People under 30: 281 people\n",
      "People in New York or Dallas: 195 people\n",
      "People under 30 in Dallas: 23 people\n",
      "\n",
      "=== AGE DISTRIBUTION ===\n",
      "Youngest person: 18.0 years old\n",
      "Oldest person: 59.0 years old\n",
      "Average age: 38.7 years\n",
      "\n",
      "=== CITY DISTRIBUTION ===\n",
      "People per city:\n",
      "City\n",
      "Houston         111\n",
      "Phoenix         106\n",
      "San Diego       105\n",
      "Chicago         104\n",
      "Dallas          101\n",
      "Philadelphia     98\n",
      "San Antonio      96\n",
      "Los Angeles      95\n",
      "New York         94\n",
      "San Jose         84\n",
      "Name: count, dtype: int64\n"
     ]
    }
   ],
   "source": [
    "# Summary statistics\n",
    "print(\"=== DATA MANIPULATION SUMMARY ===\")\n",
    "print(f\"Original dataset: {df.shape[0]} rows, {df.shape[1]} columns\")\n",
    "print(f\"Columns: {list(df.columns)}\")\n",
    "\n",
    "print(\"\\n=== FILTERING RESULTS ===\")\n",
    "print(f\"People under 30: {len(df[df['Age'] < 30])} people\")\n",
    "print(f\"People in New York or Dallas: {len(df[df['City'].isin(['New York', 'Dallas'])])} people\")\n",
    "print(f\"People under 30 in Dallas: {len(df[(df['Age'] < 30) & (df['City'] == 'Dallas')])} people\")\n",
    "\n",
    "print(\"\\n=== AGE DISTRIBUTION ===\")\n",
    "print(f\"Youngest person: {df['Age'].min()} years old\")\n",
    "print(f\"Oldest person: {df['Age'].max()} years old\")\n",
    "print(f\"Average age: {df['Age'].mean():.1f} years\")\n",
    "\n",
    "print(\"\\n=== CITY DISTRIBUTION ===\")\n",
    "print(\"People per city:\")\n",
    "print(df['City'].value_counts())"
   ]
  },
  {
   "cell_type": "markdown",
   "id": "962bcaff",
   "metadata": {},
   "source": [
    "## Summary\n",
    "\n",
    "In this notebook, we learned essential data manipulation techniques:\n",
    "\n",
    "### Column Selection\n",
    "1. **Single column**: `df[\"column_name\"]` returns a Series\n",
    "2. **Multiple columns**: `df[[\"col1\", \"col2\"]]` returns a DataFrame\n",
    "\n",
    "### Row Filtering\n",
    "1. **Basic filtering**: `df[df[\"column\"] > value]`\n",
    "2. **Multiple conditions**: `df[(condition1) & (condition2)]`\n",
    "3. **OR conditions**: `df[(condition1) | (condition2)]`\n",
    "4. **isin() method**: `df[df[\"column\"].isin([value1, value2])]`\n",
    "\n",
    "### Advanced Techniques\n",
    "- String operations with `.str` accessor\n",
    "- Query method for readable complex conditions\n",
    "- Combining selection and filtering\n",
    "- Summary statistics and value counts\n",
    "\n",
    "## Best Practices\n",
    "\n",
    "1. **Always use parentheses** when combining conditions with `&` and `|`\n",
    "2. **Use isin()** for multiple value filtering instead of multiple OR conditions\n",
    "3. **Combine operations** efficiently to avoid creating unnecessary intermediate DataFrames\n",
    "4. **Use descriptive variable names** for filtered datasets\n",
    "5. **Check your results** by examining shape and sample data\n",
    "\n",
    "## Next Steps\n",
    "\n",
    "- Learn about data sorting and grouping\n",
    "- Explore data aggregation methods\n",
    "- Practice with more complex filtering scenarios\n",
    "- Study data transformation techniques"
   ]
  }
 ],
 "metadata": {
  "kernelspec": {
   "display_name": "damin2025",
   "language": "python",
   "name": "python3"
  },
  "language_info": {
   "codemirror_mode": {
    "name": "ipython",
    "version": 3
   },
   "file_extension": ".py",
   "mimetype": "text/x-python",
   "name": "python",
   "nbconvert_exporter": "python",
   "pygments_lexer": "ipython3",
   "version": "3.12.11"
  }
 },
 "nbformat": 4,
 "nbformat_minor": 5
}
