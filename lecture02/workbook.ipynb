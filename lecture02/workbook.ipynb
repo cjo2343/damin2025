{
 "cells": [
  {
   "cell_type": "markdown",
   "id": "a4303a47",
   "metadata": {},
   "source": [
    "Library: Pandas\n",
    "\n"
   ]
  },
  {
   "cell_type": "code",
   "execution_count": 2,
   "id": "08ae4b3e",
   "metadata": {},
   "outputs": [
    {
     "name": "stdout",
     "output_type": "stream",
     "text": [
      "HVAD FANDEN FOREGÅR DER?\n",
      "Hello, Christian\n"
     ]
    }
   ],
   "source": [
    "print('HVAD FANDEN FOREGÅR DER?')\n",
    "\n",
    "\n",
    "name = input('What is your name?')\n",
    "\n",
    "print(f'Hello, {name}')\n",
    "\n"
   ]
  },
  {
   "cell_type": "code",
   "execution_count": 3,
   "id": "5f45f7a7",
   "metadata": {},
   "outputs": [
    {
     "name": "stdout",
     "output_type": "stream",
     "text": [
      "Niiiiice\n"
     ]
    }
   ],
   "source": [
    "if True:\n",
    "    print('Niiiiice')\n",
    "\n",
    "else: \n",
    "    print('Jonathan')"
   ]
  },
  {
   "cell_type": "code",
   "execution_count": 5,
   "id": "29fcc4ab",
   "metadata": {},
   "outputs": [
    {
     "name": "stdout",
     "output_type": "stream",
     "text": [
      "Hello Christian\n"
     ]
    }
   ],
   "source": [
    "name = 'Christian'\n",
    "\n",
    "print('Hello', name)"
   ]
  },
  {
   "cell_type": "code",
   "execution_count": null,
   "id": "447ec242",
   "metadata": {},
   "outputs": [],
   "source": []
  },
  {
   "cell_type": "code",
   "execution_count": 8,
   "id": "ff24c4e1",
   "metadata": {},
   "outputs": [
    {
     "name": "stdout",
     "output_type": "stream",
     "text": [
      "8\n",
      "2\n",
      "15\n",
      "1.6666666666666667\n"
     ]
    }
   ],
   "source": [
    "\n",
    "a = input('Write the first number')\n",
    "b = input('Write your second number')\n",
    "\n",
    "print(int(a) + int(b))\n",
    "print(int(a) - int(b))\n",
    "print(int(a) * int(b))\n",
    "print(int(a) / int(b))\n",
    "\n"
   ]
  },
  {
   "cell_type": "code",
   "execution_count": 4,
   "id": "239cbc22",
   "metadata": {},
   "outputs": [
    {
     "name": "stdout",
     "output_type": "stream",
     "text": [
      "Grade: E\n"
     ]
    }
   ],
   "source": [
    "grade = input('Enter a grade between 0 and 100')\n",
    "\n",
    "grade_A = 'A'\n",
    "grade_B = 'B'\n",
    "grade_C = 'C'\n",
    "grade_D = 'D'\n",
    "grade_E = 'E'\n",
    "grade_F = 'F'\n",
    "\n",
    "\n",
    "if int(grade) < 0:\n",
    "    print('A grade cannot be less than 0')\n",
    "\n",
    "\n",
    "elif int(grade) >= 0 and int(grade) <= 49: \n",
    "    print(f'Grade: {grade_F}')\n",
    "\n",
    "elif int(grade) >49 and int(grade) <=59:\n",
    "    print(f'Grade: {grade_E}') \n",
    "\n",
    "elif int(grade) >59 and int(grade) <=69:\n",
    "    print(f'Grade: {grade_D}') \n",
    "\n",
    "elif int(grade) >69 and int(grade) <=79:\n",
    "    print(f'Grade: {grade_C}') \n",
    "\n",
    "elif int(grade) >79 and int(grade) <=89:\n",
    "    print(f'Grade: {grade_B}')\n",
    "\n",
    "elif int(grade) >89 and int(grade) <=100:\n",
    "    print(f'Grade: {grade_A}')\n",
    "else:\n",
    "    print('The grading goes from 0 to 100!')\n",
    "\n",
    "\n",
    "#python\n",
    "#if condition1:\n",
    "    # Code to execute if condition1 is True\n",
    "#elif condition2:\n",
    "    # Code to execute if condition2 is True\n",
    "#else:\n",
    "    # Code to execute if all conditions are False\n",
    "\n"
   ]
  },
  {
   "cell_type": "code",
   "execution_count": 2,
   "id": "87473836",
   "metadata": {},
   "outputs": [
    {
     "name": "stdout",
     "output_type": "stream",
     "text": [
      "Hello, Christian\n",
      "Hello, Jonathan\n",
      "Hello, 4\n",
      "Back to the menu!\n",
      "['Christian', 'Jonathan', '4']\n",
      "['Christian', 'Jonathan', '4']\n"
     ]
    }
   ],
   "source": [
    "list_of_names = []\n",
    "\n",
    "while True:\n",
    "    menu = input('Enter digits between 1 and 4')\n",
    "    if menu == str(1):\n",
    "            while True:\n",
    "                new_name = input('Enter new name to add to the list..')\n",
    "                list_of_names.append(new_name)\n",
    "                print(f'Hello, {new_name}')\n",
    "                if new_name == '4':\n",
    "                    print('Back to the menu!')\n",
    "                    break\n",
    "                \n",
    "\n",
    "        \n",
    "    \n",
    "    if menu ==str(2):\n",
    "            while True:\n",
    "                print(list_of_names)\n",
    "                remove_name = input('Remove a name from the list..')\n",
    "                list_of_names.remove(remove_name)\n",
    "                if remove_name == '4':\n",
    "                    print('Back to the menu!')\n",
    "                    break\n",
    "\n",
    "    if menu == str(3):\n",
    "            while True:\n",
    "                print(list_of_names)\n",
    "                break\n",
    "            break\n",
    "    \n",
    "\n",
    "    \n",
    "print(list_of_names)"
   ]
  },
  {
   "cell_type": "code",
   "execution_count": 2,
   "id": "c14a4c4e",
   "metadata": {},
   "outputs": [
    {
     "name": "stdout",
     "output_type": "stream",
     "text": [
      "Interactive name collector (type 'exit' to stop):\n",
      "Hello, test!\n",
      "Hello, test!\n",
      "Hello, christian!\n",
      "Goodbye!\n"
     ]
    }
   ],
   "source": [
    "# Interactive version (uncomment to use with real input)\n",
    "print(\"Interactive name collector (type 'exit' to stop):\")\n",
    "\n",
    "# Uncomment the following lines to make this truly interactive:\n",
    "while True:\n",
    "     name = input(\"Enter your name (type 'exit' to stop): \")\n",
    "     if name.lower() == \"exit\":\n",
    "         print(\"Goodbye!\")\n",
    "         break\n",
    "     print(f\"Hello, {name}!\")"
   ]
  }
 ],
 "metadata": {
  "kernelspec": {
   "display_name": "damin2025",
   "language": "python",
   "name": "python3"
  },
  "language_info": {
   "codemirror_mode": {
    "name": "ipython",
    "version": 3
   },
   "file_extension": ".py",
   "mimetype": "text/x-python",
   "name": "python",
   "nbconvert_exporter": "python",
   "pygments_lexer": "ipython3",
   "version": "3.12.11"
  }
 },
 "nbformat": 4,
 "nbformat_minor": 5
}
