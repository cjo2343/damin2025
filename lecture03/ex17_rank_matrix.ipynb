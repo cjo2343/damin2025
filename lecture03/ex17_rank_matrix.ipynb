{
 "cells": [
  {
   "cell_type": "markdown",
   "id": "5760de2e",
   "metadata": {},
   "source": [
    "# Calculating the Rank of a Matrix\n",
    "\n",
    "This notebook demonstrates how to calculate the rank of a matrix using NumPy.\n",
    "\n",
    "**Learning Objectives:**\n",
    "- Understand the concept of matrix rank\n",
    "- Use NumPy to compute matrix rank in Python\n",
    "- Interpret the result in the context of linear algebra\n",
    "\n",
    "**Prerequisites:**\n",
    "- Basic Python\n",
    "- Familiarity with matrices and linear algebra"
   ]
  },
  {
   "cell_type": "code",
   "execution_count": 1,
   "id": "3ae2ec91",
   "metadata": {},
   "outputs": [],
   "source": [
    "# Import the required libraries\n",
    "import numpy as np"
   ]
  },
  {
   "cell_type": "markdown",
   "id": "26d83576",
   "metadata": {},
   "source": [
    "## Step 1: Define the Matrix\n",
    "We define the matrix A."
   ]
  },
  {
   "cell_type": "code",
   "execution_count": 2,
   "id": "844d6a06",
   "metadata": {},
   "outputs": [
    {
     "data": {
      "text/plain": [
       "array([[1, 2, 3],\n",
       "       [4, 5, 6],\n",
       "       [7, 8, 9]])"
      ]
     },
     "execution_count": 2,
     "metadata": {},
     "output_type": "execute_result"
    }
   ],
   "source": [
    "# Define the matrix A\n",
    "A = np.array([\n",
    "    [1, 2, 3],\n",
    "    [4, 5, 6],\n",
    "    [7, 8, 9]\n",
    "])\n",
    "A"
   ]
  },
  {
   "cell_type": "markdown",
   "id": "b56f93af",
   "metadata": {},
   "source": [
    "## Step 2: Calculate the Rank\n",
    "We use NumPy to calculate the rank of matrix A."
   ]
  },
  {
   "cell_type": "code",
   "execution_count": 3,
   "id": "14a7815e",
   "metadata": {},
   "outputs": [
    {
     "data": {
      "text/plain": [
       "2"
      ]
     },
     "execution_count": 3,
     "metadata": {},
     "output_type": "execute_result"
    }
   ],
   "source": [
    "# Calculate the rank of matrix A\n",
    "rank_A = np.linalg.matrix_rank(A)\n",
    "rank_A"
   ]
  },
  {
   "cell_type": "markdown",
   "id": "ee60f1c7",
   "metadata": {},
   "source": [
    "## Step 3: Display the Matrix and Its Rank\n",
    "We display the matrix and its rank."
   ]
  },
  {
   "cell_type": "code",
   "execution_count": 4,
   "id": "1a144aa8",
   "metadata": {},
   "outputs": [
    {
     "name": "stdout",
     "output_type": "stream",
     "text": [
      "Matrix A:\n",
      "[[1 2 3]\n",
      " [4 5 6]\n",
      " [7 8 9]]\n",
      "\n",
      "Rank of Matrix A: 2.\n"
     ]
    }
   ],
   "source": [
    "# Display the matrix and its rank\n",
    "print(\"Matrix A:\")\n",
    "print(A)\n",
    "print(f\"\\nRank of Matrix A: {rank_A}.\")"
   ]
  },
  {
   "cell_type": "markdown",
   "id": "b04e8715",
   "metadata": {},
   "source": [
    "## Summary\n",
    "- We calculated the rank of a matrix using NumPy.\n",
    "- The rank indicates the number of linearly independent rows or columns.\n",
    "- This concept is fundamental in linear algebra and has applications in solving systems of equations."
   ]
  }
 ],
 "metadata": {
  "kernelspec": {
   "display_name": "damin2025",
   "language": "python",
   "name": "python3"
  },
  "language_info": {
   "codemirror_mode": {
    "name": "ipython",
    "version": 3
   },
   "file_extension": ".py",
   "mimetype": "text/x-python",
   "name": "python",
   "nbconvert_exporter": "python",
   "pygments_lexer": "ipython3",
   "version": "3.12.11"
  }
 },
 "nbformat": 4,
 "nbformat_minor": 5
}
