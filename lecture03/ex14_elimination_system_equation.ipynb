{
 "cells": [
  {
   "cell_type": "markdown",
   "id": "c3042768",
   "metadata": {},
   "source": [
    "# Solving a System of Linear Equations by Elimination\n",
    "\n",
    "This notebook demonstrates how to solve a system of two linear equations using the elimination method with SymPy. Each step is explained and shown in code and output.\n",
    "\n",
    "**Learning Objectives:**\n",
    "- Understand the elimination method for solving systems of equations\n",
    "- Use SymPy to perform symbolic algebra in Python\n",
    "- Interpret step-by-step solutions\n",
    "\n",
    "**Prerequisites:**\n",
    "- Basic Python\n",
    "- Familiarity with algebraic equations"
   ]
  },
  {
   "cell_type": "code",
   "execution_count": 1,
   "id": "2c7cda1e",
   "metadata": {},
   "outputs": [],
   "source": [
    "# Import the required libraries\n",
    "import sympy as sp"
   ]
  },
  {
   "cell_type": "markdown",
   "id": "57aedc73",
   "metadata": {},
   "source": [
    "## Step 1: Define Variables and Equations\n",
    "We define the variables and the system of equations."
   ]
  },
  {
   "cell_type": "code",
   "execution_count": 2,
   "id": "fff5b0a3",
   "metadata": {},
   "outputs": [],
   "source": [
    "# Define the variables\n",
    "x, y = sp.symbols(\"x y\")\n",
    "\n",
    "# Define the equations\n",
    "eq1 = sp.Eq(2*x + 3*y, 12)\n",
    "eq2 = sp.Eq(4*x - y, 8)"
   ]
  },
  {
   "cell_type": "markdown",
   "id": "755b278d",
   "metadata": {},
   "source": [
    "## Step 2: Multiply the Second Equation to Align Coefficients\n",
    "We multiply the second equation by 3 to align the coefficients of y."
   ]
  },
  {
   "cell_type": "code",
   "execution_count": 3,
   "id": "9f9554d3",
   "metadata": {},
   "outputs": [
    {
     "data": {
      "text/plain": [
       "(2*x + 3*y - 12, 12*x - 3*y - 24)"
      ]
     },
     "execution_count": 3,
     "metadata": {},
     "output_type": "execute_result"
    }
   ],
   "source": [
    "# Step 1: Multiply the second equation by 3\n",
    "expr1 = eq1.lhs - eq1.rhs  # Get the expression from the first equation\n",
    "expr2 = 3 * (eq2.lhs - eq2.rhs)  # Multiply the second equation by 3\n",
    "expr1, expr2"
   ]
  },
  {
   "cell_type": "markdown",
   "id": "78e33119",
   "metadata": {},
   "source": [
    "## Step 3: Add the Equations to Eliminate y\n",
    "We add the two expressions to eliminate y."
   ]
  },
  {
   "cell_type": "code",
   "execution_count": 4,
   "id": "5ba0ea0c",
   "metadata": {},
   "outputs": [
    {
     "data": {
      "text/latex": [
       "$\\displaystyle 14 x - 36$"
      ],
      "text/plain": [
       "14*x - 36"
      ]
     },
     "execution_count": 4,
     "metadata": {},
     "output_type": "execute_result"
    }
   ],
   "source": [
    "# Step 2: Add the equations to eliminate y\n",
    "eliminated_expr = expr1 + expr2\n",
    "eliminated_expr"
   ]
  },
  {
   "cell_type": "markdown",
   "id": "4566bba9",
   "metadata": {},
   "source": [
    "## Step 4: Solve the Resulting Equation for x\n",
    "We solve the resulting equation for x."
   ]
  },
  {
   "cell_type": "code",
   "execution_count": 5,
   "id": "05d796d1",
   "metadata": {},
   "outputs": [
    {
     "data": {
      "text/latex": [
       "$\\displaystyle \\frac{18}{7}$"
      ],
      "text/plain": [
       "18/7"
      ]
     },
     "execution_count": 5,
     "metadata": {},
     "output_type": "execute_result"
    }
   ],
   "source": [
    "# Step 3: Solve for x\n",
    "sol_x = sp.solve(eliminated_expr, x)[0]\n",
    "sol_x"
   ]
  },
  {
   "cell_type": "markdown",
   "id": "cd7d285a",
   "metadata": {},
   "source": [
    "## Step 5: Substitute x Back to Find y\n",
    "We substitute the value of x back into one of the original equations to solve for y."
   ]
  },
  {
   "cell_type": "code",
   "execution_count": 6,
   "id": "046ac0f2",
   "metadata": {},
   "outputs": [
    {
     "data": {
      "text/latex": [
       "$\\displaystyle \\frac{16}{7}$"
      ],
      "text/plain": [
       "16/7"
      ]
     },
     "execution_count": 6,
     "metadata": {},
     "output_type": "execute_result"
    }
   ],
   "source": [
    "# Step 4: Substitute x back into the original equation to solve for y\n",
    "sol_y = sp.solve(eq1.subs(x, sol_x), y)[0]\n",
    "sol_y"
   ]
  },
  {
   "cell_type": "markdown",
   "id": "1ef5c7fc",
   "metadata": {},
   "source": [
    "## Step 6: Display the Solution\n",
    "The solution to the system is shown below."
   ]
  },
  {
   "cell_type": "code",
   "execution_count": 7,
   "id": "1f6a3141",
   "metadata": {},
   "outputs": [
    {
     "name": "stdout",
     "output_type": "stream",
     "text": [
      "Solution: x = 18/7, y = 16/7\n"
     ]
    }
   ],
   "source": [
    "# Display the solution\n",
    "print(f\"Solution: x = {sol_x}, y = {sol_y}\")"
   ]
  },
  {
   "cell_type": "markdown",
   "id": "1eb327dc",
   "metadata": {},
   "source": [
    "## Summary\n",
    "- We solved a system of linear equations using the elimination method.\n",
    "- Each step was performed symbolically using SymPy.\n",
    "- The solution is x = 3, y = 2.\n",
    "- This method is useful for small systems and for teaching algebraic techniques."
   ]
  }
 ],
 "metadata": {
  "kernelspec": {
   "display_name": "damin2025",
   "language": "python",
   "name": "python3"
  },
  "language_info": {
   "codemirror_mode": {
    "name": "ipython",
    "version": 3
   },
   "file_extension": ".py",
   "mimetype": "text/x-python",
   "name": "python",
   "nbconvert_exporter": "python",
   "pygments_lexer": "ipython3",
   "version": "3.12.11"
  }
 },
 "nbformat": 4,
 "nbformat_minor": 5
}
