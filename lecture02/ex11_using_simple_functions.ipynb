{
 "cells": [
  {
   "cell_type": "markdown",
   "id": "28432ab2",
   "metadata": {},
   "source": [
    "# Using Simple Functions in Python\n",
    "\n",
    "This notebook demonstrates how to create and use simple functions in Python. Functions are reusable blocks of code that perform specific tasks, making your programs more organized, readable, and maintainable.\n",
    "\n",
    "## Learning Objectives\n",
    "- Understand what functions are and why they're important\n",
    "- Learn how to define functions using the `def` keyword\n",
    "- Practice creating functions with and without parameters\n",
    "- Understand return values and how to use them\n",
    "- Explore default parameter values\n",
    "- Apply functions to solve practical problems\n",
    "\n",
    "## What are Functions?\n",
    "\n",
    "Functions are named blocks of code that perform specific tasks. They allow you to:\n",
    "- **Organize code** into logical, reusable units\n",
    "- **Avoid repetition** by reusing code\n",
    "- **Make debugging easier** by isolating functionality\n",
    "- **Improve readability** with descriptive function names\n",
    "\n",
    "### Basic Function Syntax\n",
    "```python\n",
    "def function_name(parameters):\n",
    "    \"\"\"Optional docstring describing the function\"\"\"\n",
    "    # Function body\n",
    "    return value  # Optional return statement\n",
    "```"
   ]
  },
  {
   "cell_type": "markdown",
   "id": "a5ba72ef",
   "metadata": {},
   "source": [
    "## Example 1: Simple Function Without Parameters\n",
    "\n",
    "Let's start with the simplest type of function - one that takes no parameters and performs a basic action."
   ]
  },
  {
   "cell_type": "code",
   "execution_count": 1,
   "id": "307bea25",
   "metadata": {},
   "outputs": [
    {
     "name": "stdout",
     "output_type": "stream",
     "text": [
      "Calling the greet() function:\n",
      "Hello, World!\n",
      "\n",
      "Calling the function multiple times:\n",
      "Hello, World!\n",
      "Hello, World!\n",
      "Hello, World!\n"
     ]
    }
   ],
   "source": [
    "# Example 1: Defining and calling a simple function without parameters.\n",
    "def greet():\n",
    "    \"\"\"Prints a simple greeting message.\"\"\"\n",
    "    print(\"Hello, World!\")\n",
    "\n",
    "# Calling the greet function.\n",
    "print(\"Calling the greet() function:\")\n",
    "greet()\n",
    "\n",
    "# Functions can be called multiple times\n",
    "print(\"\\nCalling the function multiple times:\")\n",
    "for i in range(3):\n",
    "    greet()"
   ]
  },
  {
   "cell_type": "markdown",
   "id": "db570a9c",
   "metadata": {},
   "source": [
    "## Example 2: Functions with Parameters\n",
    "\n",
    "Parameters allow functions to accept input values, making them more flexible and reusable."
   ]
  },
  {
   "cell_type": "code",
   "execution_count": 2,
   "id": "93045cce",
   "metadata": {},
   "outputs": [
    {
     "name": "stdout",
     "output_type": "stream",
     "text": [
      "Calling greet_person() with different names:\n",
      "Hello, Alice!\n",
      "Hello, Bob!\n",
      "Hello, Charlie!\n",
      "Hello, Diana!\n"
     ]
    }
   ],
   "source": [
    "# Example 2: Defining a function with parameters.\n",
    "def greet_person(name):\n",
    "    \"\"\"\n",
    "    Prints a greeting message to a specific person.\n",
    "\n",
    "    Args:\n",
    "        name (str): The name of the person to greet.\n",
    "    \"\"\"\n",
    "    print(f\"Hello, {name}!\")\n",
    "\n",
    "# Calling the greet_person function with a parameter.\n",
    "print(\"Calling greet_person() with different names:\")\n",
    "greet_person(\"Alice\")\n",
    "greet_person(\"Bob\")\n",
    "greet_person(\"Charlie\")\n",
    "\n",
    "# You can also use variables as arguments\n",
    "student_name = \"Diana\"\n",
    "greet_person(student_name)"
   ]
  },
  {
   "cell_type": "markdown",
   "id": "a4f43a48",
   "metadata": {},
   "source": [
    "## Example 3: Functions with Return Values\n",
    "\n",
    "Functions can return values using the `return` statement, allowing you to get results back from the function."
   ]
  },
  {
   "cell_type": "code",
   "execution_count": 3,
   "id": "53a920b5",
   "metadata": {},
   "outputs": [
    {
     "name": "stdout",
     "output_type": "stream",
     "text": [
      "The sum of 5 and 10 is: 15\n",
      "Double the sum: 20\n",
      "Sum of sums: 10\n"
     ]
    }
   ],
   "source": [
    "# Example 3: Defining a function with multiple parameters and a return value.\n",
    "def add_numbers(a, b):\n",
    "    \"\"\"\n",
    "    Adds two numbers and returns the result.\n",
    "\n",
    "    Args:\n",
    "        a (int): The first number.\n",
    "        b (int): The second number.\n",
    "\n",
    "    Returns:\n",
    "        int: The sum of the two numbers\n",
    "    \"\"\"\n",
    "    return a + b\n",
    "\n",
    "# Calling the add_numbers function and storing the result.\n",
    "result = add_numbers(5, 10)\n",
    "print(f\"The sum of 5 and 10 is: {result}\")\n",
    "\n",
    "# You can use the return value directly in expressions\n",
    "print(f\"Double the sum: {add_numbers(3, 7) * 2}\")\n",
    "\n",
    "# Or in other function calls\n",
    "print(f\"Sum of sums: {add_numbers(add_numbers(1, 2), add_numbers(3, 4))}\")"
   ]
  },
  {
   "cell_type": "markdown",
   "id": "686b1e02",
   "metadata": {},
   "source": [
    "## Example 4: Practical Function - Area Calculation\n",
    "\n",
    "Let's create a more practical function that calculates the area of a rectangle."
   ]
  },
  {
   "cell_type": "code",
   "execution_count": 4,
   "id": "590882a8",
   "metadata": {},
   "outputs": [
    {
     "name": "stdout",
     "output_type": "stream",
     "text": [
      "The area of a rectangle with width 5 and height 10 is: 50\n",
      "\n",
      "Calculating areas for multiple rectangles:\n",
      "Rectangle 3 × 4 = 12 square units\n",
      "Rectangle 7 × 2 = 14 square units\n",
      "Rectangle 5.5 × 3.2 = 17.6 square units\n"
     ]
    }
   ],
   "source": [
    "# Example 4: A function to calculate the area of a rectangle.\n",
    "def calculate_area(width, height):\n",
    "    \"\"\"\n",
    "    Calculates the area of a rectangle.\n",
    "\n",
    "    Args:\n",
    "        width (float): The width of the rectangle.\n",
    "        height (float): The height of the rectangle.\n",
    "    \n",
    "    Returns:\n",
    "        float: The area of the rectangle.\n",
    "    \"\"\"\n",
    "    return width * height\n",
    "\n",
    "# Calling the calculate_area function and printing the result.\n",
    "area = calculate_area(5, 10)\n",
    "print(f\"The area of a rectangle with width 5 and height 10 is: {area}\")\n",
    "\n",
    "# Let's calculate areas for different rectangles\n",
    "rectangles = [(3, 4), (7, 2), (5.5, 3.2)]\n",
    "print(\"\\nCalculating areas for multiple rectangles:\")\n",
    "for width, height in rectangles:\n",
    "    area = calculate_area(width, height)\n",
    "    print(f\"Rectangle {width} × {height} = {area} square units\")"
   ]
  },
  {
   "cell_type": "markdown",
   "id": "e21e0f9a",
   "metadata": {},
   "source": [
    "## Example 5: Functions with Default Parameters\n",
    "\n",
    "Default parameters allow you to specify default values for parameters, making functions more flexible to use."
   ]
  },
  {
   "cell_type": "code",
   "execution_count": 5,
   "id": "ad69442a",
   "metadata": {},
   "outputs": [
    {
     "name": "stdout",
     "output_type": "stream",
     "text": [
      "Using default parameter:\n",
      "Good morning, Alice!\n",
      "\n",
      "Overriding the default parameter:\n",
      "Good evening, Bob!\n",
      "\n",
      "More examples with different times:\n",
      "Good afternoon, Charlie!\n",
      "Good morning, Diana!\n"
     ]
    }
   ],
   "source": [
    "# Example 5: Using default parameter values.\n",
    "def greet_with_time_of_day(name, time_of_day=\"morning\"):\n",
    "    \"\"\"\n",
    "    Greets a person with a specific time of day.\n",
    "\n",
    "    Args:\n",
    "        name (str): The name of the person to greet.\n",
    "        time_of_day (str): The time of day (default is \"morning\").\n",
    "    \"\"\"\n",
    "    print(f\"Good {time_of_day}, {name}!\")\n",
    "\n",
    "# Calling the function with and without the second parameter.\n",
    "print(\"Using default parameter:\")\n",
    "greet_with_time_of_day(\"Alice\")          # Uses the default value \"morning\"\n",
    "\n",
    "print(\"\\nOverriding the default parameter:\")\n",
    "greet_with_time_of_day(\"Bob\", \"evening\") # Overrides the default value\n",
    "\n",
    "print(\"\\nMore examples with different times:\")\n",
    "greet_with_time_of_day(\"Charlie\", \"afternoon\")\n",
    "greet_with_time_of_day(\"Diana\")  # Uses default again"
   ]
  },
  {
   "cell_type": "markdown",
   "id": "ecca4632",
   "metadata": {},
   "source": [
    "## More Function Examples\n",
    "\n",
    "Let's explore additional function patterns and techniques that are commonly used."
   ]
  },
  {
   "cell_type": "code",
   "execution_count": 6,
   "id": "687f3d09",
   "metadata": {},
   "outputs": [
    {
     "name": "stdout",
     "output_type": "stream",
     "text": [
      "Circle with radius 5:\n",
      "  Area: 78.54\n",
      "  Circumference: 31.42\n",
      "\n",
      "Division examples:\n",
      "10 ÷ 2 = 5.0\n",
      "7 ÷ 3 = 2.33\n",
      "5 ÷ 0 = Error: Division by zero!\n"
     ]
    }
   ],
   "source": [
    "# Function that returns multiple values\n",
    "def get_circle_info(radius):\n",
    "    \"\"\"\n",
    "    Calculates area and circumference of a circle.\n",
    "    \n",
    "    Args:\n",
    "        radius (float): The radius of the circle.\n",
    "    \n",
    "    Returns:\n",
    "        tuple: (area, circumference)\n",
    "    \"\"\"\n",
    "    import math\n",
    "    area = math.pi * radius ** 2\n",
    "    circumference = 2 * math.pi * radius\n",
    "    return area, circumference\n",
    "\n",
    "# Using the function\n",
    "radius = 5\n",
    "area, circumference = get_circle_info(radius)\n",
    "print(f\"Circle with radius {radius}:\")\n",
    "print(f\"  Area: {area:.2f}\")\n",
    "print(f\"  Circumference: {circumference:.2f}\")\n",
    "\n",
    "# Function with multiple parameters and validation\n",
    "def divide_numbers(a, b):\n",
    "    \"\"\"\n",
    "    Divides two numbers with error checking.\n",
    "    \n",
    "    Args:\n",
    "        a (float): The dividend.\n",
    "        b (float): The divisor.\n",
    "    \n",
    "    Returns:\n",
    "        float or str: The result of division, or error message.\n",
    "    \"\"\"\n",
    "    if b == 0:\n",
    "        return \"Error: Division by zero!\"\n",
    "    return a / b\n",
    "\n",
    "# Testing the division function\n",
    "print(f\"\\nDivision examples:\")\n",
    "print(f\"10 ÷ 2 = {divide_numbers(10, 2)}\")\n",
    "print(f\"7 ÷ 3 = {divide_numbers(7, 3):.2f}\")\n",
    "print(f\"5 ÷ 0 = {divide_numbers(5, 0)}\")"
   ]
  },
  {
   "cell_type": "markdown",
   "id": "b8faec2d",
   "metadata": {},
   "source": [
    "## Function Documentation and Best Practices\n",
    "\n",
    "Good functions should be well-documented and follow Python conventions."
   ]
  },
  {
   "cell_type": "code",
   "execution_count": 7,
   "id": "6c36b6df",
   "metadata": {},
   "outputs": [
    {
     "name": "stdout",
     "output_type": "stream",
     "text": [
      "BMI Calculations:\n",
      "Metric: 22.86 (70kg, 1.75m)\n",
      "Imperial: 22.74 (154lbs, 69in)\n",
      "Error caught: Weight and height must be positive numbers\n"
     ]
    }
   ],
   "source": [
    "# Example of well-documented function following best practices\n",
    "def calculate_bmi(weight, height, unit_system=\"metric\"):\n",
    "    \"\"\"\n",
    "    Calculate Body Mass Index (BMI) for a person.\n",
    "    \n",
    "    Args:\n",
    "        weight (float): Person's weight (kg for metric, lbs for imperial)\n",
    "        height (float): Person's height (meters for metric, inches for imperial)\n",
    "        unit_system (str): Either \"metric\" or \"imperial\" (default: \"metric\")\n",
    "    \n",
    "    Returns:\n",
    "        float: BMI value rounded to 2 decimal places\n",
    "    \n",
    "    Raises:\n",
    "        ValueError: If weight or height is not positive\n",
    "    \"\"\"\n",
    "    # Input validation\n",
    "    if weight <= 0 or height <= 0:\n",
    "        raise ValueError(\"Weight and height must be positive numbers\")\n",
    "    \n",
    "    # Convert imperial to metric if needed\n",
    "    if unit_system.lower() == \"imperial\":\n",
    "        weight = weight * 0.453592  # lbs to kg\n",
    "        height = height * 0.0254    # inches to meters\n",
    "    elif unit_system.lower() != \"metric\":\n",
    "        raise ValueError(\"Unit system must be 'metric' or 'imperial'\")\n",
    "    \n",
    "    # Calculate BMI\n",
    "    bmi = weight / (height ** 2)\n",
    "    return round(bmi, 2)\n",
    "\n",
    "# Test the BMI function\n",
    "print(\"BMI Calculations:\")\n",
    "print(f\"Metric: {calculate_bmi(70, 1.75)} (70kg, 1.75m)\")\n",
    "print(f\"Imperial: {calculate_bmi(154, 69, 'imperial')} (154lbs, 69in)\")\n",
    "\n",
    "# Test error handling\n",
    "try:\n",
    "    calculate_bmi(-70, 1.75)\n",
    "except ValueError as e:\n",
    "    print(f\"Error caught: {e}\")"
   ]
  },
  {
   "cell_type": "markdown",
   "id": "9649aa61",
   "metadata": {},
   "source": [
    "## Practical Application: Simple Calculator\n",
    "\n",
    "Let's create a set of functions that work together to build a simple calculator."
   ]
  },
  {
   "cell_type": "code",
   "execution_count": 8,
   "id": "143f757f",
   "metadata": {},
   "outputs": [
    {
     "name": "stdout",
     "output_type": "stream",
     "text": [
      "=== Simple Calculator Demo ===\n",
      "10 + 5 = 15\n",
      "10 - 5 = 5\n",
      "10 * 5 = 50\n",
      "10 / 5 = 2.0\n",
      "10 / 0 = Error: Cannot divide by zero!\n",
      "10 % 5 = Error: Invalid operation!\n"
     ]
    }
   ],
   "source": [
    "# Practical application: Simple calculator using functions\n",
    "def add(x, y):\n",
    "    \"\"\"Add two numbers.\"\"\"\n",
    "    return x + y\n",
    "\n",
    "def subtract(x, y):\n",
    "    \"\"\"Subtract two numbers.\"\"\"\n",
    "    return x - y\n",
    "\n",
    "def multiply(x, y):\n",
    "    \"\"\"Multiply two numbers.\"\"\"\n",
    "    return x * y\n",
    "\n",
    "def divide(x, y):\n",
    "    \"\"\"Divide two numbers.\"\"\"\n",
    "    if y == 0:\n",
    "        return \"Error: Cannot divide by zero!\"\n",
    "    return x / y\n",
    "\n",
    "def calculate(operation, x, y):\n",
    "    \"\"\"\n",
    "    Perform a calculation based on the operation.\n",
    "    \n",
    "    Args:\n",
    "        operation (str): The operation to perform (+, -, *, /)\n",
    "        x (float): First number\n",
    "        y (float): Second number\n",
    "    \n",
    "    Returns:\n",
    "        float or str: Result of the calculation or error message\n",
    "    \"\"\"\n",
    "    if operation == '+':\n",
    "        return add(x, y)\n",
    "    elif operation == '-':\n",
    "        return subtract(x, y)\n",
    "    elif operation == '*':\n",
    "        return multiply(x, y)\n",
    "    elif operation == '/':\n",
    "        return divide(x, y)\n",
    "    else:\n",
    "        return \"Error: Invalid operation!\"\n",
    "\n",
    "# Test the calculator functions\n",
    "print(\"=== Simple Calculator Demo ===\")\n",
    "operations = [\n",
    "    ('+', 10, 5),\n",
    "    ('-', 10, 5),\n",
    "    ('*', 10, 5),\n",
    "    ('/', 10, 5),\n",
    "    ('/', 10, 0),\n",
    "    ('%', 10, 5)  # Invalid operation\n",
    "]\n",
    "\n",
    "for op, num1, num2 in operations:\n",
    "    result = calculate(op, num1, num2)\n",
    "    print(f\"{num1} {op} {num2} = {result}\")"
   ]
  },
  {
   "cell_type": "markdown",
   "id": "a52aa4c5",
   "metadata": {},
   "source": [
    "## Function Scope and Variables\n",
    "\n",
    "Understanding variable scope is important when working with functions."
   ]
  },
  {
   "cell_type": "code",
   "execution_count": 9,
   "id": "9347d651",
   "metadata": {},
   "outputs": [
    {
     "name": "stdout",
     "output_type": "stream",
     "text": [
      "Before function call:\n",
      "  Original value: Original value\n",
      "Inside function:\n",
      "  Parameter: Original value\n",
      "  Local variable: I'm local!\n",
      "  Global variable: I'm global!\n",
      "  Modified parameter: Modified parameter\n",
      "\n",
      "After function call:\n",
      "  Original value: Original value\n"
     ]
    }
   ],
   "source": [
    "# Demonstrating variable scope\n",
    "global_variable = \"I'm global!\"\n",
    "\n",
    "def scope_demo(parameter):\n",
    "    \"\"\"Demonstrates different variable scopes.\"\"\"\n",
    "    local_variable = \"I'm local!\"\n",
    "    \n",
    "    print(f\"Inside function:\")\n",
    "    print(f\"  Parameter: {parameter}\")\n",
    "    print(f\"  Local variable: {local_variable}\")\n",
    "    print(f\"  Global variable: {global_variable}\")\n",
    "    \n",
    "    # Modifying the parameter doesn't affect the original variable\n",
    "    parameter = \"Modified parameter\"\n",
    "    print(f\"  Modified parameter: {parameter}\")\n",
    "\n",
    "# Test scope\n",
    "original_value = \"Original value\"\n",
    "print(\"Before function call:\")\n",
    "print(f\"  Original value: {original_value}\")\n",
    "\n",
    "scope_demo(original_value)\n",
    "\n",
    "print(\"\\nAfter function call:\")\n",
    "print(f\"  Original value: {original_value}\")  # Unchanged!\n",
    "\n",
    "# Note: local_variable is not accessible here\n",
    "# print(local_variable)  # This would cause an error"
   ]
  },
  {
   "cell_type": "markdown",
   "id": "efa72f5f",
   "metadata": {},
   "source": [
    "## Key Takeaways\n",
    "\n",
    "1. **Function Definition**: Use `def function_name(parameters):` to define functions\n",
    "2. **Parameters**: Allow functions to accept input values\n",
    "3. **Return Values**: Use `return` to send results back from functions\n",
    "4. **Default Parameters**: Provide default values for optional parameters\n",
    "5. **Documentation**: Use docstrings to explain what functions do\n",
    "6. **Scope**: Variables inside functions are local to that function\n",
    "7. **Reusability**: Functions can be called multiple times with different arguments\n",
    "\n",
    "## Benefits of Using Functions\n",
    "\n",
    "- **Code Organization**: Break complex problems into smaller, manageable pieces\n",
    "- **Reusability**: Write once, use many times\n",
    "- **Testing**: Easier to test individual functions\n",
    "- **Debugging**: Isolate problems to specific functions\n",
    "- **Collaboration**: Team members can work on different functions\n",
    "- **Maintenance**: Changes to functionality are localized\n",
    "\n",
    "## Best Practices\n",
    "\n",
    "1. **Use descriptive names** that explain what the function does\n",
    "2. **Keep functions focused** on a single task\n",
    "3. **Write docstrings** to document parameters and return values\n",
    "4. **Use meaningful parameter names**\n",
    "5. **Handle edge cases** and validate inputs when necessary\n",
    "6. **Return consistent data types**\n",
    "7. **Keep functions reasonably short** (generally under 20-30 lines)\n",
    "\n",
    "## Practice Ideas\n",
    "\n",
    "Try creating functions for:\n",
    "- Converting temperatures between Celsius and Fahrenheit\n",
    "- Calculating compound interest\n",
    "- Determining if a number is prime\n",
    "- Finding the maximum value in a list\n",
    "- Validating email addresses\n",
    "- Generating random passwords\n",
    "- Creating simple text formatting functions\n",
    "\n",
    "Functions are fundamental building blocks of good programming. Master them, and you'll write cleaner, more maintainable code!"
   ]
  }
 ],
 "metadata": {
  "kernelspec": {
   "display_name": "damin2025",
   "language": "python",
   "name": "python3"
  },
  "language_info": {
   "codemirror_mode": {
    "name": "ipython",
    "version": 3
   },
   "file_extension": ".py",
   "mimetype": "text/x-python",
   "name": "python",
   "nbconvert_exporter": "python",
   "pygments_lexer": "ipython3",
   "version": "3.12.11"
  }
 },
 "nbformat": 4,
 "nbformat_minor": 5
}
