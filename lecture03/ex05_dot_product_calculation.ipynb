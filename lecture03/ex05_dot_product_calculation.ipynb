{
 "cells": [
  {
   "cell_type": "markdown",
   "id": "ef114ec0",
   "metadata": {},
   "source": [
    "# Dot Product Calculation and Angle Between Vectors\n",
    "\n",
    "This notebook demonstrates how to calculate the dot product of two vectors and the angle between them using basic Python math functions.\n",
    "\n",
    "**Learning Objectives:**\n",
    "- Calculate the dot product of two vectors\n",
    "- Compute vector magnitudes\n",
    "- Find the angle between vectors in radians and degrees\n",
    "- Understand the geometric meaning of the dot product\n",
    "\n",
    "**Prerequisites:**\n",
    "- Basic knowledge of Python\n",
    "- Familiarity with vector operations"
   ]
  },
  {
   "cell_type": "code",
   "execution_count": 1,
   "id": "d63da8f0",
   "metadata": {},
   "outputs": [],
   "source": [
    "# Import the required libraries\n",
    "import math"
   ]
  },
  {
   "cell_type": "markdown",
   "id": "33a2fc9b",
   "metadata": {},
   "source": [
    "## Step 1: Define the Vectors\n",
    "We define two 2D vectors as tuples."
   ]
  },
  {
   "cell_type": "code",
   "execution_count": 2,
   "id": "dbaba92b",
   "metadata": {},
   "outputs": [],
   "source": [
    "# Define the vectors\n",
    "u = (2, 3)\n",
    "v = (4, 1)"
   ]
  },
  {
   "cell_type": "markdown",
   "id": "f726836b",
   "metadata": {},
   "source": [
    "## Step 2: Calculate the Dot Product\n",
    "The dot product is calculated as the sum of the products of corresponding components."
   ]
  },
  {
   "cell_type": "code",
   "execution_count": 3,
   "id": "78ea58fe",
   "metadata": {},
   "outputs": [
    {
     "name": "stdout",
     "output_type": "stream",
     "text": [
      "Dot product (u · v): 11.\n"
     ]
    }
   ],
   "source": [
    "# Calculate the dot product of u and v\n",
    "DOT_PRODUCT = u[0] * v[0] + u[1] * v[1]\n",
    "print(f\"Dot product (u · v): {DOT_PRODUCT}.\")"
   ]
  },
  {
   "cell_type": "markdown",
   "id": "c8a6ec66",
   "metadata": {},
   "source": [
    "## Step 3: Calculate the Magnitudes\n",
    "The magnitude (length) of a vector is calculated using the Pythagorean theorem."
   ]
  },
  {
   "cell_type": "code",
   "execution_count": 4,
   "id": "0265abdc",
   "metadata": {},
   "outputs": [
    {
     "name": "stdout",
     "output_type": "stream",
     "text": [
      "Magnitude of u: 3.605551275463989.\n",
      "Magnitude of v: 4.123105625617661.\n"
     ]
    }
   ],
   "source": [
    "# Calculate the magnitudes of u and v\n",
    "magnitude_u = math.sqrt(u[0]**2 + u[1]**2)\n",
    "magnitude_v = math.sqrt(v[0]**2 + v[1]**2)\n",
    "print(f\"Magnitude of u: {magnitude_u}.\")\n",
    "print(f\"Magnitude of v: {magnitude_v}.\")"
   ]
  },
  {
   "cell_type": "markdown",
   "id": "118f67b4",
   "metadata": {},
   "source": [
    "## Step 4: Calculate cos(θ) and the Angle\n",
    "We use the dot product and magnitudes to find the cosine of the angle between the vectors, then convert to radians and degrees."
   ]
  },
  {
   "cell_type": "code",
   "execution_count": 5,
   "id": "055439a1",
   "metadata": {},
   "outputs": [
    {
     "name": "stdout",
     "output_type": "stream",
     "text": [
      "cos(θ): 0.7399400733959438.\n",
      "θ in radians: 0.7378150601204648.\n",
      "θ in degrees: 42.27368900609373.\n"
     ]
    }
   ],
   "source": [
    "# Use the equation to solve for cos(theta)\n",
    "cos_theta = DOT_PRODUCT / (magnitude_u * magnitude_v)\n",
    "print(f\"cos(θ): {cos_theta}.\")\n",
    "\n",
    "# Calculate the angle theta in radians and degrees\n",
    "theta_radians = math.acos(cos_theta)\n",
    "theta_degrees = math.degrees(theta_radians)\n",
    "print(f\"θ in radians: {theta_radians}.\")\n",
    "print(f\"θ in degrees: {theta_degrees}.\")"
   ]
  },
  {
   "cell_type": "markdown",
   "id": "d24542b0",
   "metadata": {},
   "source": [
    "## Summary\n",
    "- We calculated the dot product and angle between two vectors.\n",
    "- The dot product is a measure of how much one vector extends in the direction of another.\n",
    "- The angle calculation helps interpret the geometric relationship between vectors.\n",
    "- These calculations are fundamental in linear algebra and data science."
   ]
  }
 ],
 "metadata": {
  "kernelspec": {
   "display_name": "damin2025",
   "language": "python",
   "name": "python3"
  },
  "language_info": {
   "codemirror_mode": {
    "name": "ipython",
    "version": 3
   },
   "file_extension": ".py",
   "mimetype": "text/x-python",
   "name": "python",
   "nbconvert_exporter": "python",
   "pygments_lexer": "ipython3",
   "version": "3.12.11"
  }
 },
 "nbformat": 4,
 "nbformat_minor": 5
}
