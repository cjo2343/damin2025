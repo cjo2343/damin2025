{
 "cells": [
  {
   "cell_type": "markdown",
   "id": "591dd60f",
   "metadata": {},
   "source": [
    "# YData Profiling: Automated Data Analysis Reports\n",
    "\n",
    "## Learning Objectives\n",
    "By the end of this notebook, you will understand:\n",
    "- How to use the ydata_profiling library for automated exploratory data analysis\n",
    "- How to generate comprehensive HTML profiling reports\n",
    "- The types of insights and statistics provided by automated profiling\n",
    "- Best practices for interpreting profiling results\n",
    "- When and why to use automated profiling in your data science workflow\n",
    "\n",
    "## Introduction\n",
    "The ydata_profiling library (formerly pandas_profiling) is a powerful tool that automatically generates comprehensive exploratory data analysis reports. With just a few lines of code, you can:\n",
    "\n",
    "- **Understand data structure**: Get detailed information about data types, missing values, and data quality\n",
    "- **Identify patterns**: Discover correlations, distributions, and potential outliers\n",
    "- **Save time**: Generate extensive analysis reports without writing custom visualization code\n",
    "- **Share insights**: Create professional HTML reports for stakeholders\n",
    "\n",
    "This notebook demonstrates how to create profiling reports using the classic Iris dataset."
   ]
  },
  {
   "cell_type": "code",
   "execution_count": 1,
   "id": "bcb8a1be",
   "metadata": {},
   "outputs": [
    {
     "name": "stderr",
     "output_type": "stream",
     "text": [
      "/Users/fabricio/.miniforge3/envs/damin2025/lib/python3.12/site-packages/tqdm/auto.py:21: TqdmWarning: IProgress not found. Please update jupyter and ipywidgets. See https://ipywidgets.readthedocs.io/en/stable/user_install.html\n",
      "  from .autonotebook import tqdm as notebook_tqdm\n"
     ]
    },
    {
     "data": {
      "text/html": [
       "\n",
       "            <div>\n",
       "                <ins><a href=\"https://ydata.ai/register\">Upgrade to ydata-sdk</a></ins>\n",
       "                <p>\n",
       "                    Improve your data and profiling with ydata-sdk, featuring data quality scoring, redundancy detection, outlier identification, text validation, and synthetic data generation.\n",
       "                </p>\n",
       "            </div>\n",
       "            "
      ],
      "text/plain": [
       "<IPython.core.display.HTML object>"
      ]
     },
     "metadata": {},
     "output_type": "display_data"
    },
    {
     "name": "stdout",
     "output_type": "stream",
     "text": [
      "Libraries imported successfully!\n",
      "YData Profiling enables automated exploratory data analysis\n",
      "Perfect for getting quick insights into any dataset\n"
     ]
    }
   ],
   "source": [
    "# Import the required libraries.\n",
    "import plotly.express as px\n",
    "\n",
    "from ydata_profiling import ProfileReport\n",
    "\n",
    "print(\"Libraries imported successfully!\")\n",
    "print(\"YData Profiling enables automated exploratory data analysis\")\n",
    "print(\"Perfect for getting quick insights into any dataset\")"
   ]
  },
  {
   "cell_type": "markdown",
   "id": "fb2c1b58",
   "metadata": {},
   "source": [
    "## Step 1: Load the Dataset\n",
    "\n",
    "Let's load the famous Iris dataset, which contains measurements of iris flowers from three different species."
   ]
  },
  {
   "cell_type": "code",
   "execution_count": 2,
   "id": "aff1d5c3",
   "metadata": {},
   "outputs": [
    {
     "name": "stdout",
     "output_type": "stream",
     "text": [
      "Iris Dataset Loaded Successfully!\n",
      "Dataset shape: (150, 6)\n",
      "Columns: ['sepal_length', 'sepal_width', 'petal_length', 'petal_width', 'species', 'species_id']\n",
      "\n",
      "First few rows:\n",
      "   sepal_length  sepal_width  petal_length  petal_width species  species_id\n",
      "0           5.1          3.5           1.4          0.2  setosa           1\n",
      "1           4.9          3.0           1.4          0.2  setosa           1\n",
      "2           4.7          3.2           1.3          0.2  setosa           1\n",
      "3           4.6          3.1           1.5          0.2  setosa           1\n",
      "4           5.0          3.6           1.4          0.2  setosa           1\n",
      "\n",
      "Dataset info:\n",
      "- 150 samples\n",
      "- 6 features\n",
      "- Species: ['setosa' 'versicolor' 'virginica']\n"
     ]
    }
   ],
   "source": [
    "# Load the dataset\n",
    "df = px.data.iris()\n",
    "\n",
    "print(\"Iris Dataset Loaded Successfully!\")\n",
    "print(f\"Dataset shape: {df.shape}\")\n",
    "print(f\"Columns: {list(df.columns)}\")\n",
    "print(\"\\nFirst few rows:\")\n",
    "print(df.head())\n",
    "print(f\"\\nDataset info:\")\n",
    "print(f\"- {df.shape[0]} samples\")\n",
    "print(f\"- {df.shape[1]} features\")\n",
    "print(f\"- Species: {df['species'].unique()}\")"
   ]
  },
  {
   "cell_type": "markdown",
   "id": "72f945ba",
   "metadata": {},
   "source": [
    "## Step 2: Generate the Profiling Report\n",
    "\n",
    "Now let's create a comprehensive profiling report using the exact original configuration."
   ]
  },
  {
   "cell_type": "code",
   "execution_count": 3,
   "id": "963a732d",
   "metadata": {},
   "outputs": [
    {
     "name": "stdout",
     "output_type": "stream",
     "text": [
      "Profiling report generated successfully!\n",
      "Report configuration:\n",
      "- Title: 'Iris Dataset Profiling Report'\n",
      "- Explorative mode: True (includes advanced analysis)\n",
      "- Ready to save as HTML file\n"
     ]
    }
   ],
   "source": [
    "# Create a profile report\n",
    "profile = ProfileReport(\n",
    "    df, title=\"Iris Dataset Profiling Report\", explorative=True)\n",
    "\n",
    "print(\"Profiling report generated successfully!\")\n",
    "print(\"Report configuration:\")\n",
    "print(\"- Title: 'Iris Dataset Profiling Report'\")\n",
    "print(\"- Explorative mode: True (includes advanced analysis)\")\n",
    "print(\"- Ready to save as HTML file\")"
   ]
  },
  {
   "cell_type": "markdown",
   "id": "70376357",
   "metadata": {},
   "source": [
    "## Step 3: Save the Report\n",
    "\n",
    "Let's save the report to an HTML file exactly as in the original script."
   ]
  },
  {
   "cell_type": "code",
   "execution_count": 4,
   "id": "b7dfd3bc",
   "metadata": {},
   "outputs": [
    {
     "name": "stderr",
     "output_type": "stream",
     "text": [
      "100%|██████████| 6/6 [00:00<00:00, 1225.21it/s]<00:00, 140.85it/s, Describe variable: species_id]\n",
      "Summarize dataset: 100%|██████████| 31/31 [00:01<00:00, 29.69it/s, Completed]                         \n",
      "Generate report structure: 100%|██████████| 1/1 [00:00<00:00,  1.32it/s]\n",
      "Render HTML: 100%|██████████| 1/1 [00:00<00:00,  2.14it/s]\n",
      "Export report to file: 100%|██████████| 1/1 [00:00<00:00, 803.20it/s]"
     ]
    },
    {
     "name": "stdout",
     "output_type": "stream",
     "text": [
      "✅ Report saved successfully!\n",
      "📁 File: iris_dataset_report.html\n",
      "🌐 Open this file in your web browser to view the complete analysis\n",
      "\n",
      "The report includes:\n",
      "- Dataset overview and statistics\n",
      "- Variable distributions and summaries\n",
      "- Correlation analysis\n",
      "- Missing value analysis\n",
      "- Data quality warnings\n",
      "- Sample data preview\n"
     ]
    },
    {
     "name": "stderr",
     "output_type": "stream",
     "text": [
      "\n"
     ]
    }
   ],
   "source": [
    "# Save the report to an HTML file\n",
    "profile.to_file(\"iris_dataset_report.html\")\n",
    "\n",
    "print(\"✅ Report saved successfully!\")\n",
    "print(\"📁 File: iris_dataset_report.html\")\n",
    "print(\"🌐 Open this file in your web browser to view the complete analysis\")\n",
    "print(\"\\nThe report includes:\")\n",
    "print(\"- Dataset overview and statistics\")\n",
    "print(\"- Variable distributions and summaries\")\n",
    "print(\"- Correlation analysis\")\n",
    "print(\"- Missing value analysis\") \n",
    "print(\"- Data quality warnings\")\n",
    "print(\"- Sample data preview\")"
   ]
  },
  {
   "cell_type": "markdown",
   "id": "d8dc8283",
   "metadata": {},
   "source": [
    "## Step 4: Understanding the Profiling Report\n",
    "\n",
    "Let's explore what information is included in the generated report."
   ]
  },
  {
   "cell_type": "code",
   "execution_count": 5,
   "id": "7ba0011d",
   "metadata": {},
   "outputs": [
    {
     "name": "stdout",
     "output_type": "stream",
     "text": [
      "PROFILING REPORT CONTENTS OVERVIEW\n",
      "==================================================\n",
      "\n",
      "1. OVERVIEW SECTION:\n",
      "   - Dataset dimensions\n",
      "   - Variable types summary\n",
      "   - Memory usage\n",
      "   - Data quality warnings\n",
      "\n",
      "2. VARIABLES SECTION:\n",
      "   sepal_length:\n",
      "     - Type: Numerical\n",
      "     - Mean: 5.84\n",
      "     - Std: 0.83\n",
      "     - Range: 4.30 to 7.90\n",
      "   sepal_width:\n",
      "     - Type: Numerical\n",
      "     - Mean: 3.05\n",
      "     - Std: 0.43\n",
      "     - Range: 2.00 to 4.40\n",
      "   petal_length:\n",
      "     - Type: Numerical\n",
      "     - Mean: 3.76\n",
      "     - Std: 1.76\n",
      "     - Range: 1.00 to 6.90\n",
      "   petal_width:\n",
      "     - Type: Numerical\n",
      "     - Mean: 1.20\n",
      "     - Std: 0.76\n",
      "     - Range: 0.10 to 2.50\n",
      "   species:\n",
      "     - Type: Categorical\n",
      "     - Unique values: 3\n",
      "     - Most frequent: setosa\n",
      "   species_id:\n",
      "     - Type: Numerical\n",
      "     - Mean: 2.00\n",
      "     - Std: 0.82\n",
      "     - Range: 1.00 to 3.00\n",
      "\n",
      "3. CORRELATIONS SECTION:\n",
      "   - Pearson correlation matrix\n",
      "   - Spearman correlation matrix\n",
      "   - Kendall correlation matrix\n",
      "\n",
      "4. MISSING VALUES SECTION:\n",
      "   - Total missing values: 0\n",
      "   - Missing value patterns\n",
      "\n",
      "5. SAMPLE SECTION:\n",
      "   - First and last rows preview\n",
      "   - Random sample preview\n"
     ]
    }
   ],
   "source": [
    "# Display basic information that would be in the report\n",
    "print(\"PROFILING REPORT CONTENTS OVERVIEW\")\n",
    "print(\"=\" * 50)\n",
    "\n",
    "print(\"\\n1. OVERVIEW SECTION:\")\n",
    "print(\"   - Dataset dimensions\")\n",
    "print(\"   - Variable types summary\")\n",
    "print(\"   - Memory usage\")\n",
    "print(\"   - Data quality warnings\")\n",
    "\n",
    "print(\"\\n2. VARIABLES SECTION:\")\n",
    "for col in df.columns:\n",
    "    print(f\"   {col}:\")\n",
    "    if df[col].dtype == 'object':\n",
    "        print(f\"     - Type: Categorical\")\n",
    "        print(f\"     - Unique values: {df[col].nunique()}\")\n",
    "        print(f\"     - Most frequent: {df[col].mode().iloc[0]}\")\n",
    "    else:\n",
    "        print(f\"     - Type: Numerical\")\n",
    "        print(f\"     - Mean: {df[col].mean():.2f}\")\n",
    "        print(f\"     - Std: {df[col].std():.2f}\")\n",
    "        print(f\"     - Range: {df[col].min():.2f} to {df[col].max():.2f}\")\n",
    "\n",
    "print(\"\\n3. CORRELATIONS SECTION:\")\n",
    "print(\"   - Pearson correlation matrix\")\n",
    "print(\"   - Spearman correlation matrix\")\n",
    "print(\"   - Kendall correlation matrix\")\n",
    "\n",
    "print(\"\\n4. MISSING VALUES SECTION:\")\n",
    "missing_info = df.isnull().sum()\n",
    "print(f\"   - Total missing values: {missing_info.sum()}\")\n",
    "print(\"   - Missing value patterns\")\n",
    "\n",
    "print(\"\\n5. SAMPLE SECTION:\")\n",
    "print(\"   - First and last rows preview\")\n",
    "print(\"   - Random sample preview\")"
   ]
  },
  {
   "cell_type": "markdown",
   "id": "76a8dbd3",
   "metadata": {},
   "source": [
    "## Step 5: Practical Applications and Benefits\n",
    "\n",
    "Let's understand when and why to use ydata_profiling in real-world scenarios."
   ]
  },
  {
   "cell_type": "code",
   "execution_count": 6,
   "id": "bb188bfe",
   "metadata": {},
   "outputs": [
    {
     "name": "stdout",
     "output_type": "stream",
     "text": [
      "YDATA PROFILING: PRACTICAL BENEFITS\n",
      "=============================================\n",
      "🚀 Speed Generate comprehensive EDA in seconds vs hours of manual work\n",
      "📊 Completeness Covers all standard EDA components automatically\n",
      "🔍 Quality Check Identifies data quality issues and anomalies\n",
      "📈 Visualizations Creates interactive charts and distributions\n",
      "📋 Documentation Produces shareable reports for stakeholders\n",
      "🎯 Focus Helps identify areas requiring deeper investigation\n",
      "⚠️ Warnings Flags potential problems (high cardinality, skewness, etc.)\n",
      "🔗 Correlations Reveals relationships between variables\n",
      "\n",
      "WHEN TO USE YDATA PROFILING:\n",
      "-----------------------------------\n",
      "1. Initial data exploration of new datasets\n",
      "2. Data quality assessment before modeling\n",
      "3. Generating reports for non-technical stakeholders\n",
      "4. Baseline documentation for data science projects\n",
      "5. Quick health checks of production data\n",
      "6. Comparative analysis between dataset versions\n",
      "\n",
      "REPORT CONFIGURATION OPTIONS:\n",
      "-----------------------------------\n",
      "• explorative=True: Enables detailed analysis and additional charts\n",
      "• minimal=True: Generates faster, lightweight reports\n",
      "• dark_mode=True: Creates dark-themed reports\n",
      "• orange_mode=True: Uses orange color scheme\n",
      "• sample={'head': 10}: Customizes sample size displayed\n"
     ]
    }
   ],
   "source": [
    "# Demonstrate the benefits of automated profiling\n",
    "print(\"YDATA PROFILING: PRACTICAL BENEFITS\")\n",
    "print(\"=\" * 45)\n",
    "\n",
    "benefits = [\n",
    "    (\"🚀 Speed\", \"Generate comprehensive EDA in seconds vs hours of manual work\"),\n",
    "    (\"📊 Completeness\", \"Covers all standard EDA components automatically\"),\n",
    "    (\"🔍 Quality Check\", \"Identifies data quality issues and anomalies\"),\n",
    "    (\"📈 Visualizations\", \"Creates interactive charts and distributions\"),\n",
    "    (\"📋 Documentation\", \"Produces shareable reports for stakeholders\"),\n",
    "    (\"🎯 Focus\", \"Helps identify areas requiring deeper investigation\"),\n",
    "    (\"⚠️ Warnings\", \"Flags potential problems (high cardinality, skewness, etc.)\"),\n",
    "    (\"🔗 Correlations\", \"Reveals relationships between variables\")\n",
    "]\n",
    "\n",
    "for benefit, description in benefits:\n",
    "    print(f\"{benefit} {description}\")\n",
    "\n",
    "print(f\"\\nWHEN TO USE YDATA PROFILING:\")\n",
    "print(\"-\" * 35)\n",
    "use_cases = [\n",
    "    \"Initial data exploration of new datasets\",\n",
    "    \"Data quality assessment before modeling\",\n",
    "    \"Generating reports for non-technical stakeholders\", \n",
    "    \"Baseline documentation for data science projects\",\n",
    "    \"Quick health checks of production data\",\n",
    "    \"Comparative analysis between dataset versions\"\n",
    "]\n",
    "\n",
    "for i, use_case in enumerate(use_cases, 1):\n",
    "    print(f\"{i}. {use_case}\")\n",
    "\n",
    "print(f\"\\nREPORT CONFIGURATION OPTIONS:\")\n",
    "print(\"-\" * 35)\n",
    "config_options = [\n",
    "    \"explorative=True: Enables detailed analysis and additional charts\",\n",
    "    \"minimal=True: Generates faster, lightweight reports\", \n",
    "    \"dark_mode=True: Creates dark-themed reports\",\n",
    "    \"orange_mode=True: Uses orange color scheme\",\n",
    "    \"sample={'head': 10}: Customizes sample size displayed\"\n",
    "]\n",
    "\n",
    "for option in config_options:\n",
    "    print(f\"• {option}\")"
   ]
  },
  {
   "cell_type": "markdown",
   "id": "734a81d0",
   "metadata": {},
   "source": [
    "## Key Takeaways\n",
    "\n",
    "### What YData Profiling Provides\n",
    "1. **Automated Analysis**: Comprehensive EDA with minimal code\n",
    "2. **Interactive Reports**: HTML reports with interactive visualizations\n",
    "3. **Data Quality Insights**: Automatic detection of potential issues\n",
    "4. **Professional Documentation**: Shareable reports for teams and stakeholders\n",
    "\n",
    "### Report Sections\n",
    "- **Overview**: High-level dataset summary and warnings\n",
    "- **Variables**: Detailed analysis of each column\n",
    "- **Interactions**: Correlation matrices and scatter plots  \n",
    "- **Correlations**: Multiple correlation coefficient types\n",
    "- **Missing Values**: Missing data patterns and heatmaps\n",
    "- **Sample**: Data previews and duplicates analysis\n",
    "\n",
    "### Best Practices\n",
    "- **Start with profiling**: Use it as the first step in any EDA process\n",
    "- **Configure appropriately**: Choose minimal=True for large datasets\n",
    "- **Review warnings**: Pay attention to data quality alerts\n",
    "- **Follow up**: Use profiling insights to guide deeper analysis\n",
    "- **Share results**: Use HTML reports for team collaboration\n",
    "\n",
    "### Next Steps After Profiling\n",
    "1. **Address data quality issues** identified in warnings\n",
    "2. **Investigate high correlations** for feature engineering\n",
    "3. **Handle missing values** based on patterns discovered\n",
    "4. **Focus analysis** on variables with interesting distributions\n",
    "5. **Plan modeling strategy** based on data characteristics\n",
    "\n",
    "YData Profiling is an essential tool for efficient and thorough exploratory data analysis, providing professional-quality insights with minimal effort."
   ]
  }
 ],
 "metadata": {
  "kernelspec": {
   "display_name": "damin2025",
   "language": "python",
   "name": "python3"
  },
  "language_info": {
   "codemirror_mode": {
    "name": "ipython",
    "version": 3
   },
   "file_extension": ".py",
   "mimetype": "text/x-python",
   "name": "python",
   "nbconvert_exporter": "python",
   "pygments_lexer": "ipython3",
   "version": "3.12.11"
  }
 },
 "nbformat": 4,
 "nbformat_minor": 5
}
