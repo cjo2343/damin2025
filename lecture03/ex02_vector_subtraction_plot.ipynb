{
 "cells": [
  {
   "cell_type": "markdown",
   "id": "375ef1a8",
   "metadata": {},
   "source": [
    "# Vector Subtraction and Visualization\n",
    "\n",
    "This notebook demonstrates how to plot two vectors and their difference using Matplotlib and NumPy. It also shows how to visualize vector projections with dashed lines and annotate key points.\n",
    "\n",
    "**Learning Objectives:**\n",
    "- Understand vector subtraction in 2D space\n",
    "- Visualize vectors and their difference\n",
    "- Annotate and interpret vector plots\n",
    "\n",
    "**Prerequisites:**\n",
    "- Basic knowledge of Python\n",
    "- Familiarity with NumPy and Matplotlib"
   ]
  },
  {
   "cell_type": "code",
   "execution_count": 1,
   "id": "8a29cdc4",
   "metadata": {},
   "outputs": [],
   "source": [
    "# Import the required libraries\n",
    "import matplotlib.pyplot as plt\n",
    "import numpy as np\n",
    "\n",
    "from IPython.display import display"
   ]
  },
  {
   "cell_type": "markdown",
   "id": "c828edf0",
   "metadata": {},
   "source": [
    "## Step 1: Define Colors and Vectors\n",
    "We define custom colors for each vector and set up the vectors to be plotted."
   ]
  },
  {
   "cell_type": "code",
   "execution_count": 2,
   "id": "4ff4535d",
   "metadata": {},
   "outputs": [],
   "source": [
    "# Define colors based on provided RGB values\n",
    "COLOR_U = \"#179E86\"  # RGB color for vector u\n",
    "COLOR_V = \"#F59B11\"  # RGB color for vector v\n",
    "COLOR_SUM = \"#C03B26\" # A distinct color for the difference vector\n",
    "COLOR_GRAY = \"#44546A\" # A gray color for the dashed lines\n",
    "\n",
    "# Define vectors u and v\n",
    "u = np.array([2, 3])\n",
    "v = np.array([3, 1])\n",
    "uv_diff = u - v  # Subtraction of vectors"
   ]
  },
  {
   "cell_type": "markdown",
   "id": "92a70c71",
   "metadata": {},
   "source": [
    "## Step 2: Plot Vectors and Their Difference\n",
    "We use Matplotlib's `quiver` function to plot the vectors from the origin."
   ]
  },
  {
   "cell_type": "code",
   "execution_count": 3,
   "id": "63cf1927",
   "metadata": {},
   "outputs": [],
   "source": [
    "%%capture\n",
    "\n",
    "# Create a figure and axis\n",
    "fig, ax = plt.subplots()\n",
    "\n",
    "# Plot vectors u and v\n",
    "ax.quiver(0, 0, u[0], u[1], angles=\"xy\", scale_units=\"xy\", scale=1, color=COLOR_U)\n",
    "ax.quiver(0, 0, v[0], v[1], angles=\"xy\", scale_units=\"xy\", scale=1, color=COLOR_V)\n",
    "ax.quiver(0, 0, uv_diff[0], uv_diff[1], angles=\"xy\", scale_units=\"xy\", scale=1, color=COLOR_SUM)"
   ]
  },
  {
   "cell_type": "markdown",
   "id": "085bf156",
   "metadata": {},
   "source": [
    "## Step 3: Add Dashed Projection Lines\n",
    "Dashed lines help visualize how the vectors relate to their difference."
   ]
  },
  {
   "cell_type": "code",
   "execution_count": 4,
   "id": "14a34fef",
   "metadata": {},
   "outputs": [
    {
     "data": {
      "text/plain": [
       "[<matplotlib.lines.Line2D at 0x1276a25a0>]"
      ]
     },
     "execution_count": 4,
     "metadata": {},
     "output_type": "execute_result"
    }
   ],
   "source": [
    "# Plot dashed lines to show the vector projections\n",
    "ax.plot([u[0], uv_diff[0]], [u[1], uv_diff[1]], color=COLOR_GRAY, linestyle=\"dashed\", linewidth=0.75)\n",
    "ax.plot([v[0], uv_diff[0]], [v[1], uv_diff[1]], color=COLOR_GRAY, linestyle=\"dashed\", linewidth=0.75)"
   ]
  },
  {
   "cell_type": "markdown",
   "id": "2e42d716",
   "metadata": {},
   "source": [
    "## Step 4: Annotate Key Points\n",
    "We mark and label the endpoints of each vector for clarity."
   ]
  },
  {
   "cell_type": "code",
   "execution_count": 5,
   "id": "e6b04fbd",
   "metadata": {},
   "outputs": [
    {
     "data": {
      "text/plain": [
       "Text(-1, 2.1, 'u-v=(-1, 2)')"
      ]
     },
     "execution_count": 5,
     "metadata": {},
     "output_type": "execute_result"
    }
   ],
   "source": [
    "# Mark the points (u1, u2), (v1, v2), and (u1-v1, u2-v2)\n",
    "ax.scatter([u[0], v[0], uv_diff[0]], [u[1], v[1], uv_diff[1]], color=\"black\")\n",
    "ax.text(u[0], u[1] + 0.1, f\"u=({u[0]}, {u[1]})\", fontsize=10, ha=\"right\")\n",
    "ax.text(v[0], v[1] + 0.1, f\"v=({v[0]}, {v[1]})\", fontsize=10, ha=\"right\")\n",
    "ax.text(uv_diff[0], uv_diff[1] + 0.1, f\"u-v=({uv_diff[0]}, {uv_diff[1]})\", fontsize=10, ha=\"left\")"
   ]
  },
  {
   "cell_type": "markdown",
   "id": "b19fd813",
   "metadata": {},
   "source": [
    "## Step 5: Final Plot Adjustments\n",
    "Set axis limits, labels, grid, and aspect ratio for a clear plot."
   ]
  },
  {
   "cell_type": "code",
   "execution_count": 6,
   "id": "3a149bb2",
   "metadata": {},
   "outputs": [
    {
     "data": {
      "image/png": "[encoded data removed]",
      "text/plain": [
       "<Figure size 640x480 with 1 Axes>"
      ]
     },
     "metadata": {},
     "output_type": "display_data"
    },
    {
     "data": {
      "text/plain": [
       "<Figure size 640x480 with 0 Axes>"
      ]
     },
     "metadata": {},
     "output_type": "display_data"
    }
   ],
   "source": [
    "# Set labels and limits\n",
    "ax.set_xlim(-3, 5)\n",
    "ax.set_ylim(-1, 5)\n",
    "ax.set_xlabel(\"x\")\n",
    "ax.set_ylabel(\"y\")\n",
    "ax.grid(True)\n",
    "\n",
    "# Ensure the aspect ratio is equal\n",
    "ax.set_aspect(\"equal\")\n",
    "\n",
    "# Show the plot\n",
    "plt.tight_layout()\n",
    "display(fig)"
   ]
  },
  {
   "cell_type": "markdown",
   "id": "ba07b794",
   "metadata": {},
   "source": [
    "## Summary\n",
    "- We visualized vector subtraction in 2D using Matplotlib.\n",
    "- Dashed lines and annotations help interpret the result.\n",
    "- This technique is useful for teaching vector operations and linear algebra concepts."
   ]
  }
 ],
 "metadata": {
  "kernelspec": {
   "display_name": "damin2025",
   "language": "python",
   "name": "python3"
  },
  "language_info": {
   "codemirror_mode": {
    "name": "ipython",
    "version": 3
   },
   "file_extension": ".py",
   "mimetype": "text/x-python",
   "name": "python",
   "nbconvert_exporter": "python",
   "pygments_lexer": "ipython3",
   "version": "3.12.11"
  }
 },
 "nbformat": 4,
 "nbformat_minor": 5
}
