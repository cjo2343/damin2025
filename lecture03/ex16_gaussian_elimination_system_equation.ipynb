{
 "cells": [
  {
   "cell_type": "markdown",
   "id": "37dac79b",
   "metadata": {},
   "source": [
    "# Solving a System of Linear Equations by Gaussian Elimination\n",
    "\n",
    "This notebook demonstrates how to solve a system of two linear equations using Gaussian elimination with NumPy. Each step is explained and shown in code and output.\n",
    "\n",
    "**Learning Objectives:**\n",
    "- Understand the Gaussian elimination method for solving systems of equations\n",
    "- Use NumPy to perform matrix operations in Python\n",
    "- Interpret step-by-step solutions\n",
    "\n",
    "**Prerequisites:**\n",
    "- Basic Python\n",
    "- Familiarity with matrices and linear algebra"
   ]
  },
  {
   "cell_type": "code",
   "execution_count": 1,
   "id": "60cc812f",
   "metadata": {},
   "outputs": [],
   "source": [
    "# Import the required libraries\n",
    "import numpy as np"
   ]
  },
  {
   "cell_type": "markdown",
   "id": "56a3a2d4",
   "metadata": {},
   "source": [
    "## Step 1: Define the Augmented Matrix\n",
    "We define the augmented matrix [A|b] for the system."
   ]
  },
  {
   "cell_type": "code",
   "execution_count": 2,
   "id": "a7a8815b",
   "metadata": {},
   "outputs": [
    {
     "data": {
      "text/plain": [
       "array([[ 2.,  3.,  5.],\n",
       "       [ 4., -1.,  6.]])"
      ]
     },
     "execution_count": 2,
     "metadata": {},
     "output_type": "execute_result"
    }
   ],
   "source": [
    "# Define the augmented matrix [A|b]\n",
    "augmented_matrix = np.array([[2, 3, 5],\n",
    "                             [4, -1, 6]], dtype=float)\n",
    "augmented_matrix"
   ]
  },
  {
   "cell_type": "markdown",
   "id": "feb311b3",
   "metadata": {},
   "source": [
    "## Step 2: Forward Elimination Process\n",
    "We perform forward elimination to transform the matrix into upper triangular form."
   ]
  },
  {
   "cell_type": "code",
   "execution_count": 3,
   "id": "8945517d",
   "metadata": {},
   "outputs": [
    {
     "data": {
      "text/plain": [
       "array([[ 1.        ,  1.5       ,  2.5       ],\n",
       "       [-0.        ,  1.        ,  0.57142857]])"
      ]
     },
     "execution_count": 3,
     "metadata": {},
     "output_type": "execute_result"
    }
   ],
   "source": [
    "# Forward elimination process\n",
    "rows, cols = augmented_matrix.shape\n",
    "for i in range(rows):\n",
    "    # Normalize the current row by dividing by the diagonal element\n",
    "    augmented_matrix[i] = augmented_matrix[i] / augmented_matrix[i][i]\n",
    "    # Eliminate the current variable from the subsequent rows\n",
    "    for j in range(i + 1, rows):\n",
    "        augmented_matrix[j] = augmented_matrix[j] - augmented_matrix[j][i] * augmented_matrix[i]\n",
    "augmented_matrix"
   ]
  },
  {
   "cell_type": "markdown",
   "id": "35c55ae8",
   "metadata": {},
   "source": [
    "## Step 3: Back Substitution Process\n",
    "We perform back substitution to solve for the variables."
   ]
  },
  {
   "cell_type": "code",
   "execution_count": 4,
   "id": "943660c7",
   "metadata": {},
   "outputs": [
    {
     "data": {
      "text/plain": [
       "array([1.64285714, 0.57142857])"
      ]
     },
     "execution_count": 4,
     "metadata": {},
     "output_type": "execute_result"
    }
   ],
   "source": [
    "# Back substitution process\n",
    "solutions = np.zeros(rows)\n",
    "for i in range(rows - 1, -1, -1):\n",
    "    solutions[i] = augmented_matrix[i][-1] - np.sum(augmented_matrix[i][i+1:-1] * solutions[i+1:])\n",
    "solutions"
   ]
  },
  {
   "cell_type": "markdown",
   "id": "f4097eee",
   "metadata": {},
   "source": [
    "## Step 4: Display the Solution for x and y\n",
    "We extract and display the values of x and y from the solution vector."
   ]
  },
  {
   "cell_type": "code",
   "execution_count": 5,
   "id": "d2be1187",
   "metadata": {},
   "outputs": [
    {
     "name": "stdout",
     "output_type": "stream",
     "text": [
      "x = 1.64\n",
      "y = 0.57\n"
     ]
    }
   ],
   "source": [
    "# Display the solution for x and y\n",
    "for index, value in zip(['x', 'y'], solutions):\n",
    "    print(f'{index} = {value:.2f}')"
   ]
  },
  {
   "cell_type": "markdown",
   "id": "9c366f96",
   "metadata": {},
   "source": [
    "## Summary\n",
    "- We solved a system of linear equations using Gaussian elimination.\n",
    "- Each step was performed using NumPy matrix operations.\n",
    "- The solution is displayed for x and y.\n",
    "- This method is efficient for small systems and for teaching matrix algebra techniques."
   ]
  }
 ],
 "metadata": {
  "kernelspec": {
   "display_name": "damin2025",
   "language": "python",
   "name": "python3"
  },
  "language_info": {
   "codemirror_mode": {
    "name": "ipython",
    "version": 3
   },
   "file_extension": ".py",
   "mimetype": "text/x-python",
   "name": "python",
   "nbconvert_exporter": "python",
   "pygments_lexer": "ipython3",
   "version": "3.12.11"
  }
 },
 "nbformat": 4,
 "nbformat_minor": 5
}
