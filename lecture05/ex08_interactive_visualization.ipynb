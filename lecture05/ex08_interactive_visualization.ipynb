{
 "cells": [
  {
   "cell_type": "markdown",
   "id": "26db8edd",
   "metadata": {},
   "source": [
    "# Interactive Data Visualization with Plotly\n",
    "\n",
    "## Learning Objectives\n",
    "By the end of this notebook, you will understand:\n",
    "- How to create interactive visualizations using Plotly Express\n",
    "- The advantages of interactive plots over static ones\n",
    "- How to explore data interactively through zooming, panning, and hovering\n",
    "- Best practices for interactive visualization design\n",
    "- When to use interactive vs. static visualizations\n",
    "\n",
    "## Introduction\n",
    "Interactive visualizations allow users to explore data dynamically, providing a richer experience than static plots. With Plotly, you can create professional interactive charts with minimal code that include:\n",
    "\n",
    "- **Hover tooltips**: Show detailed information on data points\n",
    "- **Zooming and panning**: Explore different regions of the plot\n",
    "- **Legend interactions**: Show/hide data series\n",
    "- **Responsive design**: Automatically adapts to different screen sizes\n",
    "\n",
    "This notebook demonstrates interactive visualization using the classic Iris dataset, maintaining the exact original plot configuration."
   ]
  },
  {
   "cell_type": "code",
   "execution_count": 1,
   "id": "f1b12aff",
   "metadata": {},
   "outputs": [
    {
     "name": "stdout",
     "output_type": "stream",
     "text": [
      "Libraries imported successfully!\n",
      "Plotly Express enables interactive data visualization\n",
      "Perfect for exploratory data analysis and presentations\n"
     ]
    }
   ],
   "source": [
    "# Import the required libraries.\n",
    "import plotly.express as px\n",
    "\n",
    "print(\"Libraries imported successfully!\")\n",
    "print(\"Plotly Express enables interactive data visualization\")\n",
    "print(\"Perfect for exploratory data analysis and presentations\")"
   ]
  },
  {
   "cell_type": "markdown",
   "id": "7c48783e",
   "metadata": {},
   "source": [
    "## Step 1: Load and Explore the Iris Dataset\n",
    "\n",
    "The Iris dataset is a classic dataset in machine learning and statistics, perfect for demonstrating visualization techniques."
   ]
  },
  {
   "cell_type": "code",
   "execution_count": 2,
   "id": "6c95569b",
   "metadata": {},
   "outputs": [
    {
     "name": "stdout",
     "output_type": "stream",
     "text": [
      "Iris Dataset Loaded Successfully!\n",
      "Dataset shape: (150, 6)\n",
      "Columns: ['sepal_length', 'sepal_width', 'petal_length', 'petal_width', 'species', 'species_id']\n",
      "\n",
      "First few rows:\n",
      "   sepal_length  sepal_width  petal_length  petal_width species  species_id\n",
      "0           5.1          3.5           1.4          0.2  setosa           1\n",
      "1           4.9          3.0           1.4          0.2  setosa           1\n",
      "2           4.7          3.2           1.3          0.2  setosa           1\n",
      "3           4.6          3.1           1.5          0.2  setosa           1\n",
      "4           5.0          3.6           1.4          0.2  setosa           1\n",
      "\n",
      "Dataset characteristics:\n",
      "- Total samples: 150\n",
      "- Features: 5\n",
      "- Target variable: species\n",
      "- Species types: ['setosa' 'versicolor' 'virginica']\n",
      "- Samples per species: [50, 50, 50]\n",
      "\n",
      "Feature statistics:\n",
      "- sepal_length: 4.3 to 7.9 (mean: 5.8)\n",
      "- sepal_width: 2.0 to 4.4 (mean: 3.1)\n",
      "- petal_length: 1.0 to 6.9 (mean: 3.8)\n",
      "- petal_width: 0.1 to 2.5 (mean: 1.2)\n"
     ]
    }
   ],
   "source": [
    "# The Iris dataset is a classic and very easy multi-class classification\n",
    "# dataset.\n",
    "df = px.data.iris()\n",
    "\n",
    "print(\"Iris Dataset Loaded Successfully!\")\n",
    "print(f\"Dataset shape: {df.shape}\")\n",
    "print(f\"Columns: {list(df.columns)}\")\n",
    "print(\"\\nFirst few rows:\")\n",
    "print(df.head())\n",
    "\n",
    "print(f\"\\nDataset characteristics:\")\n",
    "print(f\"- Total samples: {df.shape[0]}\")\n",
    "print(f\"- Features: {df.shape[1] - 1}\")  # Excluding species column\n",
    "print(f\"- Target variable: species\")\n",
    "print(f\"- Species types: {df['species'].unique()}\")\n",
    "print(f\"- Samples per species: {df['species'].value_counts().tolist()}\")\n",
    "\n",
    "print(f\"\\nFeature statistics:\")\n",
    "feature_cols = ['sepal_length', 'sepal_width', 'petal_length', 'petal_width']\n",
    "for col in feature_cols:\n",
    "    print(f\"- {col}: {df[col].min():.1f} to {df[col].max():.1f} (mean: {df[col].mean():.1f})\")"
   ]
  },
  {
   "cell_type": "markdown",
   "id": "b661156d",
   "metadata": {},
   "source": [
    "## Step 2: Create the Original Interactive Visualization\n",
    "\n",
    "Let's create the exact interactive scatter plot from the original script with the same configuration."
   ]
  },
  {
   "cell_type": "code",
   "execution_count": 3,
   "id": "22f205f1",
   "metadata": {},
   "outputs": [
    {
     "data": {
      "application/vnd.plotly.v1+json": {
       "config": {
        "plotlyServerURL": "https://plot.ly"
       },
       "data": [
        {
         "hovertemplate": "species=setosa<br>sepal_width=%{x}<br>sepal_length=%{y}<extra></extra>",
         "legendgroup": "setosa",
         "marker": {
          "color": "#636efa",
          "symbol": "circle"
         },
         "mode": "markers",
         "name": "setosa",
         "orientation": "v",
         "showlegend": true,
         "type": "scatter",
         "x": {
          "bdata": "AAAAAAAADEAAAAAAAAAIQJqZmZmZmQlAzczMzMzMCEDNzMzMzMwMQDMzMzMzMw9AMzMzMzMzC0AzMzMzMzMLQDMzMzMzMwdAzczMzMzMCECamZmZmZkNQDMzMzMzMwtAAAAAAAAACEAAAAAAAAAIQAAAAAAAABBAmpmZmZmZEUAzMzMzMzMPQAAAAAAAAAxAZmZmZmZmDkBmZmZmZmYOQDMzMzMzMwtAmpmZmZmZDUDNzMzMzMwMQGZmZmZmZgpAMzMzMzMzC0AAAAAAAAAIQDMzMzMzMwtAAAAAAAAADEAzMzMzMzMLQJqZmZmZmQlAzczMzMzMCEAzMzMzMzMLQGZmZmZmZhBAzczMzMzMEEDNzMzMzMwIQJqZmZmZmQlAAAAAAAAADEDNzMzMzMwIQAAAAAAAAAhAMzMzMzMzC0AAAAAAAAAMQGZmZmZmZgJAmpmZmZmZCUAAAAAAAAAMQGZmZmZmZg5AAAAAAAAACEBmZmZmZmYOQJqZmZmZmQlAmpmZmZmZDUBmZmZmZmYKQA==",
          "dtype": "f8"
         },
         "xaxis": "x",
         "y": {
          "bdata": "ZmZmZmZmFECamZmZmZkTQM3MzMzMzBJAZmZmZmZmEkAAAAAAAAAUQJqZmZmZmRVAZmZmZmZmEkAAAAAAAAAUQJqZmZmZmRFAmpmZmZmZE0CamZmZmZkVQDMzMzMzMxNAMzMzMzMzE0AzMzMzMzMRQDMzMzMzMxdAzczMzMzMFkCamZmZmZkVQGZmZmZmZhRAzczMzMzMFkBmZmZmZmYUQJqZmZmZmRVAZmZmZmZmFEBmZmZmZmYSQGZmZmZmZhRAMzMzMzMzE0AAAAAAAAAUQAAAAAAAABRAzczMzMzMFEDNzMzMzMwUQM3MzMzMzBJAMzMzMzMzE0CamZmZmZkVQM3MzMzMzBRAAAAAAAAAFkCamZmZmZkTQAAAAAAAABRAAAAAAAAAFkCamZmZmZkTQJqZmZmZmRFAZmZmZmZmFEAAAAAAAAAUQAAAAAAAABJAmpmZmZmZEUAAAAAAAAAUQGZmZmZmZhRAMzMzMzMzE0BmZmZmZmYUQGZmZmZmZhJAMzMzMzMzFUAAAAAAAAAUQA==",
          "dtype": "f8"
         },
         "yaxis": "y"
        },
        {
         "hovertemplate": "species=versicolor<br>sepal_width=%{x}<br>sepal_length=%{y}<extra></extra>",
         "legendgroup": "versicolor",
         "marker": {
          "color": "#EF553B",
          "symbol": "circle"
         },
         "mode": "markers",
         "name": "versicolor",
         "orientation": "v",
         "showlegend": true,
         "type": "scatter",
         "x": {
          "bdata": "mpmZmZmZCUCamZmZmZkJQM3MzMzMzAhAZmZmZmZmAkBmZmZmZmYGQGZmZmZmZgZAZmZmZmZmCkAzMzMzMzMDQDMzMzMzMwdAmpmZmZmZBUAAAAAAAAAAQAAAAAAAAAhAmpmZmZmZAUAzMzMzMzMHQDMzMzMzMwdAzczMzMzMCEAAAAAAAAAIQJqZmZmZmQVAmpmZmZmZAUAAAAAAAAAEQJqZmZmZmQlAZmZmZmZmBkAAAAAAAAAEQGZmZmZmZgZAMzMzMzMzB0AAAAAAAAAIQGZmZmZmZgZAAAAAAAAACEAzMzMzMzMHQM3MzMzMzARAMzMzMzMzA0AzMzMzMzMDQJqZmZmZmQVAmpmZmZmZBUAAAAAAAAAIQDMzMzMzMwtAzczMzMzMCEBmZmZmZmYCQAAAAAAAAAhAAAAAAAAABEDNzMzMzMwEQAAAAAAAAAhAzczMzMzMBEBmZmZmZmYCQJqZmZmZmQVAAAAAAAAACEAzMzMzMzMHQDMzMzMzMwdAAAAAAAAABEBmZmZmZmYGQA==",
          "dtype": "f8"
         },
         "xaxis": "x",
         "y": {
          "bdata": "AAAAAAAAHECamZmZmZkZQJqZmZmZmRtAAAAAAAAAFkAAAAAAAAAaQM3MzMzMzBZAMzMzMzMzGUCamZmZmZkTQGZmZmZmZhpAzczMzMzMFEAAAAAAAAAUQJqZmZmZmRdAAAAAAAAAGEBmZmZmZmYYQGZmZmZmZhZAzczMzMzMGkBmZmZmZmYWQDMzMzMzMxdAzczMzMzMGEBmZmZmZmYWQJqZmZmZmRdAZmZmZmZmGEAzMzMzMzMZQGZmZmZmZhhAmpmZmZmZGUBmZmZmZmYaQDMzMzMzMxtAzczMzMzMGkAAAAAAAAAYQM3MzMzMzBZAAAAAAAAAFkAAAAAAAAAWQDMzMzMzMxdAAAAAAAAAGECamZmZmZkVQAAAAAAAABhAzczMzMzMGkAzMzMzMzMZQGZmZmZmZhZAAAAAAAAAFkAAAAAAAAAWQGZmZmZmZhhAMzMzMzMzF0AAAAAAAAAUQGZmZmZmZhZAzczMzMzMFkDNzMzMzMwWQM3MzMzMzBhAZmZmZmZmFEDNzMzMzMwWQA==",
          "dtype": "f8"
         },
         "yaxis": "y"
        },
        {
         "hovertemplate": "species=virginica<br>sepal_width=%{x}<br>sepal_length=%{y}<extra></extra>",
         "legendgroup": "virginica",
         "marker": {
          "color": "#00cc96",
          "symbol": "circle"
         },
         "mode": "markers",
         "name": "virginica",
         "orientation": "v",
         "showlegend": true,
         "type": "scatter",
         "x": {
          "bdata": "ZmZmZmZmCkCamZmZmZkFQAAAAAAAAAhAMzMzMzMzB0AAAAAAAAAIQAAAAAAAAAhAAAAAAAAABEAzMzMzMzMHQAAAAAAAAARAzczMzMzMDECamZmZmZkJQJqZmZmZmQVAAAAAAAAACEAAAAAAAAAEQGZmZmZmZgZAmpmZmZmZCUAAAAAAAAAIQGZmZmZmZg5AzczMzMzMBECamZmZmZkBQJqZmZmZmQlAZmZmZmZmBkBmZmZmZmYGQJqZmZmZmQVAZmZmZmZmCkCamZmZmZkJQGZmZmZmZgZAAAAAAAAACEBmZmZmZmYGQAAAAAAAAAhAZmZmZmZmBkBmZmZmZmYOQGZmZmZmZgZAZmZmZmZmBkDNzMzMzMwEQAAAAAAAAAhAMzMzMzMzC0DNzMzMzMwIQAAAAAAAAAhAzczMzMzMCEDNzMzMzMwIQM3MzMzMzAhAmpmZmZmZBUCamZmZmZkJQGZmZmZmZgpAAAAAAAAACEAAAAAAAAAEQAAAAAAAAAhAMzMzMzMzC0AAAAAAAAAIQA==",
          "dtype": "f8"
         },
         "xaxis": "x",
         "y": {
          "bdata": "MzMzMzMzGUAzMzMzMzMXQGZmZmZmZhxAMzMzMzMzGUAAAAAAAAAaQGZmZmZmZh5AmpmZmZmZE0AzMzMzMzMdQM3MzMzMzBpAzczMzMzMHEAAAAAAAAAaQJqZmZmZmRlAMzMzMzMzG0DNzMzMzMwWQDMzMzMzMxdAmpmZmZmZGUAAAAAAAAAaQM3MzMzMzB5AzczMzMzMHkAAAAAAAAAYQJqZmZmZmRtAZmZmZmZmFkDNzMzMzMweQDMzMzMzMxlAzczMzMzMGkDNzMzMzMwcQM3MzMzMzBhAZmZmZmZmGECamZmZmZkZQM3MzMzMzBxAmpmZmZmZHUCamZmZmZkfQJqZmZmZmRlAMzMzMzMzGUBmZmZmZmYYQM3MzMzMzB5AMzMzMzMzGUCamZmZmZkZQAAAAAAAABhAmpmZmZmZG0DNzMzMzMwaQJqZmZmZmRtAMzMzMzMzF0AzMzMzMzMbQM3MzMzMzBpAzczMzMzMGkAzMzMzMzMZQAAAAAAAABpAzczMzMzMGECamZmZmZkXQA==",
          "dtype": "f8"
         },
         "yaxis": "y"
        }
       ],
       "layout": {
        "legend": {
         "title": {
          "text": "species"
         },
         "tracegroupgap": 0
        },
        "template": {
         "data": {
          "bar": [
           {
            "error_x": {
             "color": "#2a3f5f"
            },
            "error_y": {
             "color": "#2a3f5f"
            },
            "marker": {
             "line": {
              "color": "#E5ECF6",
              "width": 0.5
             },
             "pattern": {
              "fillmode": "overlay",
              "size": 10,
              "solidity": 0.2
             }
            },
            "type": "bar"
           }
          ],
          "barpolar": [
           {
            "marker": {
             "line": {
              "color": "#E5ECF6",
              "width": 0.5
             },
             "pattern": {
              "fillmode": "overlay",
              "size": 10,
              "solidity": 0.2
             }
            },
            "type": "barpolar"
           }
          ],
          "carpet": [
           {
            "aaxis": {
             "endlinecolor": "#2a3f5f",
             "gridcolor": "white",
             "linecolor": "white",
             "minorgridcolor": "white",
             "startlinecolor": "#2a3f5f"
            },
            "baxis": {
             "endlinecolor": "#2a3f5f",
             "gridcolor": "white",
             "linecolor": "white",
             "minorgridcolor": "white",
             "startlinecolor": "#2a3f5f"
            },
            "type": "carpet"
           }
          ],
          "choropleth": [
           {
            "colorbar": {
             "outlinewidth": 0,
             "ticks": ""
            },
            "type": "choropleth"
           }
          ],
          "contour": [
           {
            "colorbar": {
             "outlinewidth": 0,
             "ticks": ""
            },
            "colorscale": [
             [
              0,
              "#0d0887"
             ],
             [
              0.1111111111111111,
              "#46039f"
             ],
             [
              0.2222222222222222,
              "#7201a8"
             ],
             [
              0.3333333333333333,
              "#9c179e"
             ],
             [
              0.4444444444444444,
              "#bd3786"
             ],
             [
              0.5555555555555556,
              "#d8576b"
             ],
             [
              0.6666666666666666,
              "#ed7953"
             ],
             [
              0.7777777777777778,
              "#fb9f3a"
             ],
             [
              0.8888888888888888,
              "#fdca26"
             ],
             [
              1,
              "#f0f921"
             ]
            ],
            "type": "contour"
           }
          ],
          "contourcarpet": [
           {
            "colorbar": {
             "outlinewidth": 0,
             "ticks": ""
            },
            "type": "contourcarpet"
           }
          ],
          "heatmap": [
           {
            "colorbar": {
             "outlinewidth": 0,
             "ticks": ""
            },
            "colorscale": [
             [
              0,
              "#0d0887"
             ],
             [
              0.1111111111111111,
              "#46039f"
             ],
             [
              0.2222222222222222,
              "#7201a8"
             ],
             [
              0.3333333333333333,
              "#9c179e"
             ],
             [
              0.4444444444444444,
              "#bd3786"
             ],
             [
              0.5555555555555556,
              "#d8576b"
             ],
             [
              0.6666666666666666,
              "#ed7953"
             ],
             [
              0.7777777777777778,
              "#fb9f3a"
             ],
             [
              0.8888888888888888,
              "#fdca26"
             ],
             [
              1,
              "#f0f921"
             ]
            ],
            "type": "heatmap"
           }
          ],
          "histogram": [
           {
            "marker": {
             "pattern": {
              "fillmode": "overlay",
              "size": 10,
              "solidity": 0.2
             }
            },
            "type": "histogram"
           }
          ],
          "histogram2d": [
           {
            "colorbar": {
             "outlinewidth": 0,
             "ticks": ""
            },
            "colorscale": [
             [
              0,
              "#0d0887"
             ],
             [
              0.1111111111111111,
              "#46039f"
             ],
             [
              0.2222222222222222,
              "#7201a8"
             ],
             [
              0.3333333333333333,
              "#9c179e"
             ],
             [
              0.4444444444444444,
              "#bd3786"
             ],
             [
              0.5555555555555556,
              "#d8576b"
             ],
             [
              0.6666666666666666,
              "#ed7953"
             ],
             [
              0.7777777777777778,
              "#fb9f3a"
             ],
             [
              0.8888888888888888,
              "#fdca26"
             ],
             [
              1,
              "#f0f921"
             ]
            ],
            "type": "histogram2d"
           }
          ],
          "histogram2dcontour": [
           {
            "colorbar": {
             "outlinewidth": 0,
             "ticks": ""
            },
            "colorscale": [
             [
              0,
              "#0d0887"
             ],
             [
              0.1111111111111111,
              "#46039f"
             ],
             [
              0.2222222222222222,
              "#7201a8"
             ],
             [
              0.3333333333333333,
              "#9c179e"
             ],
             [
              0.4444444444444444,
              "#bd3786"
             ],
             [
              0.5555555555555556,
              "#d8576b"
             ],
             [
              0.6666666666666666,
              "#ed7953"
             ],
             [
              0.7777777777777778,
              "#fb9f3a"
             ],
             [
              0.8888888888888888,
              "#fdca26"
             ],
             [
              1,
              "#f0f921"
             ]
            ],
            "type": "histogram2dcontour"
           }
          ],
          "mesh3d": [
           {
            "colorbar": {
             "outlinewidth": 0,
             "ticks": ""
            },
            "type": "mesh3d"
           }
          ],
          "parcoords": [
           {
            "line": {
             "colorbar": {
              "outlinewidth": 0,
              "ticks": ""
             }
            },
            "type": "parcoords"
           }
          ],
          "pie": [
           {
            "automargin": true,
            "type": "pie"
           }
          ],
          "scatter": [
           {
            "fillpattern": {
             "fillmode": "overlay",
             "size": 10,
             "solidity": 0.2
            },
            "type": "scatter"
           }
          ],
          "scatter3d": [
           {
            "line": {
             "colorbar": {
              "outlinewidth": 0,
              "ticks": ""
             }
            },
            "marker": {
             "colorbar": {
              "outlinewidth": 0,
              "ticks": ""
             }
            },
            "type": "scatter3d"
           }
          ],
          "scattercarpet": [
           {
            "marker": {
             "colorbar": {
              "outlinewidth": 0,
              "ticks": ""
             }
            },
            "type": "scattercarpet"
           }
          ],
          "scattergeo": [
           {
            "marker": {
             "colorbar": {
              "outlinewidth": 0,
              "ticks": ""
             }
            },
            "type": "scattergeo"
           }
          ],
          "scattergl": [
           {
            "marker": {
             "colorbar": {
              "outlinewidth": 0,
              "ticks": ""
             }
            },
            "type": "scattergl"
           }
          ],
          "scattermap": [
           {
            "marker": {
             "colorbar": {
              "outlinewidth": 0,
              "ticks": ""
             }
            },
            "type": "scattermap"
           }
          ],
          "scattermapbox": [
           {
            "marker": {
             "colorbar": {
              "outlinewidth": 0,
              "ticks": ""
             }
            },
            "type": "scattermapbox"
           }
          ],
          "scatterpolar": [
           {
            "marker": {
             "colorbar": {
              "outlinewidth": 0,
              "ticks": ""
             }
            },
            "type": "scatterpolar"
           }
          ],
          "scatterpolargl": [
           {
            "marker": {
             "colorbar": {
              "outlinewidth": 0,
              "ticks": ""
             }
            },
            "type": "scatterpolargl"
           }
          ],
          "scatterternary": [
           {
            "marker": {
             "colorbar": {
              "outlinewidth": 0,
              "ticks": ""
             }
            },
            "type": "scatterternary"
           }
          ],
          "surface": [
           {
            "colorbar": {
             "outlinewidth": 0,
             "ticks": ""
            },
            "colorscale": [
             [
              0,
              "#0d0887"
             ],
             [
              0.1111111111111111,
              "#46039f"
             ],
             [
              0.2222222222222222,
              "#7201a8"
             ],
             [
              0.3333333333333333,
              "#9c179e"
             ],
             [
              0.4444444444444444,
              "#bd3786"
             ],
             [
              0.5555555555555556,
              "#d8576b"
             ],
             [
              0.6666666666666666,
              "#ed7953"
             ],
             [
              0.7777777777777778,
              "#fb9f3a"
             ],
             [
              0.8888888888888888,
              "#fdca26"
             ],
             [
              1,
              "#f0f921"
             ]
            ],
            "type": "surface"
           }
          ],
          "table": [
           {
            "cells": {
             "fill": {
              "color": "#EBF0F8"
             },
             "line": {
              "color": "white"
             }
            },
            "header": {
             "fill": {
              "color": "#C8D4E3"
             },
             "line": {
              "color": "white"
             }
            },
            "type": "table"
           }
          ]
         },
         "layout": {
          "annotationdefaults": {
           "arrowcolor": "#2a3f5f",
           "arrowhead": 0,
           "arrowwidth": 1
          },
          "autotypenumbers": "strict",
          "coloraxis": {
           "colorbar": {
            "outlinewidth": 0,
            "ticks": ""
           }
          },
          "colorscale": {
           "diverging": [
            [
             0,
             "#8e0152"
            ],
            [
             0.1,
             "#c51b7d"
            ],
            [
             0.2,
             "#de77ae"
            ],
            [
             0.3,
             "#f1b6da"
            ],
            [
             0.4,
             "#fde0ef"
            ],
            [
             0.5,
             "#f7f7f7"
            ],
            [
             0.6,
             "#e6f5d0"
            ],
            [
             0.7,
             "#b8e186"
            ],
            [
             0.8,
             "#7fbc41"
            ],
            [
             0.9,
             "#4d9221"
            ],
            [
             1,
             "#276419"
            ]
           ],
           "sequential": [
            [
             0,
             "#0d0887"
            ],
            [
             0.1111111111111111,
             "#46039f"
            ],
            [
             0.2222222222222222,
             "#7201a8"
            ],
            [
             0.3333333333333333,
             "#9c179e"
            ],
            [
             0.4444444444444444,
             "#bd3786"
            ],
            [
             0.5555555555555556,
             "#d8576b"
            ],
            [
             0.6666666666666666,
             "#ed7953"
            ],
            [
             0.7777777777777778,
             "#fb9f3a"
            ],
            [
             0.8888888888888888,
             "#fdca26"
            ],
            [
             1,
             "#f0f921"
            ]
           ],
           "sequentialminus": [
            [
             0,
             "#0d0887"
            ],
            [
             0.1111111111111111,
             "#46039f"
            ],
            [
             0.2222222222222222,
             "#7201a8"
            ],
            [
             0.3333333333333333,
             "#9c179e"
            ],
            [
             0.4444444444444444,
             "#bd3786"
            ],
            [
             0.5555555555555556,
             "#d8576b"
            ],
            [
             0.6666666666666666,
             "#ed7953"
            ],
            [
             0.7777777777777778,
             "#fb9f3a"
            ],
            [
             0.8888888888888888,
             "#fdca26"
            ],
            [
             1,
             "#f0f921"
            ]
           ]
          },
          "colorway": [
           "#636efa",
           "#EF553B",
           "#00cc96",
           "#ab63fa",
           "#FFA15A",
           "#19d3f3",
           "#FF6692",
           "#B6E880",
           "#FF97FF",
           "#FECB52"
          ],
          "font": {
           "color": "#2a3f5f"
          },
          "geo": {
           "bgcolor": "white",
           "lakecolor": "white",
           "landcolor": "#E5ECF6",
           "showlakes": true,
           "showland": true,
           "subunitcolor": "white"
          },
          "hoverlabel": {
           "align": "left"
          },
          "hovermode": "closest",
          "mapbox": {
           "style": "light"
          },
          "paper_bgcolor": "white",
          "plot_bgcolor": "#E5ECF6",
          "polar": {
           "angularaxis": {
            "gridcolor": "white",
            "linecolor": "white",
            "ticks": ""
           },
           "bgcolor": "#E5ECF6",
           "radialaxis": {
            "gridcolor": "white",
            "linecolor": "white",
            "ticks": ""
           }
          },
          "scene": {
           "xaxis": {
            "backgroundcolor": "#E5ECF6",
            "gridcolor": "white",
            "gridwidth": 2,
            "linecolor": "white",
            "showbackground": true,
            "ticks": "",
            "zerolinecolor": "white"
           },
           "yaxis": {
            "backgroundcolor": "#E5ECF6",
            "gridcolor": "white",
            "gridwidth": 2,
            "linecolor": "white",
            "showbackground": true,
            "ticks": "",
            "zerolinecolor": "white"
           },
           "zaxis": {
            "backgroundcolor": "#E5ECF6",
            "gridcolor": "white",
            "gridwidth": 2,
            "linecolor": "white",
            "showbackground": true,
            "ticks": "",
            "zerolinecolor": "white"
           }
          },
          "shapedefaults": {
           "line": {
            "color": "#2a3f5f"
           }
          },
          "ternary": {
           "aaxis": {
            "gridcolor": "white",
            "linecolor": "white",
            "ticks": ""
           },
           "baxis": {
            "gridcolor": "white",
            "linecolor": "white",
            "ticks": ""
           },
           "bgcolor": "#E5ECF6",
           "caxis": {
            "gridcolor": "white",
            "linecolor": "white",
            "ticks": ""
           }
          },
          "title": {
           "x": 0.05
          },
          "xaxis": {
           "automargin": true,
           "gridcolor": "white",
           "linecolor": "white",
           "ticks": "",
           "title": {
            "standoff": 15
           },
           "zerolinecolor": "white",
           "zerolinewidth": 2
          },
          "yaxis": {
           "automargin": true,
           "gridcolor": "white",
           "linecolor": "white",
           "ticks": "",
           "title": {
            "standoff": 15
           },
           "zerolinecolor": "white",
           "zerolinewidth": 2
          }
         }
        },
        "title": {
         "text": "Interactive Iris Dataset Plot"
        },
        "xaxis": {
         "anchor": "y",
         "domain": [
          0,
          1
         ],
         "title": {
          "text": "sepal_width"
         }
        },
        "yaxis": {
         "anchor": "x",
         "domain": [
          0,
          1
         ],
         "title": {
          "text": "sepal_length"
         }
        }
       }
      }
     },
     "metadata": {},
     "output_type": "display_data"
    },
    {
     "name": "stdout",
     "output_type": "stream",
     "text": [
      "✅ Interactive scatter plot created!\n",
      "🖱️ Features available:\n",
      "- Hover over points to see detailed information\n",
      "- Click and drag to pan around the plot\n",
      "- Use mouse wheel or zoom controls to zoom in/out\n",
      "- Click legend items to show/hide species\n",
      "- Double-click legend to isolate a single species\n",
      "- Use the toolbar for additional options\n"
     ]
    }
   ],
   "source": [
    "# Create an interactive scatter plot.\n",
    "fig = px.scatter(\n",
    "    df, x=\"sepal_width\", y=\"sepal_length\", color=\"species\",\n",
    "    title=\"Interactive Iris Dataset Plot\"\n",
    ")\n",
    "fig.show()\n",
    "\n",
    "print(\"✅ Interactive scatter plot created!\")\n",
    "print(\"🖱️ Features available:\")\n",
    "print(\"- Hover over points to see detailed information\")\n",
    "print(\"- Click and drag to pan around the plot\")\n",
    "print(\"- Use mouse wheel or zoom controls to zoom in/out\")\n",
    "print(\"- Click legend items to show/hide species\")\n",
    "print(\"- Double-click legend to isolate a single species\")\n",
    "print(\"- Use the toolbar for additional options\")"
   ]
  },
  {
   "cell_type": "markdown",
   "id": "2cb208bc",
   "metadata": {},
   "source": [
    "## Step 3: Understanding the Interactive Features\n",
    "\n",
    "Let's explore what makes this visualization interactive and powerful."
   ]
  },
  {
   "cell_type": "code",
   "execution_count": 4,
   "id": "e07abcbd",
   "metadata": {},
   "outputs": [
    {
     "name": "stdout",
     "output_type": "stream",
     "text": [
      "INTERACTIVE VISUALIZATION FEATURES\n",
      "==================================================\n",
      "\n",
      "Hover Tooltips:\n",
      "  Description: Show exact values when hovering over points\n",
      "  Benefits:\n",
      "    • Precise data reading\n",
      "    • No need for axis interpolation\n",
      "    • Additional context\n",
      "  Example: Hover shows: sepal_width=3.5, sepal_length=5.1, species=setosa\n",
      "\n",
      "Zooming & Panning:\n",
      "  Description: Navigate through different regions of the plot\n",
      "  Benefits:\n",
      "    • Focus on specific data regions\n",
      "    • Explore dense areas\n",
      "    • Better pattern detection\n",
      "  Example: Zoom into overlap regions between species\n",
      "\n",
      "Legend Interactions:\n",
      "  Description: Control visibility of different data series\n",
      "  Benefits:\n",
      "    • Compare subsets\n",
      "    • Reduce visual clutter\n",
      "    • Focus analysis\n",
      "  Example: Hide setosa to compare versicolor vs virginica\n",
      "\n",
      "Responsive Design:\n",
      "  Description: Automatically adapts to different screen sizes\n",
      "  Benefits:\n",
      "    • Works on mobile/tablet\n",
      "    • Scales with browser window\n",
      "    • Consistent experience\n",
      "  Example: Plot adjusts when resizing browser window\n",
      "\n",
      "Export Options:\n",
      "  Description: Built-in download and sharing capabilities\n",
      "  Benefits:\n",
      "    • Save as PNG/PDF\n",
      "    • Share interactive version\n",
      "    • Embed in websites\n",
      "  Example: Download plot or get sharing link\n",
      "\n",
      "PLOT CONFIGURATION ANALYSIS:\n",
      "-----------------------------------\n",
      "• X-axis: sepal_width (continuous)\n",
      "• Y-axis: sepal_length (continuous)\n",
      "• Color: species (categorical, 3 levels)\n",
      "• Title: 'Interactive Iris Dataset Plot'\n",
      "• Default Plotly color scheme for species differentiation\n"
     ]
    }
   ],
   "source": [
    "print(\"INTERACTIVE VISUALIZATION FEATURES\")\n",
    "print(\"=\" * 50)\n",
    "\n",
    "interactive_features = {\n",
    "    \"Hover Tooltips\": {\n",
    "        \"Description\": \"Show exact values when hovering over points\",\n",
    "        \"Benefits\": [\"Precise data reading\", \"No need for axis interpolation\", \"Additional context\"],\n",
    "        \"Example\": \"Hover shows: sepal_width=3.5, sepal_length=5.1, species=setosa\"\n",
    "    },\n",
    "    \"Zooming & Panning\": {\n",
    "        \"Description\": \"Navigate through different regions of the plot\",\n",
    "        \"Benefits\": [\"Focus on specific data regions\", \"Explore dense areas\", \"Better pattern detection\"],\n",
    "        \"Example\": \"Zoom into overlap regions between species\"\n",
    "    },\n",
    "    \"Legend Interactions\": {\n",
    "        \"Description\": \"Control visibility of different data series\",\n",
    "        \"Benefits\": [\"Compare subsets\", \"Reduce visual clutter\", \"Focus analysis\"],\n",
    "        \"Example\": \"Hide setosa to compare versicolor vs virginica\"\n",
    "    },\n",
    "    \"Responsive Design\": {\n",
    "        \"Description\": \"Automatically adapts to different screen sizes\",\n",
    "        \"Benefits\": [\"Works on mobile/tablet\", \"Scales with browser window\", \"Consistent experience\"],\n",
    "        \"Example\": \"Plot adjusts when resizing browser window\"\n",
    "    },\n",
    "    \"Export Options\": {\n",
    "        \"Description\": \"Built-in download and sharing capabilities\",\n",
    "        \"Benefits\": [\"Save as PNG/PDF\", \"Share interactive version\", \"Embed in websites\"],\n",
    "        \"Example\": \"Download plot or get sharing link\"\n",
    "    }\n",
    "}\n",
    "\n",
    "for feature, details in interactive_features.items():\n",
    "    print(f\"\\n{feature}:\")\n",
    "    print(f\"  Description: {details['Description']}\")\n",
    "    print(f\"  Benefits:\")\n",
    "    for benefit in details['Benefits']:\n",
    "        print(f\"    • {benefit}\")\n",
    "    print(f\"  Example: {details['Example']}\")\n",
    "\n",
    "print(f\"\\nPLOT CONFIGURATION ANALYSIS:\")\n",
    "print(\"-\" * 35)\n",
    "print(\"• X-axis: sepal_width (continuous)\")\n",
    "print(\"• Y-axis: sepal_length (continuous)\")\n",
    "print(\"• Color: species (categorical, 3 levels)\")\n",
    "print(\"• Title: 'Interactive Iris Dataset Plot'\")\n",
    "print(\"• Default Plotly color scheme for species differentiation\")"
   ]
  },
  {
   "cell_type": "markdown",
   "id": "b053afa1",
   "metadata": {},
   "source": [
    "## Step 4: Analyzing the Data Through Interaction\n",
    "\n",
    "Let's explore what patterns we can discover using the interactive features."
   ]
  },
  {
   "cell_type": "code",
   "execution_count": 5,
   "id": "a9ea5dbf",
   "metadata": {},
   "outputs": [
    {
     "name": "stdout",
     "output_type": "stream",
     "text": [
      "DATA PATTERNS REVEALED BY INTERACTIVE EXPLORATION\n",
      "============================================================\n",
      "SPECIES CHARACTERISTICS:\n",
      "-------------------------\n",
      "\n",
      "Setosa:\n",
      "  Sepal Length: 5.01 ± 0.35\n",
      "  Sepal Width:  3.42 ± 0.38\n",
      "  Sample count: 50\n",
      "  Characteristics: Shortest sepal length, widest sepal width\n",
      "\n",
      "Versicolor:\n",
      "  Sepal Length: 5.94 ± 0.52\n",
      "  Sepal Width:  2.77 ± 0.31\n",
      "  Sample count: 50\n",
      "  Characteristics: Medium measurements, overlaps with virginica\n",
      "\n",
      "Virginica:\n",
      "  Sepal Length: 6.59 ± 0.64\n",
      "  Sepal Width:  2.97 ± 0.32\n",
      "  Sample count: 50\n",
      "  Characteristics: Longest sepal length, narrow sepal width\n",
      "\n",
      "SPECIES SEPARABILITY:\n",
      "-------------------------\n",
      "• Setosa: Clearly separated from other species\n",
      "• Versicolor vs Virginica: Some overlap in sepal dimensions\n",
      "• Best separation along sepal_length axis\n",
      "• Some species mixing in sepal_width range 2.5-3.5\n",
      "\n",
      "CORRELATION ANALYSIS:\n",
      "--------------------\n",
      "Overall correlation (sepal_length vs sepal_width): -0.109\n",
      "Setosa correlation: 0.747\n",
      "Versicolor correlation: 0.526\n",
      "Virginica correlation: 0.457\n",
      "\n",
      "INTERACTIVE EXPLORATION TIPS:\n",
      "------------------------------\n",
      "1. Zoom into overlap regions to see individual data points clearly\n",
      "2. Hide setosa to focus on versicolor-virginica separation\n",
      "3. Hover over outlier points to identify specific measurements\n",
      "4. Use pan to explore the full range of measurements\n",
      "5. Double-click legend items to isolate single species\n"
     ]
    }
   ],
   "source": [
    "# Analyze the data patterns that the interactive plot reveals\n",
    "print(\"DATA PATTERNS REVEALED BY INTERACTIVE EXPLORATION\")\n",
    "print(\"=\" * 60)\n",
    "\n",
    "# Species analysis\n",
    "species_stats = df.groupby('species')[['sepal_length', 'sepal_width']].agg(['mean', 'std'])\n",
    "print(\"SPECIES CHARACTERISTICS:\")\n",
    "print(\"-\" * 25)\n",
    "\n",
    "for species in df['species'].unique():\n",
    "    species_data = df[df['species'] == species]\n",
    "    print(f\"\\n{species.title()}:\")\n",
    "    print(f\"  Sepal Length: {species_data['sepal_length'].mean():.2f} ± {species_data['sepal_length'].std():.2f}\")\n",
    "    print(f\"  Sepal Width:  {species_data['sepal_width'].mean():.2f} ± {species_data['sepal_width'].std():.2f}\")\n",
    "    print(f\"  Sample count: {len(species_data)}\")\n",
    "    \n",
    "    # Identify distinguishing characteristics\n",
    "    if species == 'setosa':\n",
    "        print(f\"  Characteristics: Shortest sepal length, widest sepal width\")\n",
    "    elif species == 'versicolor':\n",
    "        print(f\"  Characteristics: Medium measurements, overlaps with virginica\")\n",
    "    else:  # virginica\n",
    "        print(f\"  Characteristics: Longest sepal length, narrow sepal width\")\n",
    "\n",
    "print(f\"\\nSPECIES SEPARABILITY:\")\n",
    "print(\"-\" * 25)\n",
    "print(\"• Setosa: Clearly separated from other species\")\n",
    "print(\"• Versicolor vs Virginica: Some overlap in sepal dimensions\")\n",
    "print(\"• Best separation along sepal_length axis\")\n",
    "print(\"• Some species mixing in sepal_width range 2.5-3.5\")\n",
    "\n",
    "print(f\"\\nCORRELATION ANALYSIS:\")\n",
    "print(\"-\" * 20)\n",
    "correlation = df['sepal_length'].corr(df['sepal_width'])\n",
    "print(f\"Overall correlation (sepal_length vs sepal_width): {correlation:.3f}\")\n",
    "\n",
    "for species in df['species'].unique():\n",
    "    species_data = df[df['species'] == species]\n",
    "    species_corr = species_data['sepal_length'].corr(species_data['sepal_width'])\n",
    "    print(f\"{species.title()} correlation: {species_corr:.3f}\")\n",
    "\n",
    "print(f\"\\nINTERACTIVE EXPLORATION TIPS:\")\n",
    "print(\"-\" * 30)\n",
    "tips = [\n",
    "    \"Zoom into overlap regions to see individual data points clearly\",\n",
    "    \"Hide setosa to focus on versicolor-virginica separation\",\n",
    "    \"Hover over outlier points to identify specific measurements\",\n",
    "    \"Use pan to explore the full range of measurements\",\n",
    "    \"Double-click legend items to isolate single species\"\n",
    "]\n",
    "\n",
    "for i, tip in enumerate(tips, 1):\n",
    "    print(f\"{i}. {tip}\")"
   ]
  },
  {
   "cell_type": "markdown",
   "id": "a4238720",
   "metadata": {},
   "source": [
    "## Step 5: Advantages of Interactive vs Static Visualizations\n",
    "\n",
    "Let's compare interactive and static visualization approaches."
   ]
  },
  {
   "cell_type": "code",
   "execution_count": 6,
   "id": "ddd0ec93",
   "metadata": {},
   "outputs": [
    {
     "name": "stdout",
     "output_type": "stream",
     "text": [
      "INTERACTIVE vs STATIC VISUALIZATIONS\n",
      "=============================================\n",
      "\n",
      "Data Exploration:\n",
      "  Interactive: Dynamic exploration with zoom, pan, hover details\n",
      "  Static: Fixed view, limited to what's initially visible\n",
      "  Winner: Interactive - allows deeper investigation\n",
      "\n",
      "Precision:\n",
      "  Interactive: Exact values via hover tooltips\n",
      "  Static: Requires visual interpolation from axes\n",
      "  Winner: Interactive - precise data reading\n",
      "\n",
      "User Engagement:\n",
      "  Interactive: Encourages exploration and discovery\n",
      "  Static: Passive consumption of information\n",
      "  Winner: Interactive - higher engagement\n",
      "\n",
      "Subset Analysis:\n",
      "  Interactive: Easy toggling of data series via legend\n",
      "  Static: Requires creating multiple separate plots\n",
      "  Winner: Interactive - flexible data filtering\n",
      "\n",
      "Sharing & Publishing:\n",
      "  Interactive: Requires web hosting or interactive platforms\n",
      "  Static: Easy to include in documents, papers, presentations\n",
      "  Winner: Static - simpler distribution\n",
      "\n",
      "Performance:\n",
      "  Interactive: May be slower with large datasets\n",
      "  Static: Fast rendering, minimal resource usage\n",
      "  Winner: Static - better performance\n",
      "\n",
      "Accessibility:\n",
      "  Interactive: May have accessibility challenges\n",
      "  Static: Better compatibility with screen readers\n",
      "  Winner: Static - better accessibility\n",
      "\n",
      "WHEN TO USE EACH TYPE:\n",
      "-------------------------\n",
      "\n",
      "Use Interactive When:\n",
      "  • Exploratory data analysis\n",
      "  • Presenting to stakeholders who need to explore\n",
      "  • Web-based dashboards and applications\n",
      "  • Training and educational materials\n",
      "  • Complex datasets with many variables\n",
      "  • User needs to filter/subset data dynamically\n",
      "\n",
      "Use Static When:\n",
      "  • Scientific papers and publications\n",
      "  • Printed reports and presentations\n",
      "  • Simple, focused message communication\n",
      "  • Large datasets where performance matters\n",
      "  • Accessibility is a primary concern\n",
      "  • Distribution in non-web environments\n",
      "\n",
      "PLOTLY ADVANTAGES:\n",
      "--------------------\n",
      "• Minimal code for professional interactive plots\n",
      "• Automatic responsive design\n",
      "• Built-in export and sharing capabilities\n",
      "• Consistent API across different chart types\n",
      "• Integration with Jupyter notebooks\n",
      "• Web-ready output (HTML/JavaScript)\n"
     ]
    }
   ],
   "source": [
    "print(\"INTERACTIVE vs STATIC VISUALIZATIONS\")\n",
    "print(\"=\" * 45)\n",
    "\n",
    "comparison = {\n",
    "    \"Data Exploration\": {\n",
    "        \"Interactive\": \"Dynamic exploration with zoom, pan, hover details\",\n",
    "        \"Static\": \"Fixed view, limited to what's initially visible\",\n",
    "        \"Winner\": \"Interactive - allows deeper investigation\"\n",
    "    },\n",
    "    \"Precision\": {\n",
    "        \"Interactive\": \"Exact values via hover tooltips\",\n",
    "        \"Static\": \"Requires visual interpolation from axes\",\n",
    "        \"Winner\": \"Interactive - precise data reading\"\n",
    "    },\n",
    "    \"User Engagement\": {\n",
    "        \"Interactive\": \"Encourages exploration and discovery\",\n",
    "        \"Static\": \"Passive consumption of information\",\n",
    "        \"Winner\": \"Interactive - higher engagement\"\n",
    "    },\n",
    "    \"Subset Analysis\": {\n",
    "        \"Interactive\": \"Easy toggling of data series via legend\",\n",
    "        \"Static\": \"Requires creating multiple separate plots\",\n",
    "        \"Winner\": \"Interactive - flexible data filtering\"\n",
    "    },\n",
    "    \"Sharing & Publishing\": {\n",
    "        \"Interactive\": \"Requires web hosting or interactive platforms\",\n",
    "        \"Static\": \"Easy to include in documents, papers, presentations\",\n",
    "        \"Winner\": \"Static - simpler distribution\"\n",
    "    },\n",
    "    \"Performance\": {\n",
    "        \"Interactive\": \"May be slower with large datasets\",\n",
    "        \"Static\": \"Fast rendering, minimal resource usage\",\n",
    "        \"Winner\": \"Static - better performance\"\n",
    "    },\n",
    "    \"Accessibility\": {\n",
    "        \"Interactive\": \"May have accessibility challenges\",\n",
    "        \"Static\": \"Better compatibility with screen readers\",\n",
    "        \"Winner\": \"Static - better accessibility\"\n",
    "    }\n",
    "}\n",
    "\n",
    "for aspect, details in comparison.items():\n",
    "    print(f\"\\n{aspect}:\")\n",
    "    print(f\"  Interactive: {details['Interactive']}\")\n",
    "    print(f\"  Static: {details['Static']}\")\n",
    "    print(f\"  Winner: {details['Winner']}\")\n",
    "\n",
    "print(f\"\\nWHEN TO USE EACH TYPE:\")\n",
    "print(\"-\" * 25)\n",
    "\n",
    "use_cases = {\n",
    "    \"Use Interactive When:\": [\n",
    "        \"Exploratory data analysis\",\n",
    "        \"Presenting to stakeholders who need to explore\",\n",
    "        \"Web-based dashboards and applications\",\n",
    "        \"Training and educational materials\",\n",
    "        \"Complex datasets with many variables\",\n",
    "        \"User needs to filter/subset data dynamically\"\n",
    "    ],\n",
    "    \"Use Static When:\": [\n",
    "        \"Scientific papers and publications\",\n",
    "        \"Printed reports and presentations\",\n",
    "        \"Simple, focused message communication\",\n",
    "        \"Large datasets where performance matters\",\n",
    "        \"Accessibility is a primary concern\",\n",
    "        \"Distribution in non-web environments\"\n",
    "    ]\n",
    "}\n",
    "\n",
    "for category, scenarios in use_cases.items():\n",
    "    print(f\"\\n{category}\")\n",
    "    for scenario in scenarios:\n",
    "        print(f\"  • {scenario}\")\n",
    "\n",
    "print(f\"\\nPLOTLY ADVANTAGES:\")\n",
    "print(\"-\" * 20)\n",
    "plotly_benefits = [\n",
    "    \"Minimal code for professional interactive plots\",\n",
    "    \"Automatic responsive design\",\n",
    "    \"Built-in export and sharing capabilities\",\n",
    "    \"Consistent API across different chart types\",\n",
    "    \"Integration with Jupyter notebooks\",\n",
    "    \"Web-ready output (HTML/JavaScript)\"\n",
    "]\n",
    "\n",
    "for benefit in plotly_benefits:\n",
    "    print(f\"• {benefit}\")"
   ]
  },
  {
   "cell_type": "markdown",
   "id": "bd519d5c",
   "metadata": {},
   "source": [
    "## Step 6: Best Practices for Interactive Visualization\n",
    "\n",
    "Let's explore guidelines for creating effective interactive visualizations."
   ]
  },
  {
   "cell_type": "code",
   "execution_count": 7,
   "id": "8424b4fc",
   "metadata": {},
   "outputs": [
    {
     "name": "stdout",
     "output_type": "stream",
     "text": [
      "INTERACTIVE VISUALIZATION BEST PRACTICES\n",
      "==================================================\n",
      "\n",
      "Design Principles:\n",
      "  • Keep the interface intuitive and discoverable\n",
      "  • Provide clear visual feedback for interactions\n",
      "  • Ensure key insights are visible without interaction\n",
      "  • Use consistent interaction patterns throughout\n",
      "  • Optimize for both desktop and mobile use\n",
      "\n",
      "Performance Optimization:\n",
      "  • Limit data points for smooth interaction (sample if needed)\n",
      "  • Use appropriate chart types for data size\n",
      "  • Consider server-side rendering for large datasets\n",
      "  • Implement progressive loading for complex visualizations\n",
      "  • Test performance across different devices\n",
      "\n",
      "User Experience:\n",
      "  • Include instructions or legends for interaction methods\n",
      "  • Provide fallback static views when possible\n",
      "  • Ensure accessibility compliance (WCAG guidelines)\n",
      "  • Test with actual users, not just developers\n",
      "  • Consider different levels of technical expertise\n",
      "\n",
      "Content Strategy:\n",
      "  • Start with overview, then allow details on demand\n",
      "  • Highlight important patterns that need interaction\n",
      "  • Provide context and interpretation alongside charts\n",
      "  • Include data source and methodology information\n",
      "  • Design for both exploration and presentation needs\n",
      "\n",
      "INTERACTIVE VISUALIZATION TOOLS:\n",
      "-----------------------------------\n",
      "\n",
      "Python Ecosystem:\n",
      "  Plotly: Easy interactive plots with minimal code\n",
      "  Bokeh: Complex interactive applications\n",
      "  Altair: Grammar of graphics approach\n",
      "  HoloViews: High-level data visualization\n",
      "\n",
      "JavaScript Libraries:\n",
      "  D3.js: Maximum customization and control\n",
      "  Chart.js: Simple, responsive charts\n",
      "  Highcharts: Professional business charts\n",
      "  Observable: Reactive, collaborative notebooks\n",
      "\n",
      "Business Intelligence:\n",
      "  Tableau: Drag-and-drop interactive dashboards\n",
      "  Power BI: Microsoft ecosystem integration\n",
      "  Looker: SQL-based business intelligence\n",
      "  Qlik: Associative data exploration\n",
      "\n",
      "MEASURING INTERACTIVE VISUALIZATION SUCCESS:\n",
      "---------------------------------------------\n",
      "1. User engagement time and interaction frequency\n",
      "2. Discovery of insights not visible in static versions\n",
      "3. User satisfaction and ease of use feedback\n",
      "4. Accessibility compliance and cross-platform compatibility\n",
      "5. Performance metrics (load time, responsiveness)\n",
      "6. Task completion rates for analysis objectives\n"
     ]
    }
   ],
   "source": [
    "print(\"INTERACTIVE VISUALIZATION BEST PRACTICES\")\n",
    "print(\"=\" * 50)\n",
    "\n",
    "best_practices = {\n",
    "    \"Design Principles\": [\n",
    "        \"Keep the interface intuitive and discoverable\",\n",
    "        \"Provide clear visual feedback for interactions\",\n",
    "        \"Ensure key insights are visible without interaction\",\n",
    "        \"Use consistent interaction patterns throughout\",\n",
    "        \"Optimize for both desktop and mobile use\"\n",
    "    ],\n",
    "    \"Performance Optimization\": [\n",
    "        \"Limit data points for smooth interaction (sample if needed)\",\n",
    "        \"Use appropriate chart types for data size\",\n",
    "        \"Consider server-side rendering for large datasets\",\n",
    "        \"Implement progressive loading for complex visualizations\",\n",
    "        \"Test performance across different devices\"\n",
    "    ],\n",
    "    \"User Experience\": [\n",
    "        \"Include instructions or legends for interaction methods\",\n",
    "        \"Provide fallback static views when possible\",\n",
    "        \"Ensure accessibility compliance (WCAG guidelines)\",\n",
    "        \"Test with actual users, not just developers\",\n",
    "        \"Consider different levels of technical expertise\"\n",
    "    ],\n",
    "    \"Content Strategy\": [\n",
    "        \"Start with overview, then allow details on demand\",\n",
    "        \"Highlight important patterns that need interaction\",\n",
    "        \"Provide context and interpretation alongside charts\",\n",
    "        \"Include data source and methodology information\",\n",
    "        \"Design for both exploration and presentation needs\"\n",
    "    ]\n",
    "}\n",
    "\n",
    "for category, practices in best_practices.items():\n",
    "    print(f\"\\n{category}:\")\n",
    "    for practice in practices:\n",
    "        print(f\"  • {practice}\")\n",
    "\n",
    "print(f\"\\nINTERACTIVE VISUALIZATION TOOLS:\")\n",
    "print(\"-\" * 35)\n",
    "\n",
    "tools = {\n",
    "    \"Python Ecosystem\": {\n",
    "        \"Plotly\": \"Easy interactive plots with minimal code\",\n",
    "        \"Bokeh\": \"Complex interactive applications\",\n",
    "        \"Altair\": \"Grammar of graphics approach\",\n",
    "        \"HoloViews\": \"High-level data visualization\"\n",
    "    },\n",
    "    \"JavaScript Libraries\": {\n",
    "        \"D3.js\": \"Maximum customization and control\", \n",
    "        \"Chart.js\": \"Simple, responsive charts\",\n",
    "        \"Highcharts\": \"Professional business charts\",\n",
    "        \"Observable\": \"Reactive, collaborative notebooks\"\n",
    "    },\n",
    "    \"Business Intelligence\": {\n",
    "        \"Tableau\": \"Drag-and-drop interactive dashboards\",\n",
    "        \"Power BI\": \"Microsoft ecosystem integration\",\n",
    "        \"Looker\": \"SQL-based business intelligence\",\n",
    "        \"Qlik\": \"Associative data exploration\"\n",
    "    }\n",
    "}\n",
    "\n",
    "for category, tool_list in tools.items():\n",
    "    print(f\"\\n{category}:\")\n",
    "    for tool, description in tool_list.items():\n",
    "        print(f\"  {tool}: {description}\")\n",
    "\n",
    "print(f\"\\nMEASURING INTERACTIVE VISUALIZATION SUCCESS:\")\n",
    "print(\"-\" * 45)\n",
    "success_metrics = [\n",
    "    \"User engagement time and interaction frequency\",\n",
    "    \"Discovery of insights not visible in static versions\",\n",
    "    \"User satisfaction and ease of use feedback\",\n",
    "    \"Accessibility compliance and cross-platform compatibility\",\n",
    "    \"Performance metrics (load time, responsiveness)\",\n",
    "    \"Task completion rates for analysis objectives\"\n",
    "]\n",
    "\n",
    "for i, metric in enumerate(success_metrics, 1):\n",
    "    print(f\"{i}. {metric}\")"
   ]
  },
  {
   "cell_type": "markdown",
   "id": "924f7b39",
   "metadata": {},
   "source": [
    "## Key Takeaways\n",
    "\n",
    "### Interactive Visualization Benefits\n",
    "1. **Enhanced Exploration**: Users can dynamically investigate data patterns\n",
    "2. **Precise Data Reading**: Hover tooltips provide exact values\n",
    "3. **Flexible Analysis**: Legend interactions allow subset comparisons\n",
    "4. **Engaging Experience**: Interactive elements encourage deeper investigation\n",
    "\n",
    "### Plotly Express Advantages\n",
    "- **Minimal Code**: Professional interactive plots with few lines of code\n",
    "- **Built-in Features**: Zoom, pan, hover, legend interactions out-of-the-box\n",
    "- **Responsive Design**: Automatically adapts to different screen sizes\n",
    "- **Web Integration**: HTML/JavaScript output ready for web deployment\n",
    "\n",
    "### When to Choose Interactive vs Static\n",
    "- **Interactive**: Exploratory analysis, stakeholder presentations, web dashboards\n",
    "- **Static**: Publications, reports, simple message communication, accessibility needs\n",
    "\n",
    "### Design Best Practices\n",
    "- **Intuitive Interactions**: Keep interface discoverable and consistent\n",
    "- **Performance Optimization**: Consider data size and device capabilities\n",
    "- **User Experience**: Provide instructions and ensure accessibility\n",
    "- **Content Strategy**: Balance overview with details-on-demand\n",
    "\n",
    "### Iris Dataset Insights Through Interaction\n",
    "- **Species Separation**: Setosa clearly distinct, some overlap between versicolor and virginica\n",
    "- **Measurement Patterns**: Species show different correlation patterns\n",
    "- **Outlier Detection**: Interactive hover helps identify unusual measurements\n",
    "- **Focused Analysis**: Legend filtering enables species-specific comparisons\n",
    "\n",
    "### Technical Implementation\n",
    "- **Simple API**: `px.scatter()` with x, y, color parameters\n",
    "- **Automatic Legends**: Color mapping creates interactive legend\n",
    "- **Default Styling**: Professional appearance without custom configuration\n",
    "- **Export Ready**: Built-in download and sharing capabilities\n",
    "\n",
    "Interactive visualization with Plotly provides a powerful way to explore data, reveal patterns, and engage users in the analysis process while maintaining professional appearance and ease of implementation."
   ]
  }
 ],
 "metadata": {
  "kernelspec": {
   "display_name": "damin2025",
   "language": "python",
   "name": "python3"
  },
  "language_info": {
   "codemirror_mode": {
    "name": "ipython",
    "version": 3
   },
   "file_extension": ".py",
   "mimetype": "text/x-python",
   "name": "python",
   "nbconvert_exporter": "python",
   "pygments_lexer": "ipython3",
   "version": "3.12.11"
  }
 },
 "nbformat": 4,
 "nbformat_minor": 5
}
