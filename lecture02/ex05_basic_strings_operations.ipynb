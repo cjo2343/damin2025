{
 "cells": [
  {
   "cell_type": "markdown",
   "id": "0b47ea26",
   "metadata": {},
   "source": [
    "# Basic String Operations in Python\n",
    "\n",
    "This notebook demonstrates fundamental string operations in Python. Strings are one of the most commonly used data types, and mastering string operations is essential for effective Python programming.\n",
    "\n",
    "## Learning Objectives\n",
    "- Learn how to create strings using different quote styles\n",
    "- Understand string concatenation and repetition\n",
    "- Explore string indexing and slicing\n",
    "- Use built-in string methods for manipulation\n",
    "- Practice common string operations through examples"
   ]
  },
  {
   "cell_type": "markdown",
   "id": "516e315b",
   "metadata": {},
   "source": [
    "## Creating Strings\n",
    "\n",
    "Python allows you to create strings using single quotes, double quotes, or triple quotes for multi-line strings."
   ]
  },
  {
   "cell_type": "code",
   "execution_count": 1,
   "id": "507ea41f",
   "metadata": {},
   "outputs": [
    {
     "name": "stdout",
     "output_type": "stream",
     "text": [
      "Greeting: Hello, World!\n",
      "Name: Alice\n",
      "Multiline String: This is a\n",
      "multi-line string.\n"
     ]
    }
   ],
   "source": [
    "# Creating strings.\n",
    "greeting = \"Hello, World!\"\n",
    "name = 'Alice'\n",
    "multiline_string = \"\"\"This is a\n",
    "multi-line string.\"\"\"\n",
    "\n",
    "# Printing the strings.\n",
    "print(\"Greeting:\", greeting)\n",
    "print(\"Name:\", name)\n",
    "print(\"Multiline String:\", multiline_string)"
   ]
  },
  {
   "cell_type": "markdown",
   "id": "c63feb18",
   "metadata": {},
   "source": [
    "## String Concatenation and Repetition\n",
    "\n",
    "You can combine strings using the `+` operator (concatenation) and repeat them using the `*` operator."
   ]
  },
  {
   "cell_type": "code",
   "execution_count": 2,
   "id": "cd848bb9",
   "metadata": {},
   "outputs": [
    {
     "name": "stdout",
     "output_type": "stream",
     "text": [
      "Full Name: John Doe\n",
      "Repeated String: HaHaHa\n"
     ]
    }
   ],
   "source": [
    "# String concatenation.\n",
    "full_name = \"John\" + \" \" + \"Doe\"\n",
    "print(\"Full Name:\", full_name)\n",
    "\n",
    "# String repetition.\n",
    "repeated = \"Ha\" * 3\n",
    "print(\"Repeated String:\", repeated)"
   ]
  },
  {
   "cell_type": "markdown",
   "id": "6b3f3a5c",
   "metadata": {},
   "source": [
    "## String Indexing and Slicing\n",
    "\n",
    "Strings in Python are sequences, which means you can access individual characters using indexing and extract substrings using slicing.\n",
    "\n",
    "- **Indexing**: Access individual characters using square brackets `[]`\n",
    "- **Slicing**: Extract substrings using the format `[start:end]`\n",
    "- **Note**: Python uses 0-based indexing (first character is at index 0)"
   ]
  },
  {
   "cell_type": "code",
   "execution_count": 3,
   "id": "e5ce4dfe",
   "metadata": {},
   "outputs": [
    {
     "name": "stdout",
     "output_type": "stream",
     "text": [
      "First Letter of Greeting: H\n",
      "Substring of Greeting (first 5 characters): Hello\n",
      "Last character: !\n",
      "Characters 7-12: World\n",
      "Every second character: Hlo ol!\n"
     ]
    }
   ],
   "source": [
    "# String indexing.\n",
    "first_letter = greeting[0]\n",
    "print(\"First Letter of Greeting:\", first_letter)\n",
    "\n",
    "# String slicing.\n",
    "substring = greeting[0:5]\n",
    "print(\"Substring of Greeting (first 5 characters):\", substring)\n",
    "\n",
    "# Let's explore more indexing examples\n",
    "print(f\"Last character: {greeting[-1]}\")\n",
    "print(f\"Characters 7-12: {greeting[7:12]}\")\n",
    "print(f\"Every second character: {greeting[::2]}\")"
   ]
  },
  {
   "cell_type": "markdown",
   "id": "6985a300",
   "metadata": {},
   "source": [
    "## String Length and Built-in Functions\n",
    "\n",
    "Python provides several built-in functions and methods for working with strings."
   ]
  },
  {
   "cell_type": "code",
   "execution_count": 4,
   "id": "9d19da7f",
   "metadata": {},
   "outputs": [
    {
     "name": "stdout",
     "output_type": "stream",
     "text": [
      "Length of Greeting: 13\n",
      "Length of name: 5\n",
      "Length of full_name: 8\n"
     ]
    }
   ],
   "source": [
    "# String length.\n",
    "length = len(greeting)\n",
    "print(\"Length of Greeting:\", length)\n",
    "\n",
    "# Let's also check the length of other strings\n",
    "print(f\"Length of name: {len(name)}\")\n",
    "print(f\"Length of full_name: {len(full_name)}\")"
   ]
  },
  {
   "cell_type": "markdown",
   "id": "0ba104e8",
   "metadata": {},
   "source": [
    "## String Methods\n",
    "\n",
    "Python strings come with many useful methods for manipulation and formatting."
   ]
  },
  {
   "cell_type": "code",
   "execution_count": 5,
   "id": "ce0139a3",
   "metadata": {},
   "outputs": [
    {
     "name": "stdout",
     "output_type": "stream",
     "text": [
      "Lowercase Name: alice\n",
      "Uppercase Name: ALICE\n",
      "Stripped Greeting: 'Hello'\n",
      "Capitalized name: Alice\n",
      "Title case: John Doe\n",
      "Replace 'World' with 'Python': Hello, Python!\n",
      "Check if greeting starts with 'Hello': True\n",
      "Check if greeting ends with '!': True\n"
     ]
    }
   ],
   "source": [
    "# String methods.\n",
    "lower_case = name.lower()\n",
    "upper_case = name.upper()\n",
    "stripped = \"  Hello  \".strip()\n",
    "\n",
    "print(\"Lowercase Name:\", lower_case)\n",
    "print(\"Uppercase Name:\", upper_case)\n",
    "print(\"Stripped Greeting:\", f\"'{stripped}'\")\n",
    "\n",
    "# Additional string methods\n",
    "print(f\"Capitalized name: {name.capitalize()}\")\n",
    "print(f\"Title case: {full_name.title()}\")\n",
    "print(f\"Replace 'World' with 'Python': {greeting.replace('World', 'Python')}\")\n",
    "print(f\"Check if greeting starts with 'Hello': {greeting.startswith('Hello')}\")\n",
    "print(f\"Check if greeting ends with '!': {greeting.endswith('!')}\")"
   ]
  },
  {
   "cell_type": "markdown",
   "id": "43b74f9b",
   "metadata": {},
   "source": [
    "## String Formatting\n",
    "\n",
    "Python offers several ways to format strings. Here we'll demonstrate f-strings, which are the most modern and readable approach."
   ]
  },
  {
   "cell_type": "code",
   "execution_count": 6,
   "id": "abcb47bb",
   "metadata": {},
   "outputs": [
    {
     "name": "stdout",
     "output_type": "stream",
     "text": [
      "Formatted message: Hello, Alice! You are 25 years old.\n",
      "Temperature: 23.7°C\n",
      "Age in 10 years: 35\n"
     ]
    }
   ],
   "source": [
    "# String formatting examples\n",
    "age = 25\n",
    "temperature = 23.7\n",
    "\n",
    "# Using f-strings (recommended)\n",
    "formatted_message = f\"Hello, {name}! You are {age} years old.\"\n",
    "print(\"Formatted message:\", formatted_message)\n",
    "\n",
    "# Formatting numbers\n",
    "print(f\"Temperature: {temperature:.1f}°C\")\n",
    "print(f\"Age in 10 years: {age + 10}\")"
   ]
  },
  {
   "cell_type": "markdown",
   "id": "0522f456",
   "metadata": {},
   "source": [
    "## Summary of String Operations\n",
    "\n",
    "Let's combine all the concepts we've learned in a comprehensive example."
   ]
  },
  {
   "cell_type": "code",
   "execution_count": 7,
   "id": "9ae3753b",
   "metadata": {},
   "outputs": [
    {
     "name": "stdout",
     "output_type": "stream",
     "text": [
      "=== STRING OPERATIONS SUMMARY ===\n",
      "Concatenated Name: John Doe\n",
      "Repeated String: HaHaHa\n",
      "First Letter of Greeting: H\n",
      "Substring of Greeting: Hello\n",
      "Length of Greeting: 13\n",
      "Lowercase Name: alice\n",
      "Uppercase Name: ALICE\n",
      "Stripped Greeting: 'Hello'\n",
      "\n",
      "Original sentence: '  Python Programming is Amazing!  '\n",
      "Cleaned and formatted: 'python programming is fantastic!'\n"
     ]
    }
   ],
   "source": [
    "# Summary of string operations.\n",
    "print(\"=== STRING OPERATIONS SUMMARY ===\")\n",
    "print(f\"Concatenated Name: {full_name}\")\n",
    "print(f\"Repeated String: {repeated}\")\n",
    "print(f\"First Letter of Greeting: {first_letter}\")\n",
    "print(f\"Substring of Greeting: {substring}\")\n",
    "print(f\"Length of Greeting: {length}\")\n",
    "print(f\"Lowercase Name: {lower_case}\")\n",
    "print(f\"Uppercase Name: {upper_case}\")\n",
    "print(f\"Stripped Greeting: '{stripped}'\")\n",
    "\n",
    "# Bonus: Let's create a more complex example\n",
    "sentence = \"  Python Programming is Amazing!  \"\n",
    "print(f\"\\nOriginal sentence: '{sentence}'\")\n",
    "print(f\"Cleaned and formatted: '{sentence.strip().lower().replace('amazing', 'fantastic')}'\")"
   ]
  },
  {
   "cell_type": "markdown",
   "id": "5f90d577",
   "metadata": {},
   "source": [
    "## Key Takeaways\n",
    "\n",
    "1. **String Creation**: Use single (`'`), double (`\"`), or triple quotes (`\"\"\"`) for different needs\n",
    "2. **Concatenation**: Use `+` to join strings together\n",
    "3. **Repetition**: Use `*` to repeat strings\n",
    "4. **Indexing**: Access individual characters with `string[index]`\n",
    "5. **Slicing**: Extract substrings with `string[start:end]`\n",
    "6. **Methods**: Use built-in methods like `.lower()`, `.upper()`, `.strip()`, etc.\n",
    "7. **Formatting**: Use f-strings for modern, readable string formatting\n",
    "\n",
    "Strings are immutable in Python, meaning operations create new strings rather than modifying existing ones. Practice these operations to become proficient with text manipulation!"
   ]
  }
 ],
 "metadata": {
  "kernelspec": {
   "display_name": "damin2025",
   "language": "python",
   "name": "python3"
  },
  "language_info": {
   "codemirror_mode": {
    "name": "ipython",
    "version": 3
   },
   "file_extension": ".py",
   "mimetype": "text/x-python",
   "name": "python",
   "nbconvert_exporter": "python",
   "pygments_lexer": "ipython3",
   "version": "3.12.11"
  }
 },
 "nbformat": 4,
 "nbformat_minor": 5
}
