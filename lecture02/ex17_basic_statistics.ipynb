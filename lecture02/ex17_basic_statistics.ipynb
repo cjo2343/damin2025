{
 "cells": [
  {
   "cell_type": "markdown",
   "id": "346998e3",
   "metadata": {},
   "source": [
    "# Basic Statistics with Pandas\n",
    "\n",
    "This notebook demonstrates how to calculate fundamental statistical measures using Pandas. Understanding basic statistics is essential for data analysis and helps us summarize and understand our datasets.\n",
    "\n",
    "## Learning Objectives\n",
    "- Calculate basic statistical measures (mean, median, sum)\n",
    "- Apply statistical functions to single and multiple columns\n",
    "- Generate comprehensive descriptive statistics\n",
    "- Interpret statistical results in context\n",
    "- Understand the difference between various statistical measures\n",
    "\n",
    "## Prerequisites\n",
    "- Basic understanding of Python and Pandas\n",
    "- Familiarity with DataFrames\n",
    "- Basic knowledge of statistical concepts\n",
    "- Pandas library installed"
   ]
  },
  {
   "cell_type": "markdown",
   "id": "78b5a4c7",
   "metadata": {},
   "source": [
    "## Step 1: Import Required Libraries\n",
    "\n",
    "Let's start by importing the necessary libraries for our statistical analysis."
   ]
  },
  {
   "cell_type": "code",
   "execution_count": 1,
   "id": "885feb94",
   "metadata": {},
   "outputs": [
    {
     "name": "stdout",
     "output_type": "stream",
     "text": [
      "Libraries imported successfully!\n",
      "Pandas version: 2.3.1\n",
      "NumPy version: 1.26.4\n"
     ]
    }
   ],
   "source": [
    "# Import the Python libraries\n",
    "import pandas as pd\n",
    "import numpy as np\n",
    "\n",
    "print(\"Libraries imported successfully!\")\n",
    "print(f\"Pandas version: {pd.__version__}\")\n",
    "print(f\"NumPy version: {np.__version__}\")"
   ]
  },
  {
   "cell_type": "markdown",
   "id": "9cde6ac8",
   "metadata": {},
   "source": [
    "## Step 2: Load the Dataset\n",
    "\n",
    "We'll load our data for statistical analysis. If the CSV file doesn't exist, we'll create sample data to demonstrate the concepts."
   ]
  },
  {
   "cell_type": "code",
   "execution_count": 2,
   "id": "ca0792fe",
   "metadata": {},
   "outputs": [
    {
     "name": "stdout",
     "output_type": "stream",
     "text": [
      "CSV file not found. Creating sample data for demonstration.\n",
      "Sample data created successfully!\n",
      "\n",
      "Dataset Overview:\n",
      "Shape: (20, 7)\n",
      "Columns: ['Name', 'Age', 'Salary', 'Experience', 'Rating', 'Department', 'City']\n",
      "\n",
      "First 5 rows:\n",
      "       Name  Age  Salary  Experience  Rating Department      City\n",
      "0  Person_1   58   94925          24    2.56         IT   Chicago\n",
      "1  Person_2   48   97969          27    1.73         HR  New York\n",
      "2  Person_3   34   35311          13    4.02         HR   Houston\n",
      "3  Person_4   62   83707          17    2.70         HR   Chicago\n",
      "4  Person_5   27   58693          25    1.83         IT   Chicago\n"
     ]
    }
   ],
   "source": [
    "# Load the CSV file into a DataFrame\n",
    "try:\n",
    "    df = pd.read_csv(\"./data/unknown.csv\")\n",
    "    print(\"CSV file loaded successfully!\")\n",
    "    print(f\"Dataset shape: {df.shape}\")\n",
    "except FileNotFoundError:\n",
    "    print(\"CSV file not found. Creating sample data for demonstration.\")\n",
    "    # Create sample data with multiple numeric columns\n",
    "    np.random.seed(42)  # For reproducible results\n",
    "    df = pd.DataFrame({\n",
    "        'Name': [f'Person_{i}' for i in range(1, 21)],\n",
    "        'Age': np.random.randint(20, 65, 20),\n",
    "        'Salary': np.random.randint(30000, 100000, 20),\n",
    "        'Experience': np.random.randint(0, 30, 20),\n",
    "        'Rating': np.random.uniform(1, 5, 20).round(2),\n",
    "        'Department': np.random.choice(['IT', 'Finance', 'Marketing', 'HR'], 20),\n",
    "        'City': np.random.choice(['New York', 'Dallas', 'Chicago', 'Houston'], 20)\n",
    "    })\n",
    "    print(\"Sample data created successfully!\")\n",
    "\n",
    "# Display basic information about our dataset\n",
    "print(f\"\\nDataset Overview:\")\n",
    "print(f\"Shape: {df.shape}\")\n",
    "print(f\"Columns: {list(df.columns)}\")\n",
    "print(\"\\nFirst 5 rows:\")\n",
    "print(df.head())"
   ]
  },
  {
   "cell_type": "markdown",
   "id": "577e8591",
   "metadata": {},
   "source": [
    "## Step 3: Single Column Statistics\n",
    "\n",
    "Let's start by calculating basic statistics for individual columns. We'll focus on the 'Age' column as an example.\n",
    "\n",
    "### Mean (Average)\n",
    "The mean is the sum of all values divided by the number of values. It represents the central tendency of the data."
   ]
  },
  {
   "cell_type": "code",
   "execution_count": 3,
   "id": "e9b57f27",
   "metadata": {},
   "outputs": [
    {
     "name": "stdout",
     "output_type": "stream",
     "text": [
      "Mean Age: 42.85 years\n",
      "Manual calculation: 857 ÷ 20 = 42.85\n"
     ]
    }
   ],
   "source": [
    "# Calculating the Mean\n",
    "mean_age = df[\"Age\"].mean()\n",
    "print(f\"Mean Age: {mean_age:.2f} years\")\n",
    "\n",
    "# Let's also see the calculation step by step\n",
    "total_age = df[\"Age\"].sum()\n",
    "count_people = len(df[\"Age\"])\n",
    "manual_mean = total_age / count_people\n",
    "print(f\"Manual calculation: {total_age} ÷ {count_people} = {manual_mean:.2f}\")"
   ]
  },
  {
   "cell_type": "markdown",
   "id": "cc22892f",
   "metadata": {},
   "source": [
    "### Median\n",
    "The median is the middle value when all values are arranged in order. It's less affected by extreme values (outliers) than the mean."
   ]
  },
  {
   "cell_type": "code",
   "execution_count": 4,
   "id": "b9685014",
   "metadata": {},
   "outputs": [
    {
     "name": "stdout",
     "output_type": "stream",
     "text": [
      "Median Age: 42.5 years\n",
      "Sorted ages: [21, 22, 27, 30, 30, 34, 38, 40, 41, 42, 43, 43, 43, 48, 55, 58, 58, 59, 62, 63]\n",
      "Middle position(s): 10\n",
      "\n",
      "Comparison:\n",
      "Mean: 42.85\n",
      "Median: 42.5\n",
      "Difference: 0.35\n"
     ]
    }
   ],
   "source": [
    "# Calculating the Median\n",
    "median_age = df[\"Age\"].median()\n",
    "print(f\"Median Age: {median_age} years\")\n",
    "\n",
    "# Let's see the sorted ages to understand the median better\n",
    "sorted_ages = sorted(df[\"Age\"])\n",
    "print(f\"Sorted ages: {sorted_ages}\")\n",
    "print(f\"Middle position(s): {len(sorted_ages)//2}\")\n",
    "\n",
    "# Compare mean vs median\n",
    "print(f\"\\nComparison:\")\n",
    "print(f\"Mean: {mean_age:.2f}\")\n",
    "print(f\"Median: {median_age}\")\n",
    "print(f\"Difference: {abs(mean_age - median_age):.2f}\")"
   ]
  },
  {
   "cell_type": "markdown",
   "id": "2c5917d8",
   "metadata": {},
   "source": [
    "### Sum\n",
    "The sum is the total of all values in a column. This is useful for understanding totals and aggregates."
   ]
  },
  {
   "cell_type": "code",
   "execution_count": 5,
   "id": "d19f0c9c",
   "metadata": {},
   "outputs": [
    {
     "name": "stdout",
     "output_type": "stream",
     "text": [
      "Total Sum of Ages: 857 years\n",
      "If we combined all 20 people's ages, it would be 857 years\n",
      "That's an average of 42.85 years per person\n"
     ]
    }
   ],
   "source": [
    "# Calculating the Sum\n",
    "sum_age = df[\"Age\"].sum()\n",
    "print(f\"Total Sum of Ages: {sum_age} years\")\n",
    "\n",
    "# This represents the combined age of all people in our dataset\n",
    "print(f\"If we combined all {len(df)} people's ages, it would be {sum_age} years\")\n",
    "print(f\"That's an average of {sum_age/len(df):.2f} years per person\")"
   ]
  },
  {
   "cell_type": "markdown",
   "id": "0f752d4b",
   "metadata": {},
   "source": [
    "## Step 4: Multiple Column Statistics\n",
    "\n",
    "Now let's apply statistical functions to multiple columns simultaneously. This is efficient when working with datasets that have many numeric columns.\n",
    "\n",
    "### Mean for All Numeric Columns"
   ]
  },
  {
   "cell_type": "code",
   "execution_count": 6,
   "id": "edc3cb6a",
   "metadata": {},
   "outputs": [
    {
     "name": "stdout",
     "output_type": "stream",
     "text": [
      "Mean values for all numeric columns:\n",
      "Age              42.85\n",
      "Salary        69368.65\n",
      "Experience       16.40\n",
      "Rating            3.20\n",
      "dtype: float64\n",
      "\n",
      "=== MEAN VALUES ===\n",
      "Age: 42.9 years\n",
      "Salary: $69,368.65\n",
      "Experience: 16.4 years\n",
      "Rating: 3.20 / 5.0\n"
     ]
    }
   ],
   "source": [
    "# Applying statistics to multiple columns\n",
    "# Calculate mean for all numeric columns in the DataFrame\n",
    "mean_values = df.mean(numeric_only=True)\n",
    "print(\"Mean values for all numeric columns:\")\n",
    "print(mean_values)\n",
    "\n",
    "# Let's format this nicely\n",
    "print(\"\\n=== MEAN VALUES ===\")\n",
    "for column, value in mean_values.items():\n",
    "    if column == 'Age':\n",
    "        print(f\"{column}: {value:.1f} years\")\n",
    "    elif column == 'Salary':\n",
    "        print(f\"{column}: ${value:,.2f}\")\n",
    "    elif column == 'Experience':\n",
    "        print(f\"{column}: {value:.1f} years\")\n",
    "    elif column == 'Rating':\n",
    "        print(f\"{column}: {value:.2f} / 5.0\")\n",
    "    else:\n",
    "        print(f\"{column}: {value:.2f}\")"
   ]
  },
  {
   "cell_type": "markdown",
   "id": "88187e7a",
   "metadata": {},
   "source": [
    "### Median for All Numeric Columns"
   ]
  },
  {
   "cell_type": "code",
   "execution_count": 7,
   "id": "a0edcf18",
   "metadata": {},
   "outputs": [
    {
     "name": "stdout",
     "output_type": "stream",
     "text": [
      "Median values for all numeric columns:\n",
      "Age              42.500\n",
      "Salary        68689.500\n",
      "Experience       15.500\n",
      "Rating            3.215\n",
      "dtype: float64\n",
      "\n",
      "=== MEAN vs MEDIAN COMPARISON ===\n",
      "                Mean    Median  Difference\n",
      "Age            42.85     42.50        0.35\n",
      "Salary      69368.65  68689.50      679.15\n",
      "Experience     16.40     15.50        0.90\n",
      "Rating          3.20      3.22       -0.01\n"
     ]
    }
   ],
   "source": [
    "# Calculating the median for all numeric columns\n",
    "median_values = df.median(numeric_only=True)\n",
    "print(\"Median values for all numeric columns:\")\n",
    "print(median_values)\n",
    "\n",
    "# Compare means vs medians\n",
    "print(\"\\n=== MEAN vs MEDIAN COMPARISON ===\")\n",
    "comparison_df = pd.DataFrame({\n",
    "    'Mean': mean_values,\n",
    "    'Median': median_values,\n",
    "    'Difference': mean_values - median_values\n",
    "})\n",
    "print(comparison_df.round(2))"
   ]
  },
  {
   "cell_type": "markdown",
   "id": "d4f023a4",
   "metadata": {},
   "source": [
    "### Sum for All Numeric Columns"
   ]
  },
  {
   "cell_type": "code",
   "execution_count": 8,
   "id": "37c3b325",
   "metadata": {},
   "outputs": [
    {
     "name": "stdout",
     "output_type": "stream",
     "text": [
      "Sum of values for all numeric columns:\n",
      "Age               857.0\n",
      "Salary        1387373.0\n",
      "Experience        328.0\n",
      "Rating             64.0\n",
      "dtype: float64\n",
      "\n",
      "=== INTERPRETATION OF SUMS ===\n",
      "Total Age: 857.0 years (combined age of all people)\n",
      "Total Salary: $1,387,373.0 (total payroll)\n",
      "Total Experience: 328.0 years (combined experience)\n",
      "Total Rating: 64.00 (sum of all ratings)\n"
     ]
    }
   ],
   "source": [
    "# Calculating the sum for all numeric columns\n",
    "sum_values = df.sum(numeric_only=True)\n",
    "print(\"Sum of values for all numeric columns:\")\n",
    "print(sum_values)\n",
    "\n",
    "# Let's interpret these sums\n",
    "print(\"\\n=== INTERPRETATION OF SUMS ===\")\n",
    "for column, value in sum_values.items():\n",
    "    if column == 'Age':\n",
    "        print(f\"Total {column}: {value} years (combined age of all people)\")\n",
    "    elif column == 'Salary':\n",
    "        print(f\"Total {column}: ${value:,} (total payroll)\")\n",
    "    elif column == 'Experience':\n",
    "        print(f\"Total {column}: {value} years (combined experience)\")\n",
    "    elif column == 'Rating':\n",
    "        print(f\"Total {column}: {value:.2f} (sum of all ratings)\")\n",
    "    else:\n",
    "        print(f\"Total {column}: {value}\")"
   ]
  },
  {
   "cell_type": "markdown",
   "id": "24d0538b",
   "metadata": {},
   "source": [
    "## Step 5: Comprehensive Descriptive Statistics\n",
    "\n",
    "The `describe()` method provides a comprehensive summary of statistical measures for all numeric columns at once."
   ]
  },
  {
   "cell_type": "code",
   "execution_count": 9,
   "id": "fce3dce1",
   "metadata": {},
   "outputs": [
    {
     "name": "stdout",
     "output_type": "stream",
     "text": [
      "Summary of Descriptive Statistics:\n",
      "             Age        Salary  Experience     Rating\n",
      "count  20.000000     20.000000   20.000000  20.000000\n",
      "mean   42.850000  69368.650000   16.400000   3.200000\n",
      "std    13.128013  24795.167751    8.804305   1.023415\n",
      "min    21.000000  32747.000000    1.000000   1.130000\n",
      "25%    33.000000  46671.750000   10.250000   2.575000\n",
      "50%    42.500000  68689.500000   15.500000   3.215000\n",
      "75%    55.750000  95125.000000   25.000000   3.997500\n",
      "max    63.000000  99092.000000   28.000000   4.840000\n",
      "\n",
      "=== EXPLANATION OF STATISTICS ===\n",
      "count: Number of non-null values\n",
      "mean:  Average value\n",
      "std:   Standard deviation (measure of spread)\n",
      "min:   Minimum value\n",
      "25%:   First quartile (25% of values are below this)\n",
      "50%:   Median (50% of values are below this)\n",
      "75%:   Third quartile (75% of values are below this)\n",
      "max:   Maximum value\n"
     ]
    }
   ],
   "source": [
    "# Descriptive statistics\n",
    "summary = df.describe()\n",
    "print(\"Summary of Descriptive Statistics:\")\n",
    "print(summary)\n",
    "\n",
    "# Let's understand what each statistic means\n",
    "print(\"\\n=== EXPLANATION OF STATISTICS ===\")\n",
    "print(\"count: Number of non-null values\")\n",
    "print(\"mean:  Average value\")\n",
    "print(\"std:   Standard deviation (measure of spread)\")\n",
    "print(\"min:   Minimum value\")\n",
    "print(\"25%:   First quartile (25% of values are below this)\")\n",
    "print(\"50%:   Median (50% of values are below this)\")\n",
    "print(\"75%:   Third quartile (75% of values are below this)\")\n",
    "print(\"max:   Maximum value\")"
   ]
  },
  {
   "cell_type": "markdown",
   "id": "bfa5b3b8",
   "metadata": {},
   "source": [
    "## Step 6: Additional Statistical Measures\n",
    "\n",
    "Let's explore some additional statistical measures that are commonly used in data analysis."
   ]
  },
  {
   "cell_type": "code",
   "execution_count": 10,
   "id": "46ae3ab5",
   "metadata": {},
   "outputs": [
    {
     "name": "stdout",
     "output_type": "stream",
     "text": [
      "=== ADDITIONAL STATISTICS ===\n",
      "Standard Deviation:\n",
      "  Age: 13.13\n",
      "  Salary: 24795.17\n",
      "  Experience: 8.80\n",
      "  Rating: 1.02\n",
      "\n",
      "Variance:\n",
      "  Age: 172.34\n",
      "  Salary: 614800343.82\n",
      "  Experience: 77.52\n",
      "  Rating: 1.05\n",
      "\n",
      "Minimum values:\n",
      "Age              21.00\n",
      "Salary        32747.00\n",
      "Experience        1.00\n",
      "Rating            1.13\n",
      "dtype: float64\n",
      "\n",
      "Maximum values:\n",
      "Age              63.00\n",
      "Salary        99092.00\n",
      "Experience       28.00\n",
      "Rating            4.84\n",
      "dtype: float64\n",
      "\n",
      "Range (Max - Min):\n",
      "Age              42.00\n",
      "Salary        66345.00\n",
      "Experience       27.00\n",
      "Rating            3.71\n",
      "dtype: float64\n"
     ]
    }
   ],
   "source": [
    "# Additional statistical measures\n",
    "print(\"=== ADDITIONAL STATISTICS ===\")\n",
    "\n",
    "# Standard deviation (measure of variability)\n",
    "print(\"Standard Deviation:\")\n",
    "std_values = df.std(numeric_only=True)\n",
    "for column, value in std_values.items():\n",
    "    print(f\"  {column}: {value:.2f}\")\n",
    "\n",
    "# Variance (square of standard deviation)\n",
    "print(\"\\nVariance:\")\n",
    "var_values = df.var(numeric_only=True)\n",
    "for column, value in var_values.items():\n",
    "    print(f\"  {column}: {value:.2f}\")\n",
    "\n",
    "# Min and Max values\n",
    "print(\"\\nMinimum values:\")\n",
    "min_values = df.min(numeric_only=True)\n",
    "print(min_values)\n",
    "\n",
    "print(\"\\nMaximum values:\")\n",
    "max_values = df.max(numeric_only=True)\n",
    "print(max_values)\n",
    "\n",
    "# Range (difference between max and min)\n",
    "print(\"\\nRange (Max - Min):\")\n",
    "range_values = max_values - min_values\n",
    "print(range_values)"
   ]
  },
  {
   "cell_type": "markdown",
   "id": "f87e3797",
   "metadata": {},
   "source": [
    "## Step 7: Statistical Analysis by Groups\n",
    "\n",
    "Let's perform statistical analysis grouped by categorical variables to gain more insights."
   ]
  },
  {
   "cell_type": "code",
   "execution_count": 11,
   "id": "1fbf7a3e",
   "metadata": {},
   "outputs": [
    {
     "name": "stdout",
     "output_type": "stream",
     "text": [
      "=== STATISTICS BY DEPARTMENT ===\n",
      "              Age                  Salary                    Experience  \\\n",
      "             mean median    std      mean   median       std       mean   \n",
      "Department                                                                \n",
      "HR          41.00   41.0  16.45  69738.00  83707.0  31251.60      16.00   \n",
      "IT          42.56   42.0  12.23  72976.89  65773.0  18517.39      18.56   \n",
      "Marketing   46.75   43.0  11.09  60603.75  56116.5  29735.83      12.25   \n",
      "\n",
      "                        Rating               \n",
      "           median   std   mean median   std  \n",
      "Department                                   \n",
      "HR           14.0  8.76   3.56   3.99  1.07  \n",
      "IT           24.0  9.57   2.70   2.58  1.00  \n",
      "Marketing    13.5  7.50   3.70   3.63  0.55  \n",
      "\n",
      "=== STATISTICS BY CITY ===\n",
      "           Age    Salary  Experience  Rating\n",
      "City                                        \n",
      "Chicago   49.0  79714.00       19.33    2.35\n",
      "Dallas    31.0  62937.67       14.00    3.83\n",
      "Houston   43.0  60662.00       17.60    3.78\n",
      "New York  42.5  69494.33       13.67    3.25\n"
     ]
    }
   ],
   "source": [
    "# Group statistics by Department\n",
    "print(\"=== STATISTICS BY DEPARTMENT ===\")\n",
    "dept_stats = df.groupby('Department').agg({\n",
    "    'Age': ['mean', 'median', 'std'],\n",
    "    'Salary': ['mean', 'median', 'std'],\n",
    "    'Experience': ['mean', 'median', 'std'],\n",
    "    'Rating': ['mean', 'median', 'std']\n",
    "}).round(2)\n",
    "\n",
    "print(dept_stats)\n",
    "\n",
    "# Group statistics by City\n",
    "print(\"\\n=== STATISTICS BY CITY ===\")\n",
    "city_stats = df.groupby('City').agg({\n",
    "    'Age': 'mean',\n",
    "    'Salary': 'mean',\n",
    "    'Experience': 'mean',\n",
    "    'Rating': 'mean'\n",
    "}).round(2)\n",
    "\n",
    "print(city_stats)"
   ]
  },
  {
   "cell_type": "markdown",
   "id": "4edf3fa4",
   "metadata": {},
   "source": [
    "## Step 8: Statistical Insights and Interpretation\n",
    "\n",
    "Let's analyze our statistical results to gain meaningful insights from the data."
   ]
  },
  {
   "cell_type": "code",
   "execution_count": 12,
   "id": "c2aa1f0b",
   "metadata": {},
   "outputs": [
    {
     "name": "stdout",
     "output_type": "stream",
     "text": [
      "=== DATA INSIGHTS ===\n",
      "Age Analysis:\n",
      "  Average age: 42.9 years\n",
      "  Most people are between 29.7 and 56.0 years old\n",
      "\n",
      "Salary Analysis:\n",
      "  Average salary: $69,368.65\n",
      "  Median salary: $68,689.50\n",
      "  Mean > Median suggests some high earners are pulling the average up\n",
      "\n",
      "Experience Analysis:\n",
      "  Average experience: 16.4 years\n",
      "  Experience to age ratio: 0.38\n",
      "\n",
      "Rating Analysis:\n",
      "  Average rating: 3.20 / 5.0\n",
      "  Standard deviation: 1.02\n",
      "  High standard deviation suggests varied performance ratings\n"
     ]
    }
   ],
   "source": [
    "# Generate insights from our statistical analysis\n",
    "print(\"=== DATA INSIGHTS ===\")\n",
    "\n",
    "# Age analysis\n",
    "age_mean = df['Age'].mean()\n",
    "age_std = df['Age'].std()\n",
    "print(f\"Age Analysis:\")\n",
    "print(f\"  Average age: {age_mean:.1f} years\")\n",
    "print(f\"  Most people are between {age_mean-age_std:.1f} and {age_mean+age_std:.1f} years old\")\n",
    "\n",
    "# Salary analysis\n",
    "salary_mean = df['Salary'].mean()\n",
    "salary_median = df['Salary'].median()\n",
    "print(f\"\\nSalary Analysis:\")\n",
    "print(f\"  Average salary: ${salary_mean:,.2f}\")\n",
    "print(f\"  Median salary: ${salary_median:,.2f}\")\n",
    "if salary_mean > salary_median:\n",
    "    print(f\"  Mean > Median suggests some high earners are pulling the average up\")\n",
    "else:\n",
    "    print(f\"  Mean ≤ Median suggests a relatively even salary distribution\")\n",
    "\n",
    "# Experience vs Age correlation\n",
    "experience_mean = df['Experience'].mean()\n",
    "print(f\"\\nExperience Analysis:\")\n",
    "print(f\"  Average experience: {experience_mean:.1f} years\")\n",
    "print(f\"  Experience to age ratio: {experience_mean/age_mean:.2f}\")\n",
    "\n",
    "# Rating analysis\n",
    "rating_mean = df['Rating'].mean()\n",
    "rating_std = df['Rating'].std()\n",
    "print(f\"\\nRating Analysis:\")\n",
    "print(f\"  Average rating: {rating_mean:.2f} / 5.0\")\n",
    "print(f\"  Standard deviation: {rating_std:.2f}\")\n",
    "if rating_std < 1:\n",
    "    print(f\"  Low standard deviation suggests consistent performance ratings\")\n",
    "else:\n",
    "    print(f\"  High standard deviation suggests varied performance ratings\")"
   ]
  },
  {
   "cell_type": "markdown",
   "id": "6c5c9ba0",
   "metadata": {},
   "source": [
    "## Summary\n",
    "\n",
    "In this notebook, we explored fundamental statistical concepts using Pandas:\n",
    "\n",
    "### Basic Statistics Covered\n",
    "1. **Mean**: Average value, sensitive to outliers\n",
    "2. **Median**: Middle value, robust to outliers\n",
    "3. **Sum**: Total of all values\n",
    "4. **Standard Deviation**: Measure of data spread\n",
    "5. **Min/Max**: Extreme values\n",
    "6. **Quartiles**: Data distribution points\n",
    "\n",
    "### Key Functions Used\n",
    "- `df.mean()`: Calculate averages\n",
    "- `df.median()`: Find middle values\n",
    "- `df.sum()`: Compute totals\n",
    "- `df.describe()`: Comprehensive statistics summary\n",
    "- `df.std()`: Standard deviation\n",
    "- `df.var()`: Variance\n",
    "- `df.min()` / `df.max()`: Extreme values\n",
    "- `df.groupby().agg()`: Group-wise statistics\n",
    "\n",
    "### Important Insights\n",
    "- **Mean vs Median**: Compare to understand data distribution\n",
    "- **Standard Deviation**: Higher values indicate more variability\n",
    "- **Grouped Statistics**: Reveal patterns across categories\n",
    "- **Statistical Interpretation**: Context matters for meaningful analysis\n",
    "\n",
    "## Best Practices\n",
    "\n",
    "1. **Always explore your data** before applying statistics\n",
    "2. **Use `numeric_only=True`** when working with mixed data types\n",
    "3. **Compare mean and median** to understand distribution shape\n",
    "4. **Consider outliers** when interpreting results\n",
    "5. **Group by categories** for deeper insights\n",
    "6. **Round results appropriately** for readability\n",
    "7. **Provide context** when interpreting statistical measures\n",
    "\n",
    "## Next Steps\n",
    "\n",
    "- Learn about data visualization to complement statistical analysis\n",
    "- Explore correlation analysis between variables\n",
    "- Study advanced statistical measures (skewness, kurtosis)\n",
    "- Practice with different datasets and domains\n",
    "- Learn about statistical hypothesis testing"
   ]
  }
 ],
 "metadata": {
  "kernelspec": {
   "display_name": "damin2025",
   "language": "python",
   "name": "python3"
  },
  "language_info": {
   "codemirror_mode": {
    "name": "ipython",
    "version": 3
   },
   "file_extension": ".py",
   "mimetype": "text/x-python",
   "name": "python",
   "nbconvert_exporter": "python",
   "pygments_lexer": "ipython3",
   "version": "3.12.11"
  }
 },
 "nbformat": 4,
 "nbformat_minor": 5
}
