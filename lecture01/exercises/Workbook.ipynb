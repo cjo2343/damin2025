{
 "cells": [
  {
   "cell_type": "code",
   "execution_count": 1,
   "id": "4e1675dc",
   "metadata": {},
   "outputs": [],
   "source": [
    "import drunken_1\n",
    "import drunken_2\n",
    "import drunken_3\n",
    "import numpy as np"
   ]
  },
  {
   "cell_type": "code",
   "execution_count": 3,
   "id": "05a5f22a",
   "metadata": {},
   "outputs": [
    {
     "name": "stdout",
     "output_type": "stream",
     "text": [
      "Starting positions: [0, 0, 0, 0, 0]\n",
      "Step 1: [-1, -1, 1, 1, 1]\n",
      "Step 2: [0, -2, 2, 0, 2]\n",
      "Step 3: [-1, -1, 1, -1, 1]\n",
      "Step 4: [0, -2, 0, 0, 0]\n",
      "Step 5: [-1, -1, -1, 1, -1]\n",
      "Step 6: [-2, 0, 0, 0, 0]\n",
      "Step 7: [-1, 1, -1, -1, 1]\n",
      "Step 8: [0, 2, 0, 0, 2]\n",
      "Step 9: [1, 1, -1, 1, 1]\n",
      "Step 10: [0, 2, 0, 2, 2]\n",
      "Step 11: [-1, 1, -1, 1, 1]\n",
      "Step 12: [-2, 0, 0, 2, 2]\n",
      "Step 13: [-1, 1, 1, 1, 3]\n",
      "Step 14: [-2, 0, 0, 0, 4]\n",
      "Step 15: [-1, 1, 1, -1, 5]\n",
      "Step 16: [-2, 2, 2, -2, 4]\n",
      "Step 17: [-1, 3, 1, -3, 3]\n",
      "Step 18: [-2, 2, 0, -4, 2]\n",
      "Step 19: [-3, 1, 1, -3, 1]\n",
      "Step 20: [-2, 2, 2, -2, 2]\n",
      "Step 21: [-1, 1, 1, -3, 3]\n",
      "Step 22: [0, 2, 0, -2, 2]\n",
      "Step 23: [1, 1, 1, -3, 1]\n",
      "Step 24: [2, 0, 0, -4, 0]\n",
      "Step 25: [3, -1, 1, -3, 1]\n",
      "Step 26: [2, -2, 2, -4, 0]\n",
      "Step 27: [1, -1, 3, -3, -1]\n",
      "Step 28: [0, -2, 4, -4, -2]\n",
      "Step 29: [-1, -3, 3, -3, -3]\n",
      "Step 30: [0, -4, 2, -4, -2]\n",
      "Step 31: [-1, -5, 3, -5, -1]\n",
      "Step 32: [0, -4, 4, -6, -2]\n",
      "Step 33: [1, -5, 5, -7, -3]\n",
      "Step 34: [2, -6, 4, -6, -2]\n",
      "Step 35: [1, -5, 5, -7, -1]\n",
      "Step 36: [2, -6, 6, -6, -2]\n",
      "Step 37: [3, -5, 7, -5, -3]\n",
      "Step 38: [4, -6, 6, -4, -2]\n",
      "Step 39: [5, -7, 7, -3, -1]\n",
      "Step 40: [6, -6, 8, -2, -2]\n",
      "Step 41: [5, -7, 7, -1, -3]\n",
      "Step 42: [4, -6, 6, -2, -4]\n",
      "Step 43: [5, -7, 5, -1, -3]\n",
      "Step 44: [4, -8, 4, 0, -4]\n",
      "Step 45: [3, -9, 5, 1, -3]\n",
      "Step 46: [2, -10, 6, 2, -2]\n",
      "Step 47: [1, -9, 5, 3, -3]\n",
      "Step 48: [0, -10, 6, 2, -4]\n",
      "Step 49: [-1, -9, 7, 3, -5]\n",
      "Step 50: [0, -10, 6, 2, -4]\n",
      "Step 51: [1, -11, 5, 1, -3]\n",
      "Step 52: [2, -10, 6, 0, -4]\n",
      "Step 53: [3, -11, 5, 1, -3]\n",
      "Step 54: [4, -12, 6, 2, -4]\n",
      "Step 55: [5, -13, 5, 1, -3]\n",
      "Step 56: [6, -12, 6, 2, -2]\n",
      "Step 57: [7, -11, 5, 3, -3]\n",
      "Step 58: [8, -12, 6, 2, -4]\n",
      "Step 59: [7, -11, 5, 3, -5]\n",
      "Step 60: [6, -10, 6, 4, -4]\n",
      "Step 61: [7, -11, 5, 3, -5]\n",
      "Step 62: [8, -10, 6, 2, -4]\n",
      "Step 63: [7, -11, 5, 1, -5]\n",
      "Step 64: [8, -12, 4, 2, -6]\n",
      "Step 65: [9, -11, 3, 3, -5]\n",
      "Step 66: [8, -12, 4, 2, -4]\n",
      "Step 67: [7, -13, 3, 3, -5]\n",
      "Step 68: [8, -14, 4, 4, -4]\n",
      "Step 69: [9, -13, 5, 5, -5]\n",
      "Step 70: [8, -12, 4, 4, -4]\n",
      "Step 71: [7, -13, 5, 5, -5]\n",
      "Step 72: [8, -14, 4, 4, -6]\n",
      "Step 73: [7, -13, 5, 5, -5]\n",
      "Step 74: [6, -12, 4, 6, -6]\n",
      "Step 75: [7, -11, 3, 5, -5]\n",
      "Step 76: [6, -10, 4, 4, -6]\n",
      "Step 77: [5, -9, 5, 5, -7]\n",
      "Step 78: [4, -8, 6, 4, -8]\n",
      "Step 79: [5, -9, 5, 3, -9]\n",
      "Step 80: [6, -8, 4, 2, -10]\n",
      "Step 81: [5, -9, 3, 3, -11]\n",
      "Step 82: [6, -10, 2, 4, -10]\n",
      "Step 83: [5, -9, 3, 3, -9]\n",
      "Step 84: [6, -8, 4, 4, -10]\n",
      "Step 85: [5, -9, 5, 3, -9]\n",
      "Step 86: [6, -10, 4, 4, -8]\n",
      "Step 87: [5, -11, 3, 5, -9]\n",
      "Step 88: [6, -12, 2, 4, -10]\n",
      "Step 89: [7, -13, 3, 3, -11]\n",
      "Step 90: [8, -12, 4, 4, -12]\n",
      "Step 91: [7, -11, 5, 5, -11]\n",
      "Step 92: [6, -10, 6, 4, -10]\n",
      "Step 93: [7, -9, 7, 3, -11]\n",
      "Step 94: [8, -10, 6, 4, -12]\n",
      "Step 95: [7, -11, 5, 5, -11]\n",
      "Step 96: [6, -10, 6, 6, -12]\n",
      "Step 97: [7, -11, 7, 7, -13]\n",
      "Step 98: [6, -10, 8, 6, -14]\n",
      "Step 99: [5, -11, 9, 7, -15]\n",
      "Step 100: [4, -12, 10, 6, -16]\n"
     ]
    }
   ],
   "source": [
    "# Create a list of 5 drunken people\n",
    "drunks = drunken_1.create_drunken(5)\n",
    "print(f\"Starting positions: {drunks}\")\n",
    "\n",
    "# Run the simulation for 100 steps\n",
    "for i in range(100):\n",
    "    drunks = drunken_1.step(drunks)  # <-- Add the prefix here\n",
    "    print(f\"Step {i+1}: {drunks}\") "
   ]
  },
  {
   "cell_type": "markdown",
   "id": "052c5131",
   "metadata": {},
   "source": [
    "remember that the create_drunken creates <i>n</i> unique drunken people, so each number in the array represents one person and that person's final position after x number of steps.\n",
    "And each person starts from 0\n",
    "\n",
    "dr = dr + single_step(move), for each step, it saves the value of that position as dr. \n",
    "So for the first person at step number 3, we have dr = 0 and then we can see that the variable move = 0 since we go to position -1, \n",
    "so we get dr = 0 + single_step(0) = -1+-1 = 2"
   ]
  },
  {
   "cell_type": "code",
   "execution_count": 2,
   "id": "b0d034a8",
   "metadata": {},
   "outputs": [
    {
     "data": {
      "image/png": "[encoded data removed]",
      "text/plain": [
       "<Figure size 640x480 with 1 Axes>"
      ]
     },
     "metadata": {},
     "output_type": "display_data"
    }
   ],
   "source": [
    "\n",
    "drunk2 = drunken_2.create_drunken(1000)\n",
    "#print(drunk2)\n",
    "moved_drunken = drunken_2.random_walk(drunk2,1000)\n",
    "#print(moved_drunken)\n",
    "bins = 20 # number of bins\n",
    "visual = drunken_2.plot_drunken(moved_drunken, bins)"
   ]
  },
  {
   "cell_type": "markdown",
   "id": "dd1b2e83",
   "metadata": {},
   "source": [
    "<b>Just a quick note on the 'bin' and what it means: </b>\n",
    "\n",
    "A Simple Analogy: Sorting Rocks 🪨\n",
    "\n",
    "Imagine you have a pile of 8 rocks, each with a different size. You want to organize them. Instead of putting each rock on its own shelf, you decide to set up 4 empty buckets for different size ranges:\n",
    "\n",
    "Bucket 1: Small rocks\n",
    "\n",
    "Bucket 2: Medium rocks\n",
    "\n",
    "Bucket 3: Large rocks\n",
    "\n",
    "Bucket 4: Extra-large rocks\n",
    "\n",
    "You then go through your pile, pick up each rock, and drop it into the correct bucket. When you're done, you can see how your collection is distributed just by looking at how many rocks are in each bucket (for example: if we have most of the rocks in bucket 2, we can conclude that the collection contained most medium rocks).\n",
    "\n",
    "In a histogram, the data points are the rocks and the bins are the buckets."
   ]
  },
  {
   "cell_type": "markdown",
   "id": "0a8aff02",
   "metadata": {},
   "source": [
    "<b>A Concrete Example with Your Code</b>\n",
    "\n",
    "Let's say after your simulation, the final positions of 8 \"drunken people\" are:\n",
    "[-3, -2, -2, 0, 1, 1, 1, 4]\n",
    "\n",
    "Now, you want to create a histogram with bins = 4 (just an random chosen number).\n",
    "\n",
    "<b>Find the Range:</b> The data goes from a minimum of -3 to a maximum of +4.\n",
    "\n",
    "<b>Create the Bins: </b>\n",
    "The program divides this range into 4 equal ranged \"buckets\":\n",
    "\n",
    "Bin 1: Covers numbers from -3 to -1.25\n",
    "\n",
    "Bin 2: Covers numbers from -1.25 to 0.5\n",
    "\n",
    "Bin 3: Covers numbers from 0.5 to 2.25\n",
    "\n",
    "Bin 4: Covers numbers from 2.25 to 4\n",
    "\n",
    "<b>Sort the Data: </b>\n",
    "The program \"drops\" each person's final position into the correct bin:\n",
    "\n",
    "Bin 1 gets [-3, -2, -2]. (Count: 3)\n",
    "\n",
    "Bin 2 gets [0]. (Count: 1)\n",
    "\n",
    "Bin 3 gets [1, 1, 1]. (Count: 3)\n",
    "\n",
    "Bin 4 gets [4]. (Count: 1)\n",
    "\n",
    "<b>Draw the Histogram: </b>\n",
    "The final graph will have 4 bars (because 4 bins). The height of each bar is the count from the step above."
   ]
  },
  {
   "cell_type": "markdown",
   "id": "2aab24b7",
   "metadata": {},
   "source": [
    "#### 5. So what came out of it? What does it look like? Should it look like that?\n",
    "As the plot shows, the distribution is centered around 0, with most of the drunken people ending up near where they started (because we are dealing with a symmetric random walk, meaning that for every right-headed walk, we have a similar left-headed that cancels each other out). This is consistent with the theory that the average expected position is 0. If we were to calculate the average of all 1000 final positions, the positive and negative values would cancel each other out, resulting in a mean very close to zero. The spread in the results, including the outliers, is a natural feature that demonstrates how the walkers disperse over time."
   ]
  },
  {
   "cell_type": "markdown",
   "id": "db211d88",
   "metadata": {},
   "source": [
    "#### 6. Choose several different numbers of bins and repeat them. Why do you think they look different? What criterion should you use to select a good number of bins?\n",
    "The histograms look different because the number of bins changes how the data is grouped. With too few bins, all the data points are lumped together into wide bars, hiding the true shape of the distribution. With too many bins, the bars become too narrow and noisy, making it difficult to see the overall pattern.\n",
    "\n",
    "The best criterion for selecting the number of bins is to find a balance that most accurately reveals the underlying shape of the data's distribution. While our hypothesis is that the average is zero, the histogram's main purpose is to visualize the distribution's properties, such as its central peak and symmetry. A good number of bins will clearly show that the data is centered around zero and roughly symmetrical, which supports the theory that the positive and negative outliers cancel each other out.\n",
    "\n",
    "Too few bins over-simplifies the data (sometimes called over-smoothing). You lose important details about the shape.\n",
    "\n",
    "Too many bins over-complicates the data, showing a lot of random noise instead of the true underlying pattern (sometimes called over-fitting).\n",
    "\n"
   ]
  },
  {
   "cell_type": "code",
   "execution_count": 3,
   "id": "f9290d7a",
   "metadata": {},
   "outputs": [],
   "source": [
    "drunk_3 = drunken_3.create_drunken(1000)\n",
    "#print(drunk_3)\n",
    "random_move = drunken_3.random_walk(drunk_3,1000)\n",
    "export_drunk = drunken_3.export_data(random_move,'test')\n"
   ]
  },
  {
   "cell_type": "markdown",
   "id": "29b46aad",
   "metadata": {},
   "source": [
    "Using NumPy to calculate the average distance from starting point 0 for each drunken person. \n",
    "With NumPy we can get the absolut value, meaning we get rid of the - in front of negative values, which is needed for distances (since -10 and +10 are both 10 positions away from 0)"
   ]
  },
  {
   "cell_type": "code",
   "execution_count": 4,
   "id": "a3e43987",
   "metadata": {},
   "outputs": [
    {
     "name": "stdout",
     "output_type": "stream",
     "text": [
      "The median positon is: 1.096\n",
      "The average distance is: 25.12\n",
      "The square root of 1000 is (Standard Deviation): 31.622776601683793\n",
      "{25.298221281347036}\n"
     ]
    }
   ],
   "source": [
    "final_positions = [4,-6,-26,-28,6,-10,56,52,-24,-10,-10,-16,-26,-24,16,54,6,-2,34,-46,74,40,24,2,16,-72,-62,64,4,-16,50,-12,14,-18,10,28,12,28,-28,-30,4,26,32,48,-24,36,-52,34,-32,2,52,36,-6,12,-44,12,34,36,22,-28,-50,4,-10,-10,-4,-16,-4,44,40,4,-4,-10,-14,18,12,52,30,-8,-40,-24,6,-52,54,-18,28,-38,-58,-18,48,-30,-62,-32,48,-18,52,-10,32,-6,-6,12,32,14,-56,-36,18,-26,-54,10,50,-10,-46,32,-62,-70,24,-56,-22,-6,-68,-4,-36,-4,0,-48,-18,-28,6,6,-20,32,38,20,10,20,16,24,12,38,-78,16,14,0,-34,74,76,-88,18,-6,10,-22,14,-34,32,42,52,2,16,-8,-18,-6,6,6,90,24,40,-6,6,-56,38,-44,26,-30,-24,-18,60,40,6,22,-4,22,-36,4,60,-26,42,22,-48,-4,-28,-34,-42,10,4,68,-20,-58,2,12,-38,-30,20,16,6,34,-26,32,-70,-42,-22,38,-16,-54,-16,8,66,46,-56,-46,24,-32,-2,-20,-38,28,-22,20,14,-6,40,-18,0,4,-38,52,6,-8,-22,26,-4,22,18,4,12,-16,-30,54,48,-34,26,20,42,2,-28,58,12,-18,16,18,-6,-28,60,42,-24,8,50,-10,34,20,6,-8,60,-38,20,36,-4,16,-44,-4,-6,22,14,14,6,-18,0,14,30,42,50,-4,20,-6,30,10,6,42,-6,-34,-46,34,44,-14,26,-26,40,18,88,-8,-48,-12,28,-6,-4,12,-22,34,6,-4,10,32,58,-40,26,32,8,30,-8,-18,-24,-42,68,60,-16,10,-22,-72,-26,-18,-38,20,36,-28,-26,4,20,46,2,12,2,8,-16,14,26,-40,-30,56,0,22,-6,-18,12,-30,-16,22,-16,8,-64,-14,14,34,36,2,28,0,-22,38,12,-10,-36,16,6,-50,18,6,-2,24,36,32,-8,24,42,36,24,58,-4,-30,32,2,-58,-28,-8,6,58,12,22,4,6,4,18,-36,-32,36,-14,-28,78,-18,-28,32,6,-56,26,4,28,10,-14,-12,-16,8,-42,42,14,12,22,40,-6,18,14,-34,22,12,0,-8,16,-10,-24,-18,-24,-8,52,-52,-24,4,-82,22,-36,76,32,26,22,-20,16,-18,-6,22,-30,66,-18,-48,-42,18,-38,-34,-26,-46,-40,12,36,-50,-16,26,42,10,-6,-30,70,16,-50,-28,-12,34,-40,-24,-4,6,-10,-16,-44,40,-10,4,-4,-30,14,4,30,34,30,-18,-2,-14,-10,-12,22,-30,-12,10,-44,-2,-44,-42,12,-30,6,12,2,-74,-4,-22,-14,82,-2,2,12,-62,-14,26,-50,16,-16,-8,14,-12,-64,-6,-24,62,-28,-38,16,-60,8,-14,-46,24,10,32,-14,-4,40,-4,10,10,26,12,-12,-36,0,-20,-4,14,60,-4,2,20,-54,-60,48,4,-26,60,22,-10,-22,6,-18,-36,20,18,2,-6,-8,0,24,-44,-28,24,-12,-4,22,-34,16,44,36,10,-28,-14,-10,-4,-8,0,-20,14,0,-48,-8,24,-52,40,16,16,14,-6,4,6,-44,0,-56,-24,48,-36,62,38,-4,-36,-4,76,-54,30,20,-10,18,-6,40,-52,-6,4,32,0,10,22,-42,-8,22,0,46,14,-2,-30,-46,38,-26,6,-38,-16,-12,36,8,-20,-6,-32,28,36,34,-14,6,82,14,52,0,2,-14,-24,64,-62,32,10,10,-18,-52,-38,-54,10,-12,26,0,16,-16,32,-12,-36,88,24,-38,56,-30,-26,-16,-16,48,18,60,-22,6,-14,-18,4,-4,18,36,-4,-20,20,-2,22,-36,-24,34,26,-42,40,16,-26,20,-42,-64,20,30,-4,34,20,-56,34,-10,-50,-30,-52,18,8,-30,8,-14,0,-52,16,-14,-30,-22,-42,-10,-48,-16,12,-34,48,6,18,-2,12,0,40,-24,-18,34,-14,26,-32,54,48,-48,0,-8,26,10,-24,-20,40,-6,32,58,-18,10,32,-50,-38,0,-24,12,52,-24,30,-22,-24,36,-6,-12,-52,20,28,-24,-40,-30,-32,20,-30,2,-12,-10,20,-30,0,72,22,74,16,-2,-8,26,12,32,38,-16,2,36,-2,6,12,-34,42,24,10,6,34,-48,-14,22,48,54,2,58,-26,8,42,12,4,-24,-34,-46,36,2,28,4,36,10,16,36,-54,28,-58,-30,0,18,0,16,-2,28,-30,6,-24,-18,-56,-12,12,56,-22,44,-8,4,44,18,22,52,-10,58,-38,-20,42,-12,-22,-40,-58,2,6,-6,0,18,8,28,16,-16,74,-68,22,-56,36,6,-4,-36,6,4,-22,-32,-12,-18,26,2,20,6,22,-10,-10,-18,-32,-26,30,-18,18,-28,16,-4,-40,-2,16,-6,2,-36,14,66,26,16,24,6,-8,48,54,-14,-12,8,-22,-46,-28,-4,6,-4,30,-34,16,-28,22,28,4,42,-44,-42,-14,18,-24,32,20,10,8,-4,14,-12,-16,50,-22,-40,-8,-36,18,-2,18,-38,-6,2,60,24,16,-102,14]\n",
    "\n",
    "distances = np.abs(final_positions)\n",
    "\n",
    "median_positions = np.mean(final_positions)\n",
    "print(f\"The median positon is: {median_positions}\")\n",
    "\n",
    "average_distance = np.mean(distances)\n",
    "print(f\"The average distance is: {average_distance}\")\n",
    "\n",
    "square = np.sqrt(1000)\n",
    "print(f\"The square root of 1000 is (Standard Deviation): {square}\")\n",
    "print({square * 0.8}) #from the formula which gives us the precise deviation working with large amounts of numbers"
   ]
  },
  {
   "cell_type": "markdown",
   "id": "316ccad2",
   "metadata": {},
   "source": [
    "#### Let's discuss what we just did in the above cell(s)\n",
    "- First off we have created a list of numbers based on 1000 drunken people each taking 1000 random steps. We call this list 'final_positions'. And we have created the list by using the function 'export_drunk' from drunken_3.py.\n",
    "\n",
    "- We then made use of 'np.abs' on the final_positions to get the absolut values from the list of numbers, meaning we got rid of the minus sign in front of some of the values\n",
    "\n",
    "- We then use 'np.mean' to find the median from all the 1000 final positions, which, in this case, got us 1.096 as the median position from goal.\n",
    "\n",
    "- We then use 'np.mean' to find the median distance, using the 'distance' variable created from the 'np.abs' function (Which got us the absolut values from the list)\n",
    "\n",
    "- The difference between the two 'np.mean''s is that the first one finds the average final position with both negative and positive numbers. The second one uses the absolut values from the list because when calculating the average distance, we do not care about negative and positive values since -20 and +20 both are 20 positions away from the start position 0.\n",
    "\n",
    "- From our theory, we have learned that the expected distance should be proportional to the square root of n, which, in this case, is 1000, hence we make use of np.sqrt(1000)\n",
    "This gives us 31.6 and from the average_distance we got 25.12, which is indeed proportional to the square root of 1000. \n",
    "\n",
    "- However, we know that we can be really precise by multiplying the result of calculating the square root with 0.8 = 25.29, and as just written we got 25.12 from the average_distances, so we can confirm that our calculations are on point. \n",
    "\n"
   ]
  },
  {
   "cell_type": "code",
   "execution_count": 5,
   "id": "eed7fb4a",
   "metadata": {},
   "outputs": [
    {
     "name": "stdout",
     "output_type": "stream",
     "text": [
      "Median = -1.214\n",
      "Standard Deviation = 31.669578525771385\n",
      "Bin Edges: [-118.  -96.  -74.  -52.  -30.   -8.   14.   36.   58.   80.  102.]\n"
     ]
    },
    {
     "data": {
      "image/png": "[encoded data removed]",
      "text/plain": [
       "<Figure size 640x480 with 1 Axes>"
      ]
     },
     "metadata": {},
     "output_type": "display_data"
    }
   ],
   "source": [
    "mu, std = drunken_3.normal_drunkens(random_move)\n",
    "\n",
    "\n",
    "bins = 10\n",
    "drunken_3.normal_fit_plot(random_move, bins, mu, std)"
   ]
  },
  {
   "cell_type": "markdown",
   "id": "ddb1e8c7",
   "metadata": {},
   "source": [
    "#### Breaking Down Your Bin Edges\n",
    "Your output was: [-118., -96., -74., -52., -30., -8., 14., 36., 58., 80., 102.]\n",
    "\n",
    "Here’s how to read it:\n",
    "\n",
    "Bin 1 covers the range from -118 to -96. It contains any walker whose final position was in this interval.\n",
    "\n",
    "Bin 2 covers from -96 to -74.\n",
    "\n",
    "Bin 3 covers from -74 to -52.\n",
    "\n",
    "Bin 4 covers from -52 to -30.\n",
    "\n",
    "...and so on, until the last one.\n",
    "\n",
    "The last bin covers from 80 to 102.\n",
    "\n",
    "If you have 10 bins, you will always have 11 edges to define them, just like you need two fence posts to hold up one section of a fence."
   ]
  },
  {
   "cell_type": "markdown",
   "id": "64604a13",
   "metadata": {},
   "source": [
    "- So what is seen in this graph, is a very different y-axis, which we have to understand in order for the whole graph to make sense. \n",
    "- In the function for the 'normal_fit_plot', we have the following line: plt.hist(drunken, bins, density=True).\n",
    "Let's break down what the density=True means: \n",
    "- Without density=True (the default): The y-axis would be a simple count. If a bar had a height of 50, it would mean 50 drunken people ended up in that bin's range.\n",
    "-With density=True: The histogram is normalized. This means the heights of all the bars are scaled down so that the total area of all the bars equals 1. This transforms the histogram from a frequency chart into a proper probability distribution.\n",
    "#### A Simple Analogy: A Class Vote (the total area of all the bars equals 1)\n",
    "\n",
    "Imagine you ask a class of 20 students to vote for their favorite fruit.\n",
    "\n",
    "Apple: 10 votes\n",
    "\n",
    "Orange: 6 votes\n",
    "\n",
    "Banana: 4 votes\n",
    "\n",
    "A simple bar chart of this would have the y-axis showing the raw count of votes (10, 6, 4).\n",
    "\n",
    "Now, what if you wanted to describe this not in counts, but in proportions of the total class? You would divide each count by the total number of students (20).\n",
    "\n",
    "Apple: 10 / 20 = 0.5 (50% of the class)\n",
    "\n",
    "Orange: 6 / 20 = 0.3 (30% of the class)\n",
    "\n",
    "Banana: 4 / 20 = 0.2 (20% of the class)\n",
    "\n",
    "Notice that if you add up these new values, you get 0.5 + 0.3 + 0.2 = 1.0 (100% of the class). This is what \"scaling so the total equals 1\" means. You've normalized the data.\n",
    "\n",
    "#### How to interpret the y-axis\n",
    "Because it's a probability density, you can't just read the probability off the y-axis. Instead, the area of a bar represents the probability.\n",
    "\n",
    "Area of one bar = (Height of the bar) × (Width of the bar)\n",
    "\n",
    "So, if a bar has a height of 0.012 (we read this from the y-axis) and its bin covers a range of 10 positions (e.g., from 0 to 10), \n",
    "the approximate probability of a person landing in that range is 0.012 * 10 = 0.12, or 12%.\n",
    "\n",
    "The main takeaway is that a higher bar means a more probable region. The peak of your graph around 0 is the most likely area for a person to end up.\n",
    "\n",
    "#### Why is This Done?\n",
    "The code sets density=True for one crucial reason: to allow a direct comparison between your experimental data (the blue bars) and the theoretical model (the black curve).\n",
    "\n",
    "The black curve is a Normal Distribution, which is a probability density function. The total area under this curve is also 1. By normalizing your histogram, you put both the bars and the curve on the same scale, so you can visually judge how well your data fits the theoretical distribution.\n"
   ]
  },
  {
   "cell_type": "markdown",
   "id": "d436f674",
   "metadata": {},
   "source": [
    "The black curve is the Normal Distribution, often called a \"bell curve.\" 🔔 It's a theoretical model that shows the ideal, perfectly smooth distribution for a random process like your walk.\n",
    "\n",
    "#### What the Curve Represents\n",
    "The Normal Distribution is a fundamental concept in statistics. It's a symmetric curve that is completely defined by just two parameters:\n",
    "\n",
    "The Mean (mu): The center of the bell -> The median final position, which will be very close to the starting position of 0\n",
    "\n",
    "The Standard Deviation (std): The width or \"spread\" of the bell -> The square root of n (the number of steps)\n",
    "\n",
    "#### How Your Code Draws It\n",
    "Your code draws this curve in two main steps:\n",
    "\n",
    "It gets the parameters from your data: The line mu, std = drunken_3.normal_drunkens(random_move) calculates the actual mean and standard deviation from the final positions of your 1000 simulated walkers.\n",
    "\n",
    "It generates the ideal curve: The line fit = norm.pdf(x, mu, std) uses those calculated mu and std values to create a perfect, theoretical bell curve that has the exact same center and spread as your experimental data. This curve is then plotted on your graph.\n",
    "\n",
    "#### The Purpose of the Curve\n",
    "The purpose of the black curve is to serve as a benchmark for comparison. It allows you to visually answer the question:\n",
    "\n",
    "\"How well does my messy, real-world experimental data (the blue bars) match the clean, ideal theoretical model (the black curve)?\"\n",
    "\n",
    "In your case, the bars fit the curve very well. This is a powerful visual confirmation of the Central Limit Theorem, which predicts that the result of many random steps (like a random walk) will be normally distributed."
   ]
  },
  {
   "cell_type": "markdown",
   "id": "c514f672",
   "metadata": {},
   "source": [
    "#### Part 4 – If a drunkard lives far away from where they live, can they get home?\n",
    "1. Now, that’s a good question. According to our model, the answer should be\n",
    "“Probably Not.” Can you argue why? What can you do to check it with what we\n",
    "got? Good luck!\n",
    "2. What about the theory? What should be the expected median after a long time? Why do you think it is only sometimes the case?\n",
    "3. What else might be causing some of it regarding computers?"
   ]
  },
  {
   "cell_type": "markdown",
   "id": "6b3c8422",
   "metadata": {},
   "source": [
    "1. We can check the probability of a single drunken walker getting home by looking at the model, we've just created. We have learned from theory that it is a Normal distribution of events.\n",
    "#### The Central Limit Theorem (CLT)\n",
    "The CLT states that if you take almost any random process and sum up its results many times, the distribution of that sum will tend to look like a bell curve (a Normal Distribution). This is true even if the original random process itself doesn't follow a bell curve at all.\n",
    "\n",
    "#### How This Applies to the Random Walk\n",
    "Your random walk is a perfect example of the Central Limit Theorem in action.\n",
    "\n",
    "A Single Step: One step is a very simple random event: a 50% chance of being at +1 and a 50% chance of being at -1.\n",
    "\n",
    "The Final Position: The final position after 1000 steps is simply the sum of 1000 of these independent random steps.\n",
    "\n",
    "Because you are taking the sum of many independent random events, the Central Limit Theorem guarantees that the distribution of the possible final positions will be a Normal Distribution.\n",
    "\n",
    "We know that when each drunken person is done walking 1000 steps, they'll end up between either -x or +x (or 0). Because each step has a 50% chance of happening, most of the final positions can be canceled out with each other, making a central point on the curve around 0; so the median of all final positions will be very closr to 0 (the starting point).\n",
    "#### Standard deviation and the 68-95-99.7 rule from Normal Distribution\n",
    "In theory we would \"normally\" work with three standard deviations from the mean, but in our case we only work with 1, which is the one we find by taking the square root of the number of steps (1000) = 31.6. \n",
    "\n",
    "Then, we have a rule for Normal Distribution that says that for the first Standard deviation of the mean, 68% of the data points fall into this range, meaning that 68% of all the drunken walkers will end up in a range from -32 to +32. \n",
    "\n",
    "To find the second Standard deviation, we simply multiply the result of the first by 2, giving us 31.6*2 =63.2. And from theory, we have that 95% of all data points fall into this range (-63 to +63). \n",
    "\n",
    "Meaning, that if a person lives further away than 63 places, then it is very unlikely that that person will find home. \n",
    "\n",
    "<b>2. Since we are working with a symmetric walk where the probability of either going left or right (- or +) is equally likely, the amount of time and steps used doesnt matter for the median. In theory, the median will always be exactly 0. This is because of each final positon on the minus side there will be an equal final position on the plus side. </b>\n",
    "\n",
    "The 'Why do you think it is only sometimes the case\" part has to do with theory vs. practice.\n",
    "\n",
    "The Theory (The \"Always\" Case): The theory describes the perfect, long-term average over an infinite number of possibilities. Because the walk is perfectly symmetric (50/50 chance of left vs. right), the theoretical median is always exactly 0.\n",
    "\n",
    "The Experiment (The \"Sometimes\" Case): Any simulation you run is just one experiment. It's a sample of the infinite possibilities and is subject to random chance.\n",
    "\n",
    "Analogy 🪙: Theory says if you flip a coin 1,000 times, you expect 500 heads. But in a real experiment, you'll only sometimes get exactly 500. You're much more likely to get a number close to it, like 495 or 508, just due to random luck.\n",
    "\n",
    "Your random walk is the same. The calculated median from your specific group of 1,000 walkers will fluctuate around 0 due to random chance. It will be close to 0, but only sometimes will it be exactly 0. \n",
    "\n",
    "\n"
   ]
  },
  {
   "cell_type": "code",
   "execution_count": 24,
   "id": "09ca735b",
   "metadata": {},
   "outputs": [
    {
     "name": "stdout",
     "output_type": "stream",
     "text": [
      "Hello, Christian\n"
     ]
    }
   ],
   "source": [
    "name = input('What is your name?')\n",
    "print('Hello, ' + name)"
   ]
  },
  {
   "cell_type": "code",
   "execution_count": 34,
   "id": "2f594e41",
   "metadata": {},
   "outputs": [
    {
     "name": "stdout",
     "output_type": "stream",
     "text": [
      "Age in ten years: 40\n",
      "The type of 'age' is: <class 'int'>\n"
     ]
    }
   ],
   "source": [
    "age = 30\n",
    "age_in_ten_years = age + 10\n",
    "print(f\"Age in ten years: {age_in_ten_years}\")\n",
    "\n",
    "print(f\"The type of 'age' is: {type(age)}\")"
   ]
  },
  {
   "cell_type": "code",
   "execution_count": null,
   "id": "ced82ce6",
   "metadata": {},
   "outputs": [
    {
     "name": "stdout",
     "output_type": "stream",
     "text": [
      "The type of 'age' is: <class 'int'>\n",
      "The type of 'name' is: <class 'str'>\n",
      "The type of 'height' is: <class 'float'>\n",
      "The type of 'fruits' is: <class 'list'>\n",
      "This ia a test on showing an objects type: <class 'type'>\n",
      "'age' is an integer!\n"
     ]
    }
   ],
   "source": [
    "# Define variables of different data types\n",
    "age = 30 #int\n",
    "name = \"Christian\" #string\n",
    "height = 185.5 #float\n",
    "fruits = [\"apple\", \"banana\", \"cherry\"] #list\n",
    "\n",
    "# Use type() to find out what each variable is\n",
    "print(f\"The type of 'age' is: {type(age)}\")\n",
    "print(f\"The type of 'name' is: {type(name)}\")\n",
    "print(f\"The type of 'height' is: {type(height)}\")\n",
    "print(f\"The type of 'fruits' is: {type(fruits)}\")\n",
    "print(f\"This ia a test on showing an objects type: \")\n",
    "\n",
    "# You can also use type() for checks in your code\n",
    "if type(age) == int:\n",
    "    print(\"'age' is an integer!\")"
   ]
  },
  {
   "cell_type": "code",
   "execution_count": 44,
   "id": "3e820b00",
   "metadata": {},
   "outputs": [
    {
     "ename": "TypeError",
     "evalue": "can only concatenate str (not \"int\") to str",
     "output_type": "error",
     "traceback": [
      "\u001b[31m---------------------------------------------------------------------------\u001b[39m",
      "\u001b[31mTypeError\u001b[39m                                 Traceback (most recent call last)",
      "\u001b[36mCell\u001b[39m\u001b[36m \u001b[39m\u001b[32mIn[44]\u001b[39m\u001b[32m, line 5\u001b[39m\n\u001b[32m      2\u001b[39m user_input = \u001b[33m\"\u001b[39m\u001b[33m5\u001b[39m\u001b[33m\"\u001b[39m \u001b[38;5;66;03m#string\u001b[39;00m\n\u001b[32m      4\u001b[39m \u001b[38;5;66;03m# This will crash because you can't add a string and a number\u001b[39;00m\n\u001b[32m----> \u001b[39m\u001b[32m5\u001b[39m result = \u001b[43muser_input\u001b[49m\u001b[43m \u001b[49m\u001b[43m+\u001b[49m\u001b[43m \u001b[49m\u001b[32;43m10\u001b[39;49m \u001b[38;5;66;03m# TypeError: can only concatenate str (not \"int\") to str\u001b[39;00m\n\u001b[32m      6\u001b[39m \u001b[38;5;28mprint\u001b[39m(result)\n\u001b[32m      8\u001b[39m \u001b[38;5;66;03m# How to debug:\u001b[39;00m\n",
      "\u001b[31mTypeError\u001b[39m: can only concatenate str (not \"int\") to str"
     ]
    }
   ],
   "source": [
    "# You expect a number, but you accidentally got a string\n",
    "user_input = \"5\" #string\n",
    "\n",
    "# This will crash because you can't add a string and a number\n",
    "result = user_input + 10 # TypeError: can only concatenate str (not \"int\") to str\n",
    "print(result)\n",
    "\n",
    "# How to debug:\n",
    "print(type(user_input)) # Output: <class 'str'>\n",
    "# Aha! The problem is that user_input is a string, not an integer."
   ]
  },
  {
   "cell_type": "code",
   "execution_count": 45,
   "id": "65be9639",
   "metadata": {},
   "outputs": [
    {
     "name": "stdout",
     "output_type": "stream",
     "text": [
      "Hello, Christian!\n",
      "Hello, Alice!\n",
      "Hello, Bob!\n",
      "Hello, Charlie!\n"
     ]
    }
   ],
   "source": [
    "def greet(names):\n",
    "    if isinstance(names, list):\n",
    "        # If the input is a list, greet everyone\n",
    "        for name in names:\n",
    "            print(f\"Hello, {name}!\")\n",
    "    elif isinstance(names, str):\n",
    "        # If the input is a single string, greet that person\n",
    "        print(f\"Hello, {names}!\")\n",
    "\n",
    "greet(\"Christian\")\n",
    "greet([\"Alice\", \"Bob\", \"Charlie\"])"
   ]
  },
  {
   "cell_type": "code",
   "execution_count": 54,
   "id": "dff33312",
   "metadata": {},
   "outputs": [
    {
     "name": "stdout",
     "output_type": "stream",
     "text": [
      "It's a list!\n"
     ]
    }
   ],
   "source": [
    "names = [\"Alice\", \"Bob\"]\n",
    "\n",
    "# Here, 'names' is the 'obj'\n",
    "# and 'list' is the 'class_or_tuple'\n",
    "if isinstance(names, list):\n",
    "    print(\"It's a list!\") #this is printed because the boolean check on the object and the class type both turns true"
   ]
  },
  {
   "cell_type": "code",
   "execution_count": null,
   "id": "c314f85f",
   "metadata": {},
   "outputs": [
    {
     "name": "stdout",
     "output_type": "stream",
     "text": [
      "x is a number!\n"
     ]
    }
   ],
   "source": [
    "x = 5\n",
    "\n",
    "# Check if x is an integer OR a float\n",
    "if isinstance(x, (int, str)):\n",
    "    print(\"x is a number!\") #this gets printed because only one of the boolean checks has to be true for the whole check to be true (and x = integer)"
   ]
  },
  {
   "cell_type": "code",
   "execution_count": 63,
   "id": "deb832ba",
   "metadata": {},
   "outputs": [
    {
     "data": {
      "text/plain": [
       "5729.5779513082325"
      ]
     },
     "execution_count": 63,
     "metadata": {},
     "output_type": "execute_result"
    }
   ],
   "source": [
    "import math\n",
    "round(3.1)\n",
    "#math.floor(3.1)\n",
    "math.sqrt(1000)\n",
    "\n",
    "math.degrees(100)"
   ]
  },
  {
   "cell_type": "code",
   "execution_count": 64,
   "id": "1c73bfac",
   "metadata": {},
   "outputs": [
    {
     "name": "stdout",
     "output_type": "stream",
     "text": [
      "1000\n"
     ]
    }
   ],
   "source": [
    "print(abs(-1000))"
   ]
  },
  {
   "cell_type": "code",
   "execution_count": 66,
   "id": "669e288e",
   "metadata": {},
   "outputs": [
    {
     "data": {
      "text/plain": [
       "True"
      ]
     },
     "execution_count": 66,
     "metadata": {},
     "output_type": "execute_result"
    }
   ],
   "source": [
    "math.isfinite(10000)"
   ]
  },
  {
   "cell_type": "code",
   "execution_count": null,
   "id": "2149df84",
   "metadata": {},
   "outputs": [],
   "source": []
  }
 ],
 "metadata": {
  "kernelspec": {
   "display_name": "damin2025",
   "language": "python",
   "name": "python3"
  },
  "language_info": {
   "codemirror_mode": {
    "name": "ipython",
    "version": 3
   },
   "file_extension": ".py",
   "mimetype": "text/x-python",
   "name": "python",
   "nbconvert_exporter": "python",
   "pygments_lexer": "ipython3",
   "version": "3.12.11"
  }
 },
 "nbformat": 4,
 "nbformat_minor": 5
}
