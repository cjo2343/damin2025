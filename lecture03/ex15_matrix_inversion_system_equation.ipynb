{
 "cells": [
  {
   "cell_type": "markdown",
   "id": "82c30e29",
   "metadata": {},
   "source": [
    "# Solving a System of Linear Equations by Matrix Inversion\n",
    "\n",
    "This notebook demonstrates how to solve a system of two linear equations using matrix inversion with NumPy. Each step is explained and shown in code and output.\n",
    "\n",
    "**Learning Objectives:**\n",
    "- Understand the matrix inversion method for solving systems of equations\n",
    "- Use NumPy to perform matrix operations in Python\n",
    "- Interpret step-by-step solutions\n",
    "\n",
    "**Prerequisites:**\n",
    "- Basic Python\n",
    "- Familiarity with matrices and linear algebra"
   ]
  },
  {
   "cell_type": "code",
   "execution_count": 1,
   "id": "6f16e4b5",
   "metadata": {},
   "outputs": [],
   "source": [
    "# Import the required libraries\n",
    "import numpy as np"
   ]
  },
  {
   "cell_type": "markdown",
   "id": "74924ad7",
   "metadata": {},
   "source": [
    "## Step 1: Define the Coefficient and Constant Matrices\n",
    "We define the coefficient matrix A and the constant matrix b."
   ]
  },
  {
   "cell_type": "code",
   "execution_count": 2,
   "id": "6c71e9be",
   "metadata": {},
   "outputs": [
    {
     "data": {
      "text/plain": [
       "(array([[2, 3],\n",
       "        [4, 1]]),\n",
       " array([6, 5]))"
      ]
     },
     "execution_count": 2,
     "metadata": {},
     "output_type": "execute_result"
    }
   ],
   "source": [
    "# Define the coefficient matrix A and the constant matrix b\n",
    "A = np.array([[2, 3], [4, 1]])\n",
    "b = np.array([6, 5])\n",
    "A, b"
   ]
  },
  {
   "cell_type": "markdown",
   "id": "3fcb515d",
   "metadata": {},
   "source": [
    "## Step 2: Calculate the Inverse of Matrix A\n",
    "We calculate the inverse of the coefficient matrix."
   ]
  },
  {
   "cell_type": "code",
   "execution_count": 3,
   "id": "19e42fa5",
   "metadata": {},
   "outputs": [
    {
     "data": {
      "text/plain": [
       "array([[-0.1,  0.3],\n",
       "       [ 0.4, -0.2]])"
      ]
     },
     "execution_count": 3,
     "metadata": {},
     "output_type": "execute_result"
    }
   ],
   "source": [
    "# Calculate the inverse of matrix A\n",
    "A_inv = np.linalg.inv(A)\n",
    "A_inv"
   ]
  },
  {
   "cell_type": "markdown",
   "id": "e489410a",
   "metadata": {},
   "source": [
    "## Step 3: Solve for X Using Matrix Multiplication\n",
    "We solve for the solution vector X using matrix multiplication."
   ]
  },
  {
   "cell_type": "code",
   "execution_count": 4,
   "id": "82e9af52",
   "metadata": {},
   "outputs": [
    {
     "data": {
      "text/plain": [
       "array([0.9, 1.4])"
      ]
     },
     "execution_count": 4,
     "metadata": {},
     "output_type": "execute_result"
    }
   ],
   "source": [
    "# Solve for X using matrix multiplication\n",
    "X = np.dot(A_inv, b)\n",
    "X"
   ]
  },
  {
   "cell_type": "markdown",
   "id": "2f56e2c4",
   "metadata": {},
   "source": [
    "## Step 4: Display the Solution for x and y\n",
    "We extract and display the values of x and y from the solution vector."
   ]
  },
  {
   "cell_type": "code",
   "execution_count": 5,
   "id": "d729d32f",
   "metadata": {},
   "outputs": [
    {
     "name": "stdout",
     "output_type": "stream",
     "text": [
      "Solution: x = 0.8999999999999999, y = 1.4000000000000004.\n"
     ]
    }
   ],
   "source": [
    "# Display the solution for x and y\n",
    "x, y = X\n",
    "print(f\"Solution: x = {x}, y = {y}.\")"
   ]
  },
  {
   "cell_type": "markdown",
   "id": "98336ec3",
   "metadata": {},
   "source": [
    "## Summary\n",
    "- We solved a system of linear equations using matrix inversion.\n",
    "- Each step was performed using NumPy matrix operations.\n",
    "- The solution is displayed for x and y.\n",
    "- This method is efficient for small systems and for teaching matrix algebra techniques."
   ]
  }
 ],
 "metadata": {
  "kernelspec": {
   "display_name": "damin2025",
   "language": "python",
   "name": "python3"
  },
  "language_info": {
   "codemirror_mode": {
    "name": "ipython",
    "version": 3
   },
   "file_extension": ".py",
   "mimetype": "text/x-python",
   "name": "python",
   "nbconvert_exporter": "python",
   "pygments_lexer": "ipython3",
   "version": "3.12.11"
  }
 },
 "nbformat": 4,
 "nbformat_minor": 5
}
