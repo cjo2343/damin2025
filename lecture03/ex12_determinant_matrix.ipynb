{
 "cells": [
  {
   "cell_type": "markdown",
   "id": "a1368c5d",
   "metadata": {},
   "source": [
    "# Matrix Determinant: Visualization\n",
    "\n",
    "This notebook demonstrates how to visualize a matrix and its determinant using NumPy and Matplotlib. It uses color mapping to highlight matrix values and displays the determinant value.\n",
    "\n",
    "**Learning Objectives:**\n",
    "- Understand matrix determinants\n",
    "- Visualize a matrix and its determinant\n",
    "- Interpret matrix properties using color mapping\n",
    "\n",
    "**Prerequisites:**\n",
    "- Basic knowledge of Python\n",
    "- Familiarity with NumPy and Matplotlib"
   ]
  },
  {
   "cell_type": "code",
   "execution_count": 1,
   "id": "f38f44e2",
   "metadata": {},
   "outputs": [],
   "source": [
    "# Import the required libraries\n",
    "import numpy as np\n",
    "import matplotlib.pyplot as plt"
   ]
  },
  {
   "cell_type": "markdown",
   "id": "e2f7f9b5",
   "metadata": {},
   "source": [
    "## Step 1: Define Matrix and Calculate Determinant\n",
    "We define a square matrix and calculate its determinant."
   ]
  },
  {
   "cell_type": "code",
   "execution_count": 2,
   "id": "2ef29ddd",
   "metadata": {},
   "outputs": [],
   "source": [
    "# Define a square matrix A\n",
    "A = np.array([[4, 7], [2, 6]])\n",
    "\n",
    "# Calculate the determinant of matrix A\n",
    "determinant_A = np.linalg.det(A)"
   ]
  },
  {
   "cell_type": "markdown",
   "id": "9227a5a4",
   "metadata": {},
   "source": [
    "## Step 2: Create Index-Based Color Mapping\n",
    "We use a function to create a color grid based on matrix indices for visualization."
   ]
  },
  {
   "cell_type": "code",
   "execution_count": 3,
   "id": "270c6ef2",
   "metadata": {},
   "outputs": [],
   "source": [
    "def create_index_based_colormap(matrix: np.ndarray, base_color: str) -> np.ndarray:\n",
    "    \"\"\"Define a function to create a color grid based on matrix indices\n",
    "    Args:\n",
    "        matrix (np.ndarray): The matrix to be visualized.\n",
    "        base_color (str): The base color for the color gradient.\n",
    "    Returns:\n",
    "        np.ndarray: The color grid based on the matrix indices.\n",
    "    \"\"\"\n",
    "    rows, cols = matrix.shape\n",
    "    color_grid = np.zeros((rows, cols, 3))  # Empty grid for RGB colors.\n",
    "    for i in range(rows):\n",
    "        for j in range(cols):\n",
    "            # Map the indices to a color gradient based on a normalized index-based intensity.\n",
    "            color_intensity = (i + j) / (rows + cols - 2)\n",
    "            color_grid[i, j] = np.array(plt.cm.colors.hex2color(base_color)) * color_intensity + (1 - color_intensity)\n",
    "    return color_grid"
   ]
  },
  {
   "cell_type": "markdown",
   "id": "fb22b672",
   "metadata": {},
   "source": [
    "## Step 3: Create Color Grid for Visualization\n",
    "We create a color grid for the matrix."
   ]
  },
  {
   "cell_type": "code",
   "execution_count": 4,
   "id": "bed00bb6",
   "metadata": {},
   "outputs": [],
   "source": [
    "# Create color grid for matrix A\n",
    "color_grid_A = create_index_based_colormap(A, \"#179E86\")"
   ]
  },
  {
   "cell_type": "markdown",
   "id": "3429f408",
   "metadata": {},
   "source": [
    "## Step 4: Visualize Matrix and Determinant\n",
    "We use Matplotlib to display the matrix and its determinant with color mapping."
   ]
  },
  {
   "cell_type": "code",
   "execution_count": 5,
   "id": "6178be6b",
   "metadata": {},
   "outputs": [
    {
     "data": {
      "image/png": "[encoded data removed]",
      "text/plain": [
       "<Figure size 500x500 with 1 Axes>"
      ]
     },
     "metadata": {},
     "output_type": "display_data"
    }
   ],
   "source": [
    "# Create a figure to display the matrix and its determinant\n",
    "fig, ax = plt.subplots(figsize=(5, 5))\n",
    "\n",
    "# Display matrix A\n",
    "ax.imshow(color_grid_A, aspect=\"auto\")\n",
    "ax.set_title(f\"Matrix A\\nDeterminant: {determinant_A:.2f}\", pad=20)\n",
    "for (i, j), val in np.ndenumerate(A):\n",
    "    ax.text(j, i, f\"{val}\", ha=\"center\", va=\"center\", fontsize=14)\n",
    "\n",
    "# Adjust layout and show the plot\n",
    "plt.tight_layout()\n",
    "plt.show()"
   ]
  },
  {
   "cell_type": "markdown",
   "id": "492de1a3",
   "metadata": {},
   "source": [
    "## Summary\n",
    "- We visualized a matrix and its determinant using color mapping.\n",
    "- The determinant is a key property in linear algebra, related to invertibility and area/volume scaling.\n",
    "- Color gradients help interpret matrix values and properties.\n",
    "- This technique is useful for teaching matrix operations and linear algebra concepts."
   ]
  }
 ],
 "metadata": {
  "kernelspec": {
   "display_name": "damin2025",
   "language": "python",
   "name": "python3"
  },
  "language_info": {
   "codemirror_mode": {
    "name": "ipython",
    "version": 3
   },
   "file_extension": ".py",
   "mimetype": "text/x-python",
   "name": "python",
   "nbconvert_exporter": "python",
   "pygments_lexer": "ipython3",
   "version": "3.12.11"
  }
 },
 "nbformat": 4,
 "nbformat_minor": 5
}
