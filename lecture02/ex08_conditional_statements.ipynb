{
 "cells": [
  {
   "cell_type": "markdown",
   "id": "5da8879f",
   "metadata": {},
   "source": [
    "# Conditional Statements in Python\n",
    "\n",
    "This notebook demonstrates the use of `if`, `elif`, and `else` statements in Python. Conditional statements allow your programs to make decisions and execute different code blocks based on specific conditions.\n",
    "\n",
    "## Learning Objectives\n",
    "- Understand the syntax of conditional statements (`if`, `elif`, `else`)\n",
    "- Learn how to create logical conditions using comparison operators\n",
    "- Practice writing decision-making programs\n",
    "- Explore multiple condition scenarios\n",
    "- Apply conditional logic to real-world problems\n",
    "\n",
    "## What are Conditional Statements?\n",
    "\n",
    "Conditional statements are fundamental programming constructs that allow your program to execute different code paths based on whether certain conditions are true or false. They form the basis of decision-making in programming."
   ]
  },
  {
   "cell_type": "markdown",
   "id": "56a1058c",
   "metadata": {},
   "source": [
    "## Basic Syntax\n",
    "\n",
    "The basic structure of conditional statements in Python:\n",
    "\n",
    "```python\n",
    "if condition1:\n",
    "    # Code to execute if condition1 is True\n",
    "elif condition2:\n",
    "    # Code to execute if condition2 is True\n",
    "else:\n",
    "    # Code to execute if all conditions are False\n",
    "```\n",
    "\n",
    "- `if`: Tests the first condition\n",
    "- `elif`: Tests additional conditions (you can have multiple elif statements)\n",
    "- `else`: Executes when none of the above conditions are true"
   ]
  },
  {
   "cell_type": "markdown",
   "id": "911f6582",
   "metadata": {},
   "source": [
    "## Example 1: Temperature-Based Advice\n",
    "\n",
    "Let's create a program that gives clothing advice based on the temperature."
   ]
  },
  {
   "cell_type": "code",
   "execution_count": 1,
   "id": "af191d2f",
   "metadata": {},
   "outputs": [
    {
     "name": "stdout",
     "output_type": "stream",
     "text": [
      "It's cool outside. You might need a sweater.\n",
      "Current temperature: 18.0°C\n"
     ]
    }
   ],
   "source": [
    "# Example scenario: temperature-based advice.\n",
    "\n",
    "# Get the temperature from the user.\n",
    "temperature = float(input(\"Enter the current temperature in degrees Celsius: \"))\n",
    "\n",
    "# Use conditional statements to provide advice based on the temperature.\n",
    "if temperature > 30:\n",
    "    print(\"It's hot outside! Make sure to stay hydrated.\")\n",
    "elif temperature > 20:\n",
    "    print(\"It's warm outside. A light jacket should be enough.\")\n",
    "elif temperature > 10:\n",
    "    print(\"It's cool outside. You might need a sweater.\")\n",
    "else:\n",
    "    print(\"It's cold outside! Don't forget your coat and scarf.\")\n",
    "\n",
    "# Let's also display the exact temperature for reference\n",
    "print(f\"Current temperature: {temperature}°C\")"
   ]
  },
  {
   "cell_type": "markdown",
   "id": "ddfe22e0",
   "metadata": {},
   "source": [
    "## Example 2: Number Classification\n",
    "\n",
    "Here's another example that classifies a number as positive, negative, or zero."
   ]
  },
  {
   "cell_type": "code",
   "execution_count": 2,
   "id": "cc0ec261",
   "metadata": {},
   "outputs": [
    {
     "name": "stdout",
     "output_type": "stream",
     "text": [
      "The number is positive.\n",
      "You entered: 42\n"
     ]
    }
   ],
   "source": [
    "# Additional example: Checking if a number is positive, negative, or zero.\n",
    "\n",
    "# Get a number from the user.\n",
    "number = int(input(\"Enter a number: \"))\n",
    "\n",
    "# Use conditional statements to check if the number is positive, negative, or zero.\n",
    "if number > 0:\n",
    "    print(\"The number is positive.\")\n",
    "elif number < 0:\n",
    "    print(\"The number is negative.\")\n",
    "else:\n",
    "    print(\"The number is zero.\")\n",
    "\n",
    "print(f\"You entered: {number}\")"
   ]
  },
  {
   "cell_type": "markdown",
   "id": "d2796050",
   "metadata": {},
   "source": [
    "## Comparison Operators\n",
    "\n",
    "Python provides several comparison operators for creating conditions:\n",
    "\n",
    "- `==` : Equal to\n",
    "- `!=` : Not equal to\n",
    "- `>` : Greater than\n",
    "- `<` : Less than\n",
    "- `>=` : Greater than or equal to\n",
    "- `<=` : Less than or equal to\n",
    "\n",
    "Let's practice with different operators:"
   ]
  },
  {
   "cell_type": "code",
   "execution_count": 3,
   "id": "dbcb63d2",
   "metadata": {},
   "outputs": [
    {
     "name": "stdout",
     "output_type": "stream",
     "text": [
      "You are an adult.\n",
      "You can vote and drink alcohol (in many countries).\n"
     ]
    }
   ],
   "source": [
    "# Examples of different comparison operators\n",
    "age = int(input(\"Enter your age: \"))\n",
    "\n",
    "# Multiple conditions example\n",
    "if age >= 18:\n",
    "    print(\"You are an adult.\")\n",
    "    if age >= 65:\n",
    "        print(\"You qualify for senior discounts!\")\n",
    "    elif age >= 21:\n",
    "        print(\"You can vote and drink alcohol (in many countries).\")\n",
    "    else:\n",
    "        print(\"You can vote!\")\n",
    "else:\n",
    "    print(\"You are a minor.\")\n",
    "    years_to_adult = 18 - age\n",
    "    print(f\"You will be an adult in {years_to_adult} year(s).\")"
   ]
  },
  {
   "cell_type": "markdown",
   "id": "4bbacaf3",
   "metadata": {},
   "source": [
    "## Logical Operators\n",
    "\n",
    "You can combine multiple conditions using logical operators:\n",
    "\n",
    "- `and` : Both conditions must be true\n",
    "- `or` : At least one condition must be true\n",
    "- `not` : Reverses the truth value\n",
    "\n",
    "Let's see these in action:"
   ]
  },
  {
   "cell_type": "code",
   "execution_count": 4,
   "id": "5358e006",
   "metadata": {},
   "outputs": [
    {
     "name": "stdout",
     "output_type": "stream",
     "text": [
      "Your score: 100.0\n",
      "Your grade: A\n",
      "Congratulations! You passed!\n"
     ]
    }
   ],
   "source": [
    "# Example with logical operators\n",
    "score = float(input(\"Enter your test score (0-100): \"))\n",
    "\n",
    "# Using logical operators to determine grade\n",
    "if score >= 90 and score <= 100:\n",
    "    grade = \"A\"\n",
    "elif score >= 80 and score < 90:\n",
    "    grade = \"B\"\n",
    "elif score >= 70 and score < 80:\n",
    "    grade = \"C\"\n",
    "elif score >= 60 and score < 70:\n",
    "    grade = \"D\"\n",
    "elif score >= 0 and score < 60:\n",
    "    grade = \"F\"\n",
    "else:\n",
    "    grade = \"Invalid score\"\n",
    "\n",
    "print(f\"Your score: {score}\")\n",
    "print(f\"Your grade: {grade}\")\n",
    "\n",
    "# Additional feedback\n",
    "if score >= 70:\n",
    "    print(\"Congratulations! You passed!\")\n",
    "elif score >= 60:\n",
    "    print(\"You passed, but consider studying more for better results.\")\n",
    "else:\n",
    "    print(\"You need to retake the test.\")"
   ]
  },
  {
   "cell_type": "markdown",
   "id": "df2ada21",
   "metadata": {},
   "source": [
    "## Nested Conditional Statements\n",
    "\n",
    "You can place conditional statements inside other conditional statements for more complex decision-making:"
   ]
  },
  {
   "cell_type": "code",
   "execution_count": 5,
   "id": "99648d0b",
   "metadata": {},
   "outputs": [
    {
     "name": "stdout",
     "output_type": "stream",
     "text": [
      "Unknown username.\n",
      "Please contact the administrator.\n"
     ]
    }
   ],
   "source": [
    "# Example of nested conditionals: Simple login system\n",
    "username = input(\"Enter username: \")\n",
    "password = input(\"Enter password: \")\n",
    "\n",
    "# Nested conditional logic\n",
    "if username == \"admin\":\n",
    "    if password == \"password123\":\n",
    "        print(\"Welcome, Administrator!\")\n",
    "        print(\"You have full access to the system.\")\n",
    "    else:\n",
    "        print(\"Incorrect password for admin user.\")\n",
    "elif username == \"user\":\n",
    "    if password == \"user123\":\n",
    "        print(\"Welcome, User!\")\n",
    "        print(\"You have limited access to the system.\")\n",
    "    else:\n",
    "        print(\"Incorrect password for user account.\")\n",
    "else:\n",
    "    print(\"Unknown username.\")\n",
    "    print(\"Please contact the administrator.\")"
   ]
  },
  {
   "cell_type": "markdown",
   "id": "b35b0cb7",
   "metadata": {},
   "source": [
    "## Practice Exercise: Simple Calculator\n",
    "\n",
    "Let's create a more complex example that combines all concepts:"
   ]
  },
  {
   "cell_type": "code",
   "execution_count": 6,
   "id": "1958ad93",
   "metadata": {},
   "outputs": [
    {
     "name": "stdout",
     "output_type": "stream",
     "text": [
      "=== Simple Calculator ===\n",
      "1.0 + 2.0 = 3.0\n",
      "The result is positive.\n"
     ]
    }
   ],
   "source": [
    "# Practice: Simple calculator with conditional statements\n",
    "print(\"=== Simple Calculator ===\")\n",
    "\n",
    "# Get input from user\n",
    "num1 = float(input(\"Enter the first number: \"))\n",
    "operation = input(\"Enter operation (+, -, *, /): \")\n",
    "num2 = float(input(\"Enter the second number: \"))\n",
    "\n",
    "# Perform calculation based on operation\n",
    "if operation == \"+\":\n",
    "    result = num1 + num2\n",
    "    print(f\"{num1} + {num2} = {result}\")\n",
    "elif operation == \"-\":\n",
    "    result = num1 - num2\n",
    "    print(f\"{num1} - {num2} = {result}\")\n",
    "elif operation == \"*\":\n",
    "    result = num1 * num2\n",
    "    print(f\"{num1} * {num2} = {result}\")\n",
    "elif operation == \"/\":\n",
    "    if num2 != 0:\n",
    "        result = num1 / num2\n",
    "        print(f\"{num1} / {num2} = {result}\")\n",
    "    else:\n",
    "        print(\"Error: Division by zero is not allowed!\")\n",
    "else:\n",
    "    print(\"Error: Invalid operation. Please use +, -, *, or /\")\n",
    "\n",
    "# Additional information\n",
    "if operation in [\"+\", \"-\", \"*\", \"/\"]:\n",
    "    if operation != \"/\" or num2 != 0:\n",
    "        if result > 0:\n",
    "            print(\"The result is positive.\")\n",
    "        elif result < 0:\n",
    "            print(\"The result is negative.\")\n",
    "        else:\n",
    "            print(\"The result is zero.\")"
   ]
  },
  {
   "cell_type": "markdown",
   "id": "cb06b4e5",
   "metadata": {},
   "source": [
    "## Key Takeaways\n",
    "\n",
    "1. **Basic Structure**: Use `if`, `elif`, and `else` for decision-making\n",
    "2. **Indentation**: Python uses indentation to define code blocks (typically 4 spaces)\n",
    "3. **Conditions**: Use comparison operators (`>`, `<`, `==`, etc.) to create conditions\n",
    "4. **Logical Operators**: Combine conditions with `and`, `or`, and `not`\n",
    "5. **Nested Conditions**: You can place conditional statements inside others\n",
    "6. **Multiple elif**: You can have as many `elif` statements as needed\n",
    "7. **else is Optional**: The `else` clause is not always required\n",
    "\n",
    "## Practice Ideas\n",
    "\n",
    "Try creating programs that:\n",
    "- Determine if a year is a leap year\n",
    "- Calculate shipping costs based on weight and distance\n",
    "- Create a simple text-based adventure game\n",
    "- Build a grade calculator with different grading scales\n",
    "- Make a password strength checker\n",
    "\n",
    "## Common Mistakes to Avoid\n",
    "\n",
    "1. **Wrong indentation**: Make sure all code in a block is properly indented\n",
    "2. **Using `=` instead of `==`**: Remember `=` is assignment, `==` is comparison\n",
    "3. **Forgetting the colon**: Always end `if`, `elif`, and `else` statements with `:`\n",
    "4. **Logical operator confusion**: Remember `and` requires both conditions to be true\n",
    "\n",
    "Practice these concepts with different scenarios to become comfortable with conditional logic!"
   ]
  }
 ],
 "metadata": {
  "kernelspec": {
   "display_name": "damin2025",
   "language": "python",
   "name": "python3"
  },
  "language_info": {
   "codemirror_mode": {
    "name": "ipython",
    "version": 3
   },
   "file_extension": ".py",
   "mimetype": "text/x-python",
   "name": "python",
   "nbconvert_exporter": "python",
   "pygments_lexer": "ipython3",
   "version": "3.12.11"
  }
 },
 "nbformat": 4,
 "nbformat_minor": 5
}
