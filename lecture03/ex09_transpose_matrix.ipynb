{
 "cells": [
  {
   "cell_type": "markdown",
   "id": "5a9ee790",
   "metadata": {},
   "source": [
    "# Matrix Transpose: Visualization\n",
    "\n",
    "This notebook demonstrates how to visualize a matrix and its transpose using NumPy and Matplotlib. It uses color mapping to highlight matrix values and their transformation.\n",
    "\n",
    "**Learning Objectives:**\n",
    "- Understand matrix transposition\n",
    "- Visualize a matrix and its transpose\n",
    "- Interpret matrix transformation using color mapping\n",
    "\n",
    "**Prerequisites:**\n",
    "- Basic knowledge of Python\n",
    "- Familiarity with NumPy and Matplotlib"
   ]
  },
  {
   "cell_type": "code",
   "execution_count": 1,
   "id": "42ae7aae",
   "metadata": {},
   "outputs": [],
   "source": [
    "# Import the required libraries\n",
    "import numpy as np\n",
    "import matplotlib.pyplot as plt\n",
    "from matplotlib.colors import LinearSegmentedColormap"
   ]
  },
  {
   "cell_type": "markdown",
   "id": "3dda580a",
   "metadata": {},
   "source": [
    "## Step 1: Define Matrix and Transpose\n",
    "We define a matrix and calculate its transpose."
   ]
  },
  {
   "cell_type": "code",
   "execution_count": 2,
   "id": "953d8b34",
   "metadata": {},
   "outputs": [],
   "source": [
    "# Define a matrix A\n",
    "A = np.array([[1, 2, 3], [4, 5, 6]])\n",
    "\n",
    "# Calculate the transpose of matrix A\n",
    "A_transpose = A.T"
   ]
  },
  {
   "cell_type": "markdown",
   "id": "9b6543c0",
   "metadata": {},
   "source": [
    "## Step 2: Create Color Maps for Visualization\n",
    "We use custom color maps to highlight matrix values and their transformation."
   ]
  },
  {
   "cell_type": "code",
   "execution_count": 3,
   "id": "e6cd3f6b",
   "metadata": {},
   "outputs": [],
   "source": [
    "# Create color maps using the given base colors\n",
    "cmap_A = LinearSegmentedColormap.from_list(\"custom_blue\", [\"#FFFFFF\", \"#179E86\"])\n",
    "cmap_T = LinearSegmentedColormap.from_list(\"custom_red\", [\"#FFFFFF\", \"#C03B26\"])"
   ]
  },
  {
   "cell_type": "markdown",
   "id": "e808bcd3",
   "metadata": {},
   "source": [
    "## Step 3: Visualize Matrix and Transpose\n",
    "We use Matplotlib subplots to display the matrix and its transpose with color mapping."
   ]
  },
  {
   "cell_type": "code",
   "execution_count": 4,
   "id": "cfd331db",
   "metadata": {},
   "outputs": [
    {
     "data": {
      "image/png": "[encoded data removed]",
      "text/plain": [
       "<Figure size 1000x500 with 2 Axes>"
      ]
     },
     "metadata": {},
     "output_type": "display_data"
    }
   ],
   "source": [
    "# Create a figure with subplots to display the matrices\n",
    "fig, axs = plt.subplots(1, 2, figsize=(10, 5))\n",
    "\n",
    "# Display matrix A\n",
    "axs[0].matshow(A, cmap=cmap_A)\n",
    "axs[0].set_title(\"Matrix A\")\n",
    "for (i, j), val in np.ndenumerate(A):\n",
    "    axs[0].text(j, i, f\"{val}\", ha=\"center\", va=\"center\", fontsize=14)\n",
    "\n",
    "# Display matrix A Transpose\n",
    "axs[1].matshow(A_transpose, cmap=cmap_T)\n",
    "axs[1].set_title(\"Transpose of A\")\n",
    "for (i, j), val in np.ndenumerate(A_transpose):\n",
    "    axs[1].text(j, i, f\"{val}\", ha=\"center\", va=\"center\", fontsize=14)\n",
    "\n",
    "# Adjust layout and show the plots\n",
    "plt.tight_layout()\n",
    "plt.show()"
   ]
  },
  {
   "cell_type": "markdown",
   "id": "c4abc397",
   "metadata": {},
   "source": [
    "## Summary\n",
    "- We visualized a matrix and its transpose using color mapping.\n",
    "- Color gradients help interpret matrix values and their transformation.\n",
    "- This technique is useful for teaching matrix operations and linear algebra concepts."
   ]
  }
 ],
 "metadata": {
  "kernelspec": {
   "display_name": "damin2025",
   "language": "python",
   "name": "python3"
  },
  "language_info": {
   "codemirror_mode": {
    "name": "ipython",
    "version": 3
   },
   "file_extension": ".py",
   "mimetype": "text/x-python",
   "name": "python",
   "nbconvert_exporter": "python",
   "pygments_lexer": "ipython3",
   "version": "3.12.11"
  }
 },
 "nbformat": 4,
 "nbformat_minor": 5
}
