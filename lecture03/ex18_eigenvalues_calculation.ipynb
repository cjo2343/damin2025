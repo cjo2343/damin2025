{
 "cells": [
  {
   "cell_type": "markdown",
   "id": "ab63ec10",
   "metadata": {},
   "source": [
    "# Calculating the Eigenvalues of a Matrix\n",
    "\n",
    "This notebook demonstrates how to calculate the eigenvalues of a matrix using NumPy.\n",
    "\n",
    "**Learning Objectives:**\n",
    "- Understand the concept of eigenvalues\n",
    "- Use NumPy to compute eigenvalues in Python\n",
    "- Interpret the result in the context of linear algebra\n",
    "\n",
    "**Prerequisites:**\n",
    "- Basic Python\n",
    "- Familiarity with matrices and linear algebra"
   ]
  },
  {
   "cell_type": "code",
   "execution_count": 1,
   "id": "731c8f7d",
   "metadata": {},
   "outputs": [],
   "source": [
    "# Import the required libraries\n",
    "import numpy as np"
   ]
  },
  {
   "cell_type": "markdown",
   "id": "1268d315",
   "metadata": {},
   "source": [
    "## Step 1: Define the Matrix\n",
    "We define the square matrix A."
   ]
  },
  {
   "cell_type": "code",
   "execution_count": 2,
   "id": "4c0d1f84",
   "metadata": {},
   "outputs": [
    {
     "data": {
      "text/plain": [
       "array([[4, 2],\n",
       "       [1, 3]])"
      ]
     },
     "execution_count": 2,
     "metadata": {},
     "output_type": "execute_result"
    }
   ],
   "source": [
    "# Define a square matrix A\n",
    "A = np.array([\n",
    "    [4, 2],\n",
    "    [1, 3]\n",
    "])\n",
    "A"
   ]
  },
  {
   "cell_type": "markdown",
   "id": "852cdc21",
   "metadata": {},
   "source": [
    "## Step 2: Calculate the Eigenvalues\n",
    "We use NumPy to calculate the eigenvalues of matrix A."
   ]
  },
  {
   "cell_type": "code",
   "execution_count": 3,
   "id": "d990e5ce",
   "metadata": {},
   "outputs": [
    {
     "data": {
      "text/plain": [
       "array([5., 2.])"
      ]
     },
     "execution_count": 3,
     "metadata": {},
     "output_type": "execute_result"
    }
   ],
   "source": [
    "# Calculate the eigenvalues of matrix A\n",
    "eigenvalues = np.linalg.eigvals(A)\n",
    "eigenvalues"
   ]
  },
  {
   "cell_type": "markdown",
   "id": "383eb64e",
   "metadata": {},
   "source": [
    "## Step 3: Display the Matrix and Its Eigenvalues\n",
    "We display the matrix and its eigenvalues."
   ]
  },
  {
   "cell_type": "code",
   "execution_count": 4,
   "id": "8fec9a3b",
   "metadata": {},
   "outputs": [
    {
     "name": "stdout",
     "output_type": "stream",
     "text": [
      "Matrix A:\n",
      "[[4 2]\n",
      " [1 3]]\n",
      "\n",
      "Eigenvalues of Matrix A:\n",
      "[5. 2.]\n"
     ]
    }
   ],
   "source": [
    "# Display the matrix and its eigenvalues\n",
    "print(\"Matrix A:\")\n",
    "print(A)\n",
    "print(\"\\nEigenvalues of Matrix A:\")\n",
    "print(eigenvalues)"
   ]
  },
  {
   "cell_type": "markdown",
   "id": "5cfb12aa",
   "metadata": {},
   "source": [
    "## Summary\n",
    "- We calculated the eigenvalues of a matrix using NumPy.\n",
    "- Eigenvalues are important in linear algebra for understanding matrix properties.\n",
    "- This concept is fundamental in many applications, including systems of equations and transformations."
   ]
  }
 ],
 "metadata": {
  "kernelspec": {
   "display_name": "damin2025",
   "language": "python",
   "name": "python3"
  },
  "language_info": {
   "codemirror_mode": {
    "name": "ipython",
    "version": 3
   },
   "file_extension": ".py",
   "mimetype": "text/x-python",
   "name": "python",
   "nbconvert_exporter": "python",
   "pygments_lexer": "ipython3",
   "version": "3.12.11"
  }
 },
 "nbformat": 4,
 "nbformat_minor": 5
}
