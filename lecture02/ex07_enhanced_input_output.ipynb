{
 "cells": [
  {
   "cell_type": "markdown",
   "id": "f861dede",
   "metadata": {},
   "source": [
    "# Enhanced Input and Output with EasyGUI\n",
    "\n",
    "This notebook demonstrates how to create graphical user interfaces (GUI) for input and output operations using the EasyGUI package. EasyGUI provides simple dialog boxes that make Python programs more user-friendly and interactive.\n",
    "\n",
    "## Learning Objectives\n",
    "- Understand the benefits of GUI-based input/output\n",
    "- Learn to use EasyGUI for creating dialog boxes\n",
    "- Implement different types of input dialogs (text, integer, choice)\n",
    "- Create message boxes for output display\n",
    "- Build interactive confirmation dialogs\n",
    "- Handle user input validation\n",
    "\n",
    "## Prerequisites\n",
    "- Basic understanding of Python variables and functions\n",
    "- EasyGUI package installed (`pip install easygui`)\n",
    "- Basic knowledge of string formatting"
   ]
  },
  {
   "cell_type": "markdown",
   "id": "5772e1ff",
   "metadata": {},
   "source": [
    "## Step 1: Import Required Libraries\n",
    "\n",
    "First, we need to import the EasyGUI package, which provides simple GUI components for Python applications."
   ]
  },
  {
   "cell_type": "code",
   "execution_count": 1,
   "id": "c83f1ec7",
   "metadata": {},
   "outputs": [
    {
     "name": "stdout",
     "output_type": "stream",
     "text": [
      "EasyGUI imported successfully!\n",
      "EasyGUI provides simple GUI dialogs for Python applications.\n"
     ]
    }
   ],
   "source": [
    "# Importing Python packages\n",
    "try:\n",
    "    import easygui\n",
    "    print(\"EasyGUI imported successfully!\")\n",
    "    print(\"EasyGUI provides simple GUI dialogs for Python applications.\")\n",
    "except ImportError:\n",
    "    print(\"EasyGUI is not installed. Please install it using: pip install easygui\")\n",
    "    print(\"For this demonstration, we'll simulate the GUI interactions.\")\n",
    "    easygui = None"
   ]
  },
  {
   "cell_type": "markdown",
   "id": "748c2156",
   "metadata": {},
   "source": [
    "## Step 2: Text Input with enterbox()\n",
    "\n",
    "The `enterbox()` function creates a simple text input dialog where users can enter any text. This is useful for collecting names, comments, or any string input."
   ]
  },
  {
   "cell_type": "code",
   "execution_count": 2,
   "id": "885aaa6c",
   "metadata": {},
   "outputs": [
    {
     "name": "stdout",
     "output_type": "stream",
     "text": [
      "User entered name: Chuck Norris\n",
      "Welcome, Chuck Norris!\n"
     ]
    }
   ],
   "source": [
    "# Getting user input using easygui dialogs\n",
    "\n",
    "# Using enterbox() to get the user's name\n",
    "if easygui:\n",
    "    name = easygui.enterbox(\"What is your name?\")\n",
    "    print(f\"User entered name: {name}\")\n",
    "else:\n",
    "    # Simulation for demonstration\n",
    "    name = \"John Doe\"  # Simulated input\n",
    "    print(\"Simulating enterbox() - User would see a dialog asking for their name\")\n",
    "    print(f\"Simulated input: {name}\")\n",
    "\n",
    "# Display the collected information\n",
    "print(f\"Welcome, {name}!\")"
   ]
  },
  {
   "cell_type": "markdown",
   "id": "d2629504",
   "metadata": {},
   "source": [
    "## Step 3: Integer Input with integerbox()\n",
    "\n",
    "The `integerbox()` function is specifically designed for numeric input. It includes built-in validation and can enforce bounds (minimum and maximum values)."
   ]
  },
  {
   "cell_type": "code",
   "execution_count": 3,
   "id": "b4025dff",
   "metadata": {},
   "outputs": [
    {
     "name": "stdout",
     "output_type": "stream",
     "text": [
      "User entered age: 85\n",
      "You are 85 years old - enjoying your golden years!\n"
     ]
    }
   ],
   "source": [
    "# Using integerbox() to get the user's age with specified bounds\n",
    "if easygui:\n",
    "    age = easygui.integerbox(\"Enter your age:\", lowerbound=1, upperbound=100)\n",
    "    print(f\"User entered age: {age}\")\n",
    "else:\n",
    "    # Simulation for demonstration\n",
    "    age = 25  # Simulated input\n",
    "    print(\"Simulating integerbox() - User would see a dialog asking for age\")\n",
    "    print(\"The dialog would only accept integers between 1 and 100\")\n",
    "    print(f\"Simulated input: {age}\")\n",
    "\n",
    "# Validate and display the age\n",
    "if age:\n",
    "    if age < 18:\n",
    "        print(f\"You are {age} years old - still a minor!\")\n",
    "    elif age < 65:\n",
    "        print(f\"You are {age} years old - in your working years!\")\n",
    "    else:\n",
    "        print(f\"You are {age} years old - enjoying your golden years!\")\n",
    "else:\n",
    "    print(\"No age was entered.\")"
   ]
  },
  {
   "cell_type": "markdown",
   "id": "43c5d365",
   "metadata": {},
   "source": [
    "## Step 4: Choice Selection with choicebox()\n",
    "\n",
    "The `choicebox()` function presents users with a list of predefined options. This ensures data consistency and makes the interface more user-friendly."
   ]
  },
  {
   "cell_type": "code",
   "execution_count": 4,
   "id": "5ecfe1eb",
   "metadata": {},
   "outputs": [
    {
     "name": "stdout",
     "output_type": "stream",
     "text": [
      "User selected color: Red\n",
      "Great choice! Red often represents passion and energy.\n"
     ]
    }
   ],
   "source": [
    "# Using choicebox() to let the user select their favorite color\n",
    "color_choices = [\"Red\", \"Blue\", \"Green\", \"Yellow\", \"Purple\", \"Orange\"]\n",
    "\n",
    "if easygui:\n",
    "    color = easygui.choicebox(\"Choose your favorite color:\", choices=color_choices)\n",
    "    print(f\"User selected color: {color}\")\n",
    "else:\n",
    "    # Simulation for demonstration\n",
    "    color = \"Blue\"  # Simulated selection\n",
    "    print(\"Simulating choicebox() - User would see a dialog with color options:\")\n",
    "    print(f\"Available choices: {color_choices}\")\n",
    "    print(f\"Simulated selection: {color}\")\n",
    "\n",
    "# Respond based on color choice\n",
    "if color:\n",
    "    color_meanings = {\n",
    "        \"Red\": \"passion and energy\",\n",
    "        \"Blue\": \"calm and stability\", \n",
    "        \"Green\": \"nature and growth\",\n",
    "        \"Yellow\": \"happiness and optimism\",\n",
    "        \"Purple\": \"creativity and luxury\",\n",
    "        \"Orange\": \"enthusiasm and warmth\"\n",
    "    }\n",
    "    meaning = color_meanings.get(color, \"uniqueness\")\n",
    "    print(f\"Great choice! {color} often represents {meaning}.\")\n",
    "else:\n",
    "    print(\"No color was selected.\")"
   ]
  },
  {
   "cell_type": "markdown",
   "id": "5047604e",
   "metadata": {},
   "source": [
    "## Step 5: Display Output with msgbox()\n",
    "\n",
    "The `msgbox()` function creates a message dialog to display information to the user. This is much more prominent than console output and ensures the user sees important information."
   ]
  },
  {
   "cell_type": "code",
   "execution_count": 5,
   "id": "8e3b35c1",
   "metadata": {},
   "outputs": [
    {
     "name": "stdout",
     "output_type": "stream",
     "text": [
      "Message displayed in GUI dialog box\n",
      "Summary of collected information:\n",
      "Name: Chuck Norris\n",
      "Age: 85\n",
      "Favorite Color: Red\n"
     ]
    }
   ],
   "source": [
    "# Displaying output using a msgbox()\n",
    "summary_message = f\"Hello, {name}!\\nYou are {age} years old and your favorite color is {color}.\"\n",
    "\n",
    "if easygui:\n",
    "    easygui.msgbox(summary_message)\n",
    "    print(\"Message displayed in GUI dialog box\")\n",
    "else:\n",
    "    print(\"Simulating msgbox() - User would see a dialog with this message:\")\n",
    "    print(\"-\" * 50)\n",
    "    print(summary_message)\n",
    "    print(\"-\" * 50)\n",
    "\n",
    "# Also display in console for notebook output\n",
    "print(\"Summary of collected information:\")\n",
    "print(f\"Name: {name}\")\n",
    "print(f\"Age: {age}\")\n",
    "print(f\"Favorite Color: {color}\")"
   ]
  },
  {
   "cell_type": "markdown",
   "id": "ff4cee16",
   "metadata": {},
   "source": [
    "## Step 6: Confirmation Dialog with ynbox()\n",
    "\n",
    "The `ynbox()` function creates a yes/no confirmation dialog. This is useful for verifying information or asking for user confirmation before proceeding."
   ]
  },
  {
   "cell_type": "code",
   "execution_count": 6,
   "id": "4a5c7925",
   "metadata": {},
   "outputs": [
    {
     "name": "stdout",
     "output_type": "stream",
     "text": [
      "User confirmation: Yes\n",
      "Great! Thank you for confirming your details.\n",
      "✅ Information confirmed and saved!\n"
     ]
    }
   ],
   "source": [
    "# Combining the above into a simple program with confirmation\n",
    "confirmation_message = (f\"Is all the information correct?\\n\\n\"\n",
    "                        f\"Name: {name}\\n\"\n",
    "                        f\"Age: {age}\\n\"\n",
    "                        f\"Favorite Color: {color}\")\n",
    "\n",
    "if easygui:\n",
    "    is_correct = easygui.ynbox(confirmation_message, choices=(\"Yes\", \"No\"))\n",
    "    print(f\"User confirmation: {'Yes' if is_correct else 'No'}\")\n",
    "else:\n",
    "    # Simulation for demonstration\n",
    "    is_correct = True  # Simulated confirmation\n",
    "    print(\"Simulating ynbox() - User would see a confirmation dialog:\")\n",
    "    print(confirmation_message)\n",
    "    print(f\"Simulated response: {'Yes' if is_correct else 'No'}\")\n",
    "\n",
    "# Process the confirmation response\n",
    "if is_correct:\n",
    "    final_message = \"Great! Thank you for confirming your details.\"\n",
    "    if easygui:\n",
    "        easygui.msgbox(final_message)\n",
    "    print(final_message)\n",
    "    print(\"✅ Information confirmed and saved!\")\n",
    "else:\n",
    "    retry_message = \"Please restart the program to enter the correct details.\"\n",
    "    if easygui:\n",
    "        easygui.msgbox(retry_message)\n",
    "    print(retry_message)\n",
    "    print(\"❌ Information not confirmed. Please try again.\")"
   ]
  },
  {
   "cell_type": "markdown",
   "id": "1bc938b7",
   "metadata": {},
   "source": [
    "## Step 7: Advanced EasyGUI Features\n",
    "\n",
    "Let's explore some additional EasyGUI functions that can make our programs even more interactive and user-friendly."
   ]
  },
  {
   "cell_type": "code",
   "execution_count": 7,
   "id": "4c71b2fa",
   "metadata": {},
   "outputs": [
    {
     "name": "stdout",
     "output_type": "stream",
     "text": [
      "=== ADDITIONAL EASYGUI FEATURES ===\n",
      "multenterbox() allows collecting multiple inputs in one dialog\n",
      "passwordbox() hides input for passwords\n",
      "filesavebox() and fileopenbox() allow file selection\n",
      "buttonbox() allows custom button choices\n",
      "\n",
      "These additional features make EasyGUI very versatile for creating user-friendly interfaces!\n"
     ]
    }
   ],
   "source": [
    "# Additional EasyGUI features demonstration\n",
    "print(\"=== ADDITIONAL EASYGUI FEATURES ===\")\n",
    "\n",
    "# 1. multenterbox() for multiple inputs at once\n",
    "if easygui:\n",
    "    print(\"multenterbox() allows collecting multiple inputs in one dialog\")\n",
    "else:\n",
    "    print(\"Simulating multenterbox() - Multiple input fields in one dialog:\")\n",
    "    fields = [\"First Name\", \"Last Name\", \"Email\", \"Phone\"]\n",
    "    values = [\"John\", \"Doe\", \"john.doe@email.com\", \"123-456-7890\"]\n",
    "    print(f\"Fields: {fields}\")\n",
    "    print(f\"Simulated values: {values}\")\n",
    "\n",
    "# 2. passwordbox() for secure input\n",
    "if easygui:\n",
    "    print(\"passwordbox() hides input for passwords\")\n",
    "else:\n",
    "    print(\"Simulating passwordbox() - Input would be hidden with asterisks\")\n",
    "\n",
    "# 3. filesavebox() and fileopenbox() for file operations\n",
    "if easygui:\n",
    "    print(\"filesavebox() and fileopenbox() allow file selection\")\n",
    "else:\n",
    "    print(\"Simulating file dialogs - User could select files to open or save\")\n",
    "\n",
    "# 4. buttonbox() for custom button choices\n",
    "custom_buttons = [\"Option A\", \"Option B\", \"Option C\", \"Cancel\"]\n",
    "if easygui:\n",
    "    print(\"buttonbox() allows custom button choices\")\n",
    "else:\n",
    "    print(f\"Simulating buttonbox() with options: {custom_buttons}\")\n",
    "\n",
    "print(\"\\nThese additional features make EasyGUI very versatile for creating user-friendly interfaces!\")"
   ]
  },
  {
   "cell_type": "markdown",
   "id": "57722dc1",
   "metadata": {},
   "source": [
    "## Step 8: Complete Interactive Program\n",
    "\n",
    "Let's create a more comprehensive example that demonstrates a complete interactive program using multiple EasyGUI features."
   ]
  },
  {
   "cell_type": "code",
   "execution_count": 8,
   "id": "487c0835",
   "metadata": {},
   "outputs": [
    {
     "name": "stdout",
     "output_type": "stream",
     "text": [
      "=== CREATING USER PROFILE ===\n",
      "✅ User profile created and saved!\n"
     ]
    }
   ],
   "source": [
    "# Complete interactive program example\n",
    "def create_user_profile():\n",
    "    \"\"\"Create a complete user profile using EasyGUI dialogs.\"\"\"\n",
    "    \n",
    "    print(\"=== CREATING USER PROFILE ===\")\n",
    "    \n",
    "    if not easygui:\n",
    "        print(\"This would create an interactive GUI program if EasyGUI was available.\")\n",
    "        return\n",
    "    \n",
    "    try:\n",
    "        # Step 1: Welcome message\n",
    "        easygui.msgbox(\"Welcome to the User Profile Creator!\\n\\n\"\n",
    "                      \"We'll collect some information about you.\")\n",
    "        \n",
    "        # Step 2: Basic information\n",
    "        fields = [\"First Name\", \"Last Name\", \"Email\"]\n",
    "        values = easygui.multenterbox(\"Enter your basic information:\", \n",
    "                                    \"User Profile\", fields)\n",
    "        \n",
    "        if not values:\n",
    "            easygui.msgbox(\"Profile creation cancelled.\")\n",
    "            return\n",
    "        \n",
    "        first_name, last_name, email = values\n",
    "        \n",
    "        # Step 3: Age input\n",
    "        age = easygui.integerbox(\"Enter your age:\", \n",
    "                               \"User Profile\", \n",
    "                               lowerbound=1, upperbound=120)\n",
    "        \n",
    "        # Step 4: Interests selection\n",
    "        interests = easygui.multchoicebox(\"Select your interests (multiple selection):\",\n",
    "                                        \"User Profile\",\n",
    "                                        [\"Technology\", \"Sports\", \"Music\", \"Reading\", \n",
    "                                         \"Travel\", \"Cooking\", \"Art\", \"Gaming\"])\n",
    "        \n",
    "        # Step 5: Confirm profile\n",
    "        profile_summary = (f\"Profile Summary:\\n\\n\"\n",
    "                         f\"Name: {first_name} {last_name}\\n\"\n",
    "                         f\"Email: {email}\\n\"\n",
    "                         f\"Age: {age}\\n\"\n",
    "                         f\"Interests: {', '.join(interests) if interests else 'None selected'}\")\n",
    "        \n",
    "        if easygui.ynbox(f\"{profile_summary}\\n\\nSave this profile?\"):\n",
    "            easygui.msgbox(\"Profile saved successfully!\")\n",
    "            print(\"✅ User profile created and saved!\")\n",
    "        else:\n",
    "            easygui.msgbox(\"Profile not saved.\")\n",
    "            print(\"❌ Profile creation cancelled.\")\n",
    "            \n",
    "    except Exception as e:\n",
    "        print(f\"Error in profile creation: {e}\")\n",
    "\n",
    "# Run the interactive program\n",
    "create_user_profile()"
   ]
  },
  {
   "cell_type": "markdown",
   "id": "4e4e0419",
   "metadata": {},
   "source": [
    "## Summary\n",
    "\n",
    "In this notebook, we explored enhanced input and output using EasyGUI:\n",
    "\n",
    "### EasyGUI Functions Covered\n",
    "1. **`enterbox()`**: Simple text input dialog\n",
    "2. **`integerbox()`**: Numeric input with validation and bounds\n",
    "3. **`choicebox()`**: Single selection from predefined options\n",
    "4. **`msgbox()`**: Display messages to users\n",
    "5. **`ynbox()`**: Yes/No confirmation dialogs\n",
    "6. **`multenterbox()`**: Multiple input fields in one dialog\n",
    "7. **`multchoicebox()`**: Multiple selection from options\n",
    "\n",
    "### Key Benefits of GUI Input/Output\n",
    "- **User-Friendly**: More intuitive than command-line interfaces\n",
    "- **Data Validation**: Built-in validation for different data types\n",
    "- **Visual Feedback**: Clear presentation of information\n",
    "- **Error Prevention**: Guided input reduces user errors\n",
    "- **Professional Appearance**: Makes programs look more polished\n",
    "\n",
    "### Best Practices\n",
    "1. **Always handle import errors** gracefully\n",
    "2. **Provide clear dialog titles and messages**\n",
    "3. **Use appropriate input types** for different data\n",
    "4. **Validate user input** even with GUI dialogs\n",
    "5. **Give users confirmation opportunities** for important actions\n",
    "6. **Handle cancelled dialogs** (when users click Cancel)\n",
    "\n",
    "### When to Use EasyGUI\n",
    "- **Simple desktop applications** that need basic GUI functionality\n",
    "- **Educational programs** where command-line might be intimidating\n",
    "- **Data collection scripts** that need user interaction\n",
    "- **Prototyping** GUI applications quickly\n",
    "- **Converting command-line tools** to be more user-friendly\n",
    "\n",
    "## Next Steps\n",
    "- Explore more advanced GUI frameworks (tkinter, PyQt, wxPython)\n",
    "- Learn about web-based interfaces with frameworks like Flask or Streamlit\n",
    "- Study user experience (UX) principles for better interface design\n",
    "- Practice creating complete applications with multiple dialog interactions\n",
    "- Learn about data persistence to save user inputs permanently"
   ]
  },
  {
   "cell_type": "markdown",
   "id": "5432155a",
   "metadata": {},
   "source": [
    "# Enhanced Input and Output with EasyGUI\n",
    "\n",
    "This notebook demonstrates how to use the `easygui` package for creating graphical user interface (GUI) dialogs for input and output in Python. EasyGUI provides a simple way to create user-friendly dialog boxes without the complexity of full GUI frameworks.\n",
    "\n",
    "## Learning Objectives\n",
    "- Learn how to import and use the `easygui` package\n",
    "- Understand different types of GUI dialog boxes\n",
    "- Practice getting user input through graphical interfaces\n",
    "- Explore various input validation methods\n",
    "- Create interactive programs with visual feedback\n",
    "\n",
    "## Prerequisites\n",
    "Make sure the `easygui` package is installed. If not, you can install it using:\n",
    "```bash\n",
    "pip install easygui\n",
    "```"
   ]
  },
  {
   "cell_type": "markdown",
   "id": "93575737",
   "metadata": {},
   "source": [
    "## Importing EasyGUI\n",
    "\n",
    "First, we need to import the `easygui` package to access its dialog functions."
   ]
  },
  {
   "cell_type": "code",
   "execution_count": 9,
   "id": "0c58c9f9",
   "metadata": {},
   "outputs": [
    {
     "name": "stdout",
     "output_type": "stream",
     "text": [
      "EasyGUI version: Version info not available\n",
      "EasyGUI successfully imported!\n"
     ]
    }
   ],
   "source": [
    "# Importing Python packages.\n",
    "import easygui\n",
    "\n",
    "# Let's also check if easygui is properly installed\n",
    "print(\"EasyGUI version:\", easygui.__version__ if hasattr(easygui, '__version__') else \"Version info not available\")\n",
    "print(\"EasyGUI successfully imported!\")"
   ]
  },
  {
   "cell_type": "markdown",
   "id": "e6ee598d",
   "metadata": {},
   "source": [
    "## Getting User Input with GUI Dialogs\n",
    "\n",
    "EasyGUI provides several types of input dialogs for different kinds of data. Let's explore the most common ones.\n",
    "\n",
    "### 1. Text Input with enterbox()\n",
    "The `enterbox()` function creates a dialog for text input."
   ]
  },
  {
   "cell_type": "code",
   "execution_count": 10,
   "id": "bd8255be",
   "metadata": {},
   "outputs": [
    {
     "name": "stdout",
     "output_type": "stream",
     "text": [
      "User entered name: Steven Seagal\n"
     ]
    }
   ],
   "source": [
    "# Using enterbox() to get the user's name.\n",
    "name = easygui.enterbox(\"What is your name?\")\n",
    "print(f\"User entered name: {name}\")"
   ]
  },
  {
   "cell_type": "markdown",
   "id": "859161dc",
   "metadata": {},
   "source": [
    "### 2. Integer Input with integerbox()\n",
    "The `integerbox()` function creates a dialog specifically for integer input with optional bounds."
   ]
  },
  {
   "cell_type": "code",
   "execution_count": 11,
   "id": "3c507796",
   "metadata": {},
   "outputs": [
    {
     "name": "stdout",
     "output_type": "stream",
     "text": [
      "User entered age: 73\n"
     ]
    }
   ],
   "source": [
    "# Using integerbox() to get the user's age with specified bounds.\n",
    "age = easygui.integerbox(\"Enter your age:\", lowerbound=1, upperbound=100)\n",
    "print(f\"User entered age: {age}\")"
   ]
  },
  {
   "cell_type": "markdown",
   "id": "48209794",
   "metadata": {},
   "source": [
    "### 3. Choice Selection with choicebox()\n",
    "The `choicebox()` function allows users to select from a predefined list of options."
   ]
  },
  {
   "cell_type": "code",
   "execution_count": 12,
   "id": "186a108d",
   "metadata": {},
   "outputs": [
    {
     "name": "stdout",
     "output_type": "stream",
     "text": [
      "User selected color: Blue\n"
     ]
    }
   ],
   "source": [
    "# Using choicebox() to let the user select their favorite color.\n",
    "color = easygui.choicebox(\"Choose your favorite color:\",\n",
    "                          choices=[\"Red\", \"Blue\", \"Green\", \"Yellow\", \"Purple\"])\n",
    "print(f\"User selected color: {color}\")"
   ]
  },
  {
   "cell_type": "markdown",
   "id": "31b0756b",
   "metadata": {},
   "source": [
    "## Displaying Output with Message Boxes\n",
    "\n",
    "The `msgbox()` function displays information to the user in a dialog box."
   ]
  },
  {
   "cell_type": "code",
   "execution_count": 13,
   "id": "0dae94a4",
   "metadata": {},
   "outputs": [],
   "source": [
    "# Displaying output using a msgbox().\n",
    "if name and age and color:  # Check if all inputs were provided\n",
    "    easygui.msgbox(f\"Hello, {name}!\\nYou are {age} years old and your favorite \"\n",
    "                   f\"color is {color}.\")\n",
    "else:\n",
    "    easygui.msgbox(\"Some information was not provided. Please try again.\")"
   ]
  },
  {
   "cell_type": "markdown",
   "id": "090fff10",
   "metadata": {},
   "source": [
    "## Confirmation Dialogs\n",
    "\n",
    "The `ynbox()` function creates a Yes/No confirmation dialog, which is useful for getting user confirmation."
   ]
  },
  {
   "cell_type": "code",
   "execution_count": 14,
   "id": "723d601c",
   "metadata": {},
   "outputs": [],
   "source": [
    "# Combining the above into a simple program with confirmation.\n",
    "if name and age and color:\n",
    "    if easygui.ynbox(f\"Is all the information correct?\\nName: {name}\\nAge: {age}\\n\"\n",
    "                     f\"Favorite Color: {color}\", choices=(\"Yes\", \"No\")):\n",
    "        easygui.msgbox(\"Great! Thank you for confirming your details.\")\n",
    "    else:\n",
    "        easygui.msgbox(\"Please restart the program to enter the correct details.\")\n",
    "else:\n",
    "    easygui.msgbox(\"Please provide all required information.\")"
   ]
  },
  {
   "cell_type": "markdown",
   "id": "350a9868",
   "metadata": {},
   "source": [
    "## Additional EasyGUI Dialog Types\n",
    "\n",
    "Let's explore some other useful dialog types that EasyGUI offers."
   ]
  },
  {
   "cell_type": "code",
   "execution_count": 15,
   "id": "f91b30b8",
   "metadata": {},
   "outputs": [
    {
     "name": "stdout",
     "output_type": "stream",
     "text": [
      "Selected hobbies: ['Reading', 'Sports']\n",
      "Height entered: 1.93\n",
      "Height entered: 1.93\n"
     ]
    }
   ],
   "source": [
    "# Additional dialog examples\n",
    "\n",
    "# Password input (text is hidden)\n",
    "# password = easygui.passwordbox(\"Enter a password:\")\n",
    "\n",
    "# Multi-choice selection\n",
    "hobbies = easygui.multchoicebox(\"Select your hobbies (you can choose multiple):\",\n",
    "                                choices=[\"Reading\", \"Sports\", \"Music\", \"Gaming\", \"Cooking\"])\n",
    "print(f\"Selected hobbies: {hobbies}\")\n",
    "\n",
    "# Float input\n",
    "height = easygui.enterbox(\"Enter your height in meters:\")\n",
    "height = float(height) if height else None\n",
    "print(f\"Height entered: {height}\")"
   ]
  },
  {
   "cell_type": "markdown",
   "id": "a205f81d",
   "metadata": {},
   "source": [
    "## Complete Interactive Program\n",
    "\n",
    "Let's create a comprehensive program that uses multiple dialog types to collect and display user information."
   ]
  },
  {
   "cell_type": "code",
   "execution_count": 16,
   "id": "3af480f1",
   "metadata": {},
   "outputs": [],
   "source": [
    "# Complete interactive program using EasyGUI\n",
    "def collect_user_profile():\n",
    "    \"\"\"Collect user profile information using EasyGUI dialogs.\"\"\"\n",
    "    \n",
    "    # Welcome message\n",
    "    easygui.msgbox(\"Welcome to the User Profile Creator!\\n\\nWe'll collect some information about you using dialog boxes.\")\n",
    "    \n",
    "    # Collect basic information\n",
    "    user_name = easygui.enterbox(\"Enter your full name:\", title=\"Name Input\")\n",
    "    if not user_name:\n",
    "        easygui.msgbox(\"Name is required. Exiting program.\")\n",
    "        return\n",
    "    \n",
    "    user_age = easygui.integerbox(\"Enter your age:\", title=\"Age Input\", lowerbound=1, upperbound=120)\n",
    "    if user_age is None:\n",
    "        easygui.msgbox(\"Age is required. Exiting program.\")\n",
    "        return\n",
    "    \n",
    "    # Select from predefined choices\n",
    "    education = easygui.choicebox(\"Select your education level:\",\n",
    "                                  title=\"Education\",\n",
    "                                  choices=[\"High School\", \"Bachelor's\", \"Master's\", \"PhD\", \"Other\"])\n",
    "    \n",
    "    # Multiple selections\n",
    "    interests = easygui.multchoicebox(\"Select your interests (multiple choices allowed):\",\n",
    "                                      title=\"Interests\",\n",
    "                                      choices=[\"Technology\", \"Sports\", \"Art\", \"Music\", \"Travel\", \"Food\", \"Books\"])\n",
    "    \n",
    "    # Create summary\n",
    "    summary = f\"\"\"\n",
    "User Profile Summary:\n",
    "====================\n",
    "Name: {user_name}\n",
    "Age: {user_age}\n",
    "Education: {education}\n",
    "Interests: {', '.join(interests) if interests else 'None selected'}\n",
    "\"\"\"\n",
    "    \n",
    "    # Show summary and get confirmation\n",
    "    if easygui.ynbox(summary + \"\\nIs this information correct?\", title=\"Confirmation\"):\n",
    "        easygui.msgbox(\"Profile saved successfully!\\nThank you for using the User Profile Creator.\", title=\"Success\")\n",
    "    else:\n",
    "        easygui.msgbox(\"Profile not saved. You can run the program again to re-enter information.\", title=\"Cancelled\")\n",
    "\n",
    "# Run the complete program\n",
    "collect_user_profile()"
   ]
  },
  {
   "cell_type": "markdown",
   "id": "7829b743",
   "metadata": {},
   "source": [
    "## Key Takeaways\n",
    "\n",
    "1. **EasyGUI Import**: Use `import easygui` to access GUI dialog functions\n",
    "2. **Text Input**: `enterbox()` for general text input\n",
    "3. **Numeric Input**: `integerbox()` and `floatbox()` with optional bounds\n",
    "4. **Choices**: `choicebox()` for single selection, `multchoicebox()` for multiple selections\n",
    "5. **Output**: `msgbox()` for displaying information\n",
    "6. **Confirmation**: `ynbox()` for Yes/No questions\n",
    "7. **Validation**: Always check if user provided input (they can cancel dialogs)\n",
    "\n",
    "## Advantages of EasyGUI\n",
    "\n",
    "- **User-friendly**: Graphical interface is more intuitive than command-line input\n",
    "- **Input validation**: Built-in bounds checking for numeric inputs\n",
    "- **Cross-platform**: Works on Windows, macOS, and Linux\n",
    "- **Simple**: Easy to use without complex GUI programming knowledge\n",
    "- **Professional appearance**: Creates polished-looking dialog boxes\n",
    "\n",
    "## Practice Ideas\n",
    "\n",
    "Try modifying the code to:\n",
    "- Create a survey application\n",
    "- Build a simple calculator with GUI input/output\n",
    "- Make a quiz game with visual feedback\n",
    "- Create a data collection form for a specific purpose\n",
    "\n",
    "Remember: EasyGUI is perfect for simple desktop applications that need basic user interaction without the complexity of full GUI frameworks!"
   ]
  }
 ],
 "metadata": {
  "kernelspec": {
   "display_name": "damin2025",
   "language": "python",
   "name": "python3"
  },
  "language_info": {
   "codemirror_mode": {
    "name": "ipython",
    "version": 3
   },
   "file_extension": ".py",
   "mimetype": "text/x-python",
   "name": "python",
   "nbconvert_exporter": "python",
   "pygments_lexer": "ipython3",
   "version": "3.12.11"
  }
 },
 "nbformat": 4,
 "nbformat_minor": 5
}
