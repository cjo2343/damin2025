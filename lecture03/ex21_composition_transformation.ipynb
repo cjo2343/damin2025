{
 "cells": [
  {
   "cell_type": "markdown",
   "id": "8ef12786",
   "metadata": {},
   "source": [
    "# Composition of Linear Transformations\n",
    "\n",
    "This notebook demonstrates how to apply two linear transformations (rotation and scaling) to a vector, both individually and in composition, and visualize the results using Matplotlib.\n",
    "\n",
    "**Learning Objectives:**\n",
    "- Understand composition of linear transformations in 2D\n",
    "- Use NumPy to perform matrix operations\n",
    "- Visualize transformations with Matplotlib\n",
    "\n",
    "**Prerequisites:**\n",
    "- Basic Python\n",
    "- Familiarity with vectors and matrices"
   ]
  },
  {
   "cell_type": "code",
   "execution_count": 1,
   "id": "bc818ced",
   "metadata": {},
   "outputs": [],
   "source": [
    "# Import the required libraries\n",
    "import numpy as np\n",
    "import matplotlib.pyplot as plt"
   ]
  },
  {
   "cell_type": "markdown",
   "id": "031625fd",
   "metadata": {},
   "source": [
    "## Step 1: Define Transformation Matrices\n",
    "We define functions for rotation and scaling matrices."
   ]
  },
  {
   "cell_type": "code",
   "execution_count": 2,
   "id": "d6a1d7dc",
   "metadata": {},
   "outputs": [],
   "source": [
    "def rotation_matrix(theta: float) -> np.ndarray:\n",
    "    return np.array([\n",
    "        [np.cos(theta), -np.sin(theta)],\n",
    "        [np.sin(theta),  np.cos(theta)]\n",
    "    ])\n",
    "\n",
    "def scaling_matrix(sx: float, sy: float) -> np.ndarray:\n",
    "    return np.array([\n",
    "        [sx, 0],\n",
    "        [0, sy]\n",
    "    ])"
   ]
  },
  {
   "cell_type": "markdown",
   "id": "ae9719f1",
   "metadata": {},
   "source": [
    "## Step 2: Define the Vector and Apply Transformations\n",
    "We define the vector and apply rotation, scaling, and their composition."
   ]
  },
  {
   "cell_type": "code",
   "execution_count": 3,
   "id": "f36dc663",
   "metadata": {},
   "outputs": [
    {
     "name": "stdout",
     "output_type": "stream",
     "text": [
      "[[ 1.41421356 -0.35355339]\n",
      " [ 1.41421356  0.35355339]]\n"
     ]
    }
   ],
   "source": [
    "# Define the vector to transform\n",
    "v = np.array([1, 2])\n",
    "\n",
    "# Define the matrices representing the transformations T1 and T2\n",
    "R = rotation_matrix(np.pi / 4)\n",
    "S = scaling_matrix(2, 0.5)\n",
    "\n",
    "# Calculate the composition of the transformations T1 and T2\n",
    "T = np.dot(R, S)\n",
    "print(T)\n",
    "\n",
    "# Apply the individual transformations\n",
    "T1_v = np.dot(R, v)\n",
    "T2_v = np.dot(S, v)\n",
    "\n",
    "# Apply the composition of the transformations\n",
    "T_v = np.dot(T, v)"
   ]
  },
  {
   "cell_type": "markdown",
   "id": "4be84e4b",
   "metadata": {},
   "source": [
    "## Step 3: Visualize the Transformations\n",
    "We plot the original vector, the results of individual transformations, and the composition."
   ]
  },
  {
   "cell_type": "code",
   "execution_count": null,
   "id": "0e0aa397",
   "metadata": {},
   "outputs": [
    {
     "data": {
      "image/png": "[encoded data removed]",
      "text/plain": [
       "<Figure size 640x480 with 1 Axes>"
      ]
     },
     "metadata": {},
     "output_type": "display_data"
    }
   ],
   "source": [
    "# Define colors based on provided RGB values.\n",
    "COLOR_V = \"#179E86\"\n",
    "COLOR_T1 = \"#2580B7\"\n",
    "COLOR_T2 = \"#F59B11\"\n",
    "COLOR_T = \"#C03B26\"\n",
    "\n",
    "# Original vector.\n",
    "plt.figure()\n",
    "plt.quiver(\n",
    "    0, 0, v[0], v[1], angles=\"xy\", scale_units=\"xy\", scale=1,\n",
    "    color=COLOR_V, label=\"Original Vector\"\n",
    ")\n",
    "\n",
    "# T1 (R) transformation.\n",
    "plt.quiver(\n",
    "    0, 0, T1_v[0], T1_v[1], angles=\"xy\", scale_units=\"xy\", scale=1,\n",
    "    color=COLOR_T1, label=\"T1 (R) Applied\"\n",
    ")\n",
    "\n",
    "# T2 (S) transformation.\n",
    "plt.quiver(\n",
    "    0, 0, T2_v[0], T2_v[1], angles=\"xy\", scale_units=\"xy\", scale=1,\n",
    "    color=COLOR_T2, label=\"T2 (S) Applied\"\n",
    ")\n",
    "\n",
    "# Composition of T1 and T2.\n",
    "plt.quiver(\n",
    "    0, 0, T_v[0], T_v[1], angles=\"xy\", scale_units=\"xy\", scale=1,\n",
    "    color=COLOR_T, label=\"T1 x T2 Applied\"\n",
    ")\n",
    "\n",
    "# Mark the points.\n",
    "plt.scatter(\n",
    "    [v[0], T1_v[0], T2_v[0], T_v[0]],\n",
    "    [v[1], T1_v[1], T2_v[1], T_v[1]],\n",
    "    color=\"black\"\n",
    ")\n",
    "\n",
    "plt.text(\n",
    "    v[0] + 0.2, v[1], f\"v=({v[0]}, {v[1]})\",\n",
    "    fontsize=10, ha=\"left\"\n",
    ")\n",
    "plt.text(\n",
    "    T1_v[0], T1_v[1] + 0.2, f\"T1=({T1_v[0]:.2f}, {T1_v[1]:.2f})\",\n",
    "    fontsize=10, ha=\"left\"\n",
    ")\n",
    "plt.text(\n",
    "    T2_v[0], T2_v[1] + 0.2, f\"T2=({T2_v[0]:.0f}, {T2_v[1]:.0f})\",\n",
    "    fontsize=10, ha=\"left\"\n",
    ")\n",
    "plt.text(\n",
    "    T_v[0], T_v[1] + 0.2, f\"v'=({T_v[0]:.2f}, {T_v[1]:.2f})\",\n",
    "    fontsize=10, ha=\"left\"\n",
    ")\n",
    "\n",
    "# Set plot limits.\n",
    "plt.xlim(-1.0, 3.0)\n",
    "plt.ylim(0.0, 3.5)\n",
    "plt.xlabel(\"x\")\n",
    "plt.ylabel(\"y\")\n",
    "plt.grid(True)\n",
    "\n",
    "# Ensure the aspect ratio is equal.\n",
    "plt.gca().set_aspect(\"equal\", adjustable=\"box\")\n",
    "\n",
    "# Define the legend.\n",
    "plt.legend()\n",
    "\n",
    "# Show all plots.\n",
    "plt.show()"
   ]
  },
  {
   "cell_type": "markdown",
   "id": "5120ab75",
   "metadata": {},
   "source": [
    "## Summary\n",
    "- We applied rotation, scaling, and their composition to a vector.\n",
    "- Each transformation was visualized using Matplotlib.\n",
    "- Composition of transformations is fundamental in geometry, computer graphics, and data science."
   ]
  }
 ],
 "metadata": {
  "kernelspec": {
   "display_name": "damin2025",
   "language": "python",
   "name": "python3"
  },
  "language_info": {
   "codemirror_mode": {
    "name": "ipython",
    "version": 3
   },
   "file_extension": ".py",
   "mimetype": "text/x-python",
   "name": "python",
   "nbconvert_exporter": "python",
   "pygments_lexer": "ipython3",
   "version": "3.12.11"
  }
 },
 "nbformat": 4,
 "nbformat_minor": 5
}
