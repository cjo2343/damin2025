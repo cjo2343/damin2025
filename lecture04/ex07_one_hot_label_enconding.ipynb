{
 "cells": [
  {
   "cell_type": "markdown",
   "id": "269fb2e2",
   "metadata": {},
   "source": [
    "# One-Hot and Label Encoding Techniques\n",
    "\n",
    "This notebook demonstrates how to perform One-Hot Encoding and Label Encoding on categorical data using pandas and scikit-learn. We'll explore different encoding strategies and visualize their effects on customer data.\n",
    "\n",
    "**Learning Objectives:**\n",
    "- Understand the difference between One-Hot and Label Encoding\n",
    "- Learn when to use each encoding technique\n",
    "- Master scikit-learn preprocessing tools\n",
    "- Visualize encoded data using custom table rendering\n",
    "\n",
    "**Prerequisites:**\n",
    "- Basic Python programming\n",
    "- Familiarity with pandas and NumPy\n",
    "- Understanding of categorical vs numerical data\n",
    "- Basic knowledge of scikit-learn preprocessing"
   ]
  },
  {
   "cell_type": "code",
   "execution_count": 1,
   "id": "6f48a332",
   "metadata": {},
   "outputs": [],
   "source": [
    "# Import the required libraries\n",
    "import numpy as np\n",
    "import matplotlib.pyplot as plt\n",
    "import pandas as pd\n",
    "from sklearn.preprocessing import OneHotEncoder, LabelEncoder"
   ]
  },
  {
   "cell_type": "markdown",
   "id": "9f648944",
   "metadata": {},
   "source": [
    "## Step 1: Define Table Rendering Function\n",
    "\n",
    "We'll create a helper function to display DataFrames as nicely formatted tables for better visualization."
   ]
  },
  {
   "cell_type": "code",
   "execution_count": 2,
   "id": "ba5197c7",
   "metadata": {},
   "outputs": [],
   "source": [
    "def render_mpl_table(\n",
    "        data: pd.DataFrame, col_width: float = 4.0, row_height: float = 0.625,\n",
    "        font_size: int = 14, header_color: str = \"#179E86\",\n",
    "        row_colors: list = [\"#f1f1f2\", \"#ffffff\"], edge_color: str = \"black\",\n",
    "        bbox: list = [0, 0, 1, 1], header_font_color: str = \"white\",\n",
    "        ax: plt.Axes = None, **kwargs) -> plt.Axes:\n",
    "    \"\"\"Function to display the DataFrame as a table with colored cells.\n",
    "\n",
    "    Args:\n",
    "        data (pd.DataFrame): The DataFrame to be displayed as a table.\n",
    "        col_width (float, optional): The width of the columns. Defaults to 4.0.\n",
    "        row_height (float, optional): The height of the rows. Defaults to 0.625.\n",
    "        font_size (int, optional): The font size. Defaults to 14.\n",
    "        header_color (str, optional): The color of the header. Defaults to\n",
    "            \"#179E86\".\n",
    "        row_colors (list, optional): The colors of the rows. Defaults to\n",
    "            [\"#f1f1f2\", \"#ffffff\"].\n",
    "        edge_color (str, optional): The color of the edges. Defaults to \"black\".\n",
    "        bbox (list, optional): The bounding box. Defaults to [0, 0, 1, 1].\n",
    "        header_font_color (str, optional): The color of the header font.\n",
    "            Defaults to \"white\".\n",
    "        ax (plt.Axes, optional): The axes to be used. Defaults to None.\n",
    "\n",
    "    Returns:\n",
    "        plt.Axes: The axes with the table.\n",
    "    \"\"\"\n",
    "\n",
    "    # Create the figure and axes if not provided\n",
    "    if ax is None:\n",
    "        size = (np.array(data.shape[::-1]) + np.array([0, 1])) * \\\n",
    "            np.array([col_width, row_height])\n",
    "        _, ax = plt.subplots(figsize=size)\n",
    "        ax.axis(\"off\")\n",
    "\n",
    "    # Create the table\n",
    "    mpl_table = ax.table(\n",
    "        cellText=data.values, bbox=bbox,\n",
    "        colLabels=data.columns, **kwargs\n",
    "    )\n",
    "\n",
    "    # Set the font size\n",
    "    mpl_table.auto_set_font_size(False)\n",
    "    mpl_table.set_fontsize(font_size)\n",
    "\n",
    "    # Styling the table\n",
    "    for k, cell in mpl_table._cells.items():\n",
    "        cell.set_edgecolor(edge_color)\n",
    "\n",
    "        # Header row\n",
    "        if k[0] == 0:\n",
    "            cell.set_text_props(weight=\"bold\", color=header_font_color)\n",
    "            cell.set_facecolor(header_color)\n",
    "\n",
    "        # Alternate row coloring\n",
    "        else:\n",
    "            cell.set_facecolor(row_colors[k[0] % len(row_colors)])\n",
    "\n",
    "    return ax"
   ]
  },
  {
   "cell_type": "markdown",
   "id": "e531d07c",
   "metadata": {},
   "source": [
    "## Step 2: Create Sample Customer Data\n",
    "\n",
    "We'll create a simple dataset with categorical variables that need encoding."
   ]
  },
  {
   "cell_type": "code",
   "execution_count": 3,
   "id": "849df6c0",
   "metadata": {},
   "outputs": [
    {
     "name": "stdout",
     "output_type": "stream",
     "text": [
      "Original Data:\n",
      "   Customer_ID Segment Payment_Method\n",
      "0            1   Youth    Credit Card\n",
      "1            2   Adult     Debit Card\n",
      "2            3  Senior         Paypal\n",
      "3            4   Youth         Paypal\n",
      "4            5  Senior    Credit Card\n",
      "\n",
      "Data types:\n",
      "Customer_ID        int64\n",
      "Segment           object\n",
      "Payment_Method    object\n",
      "dtype: object\n",
      "\n",
      "Unique values in Segment: ['Youth' 'Adult' 'Senior']\n",
      "Unique values in Payment_Method: ['Credit Card' 'Debit Card' 'Paypal']\n"
     ]
    }
   ],
   "source": [
    "# Sample data: Customer segments and payment methods\n",
    "data = {\n",
    "    \"Customer_ID\": [1, 2, 3, 4, 5],\n",
    "    \"Segment\": [\"Youth\", \"Adult\", \"Senior\", \"Youth\", \"Senior\"],\n",
    "    \"Payment_Method\": [\"Credit Card\", \"Debit Card\", \"Paypal\", \"Paypal\", \"Credit Card\"]\n",
    "}\n",
    "\n",
    "df = pd.DataFrame(data)\n",
    "print(\"Original Data:\")\n",
    "print(df)\n",
    "print(f\"\\nData types:\\n{df.dtypes}\")\n",
    "print(f\"\\nUnique values in Segment: {df['Segment'].unique()}\")\n",
    "print(f\"Unique values in Payment_Method: {df['Payment_Method'].unique()}\")"
   ]
  },
  {
   "cell_type": "markdown",
   "id": "6606ef82",
   "metadata": {},
   "source": [
    "## Step 3: Visualize Original Data\n",
    "\n",
    "Let's display the original data using our custom table rendering function."
   ]
  },
  {
   "cell_type": "code",
   "execution_count": 4,
   "id": "13ead408",
   "metadata": {},
   "outputs": [
    {
     "data": {
      "image/png": "[encoded data removed]",
      "text/plain": [
       "<Figure size 1200x375 with 1 Axes>"
      ]
     },
     "metadata": {},
     "output_type": "display_data"
    }
   ],
   "source": [
    "# Render the original data as a table\n",
    "render_mpl_table(df)\n",
    "plt.title(\"Original Customer Data\", pad=20)\n",
    "plt.show()"
   ]
  },
  {
   "cell_type": "markdown",
   "id": "68865bb3",
   "metadata": {},
   "source": [
    "## Step 4: One-Hot Encoding Implementation\n",
    "\n",
    "One-Hot Encoding creates binary columns for each category. Each category gets its own column with 1s and 0s."
   ]
  },
  {
   "cell_type": "code",
   "execution_count": 5,
   "id": "f71dabc3",
   "metadata": {},
   "outputs": [
    {
     "name": "stdout",
     "output_type": "stream",
     "text": [
      "One-Hot Encoded Segment:\n",
      "Feature names: ['Segment_Adult' 'Segment_Senior' 'Segment_Youth']\n",
      "Encoded values:\n",
      "[[0. 0. 1.]\n",
      " [1. 0. 0.]\n",
      " [0. 1. 0.]\n",
      " [0. 0. 1.]\n",
      " [0. 1. 0.]]\n",
      "\n",
      "One-Hot Encoded Payment Method:\n",
      "Feature names: ['Payment_Method_Credit Card' 'Payment_Method_Debit Card'\n",
      " 'Payment_Method_Paypal']\n",
      "Encoded values:\n",
      "[[1. 0. 0.]\n",
      " [0. 1. 0.]\n",
      " [0. 0. 1.]\n",
      " [0. 0. 1.]\n",
      " [1. 0. 0.]]\n"
     ]
    }
   ],
   "source": [
    "# One-Hot Encoding using scikit-learn\n",
    "one_hot_encoder_segment = OneHotEncoder(sparse_output=False)\n",
    "one_hot_encoder_payment = OneHotEncoder(sparse_output=False)\n",
    "\n",
    "# Apply One-Hot Encoding to Segment\n",
    "segment_encoded = one_hot_encoder_segment.fit_transform(df[[\"Segment\"]])\n",
    "segment_feature_names = one_hot_encoder_segment.get_feature_names_out([\"Segment\"])\n",
    "\n",
    "# Apply One-Hot Encoding to Payment_Method\n",
    "payment_encoded = one_hot_encoder_payment.fit_transform(df[[\"Payment_Method\"]])\n",
    "payment_feature_names = one_hot_encoder_payment.get_feature_names_out([\"Payment_Method\"])\n",
    "\n",
    "print(\"One-Hot Encoded Segment:\")\n",
    "print(f\"Feature names: {segment_feature_names}\")\n",
    "print(f\"Encoded values:\\n{segment_encoded}\")\n",
    "\n",
    "print(f\"\\nOne-Hot Encoded Payment Method:\")\n",
    "print(f\"Feature names: {payment_feature_names}\")\n",
    "print(f\"Encoded values:\\n{payment_encoded}\")"
   ]
  },
  {
   "cell_type": "markdown",
   "id": "be5d0d5d",
   "metadata": {},
   "source": [
    "## Step 5: Create DataFrame with One-Hot Encoded Data\n",
    "\n",
    "Let's create a comprehensive DataFrame that includes all the one-hot encoded features."
   ]
  },
  {
   "cell_type": "code",
   "execution_count": 6,
   "id": "170cd833",
   "metadata": {},
   "outputs": [
    {
     "name": "stdout",
     "output_type": "stream",
     "text": [
      "Data after One-Hot Encoding:\n",
      "   Customer_ID  Segment_Adult  Segment_Senior  Segment_Youth  \\\n",
      "0            1            0.0             0.0            1.0   \n",
      "1            2            1.0             0.0            0.0   \n",
      "2            3            0.0             1.0            0.0   \n",
      "3            4            0.0             0.0            1.0   \n",
      "4            5            0.0             1.0            0.0   \n",
      "\n",
      "   Payment_Method_Credit Card  Payment_Method_Debit Card  \\\n",
      "0                         1.0                        0.0   \n",
      "1                         0.0                        1.0   \n",
      "2                         0.0                        0.0   \n",
      "3                         0.0                        0.0   \n",
      "4                         1.0                        0.0   \n",
      "\n",
      "   Payment_Method_Paypal  \n",
      "0                    0.0  \n",
      "1                    0.0  \n",
      "2                    1.0  \n",
      "3                    1.0  \n",
      "4                    0.0  \n"
     ]
    }
   ],
   "source": [
    "# Create DataFrame with One-Hot encoded data\n",
    "df_one_hot = pd.DataFrame()\n",
    "df_one_hot[\"Customer_ID\"] = df[\"Customer_ID\"]\n",
    "\n",
    "# Add one-hot encoded segment columns\n",
    "for i, col_name in enumerate(segment_feature_names):\n",
    "    df_one_hot[col_name] = segment_encoded[:, i]\n",
    "\n",
    "# Add one-hot encoded payment method columns\n",
    "for i, col_name in enumerate(payment_feature_names):\n",
    "    df_one_hot[col_name] = payment_encoded[:, i]\n",
    "\n",
    "print(\"Data after One-Hot Encoding:\")\n",
    "print(df_one_hot)"
   ]
  },
  {
   "cell_type": "markdown",
   "id": "43469f73",
   "metadata": {},
   "source": [
    "## Step 6: Visualize One-Hot Encoded Data\n",
    "\n",
    "Let's visualize the one-hot encoded data using our table rendering function."
   ]
  },
  {
   "cell_type": "code",
   "execution_count": 7,
   "id": "3f0e74aa",
   "metadata": {},
   "outputs": [
    {
     "data": {
      "image/png": "[encoded data removed]",
      "text/plain": [
       "<Figure size 2800x375 with 1 Axes>"
      ]
     },
     "metadata": {},
     "output_type": "display_data"
    }
   ],
   "source": [
    "# Render the one-hot encoded data as a table\n",
    "render_mpl_table(df_one_hot, header_color=\"#F59B11\")\n",
    "plt.title(\"One-Hot Encoded Customer Data\", pad=20)\n",
    "plt.show()"
   ]
  },
  {
   "cell_type": "markdown",
   "id": "cd172931",
   "metadata": {},
   "source": [
    "## Step 7: Label Encoding Implementation\n",
    "\n",
    "Label Encoding converts each category to a unique integer. This is more compact but implies an ordinal relationship."
   ]
  },
  {
   "cell_type": "code",
   "execution_count": 8,
   "id": "3347177c",
   "metadata": {},
   "outputs": [
    {
     "name": "stdout",
     "output_type": "stream",
     "text": [
      "Data after Label Encoding:\n",
      "   Customer_ID  Segment  Payment_Method\n",
      "0            1        2               0\n",
      "1            2        0               1\n",
      "2            3        1               2\n",
      "3            4        2               2\n",
      "4            5        1               0\n",
      "\n",
      "Segment Label Mapping:\n",
      "  Adult -> 0\n",
      "  Senior -> 1\n",
      "  Youth -> 2\n",
      "\n",
      "Payment Method Label Mapping:\n",
      "  Credit Card -> 0\n",
      "  Debit Card -> 1\n",
      "  Paypal -> 2\n"
     ]
    }
   ],
   "source": [
    "# Label Encoding using scikit-learn\n",
    "label_encoder_segment = LabelEncoder()\n",
    "label_encoder_payment = LabelEncoder()\n",
    "\n",
    "df_label_encoded = df.copy()\n",
    "df_label_encoded[\"Segment\"] = label_encoder_segment.fit_transform(df[\"Segment\"])\n",
    "df_label_encoded[\"Payment_Method\"] = label_encoder_payment.fit_transform(df[\"Payment_Method\"])\n",
    "\n",
    "print(\"Data after Label Encoding:\")\n",
    "print(df_label_encoded)\n",
    "\n",
    "# Show the mapping\n",
    "print(f\"\\nSegment Label Mapping:\")\n",
    "for i, label in enumerate(label_encoder_segment.classes_):\n",
    "    print(f\"  {label} -> {i}\")\n",
    "\n",
    "print(f\"\\nPayment Method Label Mapping:\")\n",
    "for i, label in enumerate(label_encoder_payment.classes_):\n",
    "    print(f\"  {label} -> {i}\")"
   ]
  },
  {
   "cell_type": "markdown",
   "id": "0725da40",
   "metadata": {},
   "source": [
    "## Step 8: Visualize Label Encoded Data\n",
    "\n",
    "Let's visualize the label encoded data for comparison."
   ]
  },
  {
   "cell_type": "code",
   "execution_count": 9,
   "id": "87aba572",
   "metadata": {},
   "outputs": [
    {
     "data": {
      "image/png": "[encoded data removed]",
      "text/plain": [
       "<Figure size 1200x375 with 1 Axes>"
      ]
     },
     "metadata": {},
     "output_type": "display_data"
    }
   ],
   "source": [
    "# Render the label encoded data as a table\n",
    "render_mpl_table(df_label_encoded, header_color=\"#C03B26\")\n",
    "plt.title(\"Label Encoded Customer Data\", pad=20)\n",
    "plt.show()"
   ]
  },
  {
   "cell_type": "markdown",
   "id": "cf73cf47",
   "metadata": {},
   "source": [
    "## Step 9: Comparison and Analysis\n",
    "\n",
    "Let's create a comprehensive comparison of all three approaches."
   ]
  },
  {
   "cell_type": "code",
   "execution_count": 10,
   "id": "f916992d",
   "metadata": {},
   "outputs": [
    {
     "name": "stdout",
     "output_type": "stream",
     "text": [
      "COMPARISON OF ENCODING METHODS\n",
      "==================================================\n",
      "1. Original Data Shape: (5, 3)\n",
      "2. One-Hot Encoded Shape: (5, 7)\n",
      "3. Label Encoded Shape: (5, 3)\n",
      "\n",
      "Memory Usage Comparison:\n",
      "Original: 733 bytes\n",
      "One-Hot: 412 bytes\n",
      "Label Encoded: 252 bytes\n",
      "\n",
      "Feature Expansion:\n",
      "Original features: 3\n",
      "One-Hot features: 7\n",
      "Label Encoded features: 3\n"
     ]
    }
   ],
   "source": [
    "# Compare the three approaches\n",
    "print(\"COMPARISON OF ENCODING METHODS\")\n",
    "print(\"=\"*50)\n",
    "\n",
    "print(\"1. Original Data Shape:\", df.shape)\n",
    "print(\"2. One-Hot Encoded Shape:\", df_one_hot.shape)\n",
    "print(\"3. Label Encoded Shape:\", df_label_encoded.shape)\n",
    "\n",
    "print(f\"\\nMemory Usage Comparison:\")\n",
    "print(f\"Original: {df.memory_usage(deep=True).sum()} bytes\")\n",
    "print(f\"One-Hot: {df_one_hot.memory_usage(deep=True).sum()} bytes\")\n",
    "print(f\"Label Encoded: {df_label_encoded.memory_usage(deep=True).sum()} bytes\")\n",
    "\n",
    "# Show feature expansion\n",
    "print(f\"\\nFeature Expansion:\")\n",
    "print(f\"Original features: {len(df.columns)}\")\n",
    "print(f\"One-Hot features: {len(df_one_hot.columns)}\")\n",
    "print(f\"Label Encoded features: {len(df_label_encoded.columns)}\")"
   ]
  },
  {
   "cell_type": "markdown",
   "id": "1f1d70ad",
   "metadata": {},
   "source": [
    "## Step 10: Practical Considerations\n",
    "\n",
    "Let's demonstrate some practical considerations when choosing between encoding methods."
   ]
  },
  {
   "cell_type": "code",
   "execution_count": 11,
   "id": "848223f1",
   "metadata": {},
   "outputs": [
    {
     "name": "stdout",
     "output_type": "stream",
     "text": [
      "Pandas One-Hot Encoding (get_dummies):\n",
      "   Customer_ID  Seg_Adult  Seg_Senior  Seg_Youth  Pay_Credit Card  \\\n",
      "0            1      False       False       True             True   \n",
      "1            2       True       False      False            False   \n",
      "2            3      False        True      False            False   \n",
      "3            4      False       False       True            False   \n",
      "4            5      False        True      False             True   \n",
      "\n",
      "   Pay_Debit Card  Pay_Paypal  \n",
      "0           False       False  \n",
      "1            True       False  \n",
      "2           False        True  \n",
      "3           False        True  \n",
      "4           False       False  \n",
      "\n",
      "Handling New Categories:\n",
      "==============================\n",
      "New data with unseen categories:\n",
      "   Customer_ID Segment Payment_Method\n",
      "0            6   Child        Bitcoin\n",
      "Label encoder error: y contains previously unseen labels: 'Child'\n",
      "Robust encoder classes: ['Adult' 'Senior' 'Unknown' 'Youth']\n"
     ]
    }
   ],
   "source": [
    "# Demonstrate pandas built-in one-hot encoding\n",
    "df_pandas_onehot = pd.get_dummies(df, columns=[\"Segment\", \"Payment_Method\"], prefix=[\"Seg\", \"Pay\"])\n",
    "print(\"Pandas One-Hot Encoding (get_dummies):\")\n",
    "print(df_pandas_onehot)\n",
    "\n",
    "# Show how to handle new categories\n",
    "print(f\"\\nHandling New Categories:\")\n",
    "print(\"=\"*30)\n",
    "\n",
    "# Simulate new data with unseen category\n",
    "new_data = pd.DataFrame({\n",
    "    \"Customer_ID\": [6],\n",
    "    \"Segment\": [\"Child\"],  # New category not in training\n",
    "    \"Payment_Method\": [\"Bitcoin\"]  # New category not in training\n",
    "})\n",
    "\n",
    "print(\"New data with unseen categories:\")\n",
    "print(new_data)\n",
    "\n",
    "# Try to transform with existing encoders (will cause issues)\n",
    "try:\n",
    "    new_segment_encoded = label_encoder_segment.transform(new_data[\"Segment\"])\n",
    "    print(\"Label encoder handled new category successfully\")\n",
    "except ValueError as e:\n",
    "    print(f\"Label encoder error: {e}\")\n",
    "\n",
    "# Show how to handle unknown categories\n",
    "label_encoder_robust = LabelEncoder()\n",
    "all_segments = list(df[\"Segment\"].unique()) + [\"Unknown\"]\n",
    "label_encoder_robust.fit(all_segments)\n",
    "print(f\"Robust encoder classes: {label_encoder_robust.classes_}\")"
   ]
  },
  {
   "cell_type": "markdown",
   "id": "26fdc549",
   "metadata": {},
   "source": [
    "## Summary\n",
    "\n",
    "In this notebook, we explored two fundamental categorical encoding techniques:\n",
    "\n",
    "### One-Hot Encoding:\n",
    "- **Purpose**: Creates binary columns for each category\n",
    "- **When to use**: \n",
    "  - Nominal categorical variables (no inherent order)\n",
    "  - When you want to avoid implying ordinal relationships\n",
    "  - For tree-based algorithms that handle sparse features well\n",
    "- **Pros**: \n",
    "  - No false ordinal relationships\n",
    "  - Works well with linear models\n",
    "  - Interpretable results\n",
    "- **Cons**: \n",
    "  - Increases dimensionality (curse of dimensionality)\n",
    "  - Can create sparse datasets\n",
    "  - Memory intensive for high-cardinality features\n",
    "\n",
    "### Label Encoding:\n",
    "- **Purpose**: Maps each category to a unique integer\n",
    "- **When to use**:\n",
    "  - Ordinal categorical variables (natural order exists)\n",
    "  - When memory/storage is a concern\n",
    "  - For algorithms that can handle integer inputs well\n",
    "- **Pros**:\n",
    "  - Memory efficient\n",
    "  - Maintains original number of features\n",
    "  - Simple and fast\n",
    "- **Cons**:\n",
    "  - Implies ordinal relationship (can mislead algorithms)\n",
    "  - May not work well with linear models\n",
    "  - Sensitive to category ordering\n",
    "\n",
    "### Key Decision Factors:\n",
    "\n",
    "1. **Nature of Categories**: \n",
    "   - Use Label Encoding for ordinal data (Small, Medium, Large)\n",
    "   - Use One-Hot Encoding for nominal data (Red, Blue, Green)\n",
    "\n",
    "2. **Algorithm Choice**:\n",
    "   - Tree-based models: Both work, One-Hot often preferred\n",
    "   - Linear models: One-Hot Encoding usually better\n",
    "   - Neural networks: One-Hot Encoding typically preferred\n",
    "\n",
    "3. **Dataset Size**:\n",
    "   - Small datasets: One-Hot Encoding usually fine\n",
    "   - Large datasets with high cardinality: Consider Label Encoding or other techniques\n",
    "\n",
    "4. **Cardinality**:\n",
    "   - Low cardinality (< 10 categories): One-Hot Encoding\n",
    "   - High cardinality (> 50 categories): Consider alternatives like Target Encoding\n",
    "\n",
    "### Best Practices:\n",
    "- Always fit encoders on training data only\n",
    "- Handle unknown categories gracefully\n",
    "- Consider the downstream algorithm when choosing encoding\n",
    "- Monitor for data leakage in time-series data\n",
    "- Use pandas `get_dummies()` for quick prototyping"
   ]
  }
 ],
 "metadata": {
  "kernelspec": {
   "display_name": "damin2025",
   "language": "python",
   "name": "python3"
  },
  "language_info": {
   "codemirror_mode": {
    "name": "ipython",
    "version": 3
   },
   "file_extension": ".py",
   "mimetype": "text/x-python",
   "name": "python",
   "nbconvert_exporter": "python",
   "pygments_lexer": "ipython3",
   "version": "3.12.11"
  }
 },
 "nbformat": 4,
 "nbformat_minor": 5
}
