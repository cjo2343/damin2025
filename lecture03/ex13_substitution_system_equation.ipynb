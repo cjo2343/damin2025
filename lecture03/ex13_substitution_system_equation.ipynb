{
 "cells": [
  {
   "cell_type": "markdown",
   "id": "a8507ee5",
   "metadata": {},
   "source": [
    "# Solving a System of Linear Equations by Substitution\n",
    "\n",
    "This notebook demonstrates how to solve a system of two linear equations using the substitution method with SymPy. Each step is explained and shown in code and output.\n",
    "\n",
    "**Learning Objectives:**\n",
    "- Understand the substitution method for solving systems of equations\n",
    "- Use SymPy to perform symbolic algebra in Python\n",
    "- Interpret step-by-step solutions\n",
    "\n",
    "**Prerequisites:**\n",
    "- Basic Python\n",
    "- Familiarity with algebraic equations"
   ]
  },
  {
   "cell_type": "code",
   "execution_count": 1,
   "id": "12f53db0",
   "metadata": {},
   "outputs": [],
   "source": [
    "# Import the required libraries\n",
    "import sympy as sp"
   ]
  },
  {
   "cell_type": "markdown",
   "id": "645f67ab",
   "metadata": {},
   "source": [
    "## Step 1: Define Variables and Equations\n",
    "We define the variables and the system of equations."
   ]
  },
  {
   "cell_type": "code",
   "execution_count": 2,
   "id": "3a488c15",
   "metadata": {},
   "outputs": [],
   "source": [
    "# Define the variables\n",
    "x, y = sp.symbols(\"x y\")\n",
    "\n",
    "# Define the equations\n",
    "eq1 = sp.Eq(x + y, 6)\n",
    "eq2 = sp.Eq(2*x - y, 3)"
   ]
  },
  {
   "cell_type": "markdown",
   "id": "f1939d1e",
   "metadata": {},
   "source": [
    "## Step 2: Solve the First Equation for x\n",
    "We solve the first equation for x."
   ]
  },
  {
   "cell_type": "code",
   "execution_count": 3,
   "id": "13a1703e",
   "metadata": {},
   "outputs": [
    {
     "data": {
      "text/latex": [
       "$\\displaystyle 6 - y$"
      ],
      "text/plain": [
       "6 - y"
      ]
     },
     "execution_count": 3,
     "metadata": {},
     "output_type": "execute_result"
    }
   ],
   "source": [
    "# Solve the first equation for x\n",
    "sol_x = sp.solve(eq1, x)[0]\n",
    "sol_x"
   ]
  },
  {
   "cell_type": "markdown",
   "id": "42c4376c",
   "metadata": {},
   "source": [
    "## Step 3: Substitute x into the Second Equation\n",
    "We substitute the expression for x into the second equation."
   ]
  },
  {
   "cell_type": "code",
   "execution_count": 4,
   "id": "7443d566",
   "metadata": {},
   "outputs": [
    {
     "data": {
      "text/latex": [
       "$\\displaystyle 12 - 3 y = 3$"
      ],
      "text/plain": [
       "Eq(12 - 3*y, 3)"
      ]
     },
     "execution_count": 4,
     "metadata": {},
     "output_type": "execute_result"
    }
   ],
   "source": [
    "# Substitute x into the second equation\n",
    "sub_eq2 = eq2.subs(x, sol_x)\n",
    "sub_eq2"
   ]
  },
  {
   "cell_type": "markdown",
   "id": "63b9563d",
   "metadata": {},
   "source": [
    "## Step 4: Solve the Resulting Equation for y\n",
    "We solve the resulting equation for y."
   ]
  },
  {
   "cell_type": "code",
   "execution_count": 5,
   "id": "4e938bff",
   "metadata": {},
   "outputs": [
    {
     "data": {
      "text/latex": [
       "$\\displaystyle 3$"
      ],
      "text/plain": [
       "3"
      ]
     },
     "execution_count": 5,
     "metadata": {},
     "output_type": "execute_result"
    }
   ],
   "source": [
    "# Solve the resulting equation for y\n",
    "sol_y = sp.solve(sub_eq2, y)[0]\n",
    "sol_y"
   ]
  },
  {
   "cell_type": "markdown",
   "id": "684a6ff6",
   "metadata": {},
   "source": [
    "## Step 5: Substitute y Back into the Expression for x\n",
    "We substitute the value of y back into the expression for x."
   ]
  },
  {
   "cell_type": "code",
   "execution_count": 6,
   "id": "4c6fd6ba",
   "metadata": {},
   "outputs": [
    {
     "data": {
      "text/latex": [
       "$\\displaystyle 3$"
      ],
      "text/plain": [
       "3"
      ]
     },
     "execution_count": 6,
     "metadata": {},
     "output_type": "execute_result"
    }
   ],
   "source": [
    "# Substitute y back into the expression for x\n",
    "final_sol_x = sol_x.subs(y, sol_y)\n",
    "final_sol_x"
   ]
  },
  {
   "cell_type": "markdown",
   "id": "d30447f4",
   "metadata": {},
   "source": [
    "## Step 6: Display the Solution\n",
    "The solution to the system is shown below."
   ]
  },
  {
   "cell_type": "code",
   "execution_count": 7,
   "id": "6745bfdb",
   "metadata": {},
   "outputs": [
    {
     "name": "stdout",
     "output_type": "stream",
     "text": [
      "Solution: x = 3, y = 3.\n"
     ]
    }
   ],
   "source": [
    "# Display the solution\n",
    "print(f\"Solution: x = {final_sol_x}, y = {sol_y}.\")"
   ]
  },
  {
   "cell_type": "markdown",
   "id": "4e65da9b",
   "metadata": {},
   "source": [
    "## Summary\n",
    "- We solved a system of linear equations using the substitution method.\n",
    "- Each step was performed symbolically using SymPy.\n",
    "- The solution is x = 3, y = 3.\n",
    "- This method is useful for small systems and for teaching algebraic techniques."
   ]
  }
 ],
 "metadata": {
  "kernelspec": {
   "display_name": "damin2025",
   "language": "python",
   "name": "python3"
  },
  "language_info": {
   "codemirror_mode": {
    "name": "ipython",
    "version": 3
   },
   "file_extension": ".py",
   "mimetype": "text/x-python",
   "name": "python",
   "nbconvert_exporter": "python",
   "pygments_lexer": "ipython3",
   "version": "3.12.11"
  }
 },
 "nbformat": 4,
 "nbformat_minor": 5
}
