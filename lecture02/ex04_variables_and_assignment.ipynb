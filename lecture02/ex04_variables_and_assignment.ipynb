{
 "cells": [
  {
   "cell_type": "markdown",
   "id": "6a1e72e1",
   "metadata": {},
   "source": [
    "# Variables and Assignment in Python\n",
    "\n",
    "This notebook demonstrates how to work with variables and assignment in Python. Variables are fundamental building blocks that allow you to store and manipulate data in your programs.\n",
    "\n",
    "## Learning Objectives\n",
    "- Understand how to create and assign values to variables\n",
    "- Learn about different data types (integers, strings, floats)\n",
    "- Explore Python's dynamic typing system\n",
    "- Understand variable naming rules and conventions\n",
    "- See how Python handles case sensitivity in variable names"
   ]
  },
  {
   "cell_type": "markdown",
   "id": "c393c528",
   "metadata": {},
   "source": [
    "## Creating and Assigning Variables\n",
    "\n",
    "In Python, you can create variables by simply assigning values to them. Python automatically determines the data type based on the value you assign."
   ]
  },
  {
   "cell_type": "code",
   "execution_count": 1,
   "id": "c0817c95",
   "metadata": {},
   "outputs": [
    {
     "name": "stdout",
     "output_type": "stream",
     "text": [
      "Age: 25\n",
      "Name: John\n",
      "Temperature: 98.6\n",
      "\n"
     ]
    }
   ],
   "source": [
    "# Creating and assigning values to variables.\n",
    "age = 25  # Integer variable.\n",
    "name = \"John\"  # String variable.\n",
    "temperature = 98.6  # Float variable.\n",
    "\n",
    "# Printing the values of the variables.\n",
    "print(\"Age:\", age)\n",
    "print(\"Name:\", name)\n",
    "print(f\"Temperature: {temperature}\\n\")"
   ]
  },
  {
   "cell_type": "markdown",
   "id": "632ddecf",
   "metadata": {},
   "source": [
    "## Dynamic Typing\n",
    "\n",
    "One of Python's powerful features is dynamic typing. This means that a variable can change its data type during program execution."
   ]
  },
  {
   "cell_type": "code",
   "execution_count": 2,
   "id": "d6bc8221",
   "metadata": {},
   "outputs": [
    {
     "name": "stdout",
     "output_type": "stream",
     "text": [
      "x as an integer: 10\n",
      "x as a string: Hello\n"
     ]
    }
   ],
   "source": [
    "# Demonstrating dynamic typing.\n",
    "x = 10  # x is initially an integer.\n",
    "print(\"x as an integer:\", x)\n",
    "\n",
    "x = \"Hello\"  # Now x is a string.\n",
    "print(\"x as a string:\", x)"
   ]
  },
  {
   "cell_type": "markdown",
   "id": "38de26b6",
   "metadata": {},
   "source": [
    "## Variable Naming Rules\n",
    "\n",
    "Python has specific rules for naming variables:\n",
    "\n",
    "- Variable names can contain letters, numbers, and underscores\n",
    "- They cannot start with a number\n",
    "- They are case-sensitive\n",
    "- They cannot be Python keywords (like `if`, `for`, `while`, etc.)\n",
    "\n",
    "### Valid Examples:\n",
    "- `_valid_variable`\n",
    "- `variable1`\n",
    "- `my_variable`\n",
    "- `userName`\n",
    "\n",
    "### Invalid Examples:\n",
    "- `1variable` (starts with a number)\n",
    "- `my-variable` (contains a hyphen)\n",
    "- `if` (Python keyword)"
   ]
  },
  {
   "cell_type": "code",
   "execution_count": 3,
   "id": "f084adb1",
   "metadata": {},
   "outputs": [
    {
     "name": "stdout",
     "output_type": "stream",
     "text": [
      "Valid variable with underscore: 100\n",
      "Valid variable with number: Python\n"
     ]
    }
   ],
   "source": [
    "# Rules for naming variables.\n",
    "_valid_variable = 100  # Valid: starts with an underscore.\n",
    "variable1 = \"Python\"  # Valid: contains letters and numbers.\n",
    "\n",
    "print(\"Valid variable with underscore:\", _valid_variable)\n",
    "print(\"Valid variable with number:\", variable1)\n",
    "\n",
    "# Note: The following would cause a syntax error if uncommented:\n",
    "# 1variable = 10  # Invalid: starts with a number"
   ]
  },
  {
   "cell_type": "markdown",
   "id": "526da5c5",
   "metadata": {},
   "source": [
    "## Case Sensitivity\n",
    "\n",
    "Python variable names are case-sensitive, meaning `Age` and `age` are considered different variables."
   ]
  },
  {
   "cell_type": "code",
   "execution_count": 4,
   "id": "46777286",
   "metadata": {},
   "outputs": [
    {
     "name": "stdout",
     "output_type": "stream",
     "text": [
      "Age with uppercase 'A': 30\n",
      "age with lowercase 'a': 20\n",
      "These are two different variables!\n"
     ]
    }
   ],
   "source": [
    "# Case sensitivity in variable names.\n",
    "Age = 30  # Variable with uppercase 'A'\n",
    "age = 20  # Variable with lowercase 'a'\n",
    "\n",
    "print(\"Age with uppercase 'A':\", Age)\n",
    "print(\"age with lowercase 'a':\", age)\n",
    "print(\"These are two different variables!\")"
   ]
  },
  {
   "cell_type": "markdown",
   "id": "4533f393",
   "metadata": {},
   "source": [
    "## Putting It All Together\n",
    "\n",
    "Let's use our variables in a practical example that demonstrates how they work together."
   ]
  },
  {
   "cell_type": "code",
   "execution_count": 5,
   "id": "6c8fbc4e",
   "metadata": {},
   "outputs": [
    {
     "name": "stdout",
     "output_type": "stream",
     "text": [
      "Summary:\n",
      "John is 20 years old, with a body temperature of 98.6°F.\n",
      "\n",
      "Data types:\n",
      "name is of type: <class 'str'>\n",
      "age is of type: <class 'int'>\n",
      "temperature is of type: <class 'float'>\n"
     ]
    }
   ],
   "source": [
    "# Summary of variable usage.\n",
    "print(\"Summary:\")\n",
    "print(f\"{name} is {age} years old, with a body temperature of {temperature}°F.\")\n",
    "\n",
    "# Let's also check the data types of our variables\n",
    "print(f\"\\nData types:\")\n",
    "print(f\"name is of type: {type(name)}\")\n",
    "print(f\"age is of type: {type(age)}\")\n",
    "print(f\"temperature is of type: {type(temperature)}\")"
   ]
  },
  {
   "cell_type": "markdown",
   "id": "75d30ab0",
   "metadata": {},
   "source": [
    "## Key Takeaways\n",
    "\n",
    "1. **Variables store data**: Use descriptive names for better code readability\n",
    "2. **Python is dynamically typed**: Variables can change types during execution\n",
    "3. **Naming rules matter**: Follow Python's naming conventions\n",
    "4. **Case sensitivity**: `myVar` and `myvar` are different variables\n",
    "5. **Multiple data types**: Python supports integers, floats, strings, and many more\n",
    "\n",
    "Practice creating your own variables and experimenting with different data types!"
   ]
  }
 ],
 "metadata": {
  "kernelspec": {
   "display_name": "damin2025",
   "language": "python",
   "name": "python3"
  },
  "language_info": {
   "codemirror_mode": {
    "name": "ipython",
    "version": 3
   },
   "file_extension": ".py",
   "mimetype": "text/x-python",
   "name": "python",
   "nbconvert_exporter": "python",
   "pygments_lexer": "ipython3",
   "version": "3.12.11"
  }
 },
 "nbformat": 4,
 "nbformat_minor": 5
}
