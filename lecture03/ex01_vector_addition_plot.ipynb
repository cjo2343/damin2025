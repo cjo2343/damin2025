{
 "cells": [
  {
   "cell_type": "markdown",
   "id": "ce76c1fa",
   "metadata": {},
   "source": [
    "# Vector Addition and Visualization\n",
    "\n",
    "This notebook demonstrates how to plot two vectors and their sum using Matplotlib and NumPy. It also shows how to visualize vector projections with dashed lines and annotate key points.\n",
    "\n",
    "**Learning Objectives:**\n",
    "- Understand vector addition in 2D space\n",
    "- Visualize vectors and their sum\n",
    "- Annotate and interpret vector plots\n",
    "\n",
    "**Prerequisites:**\n",
    "- Basic knowledge of Python\n",
    "- Familiarity with NumPy and Matplotlib"
   ]
  },
  {
   "cell_type": "code",
   "execution_count": 1,
   "id": "0a981671",
   "metadata": {},
   "outputs": [],
   "source": [
    "# Import the required libraries\n",
    "import matplotlib.pyplot as plt\n",
    "import numpy as np\n",
    "\n",
    "from IPython.display import display"
   ]
  },
  {
   "cell_type": "markdown",
   "id": "b9f60366",
   "metadata": {},
   "source": [
    "## Step 1: Define Colors and Vectors\n",
    "We define custom colors for each vector and set up the vectors to be plotted."
   ]
  },
  {
   "cell_type": "code",
   "execution_count": 2,
   "id": "6600cb81",
   "metadata": {},
   "outputs": [],
   "source": [
    "# Define colors based on provided RGB values\n",
    "COLOR_U = \"#179E86\"  # RGB color for vector u\n",
    "COLOR_V = \"#F59B11\"  # RGB color for vector v\n",
    "COLOR_SUM = \"#C03B26\" # A distinct color for the sum vector\n",
    "COLOR_GRAY = \"#44546A\" # A gray color for the dashed lines\n",
    "\n",
    "# Define vectors u and v\n",
    "u = np.array([2, 3])\n",
    "v = np.array([3, 1])\n",
    "uv_sum = u + v # Addition of vectors"
   ]
  },
  {
   "cell_type": "markdown",
   "id": "bffe58fe",
   "metadata": {},
   "source": [
    "## Step 2: Plot Vectors and Their Sum\n",
    "We use Matplotlib's `quiver` function to plot the vectors from the origin."
   ]
  },
  {
   "cell_type": "code",
   "execution_count": 3,
   "id": "e8fa9dcd",
   "metadata": {},
   "outputs": [],
   "source": [
    "%%capture\n",
    "\n",
    "# Create a figure and axis\n",
    "fig, ax = plt.subplots()\n",
    "\n",
    "# Plot vectors u and v\n",
    "ax.quiver(\n",
    "    0, 0, u[0], u[1], angles=\"xy\", scale_units=\"xy\", scale=1,\n",
    "    color=COLOR_U\n",
    ")\n",
    "ax.quiver(\n",
    "    0, 0, v[0], v[1], angles=\"xy\", scale_units=\"xy\", scale=1,\n",
    "    color=COLOR_V\n",
    ")\n",
    "ax.quiver(\n",
    "    0, 0, uv_sum[0], uv_sum[1], angles=\"xy\", scale_units=\"xy\", scale=1,\n",
    "    color=COLOR_SUM\n",
    ")"
   ]
  },
  {
   "cell_type": "markdown",
   "id": "72522246",
   "metadata": {},
   "source": [
    "## Step 3: Add Dashed Projection Lines\n",
    "Dashed lines help visualize how the vectors add up to the sum."
   ]
  },
  {
   "cell_type": "code",
   "execution_count": 4,
   "id": "e722e17b",
   "metadata": {},
   "outputs": [
    {
     "data": {
      "text/plain": [
       "[<matplotlib.lines.Line2D at 0x110acf2f0>]"
      ]
     },
     "execution_count": 4,
     "metadata": {},
     "output_type": "execute_result"
    }
   ],
   "source": [
    "# Plot dashed lines to show the vector projections\n",
    "ax.plot(\n",
    "    [u[0], uv_sum[0]], [u[1], uv_sum[1]],\n",
    "    color=COLOR_GRAY, linestyle=\"dashed\", linewidth=0.75\n",
    ")\n",
    "ax.plot(\n",
    "    [v[0], uv_sum[0]], [v[1], uv_sum[1]],\n",
    "    color=COLOR_GRAY, linestyle=\"dashed\", linewidth=0.75\n",
    ")"
   ]
  },
  {
   "cell_type": "markdown",
   "id": "1c1fbeb8",
   "metadata": {},
   "source": [
    "## Step 4: Annotate Key Points\n",
    "We mark and label the endpoints of each vector for clarity."
   ]
  },
  {
   "cell_type": "code",
   "execution_count": 5,
   "id": "a5e008ce",
   "metadata": {},
   "outputs": [
    {
     "data": {
      "text/plain": [
       "Text(5, 4.1, 'u+v=(5, 4)')"
      ]
     },
     "execution_count": 5,
     "metadata": {},
     "output_type": "execute_result"
    }
   ],
   "source": [
    "# Mark the points (u1, u2), (v1, v2), and (u1+v1, u2+v2)\n",
    "ax.scatter([u[0], v[0], uv_sum[0]], [u[1], v[1], uv_sum[1]], color=\"black\")\n",
    "ax.text(u[0], u[1] + 0.1, f\"u=({u[0]}, {u[1]})\", fontsize=10, ha=\"right\")\n",
    "ax.text(v[0], v[1] + 0.1, f\"v=({v[0]}, {v[1]})\", fontsize=10, ha=\"right\")\n",
    "ax.text(uv_sum[0], uv_sum[1] + 0.1, f\"u+v=({uv_sum[0]}, {uv_sum[1]})\", fontsize=10, ha=\"left\")"
   ]
  },
  {
   "cell_type": "markdown",
   "id": "7e134367",
   "metadata": {},
   "source": [
    "## Step 5: Final Plot Adjustments\n",
    "Set axis limits, labels, grid, and aspect ratio for a clear plot."
   ]
  },
  {
   "cell_type": "code",
   "execution_count": 6,
   "id": "64054eb9",
   "metadata": {},
   "outputs": [
    {
     "data": {
      "image/png": "[encoded data removed]",
      "text/plain": [
       "<Figure size 640x480 with 1 Axes>"
      ]
     },
     "metadata": {},
     "output_type": "display_data"
    },
    {
     "data": {
      "text/plain": [
       "<Figure size 640x480 with 0 Axes>"
      ]
     },
     "metadata": {},
     "output_type": "display_data"
    }
   ],
   "source": [
    "# Set labels and limits\n",
    "ax.set_xlim(-1, 6)\n",
    "ax.set_ylim(-1, 5)\n",
    "ax.set_xlabel(\"x\")\n",
    "ax.set_ylabel(\"y\")\n",
    "ax.grid(True)\n",
    "\n",
    "# Ensure the aspect ratio is equal\n",
    "ax.set_aspect(\"equal\")\n",
    "\n",
    "# Show the plot\n",
    "plt.tight_layout()\n",
    "display(fig)"
   ]
  },
  {
   "cell_type": "markdown",
   "id": "ba433b7d",
   "metadata": {},
   "source": [
    "## Summary\n",
    "- We visualized vector addition in 2D using Matplotlib.\n",
    "- Dashed lines and annotations help interpret the result.\n",
    "- This technique is useful for teaching vector operations and linear algebra concepts."
   ]
  }
 ],
 "metadata": {
  "kernelspec": {
   "display_name": "damin2025",
   "language": "python",
   "name": "python3"
  },
  "language_info": {
   "codemirror_mode": {
    "name": "ipython",
    "version": 3
   },
   "file_extension": ".py",
   "mimetype": "text/x-python",
   "name": "python",
   "nbconvert_exporter": "python",
   "pygments_lexer": "ipython3",
   "version": "3.12.11"
  }
 },
 "nbformat": 4,
 "nbformat_minor": 5
}
