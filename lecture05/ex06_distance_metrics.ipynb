{
 "cells": [
  {
   "cell_type": "markdown",
   "id": "46fd837e",
   "metadata": {},
   "source": [
    "# Distance Metrics: Understanding Spatial Relationships\n",
    "\n",
    "## Learning Objectives\n",
    "By the end of this notebook, you will understand:\n",
    "- Three fundamental distance metrics: Euclidean, Manhattan, and Chebyshev\n",
    "- How different distance metrics measure spatial relationships\n",
    "- Visual representations of distance calculations\n",
    "- When to use each distance metric in practice\n",
    "- Applications in machine learning and data analysis\n",
    "\n",
    "## Introduction\n",
    "Distance metrics are fundamental concepts in mathematics, statistics, and machine learning. They quantify how \"far apart\" two points are in space, but different metrics define \"distance\" in different ways:\n",
    "\n",
    "- **Euclidean Distance**: Straight-line distance (as the crow flies)\n",
    "- **Manhattan Distance**: Grid-based distance (city block distance)\n",
    "- **Chebyshev Distance**: Maximum coordinate difference (chessboard distance)\n",
    "\n",
    "This notebook visualizes these three distance metrics using the original plot design to help you understand their geometric interpretations."
   ]
  },
  {
   "cell_type": "code",
   "execution_count": 1,
   "id": "29cec179",
   "metadata": {},
   "outputs": [
    {
     "name": "stdout",
     "output_type": "stream",
     "text": [
      "Libraries imported successfully!\n",
      "Ready to explore distance metrics with visual demonstrations\n"
     ]
    }
   ],
   "source": [
    "# Import the required libraries.\n",
    "from typing import Dict, Tuple\n",
    "\n",
    "import numpy as np\n",
    "import matplotlib.pyplot as plt\n",
    "\n",
    "print(\"Libraries imported successfully!\")\n",
    "print(\"Ready to explore distance metrics with visual demonstrations\")"
   ]
  },
  {
   "cell_type": "markdown",
   "id": "5a0ea6f7",
   "metadata": {},
   "source": [
    "## Step 1: Define the Original Plotting Function\n",
    "\n",
    "Let's recreate the exact plotting function from the original script to maintain the same visualization design."
   ]
  },
  {
   "cell_type": "code",
   "execution_count": 2,
   "id": "5a0f76ce",
   "metadata": {},
   "outputs": [
    {
     "name": "stdout",
     "output_type": "stream",
     "text": [
      "Original plotting function defined successfully!\n",
      "Function preserves exact colors and styling from the original script\n"
     ]
    }
   ],
   "source": [
    "def plot_distance(axes: np.ndarray, points: Tuple, distances: Dict):\n",
    "    \"\"\"\n",
    "    Plot the distances between two points on the provided axes.\n",
    "\n",
    "    Args:\n",
    "        axes (np.ndarray): The matplotlib axes object.\n",
    "        points (Tuple): A tuple containing two points.\n",
    "        distances (Dict): A dictionary containing the distance metrics\n",
    "    \"\"\"\n",
    "\n",
    "    # Unpack the points.\n",
    "    point1, point2 = points\n",
    "\n",
    "    # Plot the distance metrics.\n",
    "    for i, (key, value) in enumerate(distances.items()):\n",
    "        if key == \"Euclidean\":\n",
    "            # Euclidean Distance Plot.\n",
    "            axes[i].plot(\n",
    "                [point1[0], point2[0]], [point1[1], point2[1]], \"#179E86\", lw=2)\n",
    "\n",
    "        elif key == \"Manhattan\":\n",
    "            # Manhattan Distance Plot.\n",
    "            x_steps = [point1[0]]\n",
    "            y_steps = [point1[1], point1[1]]\n",
    "            for j in range(1, 7):\n",
    "                x_steps += [point1[0] + j, point1[0] + j]\n",
    "                y_steps += [point1[1] + j, point1[1] + j]\n",
    "            x_steps.append(point2[0])\n",
    "            axes[i].step(x_steps, y_steps, \"#F59B11\", lw=2)\n",
    "\n",
    "        elif key == \"Chebyshev\":\n",
    "            # Chebyshev Distance Plot.\n",
    "            axes[i].plot(\n",
    "                [point1[0], point1[0]], [point1[1], point2[1]], \"#44546A\", linestyle=\"dashed\", lw=1)\n",
    "            axes[i].plot(\n",
    "                [point1[0], point2[0]], [point2[1], point2[1]], \"#C03B26\", lw=2)\n",
    "\n",
    "        # Common settings for all plots.\n",
    "        axes[i].scatter(point1[0], point1[1], color=\"black\")\n",
    "        axes[i].text(\n",
    "            point1[0] - 0.2, point1[1], f\"u=({point1[0]}, {point1[1]})\",\n",
    "            fontsize=10, ha=\"right\"\n",
    "        )\n",
    "        axes[i].scatter(point2[0], point2[1], color=\"black\")\n",
    "        axes[i].text(\n",
    "            point2[0] + 0.2, point2[1], f\"v=({point2[0]}, {point2[1]})\",\n",
    "            fontsize=10, ha=\"left\"\n",
    "        )\n",
    "        axes[i].set_title(f\"{key} = {value:.2f}\")\n",
    "        axes[i].set_xlabel(\"X\")\n",
    "        axes[i].set_ylabel(\"Y\")\n",
    "        axes[i].set_xlim(0, 10)\n",
    "        axes[i].set_ylim(0, 10)\n",
    "        axes[i].xaxis.set_major_locator(plt.MultipleLocator(1))\n",
    "        axes[i].yaxis.set_major_locator(plt.MultipleLocator(1))\n",
    "\n",
    "print(\"Original plotting function defined successfully!\")\n",
    "print(\"Function preserves exact colors and styling from the original script\")"
   ]
  },
  {
   "cell_type": "markdown",
   "id": "354c8d9b",
   "metadata": {},
   "source": [
    "## Step 2: Define Points and Calculate Distances\n",
    "\n",
    "Let's use the same points as in the original script and calculate all three distance metrics."
   ]
  },
  {
   "cell_type": "code",
   "execution_count": 3,
   "id": "ab766405",
   "metadata": {},
   "outputs": [
    {
     "name": "stdout",
     "output_type": "stream",
     "text": [
      "Points defined:\n",
      "Point 1 (u): [2 2]\n",
      "Point 2 (v): [8 8]\n",
      "Coordinate differences: Δx = 6, Δy = 6\n"
     ]
    }
   ],
   "source": [
    "# Define two points.\n",
    "point1 = np.array([2, 2])\n",
    "point2 = np.array([8, 8])\n",
    "\n",
    "print(\"Points defined:\")\n",
    "print(f\"Point 1 (u): {point1}\")\n",
    "print(f\"Point 2 (v): {point2}\")\n",
    "print(f\"Coordinate differences: Δx = {point2[0] - point1[0]}, Δy = {point2[1] - point1[1]}\")"
   ]
  },
  {
   "cell_type": "code",
   "execution_count": 4,
   "id": "db332b82",
   "metadata": {},
   "outputs": [
    {
     "name": "stdout",
     "output_type": "stream",
     "text": [
      "Distance calculations:\n",
      "========================================\n",
      "Euclidean Distance: 8.49\n",
      "  Formula: √[(x₂-x₁)² + (y₂-y₁)²]\n",
      "  Calculation: √[(8-2)² + (8-2)²] = √[36 + 36] = √72 = 8.49\n",
      "\n",
      "Manhattan Distance: 12.00\n",
      "  Formula: |x₂-x₁| + |y₂-y₁|\n",
      "  Calculation: |8-2| + |8-2| = 6 + 6 = 12.00\n",
      "\n",
      "Chebyshev Distance: 6.00\n",
      "  Formula: max(|x₂-x₁|, |y₂-y₁|)\n",
      "  Calculation: max(|8-2|, |8-2|) = max(6, 6) = 6.00\n"
     ]
    }
   ],
   "source": [
    "# Calculate the distances.\n",
    "distances = {\n",
    "    \"Euclidean\": np.linalg.norm(point1 - point2),\n",
    "    \"Manhattan\": np.sum(np.abs(point1 - point2)),\n",
    "    \"Chebyshev\": np.max(np.abs(point1 - point2))\n",
    "}\n",
    "\n",
    "print(\"Distance calculations:\")\n",
    "print(\"=\" * 40)\n",
    "print(f\"Euclidean Distance: {distances['Euclidean']:.2f}\")\n",
    "print(f\"  Formula: √[(x₂-x₁)² + (y₂-y₁)²]\")\n",
    "print(f\"  Calculation: √[(8-2)² + (8-2)²] = √[36 + 36] = √72 = {distances['Euclidean']:.2f}\")\n",
    "\n",
    "print(f\"\\nManhattan Distance: {distances['Manhattan']:.2f}\")\n",
    "print(f\"  Formula: |x₂-x₁| + |y₂-y₁|\")\n",
    "print(f\"  Calculation: |8-2| + |8-2| = 6 + 6 = {distances['Manhattan']:.2f}\")\n",
    "\n",
    "print(f\"\\nChebyshev Distance: {distances['Chebyshev']:.2f}\")\n",
    "print(f\"  Formula: max(|x₂-x₁|, |y₂-y₁|)\")\n",
    "print(f\"  Calculation: max(|8-2|, |8-2|) = max(6, 6) = {distances['Chebyshev']:.2f}\")"
   ]
  },
  {
   "cell_type": "markdown",
   "id": "b80f0a18",
   "metadata": {},
   "source": [
    "## Step 3: Create the Original Visualization\n",
    "\n",
    "Now let's create the exact visualization from the original script with the same styling and layout."
   ]
  },
  {
   "cell_type": "code",
   "execution_count": 5,
   "id": "8c86d77b",
   "metadata": {},
   "outputs": [
    {
     "data": {
      "image/png": "[encoded data removed]",
      "text/plain": [
       "<Figure size 1800x500 with 3 Axes>"
      ]
     },
     "metadata": {},
     "output_type": "display_data"
    }
   ],
   "source": [
    "# Define the plot style.\n",
    "with plt.style.context(\"seaborn-v0_8\"):\n",
    "\n",
    "    # Create the plot.\n",
    "    fig, axes = plt.subplots(1, 3, figsize=(18, 5))\n",
    "\n",
    "    # Call the function with the points, distances, and types to plot.\n",
    "    plot_distance(axes, (point1, point2), distances)\n",
    "\n",
    "    # Adjust layout and show the plot.\n",
    "    plt.tight_layout()\n",
    "    plt.show()"
   ]
  },
  {
   "cell_type": "markdown",
   "id": "5c7522fe",
   "metadata": {},
   "source": [
    "## Step 4: Understanding Each Distance Metric\n",
    "\n",
    "Let's analyze what each visualization shows and when to use each metric."
   ]
  },
  {
   "cell_type": "code",
   "execution_count": 6,
   "id": "199f47d7",
   "metadata": {},
   "outputs": [
    {
     "name": "stdout",
     "output_type": "stream",
     "text": [
      "DISTANCE METRICS ANALYSIS\n",
      "==================================================\n",
      "1. EUCLIDEAN DISTANCE (Green Line)\n",
      "   • Represents: Straight-line distance\n",
      "   • Color: #179E86 (Teal)\n",
      "   • Use cases:\n",
      "     - Physical distance measurements\n",
      "     - k-NN classification with continuous features\n",
      "     - Clustering algorithms (k-means)\n",
      "     - Image similarity comparison\n",
      "\n",
      "2. MANHATTAN DISTANCE (Orange Steps)\n",
      "   • Represents: Grid-based path distance\n",
      "   • Color: #F59B11 (Orange)\n",
      "   • Use cases:\n",
      "     - City navigation (taxi cab distance)\n",
      "     - High-dimensional sparse data\n",
      "     - Feature spaces with different units\n",
      "     - Robust to outliers\n",
      "\n",
      "3. CHEBYSHEV DISTANCE (Red Line)\n",
      "   • Represents: Maximum coordinate difference\n",
      "   • Colors: #44546A (dashed) + #C03B26 (solid)\n",
      "   • Use cases:\n",
      "     - Chess king movement\n",
      "     - Uniform scaling scenarios\n",
      "     - Maximum error measurements\n",
      "     - Image processing applications\n",
      "\n",
      "MATHEMATICAL RELATIONSHIPS:\n",
      "-----------------------------------\n",
      "For our points [2 2] and [8 8]:\n",
      "• Manhattan ≥ Euclidean: 12.00 ≥ 8.49 ✓\n",
      "• Euclidean ≥ Chebyshev: 8.49 ≥ 6.00 ✓\n",
      "• This relationship: Manhattan ≥ Euclidean ≥ Chebyshev always holds\n"
     ]
    }
   ],
   "source": [
    "print(\"DISTANCE METRICS ANALYSIS\")\n",
    "print(\"=\" * 50)\n",
    "\n",
    "print(\"1. EUCLIDEAN DISTANCE (Green Line)\")\n",
    "print(\"   • Represents: Straight-line distance\")\n",
    "print(\"   • Color: #179E86 (Teal)\")\n",
    "print(\"   • Use cases:\")\n",
    "print(\"     - Physical distance measurements\")\n",
    "print(\"     - k-NN classification with continuous features\")\n",
    "print(\"     - Clustering algorithms (k-means)\")\n",
    "print(\"     - Image similarity comparison\")\n",
    "\n",
    "print(\"\\n2. MANHATTAN DISTANCE (Orange Steps)\")\n",
    "print(\"   • Represents: Grid-based path distance\")\n",
    "print(\"   • Color: #F59B11 (Orange)\")\n",
    "print(\"   • Use cases:\")\n",
    "print(\"     - City navigation (taxi cab distance)\")\n",
    "print(\"     - High-dimensional sparse data\")\n",
    "print(\"     - Feature spaces with different units\")\n",
    "print(\"     - Robust to outliers\")\n",
    "\n",
    "print(\"\\n3. CHEBYSHEV DISTANCE (Red Line)\")\n",
    "print(\"   • Represents: Maximum coordinate difference\")\n",
    "print(\"   • Colors: #44546A (dashed) + #C03B26 (solid)\")\n",
    "print(\"   • Use cases:\")\n",
    "print(\"     - Chess king movement\")\n",
    "print(\"     - Uniform scaling scenarios\")\n",
    "print(\"     - Maximum error measurements\")\n",
    "print(\"     - Image processing applications\")\n",
    "\n",
    "print(f\"\\nMATHEMATICAL RELATIONSHIPS:\")\n",
    "print(\"-\" * 35)\n",
    "print(f\"For our points {point1} and {point2}:\")\n",
    "print(f\"• Manhattan ≥ Euclidean: {distances['Manhattan']:.2f} ≥ {distances['Euclidean']:.2f} ✓\")\n",
    "print(f\"• Euclidean ≥ Chebyshev: {distances['Euclidean']:.2f} ≥ {distances['Chebyshev']:.2f} ✓\")\n",
    "print(f\"• This relationship: Manhattan ≥ Euclidean ≥ Chebyshev always holds\")"
   ]
  },
  {
   "cell_type": "markdown",
   "id": "b7c81713",
   "metadata": {},
   "source": [
    "## Step 5: Exploring Different Point Configurations\n",
    "\n",
    "Let's see how these metrics behave with different point arrangements."
   ]
  },
  {
   "cell_type": "code",
   "execution_count": 7,
   "id": "e0afcaf0",
   "metadata": {},
   "outputs": [
    {
     "name": "stdout",
     "output_type": "stream",
     "text": [
      "DISTANCE METRICS FOR DIFFERENT MOVEMENTS\n",
      "=======================================================\n",
      "\n",
      "Diagonal Movement:\n",
      "  Points: [1 1] → [5 5]\n",
      "  Euclidean: 5.66\n",
      "  Manhattan: 8.00\n",
      "  Chebyshev: 4.00\n",
      "  Pattern: Manhattan = 2 × Chebyshev (diagonal)\n",
      "\n",
      "Horizontal Movement:\n",
      "  Points: [2 5] → [8 5]\n",
      "  Euclidean: 6.00\n",
      "  Manhattan: 6.00\n",
      "  Chebyshev: 6.00\n",
      "  Pattern: All metrics equal (pure horizontal/vertical)\n",
      "\n",
      "Vertical Movement:\n",
      "  Points: [5 2] → [5 8]\n",
      "  Euclidean: 6.00\n",
      "  Manhattan: 6.00\n",
      "  Chebyshev: 6.00\n",
      "  Pattern: All metrics equal (pure horizontal/vertical)\n",
      "\n",
      "L-shaped Movement:\n",
      "  Points: [1 7] → [7 1]\n",
      "  Euclidean: 8.49\n",
      "  Manhattan: 12.00\n",
      "  Chebyshev: 6.00\n",
      "  Pattern: Manhattan = 2 × Chebyshev (diagonal)\n",
      "\n",
      "KEY INSIGHTS:\n",
      "---------------\n",
      "• Horizontal/Vertical moves: All three metrics can be equal\n",
      "• Pure diagonal moves: Manhattan = √2 × Euclidean\n",
      "• L-shaped moves: Show maximum difference between metrics\n",
      "• Choice of metric affects clustering and classification results\n"
     ]
    }
   ],
   "source": [
    "# Test different point configurations\n",
    "test_cases = [\n",
    "    (\"Diagonal Movement\", np.array([1, 1]), np.array([5, 5])),\n",
    "    (\"Horizontal Movement\", np.array([2, 5]), np.array([8, 5])), \n",
    "    (\"Vertical Movement\", np.array([5, 2]), np.array([5, 8])),\n",
    "    (\"L-shaped Movement\", np.array([1, 7]), np.array([7, 1]))\n",
    "]\n",
    "\n",
    "print(\"DISTANCE METRICS FOR DIFFERENT MOVEMENTS\")\n",
    "print(\"=\" * 55)\n",
    "\n",
    "for case_name, p1, p2 in test_cases:\n",
    "    euclidean = np.linalg.norm(p1 - p2)\n",
    "    manhattan = np.sum(np.abs(p1 - p2))\n",
    "    chebyshev = np.max(np.abs(p1 - p2))\n",
    "    \n",
    "    print(f\"\\n{case_name}:\")\n",
    "    print(f\"  Points: {p1} → {p2}\")\n",
    "    print(f\"  Euclidean: {euclidean:.2f}\")\n",
    "    print(f\"  Manhattan: {manhattan:.2f}\")\n",
    "    print(f\"  Chebyshev: {chebyshev:.2f}\")\n",
    "    \n",
    "    # Analyze the pattern\n",
    "    if euclidean == manhattan == chebyshev:\n",
    "        pattern = \"All metrics equal (pure horizontal/vertical)\"\n",
    "    elif manhattan == 2 * chebyshev:\n",
    "        pattern = \"Manhattan = 2 × Chebyshev (diagonal)\"\n",
    "    else:\n",
    "        pattern = \"General case\"\n",
    "    print(f\"  Pattern: {pattern}\")\n",
    "\n",
    "print(f\"\\nKEY INSIGHTS:\")\n",
    "print(\"-\" * 15)\n",
    "print(\"• Horizontal/Vertical moves: All three metrics can be equal\")\n",
    "print(\"• Pure diagonal moves: Manhattan = √2 × Euclidean\")\n",
    "print(\"• L-shaped moves: Show maximum difference between metrics\")\n",
    "print(\"• Choice of metric affects clustering and classification results\")"
   ]
  },
  {
   "cell_type": "markdown",
   "id": "00a789c6",
   "metadata": {},
   "source": [
    "## Step 6: Machine Learning Applications\n",
    "\n",
    "Let's understand how distance metrics impact machine learning algorithms."
   ]
  },
  {
   "cell_type": "code",
   "execution_count": 8,
   "id": "607939c2",
   "metadata": {},
   "outputs": [
    {
     "name": "stdout",
     "output_type": "stream",
     "text": [
      "DISTANCE METRICS IN MACHINE LEARNING\n",
      "=============================================\n",
      "\n",
      "k-Nearest Neighbors (k-NN):\n",
      "  Euclidean: Standard choice for continuous features\n",
      "  Manhattan: Better for high-dimensional or sparse data\n",
      "  Chebyshev: When all features equally important\n",
      "\n",
      "Clustering Algorithms:\n",
      "  Euclidean: k-means, hierarchical clustering\n",
      "  Manhattan: k-medians, robust clustering\n",
      "  Chebyshev: Specific domain applications\n",
      "\n",
      "Anomaly Detection:\n",
      "  Euclidean: Standard outlier detection\n",
      "  Manhattan: Robust to coordinate-wise outliers\n",
      "  Chebyshev: Detecting extreme values in any dimension\n",
      "\n",
      "CHOOSING THE RIGHT METRIC:\n",
      "-----------------------------------\n",
      "• Data Type: Continuous → Euclidean, Categorical → Manhattan\n",
      "• Dimensionality: High dims → Manhattan (curse of dimensionality)\n",
      "• Scale Sensitivity: Different scales → Manhattan (more robust)\n",
      "• Outliers: Present → Manhattan (less sensitive)\n",
      "• Interpretation: Physical distance → Euclidean\n",
      "• Performance: Speed needed → Manhattan (faster computation)\n",
      "\n",
      "COMPUTATIONAL COMPLEXITY:\n",
      "------------------------------\n",
      "• Euclidean: O(d) with square root operation\n",
      "• Manhattan: O(d) with simple additions\n",
      "• Chebyshev: O(d) with max operation\n",
      "  (d = number of dimensions)\n"
     ]
    }
   ],
   "source": [
    "print(\"DISTANCE METRICS IN MACHINE LEARNING\")\n",
    "print(\"=\" * 45)\n",
    "\n",
    "ml_applications = {\n",
    "    \"k-Nearest Neighbors (k-NN)\": {\n",
    "        \"Euclidean\": \"Standard choice for continuous features\",\n",
    "        \"Manhattan\": \"Better for high-dimensional or sparse data\",\n",
    "        \"Chebyshev\": \"When all features equally important\"\n",
    "    },\n",
    "    \"Clustering Algorithms\": {\n",
    "        \"Euclidean\": \"k-means, hierarchical clustering\",\n",
    "        \"Manhattan\": \"k-medians, robust clustering\",\n",
    "        \"Chebyshev\": \"Specific domain applications\"\n",
    "    },\n",
    "    \"Anomaly Detection\": {\n",
    "        \"Euclidean\": \"Standard outlier detection\",\n",
    "        \"Manhattan\": \"Robust to coordinate-wise outliers\",\n",
    "        \"Chebyshev\": \"Detecting extreme values in any dimension\"\n",
    "    }\n",
    "}\n",
    "\n",
    "for algorithm, metrics in ml_applications.items():\n",
    "    print(f\"\\n{algorithm}:\")\n",
    "    for metric, usage in metrics.items():\n",
    "        print(f\"  {metric}: {usage}\")\n",
    "\n",
    "print(f\"\\nCHOOSING THE RIGHT METRIC:\")\n",
    "print(\"-\" * 35)\n",
    "selection_guide = [\n",
    "    (\"Data Type\", \"Continuous → Euclidean, Categorical → Manhattan\"),\n",
    "    (\"Dimensionality\", \"High dims → Manhattan (curse of dimensionality)\"),\n",
    "    (\"Scale Sensitivity\", \"Different scales → Manhattan (more robust)\"),\n",
    "    (\"Outliers\", \"Present → Manhattan (less sensitive)\"),\n",
    "    (\"Interpretation\", \"Physical distance → Euclidean\"),\n",
    "    (\"Performance\", \"Speed needed → Manhattan (faster computation)\")\n",
    "]\n",
    "\n",
    "for criterion, guidance in selection_guide:\n",
    "    print(f\"• {criterion}: {guidance}\")\n",
    "\n",
    "print(f\"\\nCOMPUTATIONAL COMPLEXITY:\")\n",
    "print(\"-\" * 30)\n",
    "print(\"• Euclidean: O(d) with square root operation\")\n",
    "print(\"• Manhattan: O(d) with simple additions\")  \n",
    "print(\"• Chebyshev: O(d) with max operation\")\n",
    "print(\"  (d = number of dimensions)\")"
   ]
  },
  {
   "cell_type": "markdown",
   "id": "bcd9c763",
   "metadata": {},
   "source": [
    "## Key Takeaways\n",
    "\n",
    "### Visual Understanding\n",
    "1. **Euclidean (Green)**: Direct straight-line path between points\n",
    "2. **Manhattan (Orange)**: Step-wise path following grid lines\n",
    "3. **Chebyshev (Red)**: Maximum single-coordinate movement\n",
    "\n",
    "### Mathematical Properties\n",
    "- **Manhattan ≥ Euclidean ≥ Chebyshev** (inequality always holds)\n",
    "- **Euclidean**: Minimizes path length in continuous space\n",
    "- **Manhattan**: Sum of absolute coordinate differences\n",
    "- **Chebyshev**: Maximum absolute coordinate difference\n",
    "\n",
    "### Practical Applications\n",
    "- **Euclidean**: Physical measurements, image analysis, continuous features\n",
    "- **Manhattan**: City navigation, sparse data, robust algorithms\n",
    "- **Chebyshev**: Game theory, uniform scaling, maximum error bounds\n",
    "\n",
    "### Machine Learning Considerations\n",
    "- **Feature scaling** affects Euclidean more than Manhattan\n",
    "- **High dimensions** favor Manhattan (curse of dimensionality)\n",
    "- **Mixed data types** often work better with Manhattan\n",
    "- **Computational speed** varies: Manhattan fastest, Euclidean requires square root\n",
    "\n",
    "### Selection Guidelines\n",
    "1. **Start with Euclidean** for continuous, well-scaled data\n",
    "2. **Use Manhattan** for high-dimensional or mixed-scale data\n",
    "3. **Consider Chebyshev** for uniform importance across dimensions\n",
    "4. **Test multiple metrics** and compare results empirically\n",
    "\n",
    "Understanding these distance metrics is fundamental for choosing appropriate algorithms and interpreting their results in machine learning and data analysis applications."
   ]
  }
 ],
 "metadata": {
  "kernelspec": {
   "display_name": "damin2025",
   "language": "python",
   "name": "python3"
  },
  "language_info": {
   "codemirror_mode": {
    "name": "ipython",
    "version": 3
   },
   "file_extension": ".py",
   "mimetype": "text/x-python",
   "name": "python",
   "nbconvert_exporter": "python",
   "pygments_lexer": "ipython3",
   "version": "3.12.11"
  }
 },
 "nbformat": 4,
 "nbformat_minor": 5
}
