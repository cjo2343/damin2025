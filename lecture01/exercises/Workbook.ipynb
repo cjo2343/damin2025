{
 "cells": [
  {
   "cell_type": "code",
   "execution_count": 4,
   "id": "4e1675dc",
   "metadata": {},
   "outputs": [],
   "source": [
    "import drunken_1\n",
    "import drunken_2\n",
    "import drunken_3"
   ]
  },
  {
   "cell_type": "code",
   "execution_count": 3,
   "id": "05a5f22a",
   "metadata": {},
   "outputs": [
    {
     "name": "stdout",
     "output_type": "stream",
     "text": [
      "Starting positions: [0, 0, 0, 0, 0]\n",
      "Step 1: [-1, -1, 1, 1, 1]\n",
      "Step 2: [0, -2, 2, 0, 2]\n",
      "Step 3: [-1, -1, 1, -1, 1]\n",
      "Step 4: [0, -2, 0, 0, 0]\n",
      "Step 5: [-1, -1, -1, 1, -1]\n",
      "Step 6: [-2, 0, 0, 0, 0]\n",
      "Step 7: [-1, 1, -1, -1, 1]\n",
      "Step 8: [0, 2, 0, 0, 2]\n",
      "Step 9: [1, 1, -1, 1, 1]\n",
      "Step 10: [0, 2, 0, 2, 2]\n",
      "Step 11: [-1, 1, -1, 1, 1]\n",
      "Step 12: [-2, 0, 0, 2, 2]\n",
      "Step 13: [-1, 1, 1, 1, 3]\n",
      "Step 14: [-2, 0, 0, 0, 4]\n",
      "Step 15: [-1, 1, 1, -1, 5]\n",
      "Step 16: [-2, 2, 2, -2, 4]\n",
      "Step 17: [-1, 3, 1, -3, 3]\n",
      "Step 18: [-2, 2, 0, -4, 2]\n",
      "Step 19: [-3, 1, 1, -3, 1]\n",
      "Step 20: [-2, 2, 2, -2, 2]\n",
      "Step 21: [-1, 1, 1, -3, 3]\n",
      "Step 22: [0, 2, 0, -2, 2]\n",
      "Step 23: [1, 1, 1, -3, 1]\n",
      "Step 24: [2, 0, 0, -4, 0]\n",
      "Step 25: [3, -1, 1, -3, 1]\n",
      "Step 26: [2, -2, 2, -4, 0]\n",
      "Step 27: [1, -1, 3, -3, -1]\n",
      "Step 28: [0, -2, 4, -4, -2]\n",
      "Step 29: [-1, -3, 3, -3, -3]\n",
      "Step 30: [0, -4, 2, -4, -2]\n",
      "Step 31: [-1, -5, 3, -5, -1]\n",
      "Step 32: [0, -4, 4, -6, -2]\n",
      "Step 33: [1, -5, 5, -7, -3]\n",
      "Step 34: [2, -6, 4, -6, -2]\n",
      "Step 35: [1, -5, 5, -7, -1]\n",
      "Step 36: [2, -6, 6, -6, -2]\n",
      "Step 37: [3, -5, 7, -5, -3]\n",
      "Step 38: [4, -6, 6, -4, -2]\n",
      "Step 39: [5, -7, 7, -3, -1]\n",
      "Step 40: [6, -6, 8, -2, -2]\n",
      "Step 41: [5, -7, 7, -1, -3]\n",
      "Step 42: [4, -6, 6, -2, -4]\n",
      "Step 43: [5, -7, 5, -1, -3]\n",
      "Step 44: [4, -8, 4, 0, -4]\n",
      "Step 45: [3, -9, 5, 1, -3]\n",
      "Step 46: [2, -10, 6, 2, -2]\n",
      "Step 47: [1, -9, 5, 3, -3]\n",
      "Step 48: [0, -10, 6, 2, -4]\n",
      "Step 49: [-1, -9, 7, 3, -5]\n",
      "Step 50: [0, -10, 6, 2, -4]\n",
      "Step 51: [1, -11, 5, 1, -3]\n",
      "Step 52: [2, -10, 6, 0, -4]\n",
      "Step 53: [3, -11, 5, 1, -3]\n",
      "Step 54: [4, -12, 6, 2, -4]\n",
      "Step 55: [5, -13, 5, 1, -3]\n",
      "Step 56: [6, -12, 6, 2, -2]\n",
      "Step 57: [7, -11, 5, 3, -3]\n",
      "Step 58: [8, -12, 6, 2, -4]\n",
      "Step 59: [7, -11, 5, 3, -5]\n",
      "Step 60: [6, -10, 6, 4, -4]\n",
      "Step 61: [7, -11, 5, 3, -5]\n",
      "Step 62: [8, -10, 6, 2, -4]\n",
      "Step 63: [7, -11, 5, 1, -5]\n",
      "Step 64: [8, -12, 4, 2, -6]\n",
      "Step 65: [9, -11, 3, 3, -5]\n",
      "Step 66: [8, -12, 4, 2, -4]\n",
      "Step 67: [7, -13, 3, 3, -5]\n",
      "Step 68: [8, -14, 4, 4, -4]\n",
      "Step 69: [9, -13, 5, 5, -5]\n",
      "Step 70: [8, -12, 4, 4, -4]\n",
      "Step 71: [7, -13, 5, 5, -5]\n",
      "Step 72: [8, -14, 4, 4, -6]\n",
      "Step 73: [7, -13, 5, 5, -5]\n",
      "Step 74: [6, -12, 4, 6, -6]\n",
      "Step 75: [7, -11, 3, 5, -5]\n",
      "Step 76: [6, -10, 4, 4, -6]\n",
      "Step 77: [5, -9, 5, 5, -7]\n",
      "Step 78: [4, -8, 6, 4, -8]\n",
      "Step 79: [5, -9, 5, 3, -9]\n",
      "Step 80: [6, -8, 4, 2, -10]\n",
      "Step 81: [5, -9, 3, 3, -11]\n",
      "Step 82: [6, -10, 2, 4, -10]\n",
      "Step 83: [5, -9, 3, 3, -9]\n",
      "Step 84: [6, -8, 4, 4, -10]\n",
      "Step 85: [5, -9, 5, 3, -9]\n",
      "Step 86: [6, -10, 4, 4, -8]\n",
      "Step 87: [5, -11, 3, 5, -9]\n",
      "Step 88: [6, -12, 2, 4, -10]\n",
      "Step 89: [7, -13, 3, 3, -11]\n",
      "Step 90: [8, -12, 4, 4, -12]\n",
      "Step 91: [7, -11, 5, 5, -11]\n",
      "Step 92: [6, -10, 6, 4, -10]\n",
      "Step 93: [7, -9, 7, 3, -11]\n",
      "Step 94: [8, -10, 6, 4, -12]\n",
      "Step 95: [7, -11, 5, 5, -11]\n",
      "Step 96: [6, -10, 6, 6, -12]\n",
      "Step 97: [7, -11, 7, 7, -13]\n",
      "Step 98: [6, -10, 8, 6, -14]\n",
      "Step 99: [5, -11, 9, 7, -15]\n",
      "Step 100: [4, -12, 10, 6, -16]\n"
     ]
    }
   ],
   "source": [
    "# Create a list of 5 drunken people\n",
    "drunks = drunken_1.create_drunken(5)\n",
    "print(f\"Starting positions: {drunks}\")\n",
    "\n",
    "# Run the simulation for 100 steps\n",
    "for i in range(100):\n",
    "    drunks = drunken_1.step(drunks)  # <-- Add the prefix here\n",
    "    print(f\"Step {i+1}: {drunks}\") "
   ]
  },
  {
   "cell_type": "markdown",
   "id": "052c5131",
   "metadata": {},
   "source": [
    "remember that the create_drunken creates n unique drunken people, so each number in the array represents one person\n",
    "And each person starts from 0\n",
    "Each array line shows each persons steps, so for the first person at index 0, \n",
    "we see that he starts at 0, and then for each new print of the array, we can follow his steps from the very first to the last one (at 100 steps)\n",
    "\n",
    "We know that the expected distance each person will \"travel\" is the square root of n, \n",
    "which gives us the square root of 100 = 10. When we look at the positions for each person, \n",
    "we see that the postions hover just around 10 for most of the time, which is quite interesting. \n",
    "I will, tomorrow, try to calculate the Average distance for one person to see if it is proportional to 10.\n",
    "\n",
    "dr = dr + single_step(move), for each step, it saves the value of that position as dr. \n",
    "So for the first person at step number 3, we have dr = 0 and then we can see that the variable move = 0 since we go to position -1, \n",
    "so we get dr = 0 + single_step(0) = -1+-1 = 2"
   ]
  },
  {
   "cell_type": "code",
   "execution_count": null,
   "id": "b0d034a8",
   "metadata": {},
   "outputs": [
    {
     "data": {
      "image/png": "[encoded data removed]",
      "text/plain": [
       "<Figure size 640x480 with 1 Axes>"
      ]
     },
     "metadata": {},
     "output_type": "display_data"
    }
   ],
   "source": [
    "\n",
    "drunk2 = drunken_2.create_drunken(1000)\n",
    "#print(drunk2)\n",
    "moved_drunken = drunken_2.random_walk(drunk2,1000)\n",
    "#print(moved_drunken)\n",
    "bins = 20 # number of bins\n",
    "visual = drunken_2.plot_drunken(moved_drunken, bins)"
   ]
  },
  {
   "cell_type": "markdown",
   "id": "dd1b2e83",
   "metadata": {},
   "source": [
    "Just a quick note on the 'bin' and what it means: \n",
    "\n",
    "A Simple Analogy: Sorting Rocks 🪨\n",
    "\n",
    "Imagine you have a pile of 8 rocks, each with a different size. You want to organize them. Instead of putting each rock on its own shelf, you decide to set up 4 empty buckets for different size ranges:\n",
    "\n",
    "Bucket 1: Small rocks\n",
    "\n",
    "Bucket 2: Medium rocks\n",
    "\n",
    "Bucket 3: Large rocks\n",
    "\n",
    "Bucket 4: Extra-large rocks\n",
    "\n",
    "You then go through your pile, pick up each rock, and drop it into the correct bucket. When you're done, you can see how your collection is distributed just by looking at how many rocks are in each bucket.\n",
    "\n",
    "In a histogram, the data points are the rocks and the bins are the buckets."
   ]
  },
  {
   "cell_type": "markdown",
   "id": "0a8aff02",
   "metadata": {},
   "source": [
    "A Concrete Example with Your Code\n",
    "\n",
    "Let's say after your simulation, the final positions of 8 \"drunken people\" are:\n",
    "[-3, -2, -2, 0, 1, 1, 1, 4]\n",
    "\n",
    "Now, you want to create a histogram with bins = 4.\n",
    "\n",
    "Find the Range: The data goes from a minimum of -3 to a maximum of +4.\n",
    "\n",
    "Create the Bins: \n",
    "The program divides this range into 4 equal \"buckets\":\n",
    "\n",
    "Bin 1: Covers numbers from -3 to -1.25\n",
    "\n",
    "Bin 2: Covers numbers from -1.25 to 0.5\n",
    "\n",
    "Bin 3: Covers numbers from 0.5 to 2.25\n",
    "\n",
    "Bin 4: Covers numbers from 2.25 to 4\n",
    "\n",
    "Sort the Data: \n",
    "The program \"drops\" each person's final position into the correct bin:\n",
    "\n",
    "Bin 1 gets [-3, -2, -2]. (Count: 3)\n",
    "\n",
    "Bin 2 gets [0]. (Count: 1)\n",
    "\n",
    "Bin 3 gets [1, 1, 1]. (Count: 3)\n",
    "\n",
    "Bin 4 gets [4]. (Count: 1)\n",
    "\n",
    "Draw the Histogram: \n",
    "The final graph will have 4 bars. The height of each bar is the count from the step above."
   ]
  },
  {
   "cell_type": "markdown",
   "id": "2aab24b7",
   "metadata": {},
   "source": [
    "#### 5. So what came out of it? What does it look like? Should it look like that?\n",
    "As the plot shows, the distribution is centered around 0, with most of the drunken people ending up near where they started. This is consistent with the theory that the average expected position is 0. If we were to calculate the average of all 1000 final positions, the positive and negative values would cancel each other out, resulting in a mean very close to zero. The spread in the results, including the outliers, is a natural feature that demonstrates how the walkers disperse over time."
   ]
  },
  {
   "cell_type": "markdown",
   "id": "db211d88",
   "metadata": {},
   "source": [
    "#### 6. Choose several different numbers of bins and repeat them. Why do you think they look different? What criterion should you use to select a good number of bins?\n",
    "The histograms look different because the number of bins changes how the data is grouped. With too few bins, all the data points are lumped together into wide bars, hiding the true shape of the distribution. With too many bins, the bars become too narrow and noisy, making it difficult to see the overall pattern.\n",
    "\n",
    "The best criterion for selecting the number of bins is to find a balance that most accurately reveals the underlying shape of the data's distribution. While our hypothesis is that the average is zero, the histogram's main purpose is to visualize the distribution's properties, such as its central peak and symmetry. A good number of bins will clearly show that the data is centered around zero and roughly symmetrical, which supports the theory that the positive and negative outliers cancel each other out.\n",
    "\n",
    "Too few bins over-simplifies the data (sometimes called over-smoothing). You lose important details about the shape.\n",
    "\n",
    "Too many bins over-complicates the data, showing a lot of random noise instead of the true underlying pattern (sometimes called over-fitting).\n",
    "\n"
   ]
  },
  {
   "cell_type": "code",
   "execution_count": 12,
   "id": "f9290d7a",
   "metadata": {},
   "outputs": [],
   "source": [
    "drunk_3 = drunken_3.create_drunken(1000)\n",
    "#print(drunk_3)\n",
    "random_move = drunken_3.random_walk(drunk_3,1000)\n",
    "export_drunk = drunken_3.export_data(random_move,'test')\n"
   ]
  },
  {
   "cell_type": "code",
   "execution_count": null,
   "id": "5061676b",
   "metadata": {},
   "outputs": [],
   "source": []
  }
 ],
 "metadata": {
  "kernelspec": {
   "display_name": "damin2025",
   "language": "python",
   "name": "python3"
  },
  "language_info": {
   "codemirror_mode": {
    "name": "ipython",
    "version": 3
   },
   "file_extension": ".py",
   "mimetype": "text/x-python",
   "name": "python",
   "nbconvert_exporter": "python",
   "pygments_lexer": "ipython3",
   "version": "3.12.11"
  }
 },
 "nbformat": 4,
 "nbformat_minor": 5
}
