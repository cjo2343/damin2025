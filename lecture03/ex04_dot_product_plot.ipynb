{
 "cells": [
  {
   "cell_type": "markdown",
   "id": "d5114b2b",
   "metadata": {},
   "source": [
    "# Dot Product of Vectors: Visualization\n",
    "\n",
    "This notebook demonstrates how to plot two vectors and visualize their dot product using Matplotlib and NumPy. It also shows the geometric interpretation of the dot product, including the angle between vectors and projection.\n",
    "\n",
    "**Learning Objectives:**\n",
    "- Understand the dot product operation in 2D\n",
    "- Visualize the geometric meaning of the dot product\n",
    "- Interpret vector projection and angle between vectors\n",
    "\n",
    "**Prerequisites:**\n",
    "- Basic knowledge of Python\n",
    "- Familiarity with NumPy and Matplotlib"
   ]
  },
  {
   "cell_type": "code",
   "execution_count": 1,
   "id": "311b7718",
   "metadata": {},
   "outputs": [],
   "source": [
    "# Import the required libraries\n",
    "import matplotlib.pyplot as plt\n",
    "import numpy as np\n",
    "\n",
    "from matplotlib import patches\n",
    "\n",
    "from IPython.display import display"
   ]
  },
  {
   "cell_type": "markdown",
   "id": "b4dcc3ee",
   "metadata": {},
   "source": [
    "## Step 1: Define Colors and Vectors\n",
    "We define custom colors for each vector and set up the vectors to be plotted."
   ]
  },
  {
   "cell_type": "code",
   "execution_count": 2,
   "id": "6cb8d907",
   "metadata": {},
   "outputs": [],
   "source": [
    "# Define colors based on provided RGB values\n",
    "COLOR_U = \"#179E86\"  # RGB color for vector u\n",
    "COLOR_V = \"#F59B11\"  # RGB color for vector v\n",
    "COLOR_GRAY = \"#44546A\" # A gray color for the dashed lines\n",
    "\n",
    "# Define vectors u and v\n",
    "u = np.array([2, 3])\n",
    "v = np.array([4, 1])"
   ]
  },
  {
   "cell_type": "markdown",
   "id": "0841b8d2",
   "metadata": {},
   "source": [
    "## Step 2: Calculate Dot Product and Angle\n",
    "We calculate the dot product and the angle between the vectors using NumPy."
   ]
  },
  {
   "cell_type": "code",
   "execution_count": 3,
   "id": "c6dd3d3f",
   "metadata": {},
   "outputs": [],
   "source": [
    "# Calculate the dot product\n",
    "dot_product = np.dot(u, v)\n",
    "# Calculate the angle between the vectors using the dot product formula\n",
    "angle = np.arccos(dot_product / (np.linalg.norm(u) * np.linalg.norm(v)))"
   ]
  },
  {
   "cell_type": "markdown",
   "id": "afc281fa",
   "metadata": {},
   "source": [
    "## Step 3: Plot Vectors and Projections\n",
    "We use Matplotlib's `quiver` function to plot the vectors and add dashed lines for projections."
   ]
  },
  {
   "cell_type": "code",
   "execution_count": 4,
   "id": "dfd40a19",
   "metadata": {},
   "outputs": [],
   "source": [
    "%%capture\n",
    "\n",
    "# Create a figure and axis\n",
    "fig, ax = plt.subplots()\n",
    "\n",
    "# Plot vectors u and v\n",
    "ax.quiver(0, 0, u[0], u[1], angles=\"xy\", scale_units=\"xy\", scale=1, color=COLOR_U)\n",
    "ax.quiver(0, 0, v[0], v[1], angles=\"xy\", scale_units=\"xy\", scale=1, color=COLOR_V)\n",
    "\n",
    "# Plot the dashed line to represent the projection\n",
    "projection_length = dot_product / np.linalg.norm(v)\n",
    "projection_vector = (projection_length / np.linalg.norm(v)) * v\n",
    "ax.plot([u[0], projection_vector[0]], [u[1], projection_vector[1]], color=COLOR_GRAY, linestyle=\"dashed\", linewidth=0.75)"
   ]
  },
  {
   "cell_type": "markdown",
   "id": "e9d678c5",
   "metadata": {},
   "source": [
    "## Step 4: Annotate Angle and Dot Product\n",
    "We add visual markers for the angle between vectors and display the dot product value."
   ]
  },
  {
   "cell_type": "code",
   "execution_count": 5,
   "id": "b7935e40",
   "metadata": {},
   "outputs": [
    {
     "data": {
      "text/plain": [
       "Text(0.05, 4.75, 'Dot Product: 11')"
      ]
     },
     "execution_count": 5,
     "metadata": {},
     "output_type": "execute_result"
    }
   ],
   "source": [
    "# Calculate the position for the 90-degree angle marker\n",
    "angle_rect_x = projection_vector[0] - 1.25 * (v[1] / np.linalg.norm(v))\n",
    "angle_rect_y = projection_vector[1] - 0.05 * (v[0] / np.linalg.norm(v))\n",
    "\n",
    "# Add the 90-degree angle marker using a small rectangle on the inner side\n",
    "RECT_SIZE = 0.3  # Size of the right-angle square\n",
    "angle_rect = patches.Rectangle((angle_rect_x, angle_rect_y), RECT_SIZE, RECT_SIZE, angle=np.degrees(np.arctan2(v[1], v[0])), color=COLOR_GRAY, fill=False)\n",
    "ax.add_patch(angle_rect)\n",
    "\n",
    "# Draw the arc to represent the angle between the vectors\n",
    "ARC_RADIUS = 0.75  # Radius of the arc\n",
    "arc = patches.Arc((-0.1, 0.175), 2 * ARC_RADIUS, 2 * ARC_RADIUS, angle=0, theta1=0, theta2=np.degrees(angle), color=COLOR_GRAY, linewidth=1.5)\n",
    "ax.add_patch(arc)\n",
    "\n",
    "# Display the angle between the vectors\n",
    "ax.text(1.2, 0.6, f\"{np.degrees(angle):.2f}°\", fontsize=10, ha=\"center\", va=\"center\")\n",
    "\n",
    "# Display the dot product value on the plot\n",
    "ax.text(0.05, 4.75, f\"Dot Product: {dot_product}\", fontsize=10, ha=\"center\", va=\"center\", bbox={\"facecolor\": 'white', \"alpha\": 0.5})"
   ]
  },
  {
   "cell_type": "markdown",
   "id": "650c0be8",
   "metadata": {},
   "source": [
    "## Step 5: Annotate Key Points\n",
    "We mark and label the endpoints of each vector for clarity."
   ]
  },
  {
   "cell_type": "code",
   "execution_count": 6,
   "id": "781523c0",
   "metadata": {},
   "outputs": [
    {
     "data": {
      "text/plain": [
       "Text(4, 1.1, 'v=(4, 1)')"
      ]
     },
     "execution_count": 6,
     "metadata": {},
     "output_type": "execute_result"
    }
   ],
   "source": [
    "# Mark the points (u1, u2) and (v1, v2)\n",
    "ax.scatter([u[0], v[0]], [u[1], v[1]], color=\"black\")\n",
    "ax.text(u[0], u[1] + 0.1, f\"u=({u[0]}, {u[1]})\", fontsize=10, ha=\"right\")\n",
    "ax.text(v[0], v[1] + 0.1, f\"v=({v[0]}, {v[1]})\", fontsize=10, ha=\"right\")"
   ]
  },
  {
   "cell_type": "markdown",
   "id": "a7158a2c",
   "metadata": {},
   "source": [
    "## Step 6: Final Plot Adjustments\n",
    "Set axis limits, labels, grid, and aspect ratio for a clear plot."
   ]
  },
  {
   "cell_type": "code",
   "execution_count": 7,
   "id": "079202a1",
   "metadata": {},
   "outputs": [
    {
     "data": {
      "image/png": "[encoded data removed]",
      "text/plain": [
       "<Figure size 640x480 with 1 Axes>"
      ]
     },
     "metadata": {},
     "output_type": "display_data"
    },
    {
     "data": {
      "text/plain": [
       "<Figure size 640x480 with 0 Axes>"
      ]
     },
     "metadata": {},
     "output_type": "display_data"
    }
   ],
   "source": [
    "# Set labels and limits\n",
    "ax.set_xlim(-1, 6)\n",
    "ax.set_ylim(-1, 5)\n",
    "ax.set_xlabel(\"x\")\n",
    "ax.set_ylabel(\"y\")\n",
    "ax.grid(True)\n",
    "\n",
    "# Ensure the aspect ratio is equal\n",
    "ax.set_aspect(\"equal\")\n",
    "\n",
    "# Show the plot\n",
    "plt.tight_layout()\n",
    "display(fig)"
   ]
  },
  {
   "cell_type": "markdown",
   "id": "1c54a9f4",
   "metadata": {},
   "source": [
    "## Summary\n",
    "- We visualized the dot product of two vectors in 2D using Matplotlib.\n",
    "- The plot shows the geometric meaning of the dot product, including projection and angle.\n",
    "- This technique is useful for teaching vector operations and linear algebra concepts."
   ]
  }
 ],
 "metadata": {
  "kernelspec": {
   "display_name": "damin2025",
   "language": "python",
   "name": "python3"
  },
  "language_info": {
   "codemirror_mode": {
    "name": "ipython",
    "version": 3
   },
   "file_extension": ".py",
   "mimetype": "text/x-python",
   "name": "python",
   "nbconvert_exporter": "python",
   "pygments_lexer": "ipython3",
   "version": "3.12.11"
  }
 },
 "nbformat": 4,
 "nbformat_minor": 5
}
